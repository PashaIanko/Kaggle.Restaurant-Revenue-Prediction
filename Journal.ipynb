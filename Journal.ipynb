{
  "nbformat": 4,
  "nbformat_minor": 0,
  "metadata": {
    "colab": {
      "name": "Journal.ipynb",
      "provenance": [],
      "authorship_tag": "ABX9TyPKMkUFRmIOaLNVLFRrQ0Rk",
      "include_colab_link": true
    },
    "kernelspec": {
      "name": "python3",
      "display_name": "Python 3"
    },
    "language_info": {
      "name": "python"
    }
  },
  "cells": [
    {
      "cell_type": "markdown",
      "metadata": {
        "id": "view-in-github",
        "colab_type": "text"
      },
      "source": [
        "<a href=\"https://colab.research.google.com/github/PashaIanko/Kaggle.Restaurant-Revenue-Prediction/blob/feature_engineering/Journal.ipynb\" target=\"_parent\"><img src=\"https://colab.research.google.com/assets/colab-badge.svg\" alt=\"Open In Colab\"/></a>"
      ]
    },
    {
      "cell_type": "markdown",
      "source": [
        "Useful features:\n",
        "- Opening year (or Business period) - features are equivalent, 0.99 correlation\n",
        "- City area\n",
        "- Population\n",
        "- Lattitude (0.15 correlation)\n",
        "- Longitude (0.19 correlation) --> longitude binned: 0.24!!!\n",
        "- 5 bins per lattitude, 5 bins per longitude --> feature cross one-hot vectors, to obtain 25 new features --> observed, that 3 of them (cross_20, cross_17, etc.) have high correlation coefficient (0.32, -0.17 respectively)"
      ],
      "metadata": {
        "id": "RZl02hj3ay7Q"
      }
    },
    {
      "cell_type": "code",
      "source": [],
      "metadata": {
        "id": "wC1unfska2wl"
      },
      "execution_count": null,
      "outputs": []
    }
  ]
}