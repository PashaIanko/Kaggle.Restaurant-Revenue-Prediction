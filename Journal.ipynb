{
  "nbformat": 4,
  "nbformat_minor": 0,
  "metadata": {
    "colab": {
      "name": "Journal.ipynb",
      "provenance": [],
      "authorship_tag": "ABX9TyMx5ynwbAFHol4ChGsmlwXv",
      "include_colab_link": true
    },
    "kernelspec": {
      "name": "python3",
      "display_name": "Python 3"
    },
    "language_info": {
      "name": "python"
    }
  },
  "cells": [
    {
      "cell_type": "markdown",
      "metadata": {
        "id": "view-in-github",
        "colab_type": "text"
      },
      "source": [
        "<a href=\"https://colab.research.google.com/github/PashaIanko/Kaggle.Restaurant-Revenue-Prediction/blob/feature_engineering/Journal.ipynb\" target=\"_parent\"><img src=\"https://colab.research.google.com/assets/colab-badge.svg\" alt=\"Open In Colab\"/></a>"
      ]
    },
    {
      "cell_type": "markdown",
      "source": [
        "Useful features:\n",
        "- Opening year\n",
        "- City area\n",
        "- Population\n",
        "- Business period (how many days the business is functioning, 0.32 correlation coefficient)"
      ],
      "metadata": {
        "id": "RZl02hj3ay7Q"
      }
    },
    {
      "cell_type": "code",
      "source": [],
      "metadata": {
        "id": "wC1unfska2wl"
      },
      "execution_count": null,
      "outputs": []
    }
  ]
}