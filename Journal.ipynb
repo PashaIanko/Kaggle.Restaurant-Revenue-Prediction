{
  "nbformat": 4,
  "nbformat_minor": 0,
  "metadata": {
    "colab": {
      "name": "Journal.ipynb",
      "provenance": [],
      "authorship_tag": "ABX9TyNEIoP7Rm1TdA6erIswjPjW",
      "include_colab_link": true
    },
    "kernelspec": {
      "name": "python3",
      "display_name": "Python 3"
    },
    "language_info": {
      "name": "python"
    }
  },
  "cells": [
    {
      "cell_type": "markdown",
      "metadata": {
        "id": "view-in-github",
        "colab_type": "text"
      },
      "source": [
        "<a href=\"https://colab.research.google.com/github/PashaIanko/Kaggle.Restaurant-Revenue-Prediction/blob/main/Journal.ipynb\" target=\"_parent\"><img src=\"https://colab.research.google.com/assets/colab-badge.svg\" alt=\"Open In Colab\"/></a>"
      ]
    },
    {
      "cell_type": "markdown",
      "source": [
        "Useful features:\n",
        "- Opening year\n",
        "- City area\n",
        "- Population"
      ],
      "metadata": {
        "id": "RZl02hj3ay7Q"
      }
    },
    {
      "cell_type": "markdown",
      "source": [
        "# Pipeline for features"
      ],
      "metadata": {
        "id": "o3Zn4sNW2Ng0"
      }
    },
    {
      "cell_type": "markdown",
      "source": [
        "- City\n",
        "    - drop\n",
        "- City group\n",
        "    - Ordinal encoding [Other, Big Cities]\n",
        "- Type\n",
        "    - OneHot (categories=[IL, FC, DT, MB])\n",
        "\n",
        "\n",
        "Numerical columns:\n",
        "- P*\n",
        "    - Imputer + MinMaxScaling\n",
        "- Open Date\n"
      ],
      "metadata": {
        "id": "B8F05ndU2PJc"
      }
    },
    {
      "cell_type": "code",
      "source": [],
      "metadata": {
        "id": "FZbuVIJx3VkL"
      },
      "execution_count": null,
      "outputs": []
    }
  ]
}