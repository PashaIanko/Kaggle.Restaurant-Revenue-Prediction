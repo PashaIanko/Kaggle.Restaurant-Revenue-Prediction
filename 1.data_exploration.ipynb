{
  "nbformat": 4,
  "nbformat_minor": 0,
  "metadata": {
    "colab": {
      "name": "data_exploration.ipynb",
      "provenance": [],
      "collapsed_sections": [
        "yQ06sKKh2Q8Q",
        "yhYrGrNQ5obt",
        "RLvlBkLw56B-",
        "I9J8gJrg53QO",
        "t8bUXVBt8DSZ",
        "c01s4YqMBUT-",
        "s7_IMfFmBrm5",
        "4ldj8ambaPz5",
        "8e-ML5kGaTx3",
        "cT8Ba7MZaYCw",
        "yitPxMFraf1t",
        "pzWI5kmNG_aC",
        "vxeveWlRO8rg",
        "NL9JjwbIUDd7",
        "g1eubvdJbee5",
        "R7fLx1WzkfCJ",
        "__8aUBKNmLdV",
        "OP8Res1znaHU"
      ],
      "toc_visible": true,
      "authorship_tag": "ABX9TyM5Mt387UP4LKXTgqPjz9TS",
      "include_colab_link": true
    },
    "kernelspec": {
      "name": "python3",
      "display_name": "Python 3"
    },
    "language_info": {
      "name": "python"
    },
    "gpuClass": "standard"
  },
  "cells": [
    {
      "cell_type": "markdown",
      "metadata": {
        "id": "view-in-github",
        "colab_type": "text"
      },
      "source": [
        "<a href=\"https://colab.research.google.com/github/PashaIanko/Kaggle.Restaurant-Revenue-Prediction/blob/feature_engineering/1.data_exploration.ipynb\" target=\"_parent\"><img src=\"https://colab.research.google.com/assets/colab-badge.svg\" alt=\"Open In Colab\"/></a>"
      ]
    },
    {
      "cell_type": "markdown",
      "source": [
        "# Imports"
      ],
      "metadata": {
        "id": "MYgZADZ-1zra"
      }
    },
    {
      "cell_type": "code",
      "execution_count": 1,
      "metadata": {
        "id": "EPnpChRpzMSr"
      },
      "outputs": [],
      "source": [
        "from google.colab import drive\n",
        "import os\n",
        "import pandas as pd\n",
        "import numpy as np\n",
        "import matplotlib.pyplot as plt\n",
        "from pandas.plotting import scatter_matrix\n",
        "import seaborn as sns\n",
        "\n",
        "from sklearn.model_selection import train_test_split\n",
        "from sklearn.pipeline import Pipeline\n",
        "from sklearn.compose import ColumnTransformer\n",
        "from sklearn.impute import SimpleImputer\n",
        "from sklearn.preprocessing import StandardScaler\n",
        "from sklearn.preprocessing import OrdinalEncoder\n",
        "from sklearn.preprocessing import OneHotEncoder\n",
        "from sklearn.preprocessing import MinMaxScaler"
      ]
    },
    {
      "cell_type": "code",
      "source": [
        "# PEP 8\n",
        "%%capture\n",
        "!pip install pycodestyle\n",
        "!pip install --index-url https://test.pypi.org/simple/ nbpep8\n",
        "\n",
        "from nbpep8.nbpep8 import pep8"
      ],
      "metadata": {
        "id": "1UVXuqdX2vjX"
      },
      "execution_count": 2,
      "outputs": []
    },
    {
      "cell_type": "markdown",
      "source": [
        "# Import module files"
      ],
      "metadata": {
        "id": "nAQ_gWAP-Jge"
      }
    },
    {
      "cell_type": "code",
      "source": [
        "%%capture\n",
        "def download_files(url_dict):\n",
        "    for file, url in url_dict.items():\n",
        "        print(f'Downloading {file}')\n",
        "        !wget -O {file} {url} {file}\n",
        "\n",
        "\n",
        "files = [\n",
        "    'path_manager.py',\n",
        "    'sklearn_utils.py',\n",
        "    'sklearn_transformers.py'\n",
        "]\n",
        "\n",
        "git_download_path = \\\n",
        "'https://raw.githubusercontent.com/PashaIanko/Kaggle.Restaurant-Revenue-Prediction/main/'\n",
        "url_dict = {file: git_download_path + file for file in files}\n",
        "download_files(url_dict)"
      ],
      "metadata": {
        "id": "Y3gJz_TB-L7S"
      },
      "execution_count": 3,
      "outputs": []
    },
    {
      "cell_type": "code",
      "source": [
        "import importlib\n",
        "import path_manager\n",
        "import sklearn_transformers\n",
        "import sklearn_utils\n",
        "\n",
        "def reload_all(modules_list):\n",
        "    for module in modules_list:\n",
        "        importlib.reload(module)\n",
        "\n",
        "reload_all(\n",
        "    [\n",
        "        path_manager,\n",
        "        sklearn_utils,\n",
        "        sklearn_transformers\n",
        "    ]\n",
        ")\n",
        "\n",
        "from path_manager import PathManager\n",
        "\n",
        "from sklearn_utils import boxplot_regression\n",
        "from sklearn_utils import get_correlated_attributes\n",
        "from sklearn_utils import nan_statistics\n",
        "from sklearn_utils import visualize_datasets_distributions\n",
        "\n",
        "from sklearn_transformers import ColumnDropper\n",
        "from sklearn_transformers import LogTransformer"
      ],
      "metadata": {
        "id": "QJf0Sdq__Jsi"
      },
      "execution_count": 4,
      "outputs": []
    },
    {
      "cell_type": "markdown",
      "source": [
        "# Set up paths"
      ],
      "metadata": {
        "id": "wCo_4oPc15ul"
      }
    },
    {
      "cell_type": "code",
      "source": [
        "drive.mount('/content/gdrive')\n",
        "gdrive_path = '/content/gdrive/MyDrive/'\n",
        "\n",
        "\n",
        "PREPROC_TRIAL = 4\n",
        "MODELS_TRIAL = 2\n",
        "COMPETITION_PATH = gdrive_path + 'ML/Competitions/5.RestaurantRevenue/'"
      ],
      "metadata": {
        "colab": {
          "base_uri": "https://localhost:8080/"
        },
        "id": "DOBAAFGy1NlB",
        "outputId": "49bc9cc2-fb39-457e-e017-a06f5df08d14"
      },
      "execution_count": 5,
      "outputs": [
        {
          "output_type": "stream",
          "name": "stdout",
          "text": [
            "Mounted at /content/gdrive\n"
          ]
        }
      ]
    },
    {
      "cell_type": "code",
      "source": [
        "manager = PathManager(\n",
        "    competition_path=COMPETITION_PATH,\n",
        "    preprocessing_trial=PREPROC_TRIAL,\n",
        "    models_trial=MODELS_TRIAL\n",
        ")"
      ],
      "metadata": {
        "id": "irrbRMWl0Qfs"
      },
      "execution_count": 6,
      "outputs": []
    },
    {
      "cell_type": "code",
      "source": [
        "manager.setup_paths()"
      ],
      "metadata": {
        "colab": {
          "base_uri": "https://localhost:8080/"
        },
        "id": "hIqgzmPs48tQ",
        "outputId": "16fe9738-3191-44ac-d538-3f04bdb0a81c"
      },
      "execution_count": 7,
      "outputs": [
        {
          "output_type": "stream",
          "name": "stdout",
          "text": [
            "/content/gdrive/MyDrive/ML/Competitions/5.RestaurantRevenue/Data/preproc_trial_4 already exists\n",
            "/content/gdrive/MyDrive/ML/Competitions/5.RestaurantRevenue/Models/trial_2 already exists\n"
          ]
        }
      ]
    },
    {
      "cell_type": "markdown",
      "source": [
        "# 1. Frame the problem"
      ],
      "metadata": {
        "id": "yQ06sKKh2Q8Q"
      }
    },
    {
      "cell_type": "markdown",
      "source": [
        "- **Type of task?**\n",
        "    - Supervised / Unsupervised / Reinforcement?\n",
        "        - Supervised\n",
        "    - Classification / Regression / Clustering / Novelty search?\n",
        "        - Regression (univariate, multiple regression)\n",
        "    - Batch learning / Online learning?\n",
        "        - Batch learning\n",
        "\n",
        "- **How company will benefit from task?**\n",
        "    - **Predicting revenue (money) of a restaurang, to justify investment in building a new one in a given area**\n",
        "\n",
        "- **Algorithms?**\n",
        "    - SGD regressor, SVM, Random forest, FFNN, KNN regressor\n",
        "\n",
        "- **Performance measure?**\n",
        "    - RMSE\n",
        "    - MAE if many outliers\n",
        "\n",
        "- **What the current solution looks like?**\n",
        "    - Human analysis\n",
        "\n"
      ],
      "metadata": {
        "id": "nm6CpsaE2SlA"
      }
    },
    {
      "cell_type": "markdown",
      "source": [
        "# 2. Check assumptions"
      ],
      "metadata": {
        "id": "yhYrGrNQ5obt"
      }
    },
    {
      "cell_type": "markdown",
      "source": [
        "- No serious assumptions. This competition needs indeed a regression output (values), but not categories or classes."
      ],
      "metadata": {
        "id": "nHDf5kod5qle"
      }
    },
    {
      "cell_type": "markdown",
      "source": [
        "# 3. Download the data"
      ],
      "metadata": {
        "id": "RLvlBkLw56B-"
      }
    },
    {
      "cell_type": "code",
      "source": [
        "train_df = pd.read_csv(manager.train_path, index_col='Id')\n",
        "test_df = pd.read_csv(manager.test_path, index_col='Id')"
      ],
      "metadata": {
        "id": "2IWuavvB578T"
      },
      "execution_count": 185,
      "outputs": []
    },
    {
      "cell_type": "code",
      "source": [
        "train_df.head(1)\n",
        "print(train_df.shape, test_df.shape)"
      ],
      "metadata": {
        "colab": {
          "base_uri": "https://localhost:8080/"
        },
        "id": "22-ObB978aIq",
        "outputId": "6e894869-3454-4f63-9727-f8cc9f1f7daf"
      },
      "execution_count": 186,
      "outputs": [
        {
          "output_type": "stream",
          "name": "stdout",
          "text": [
            "(137, 42) (100000, 41)\n"
          ]
        }
      ]
    },
    {
      "cell_type": "markdown",
      "source": [
        "# 4. Quick look at data structure"
      ],
      "metadata": {
        "id": "I9J8gJrg53QO"
      }
    },
    {
      "cell_type": "markdown",
      "source": [
        "- Outliers and skew in the target variable (revenue)\n",
        "- Approximately same range of numerical features\n",
        "- No missing values"
      ],
      "metadata": {
        "id": "Tih0jg6y7lFv"
      }
    },
    {
      "cell_type": "code",
      "source": [
        "train_df.info()"
      ],
      "metadata": {
        "colab": {
          "base_uri": "https://localhost:8080/"
        },
        "id": "70kp1hFo6B2-",
        "outputId": "70a6543b-4379-4faf-bbff-20b7cb8c5f31"
      },
      "execution_count": null,
      "outputs": [
        {
          "output_type": "stream",
          "name": "stdout",
          "text": [
            "<class 'pandas.core.frame.DataFrame'>\n",
            "Int64Index: 137 entries, 0 to 136\n",
            "Data columns (total 42 columns):\n",
            " #   Column      Non-Null Count  Dtype  \n",
            "---  ------      --------------  -----  \n",
            " 0   Open Date   137 non-null    object \n",
            " 1   City        137 non-null    object \n",
            " 2   City Group  137 non-null    object \n",
            " 3   Type        137 non-null    object \n",
            " 4   P1          137 non-null    int64  \n",
            " 5   P2          137 non-null    float64\n",
            " 6   P3          137 non-null    float64\n",
            " 7   P4          137 non-null    float64\n",
            " 8   P5          137 non-null    int64  \n",
            " 9   P6          137 non-null    int64  \n",
            " 10  P7          137 non-null    int64  \n",
            " 11  P8          137 non-null    int64  \n",
            " 12  P9          137 non-null    int64  \n",
            " 13  P10         137 non-null    int64  \n",
            " 14  P11         137 non-null    int64  \n",
            " 15  P12         137 non-null    int64  \n",
            " 16  P13         137 non-null    float64\n",
            " 17  P14         137 non-null    int64  \n",
            " 18  P15         137 non-null    int64  \n",
            " 19  P16         137 non-null    int64  \n",
            " 20  P17         137 non-null    int64  \n",
            " 21  P18         137 non-null    int64  \n",
            " 22  P19         137 non-null    int64  \n",
            " 23  P20         137 non-null    int64  \n",
            " 24  P21         137 non-null    int64  \n",
            " 25  P22         137 non-null    int64  \n",
            " 26  P23         137 non-null    int64  \n",
            " 27  P24         137 non-null    int64  \n",
            " 28  P25         137 non-null    int64  \n",
            " 29  P26         137 non-null    float64\n",
            " 30  P27         137 non-null    float64\n",
            " 31  P28         137 non-null    float64\n",
            " 32  P29         137 non-null    float64\n",
            " 33  P30         137 non-null    int64  \n",
            " 34  P31         137 non-null    int64  \n",
            " 35  P32         137 non-null    int64  \n",
            " 36  P33         137 non-null    int64  \n",
            " 37  P34         137 non-null    int64  \n",
            " 38  P35         137 non-null    int64  \n",
            " 39  P36         137 non-null    int64  \n",
            " 40  P37         137 non-null    int64  \n",
            " 41  revenue     137 non-null    float64\n",
            "dtypes: float64(9), int64(29), object(4)\n",
            "memory usage: 46.0+ KB\n"
          ]
        }
      ]
    },
    {
      "cell_type": "code",
      "source": [
        "train_df.describe()"
      ],
      "metadata": {
        "colab": {
          "base_uri": "https://localhost:8080/",
          "height": 394
        },
        "id": "Id7WSFM36Icp",
        "outputId": "3ac577c5-d433-4e54-ab66-cf292231c5b8"
      },
      "execution_count": null,
      "outputs": [
        {
          "output_type": "execute_result",
          "data": {
            "text/plain": [
              "               P1          P2          P3          P4          P5          P6  \\\n",
              "count  137.000000  137.000000  137.000000  137.000000  137.000000  137.000000   \n",
              "mean     4.014599    4.408759    4.317518    4.372263    2.007299    3.357664   \n",
              "std      2.910391    1.514900    1.032337    1.016462    1.209620    2.134235   \n",
              "min      1.000000    1.000000    0.000000    3.000000    1.000000    1.000000   \n",
              "25%      2.000000    4.000000    4.000000    4.000000    1.000000    2.000000   \n",
              "50%      3.000000    5.000000    4.000000    4.000000    2.000000    3.000000   \n",
              "75%      4.000000    5.000000    5.000000    5.000000    2.000000    4.000000   \n",
              "max     12.000000    7.500000    7.500000    7.500000    8.000000   10.000000   \n",
              "\n",
              "               P7          P8          P9         P10  ...         P29  \\\n",
              "count  137.000000  137.000000  137.000000  137.000000  ...  137.000000   \n",
              "mean     5.423358    5.153285    5.445255    5.489051  ...    3.135036   \n",
              "std      2.296809    1.858567    1.834793    1.847561  ...    1.680887   \n",
              "min      1.000000    1.000000    4.000000    4.000000  ...    0.000000   \n",
              "25%      5.000000    4.000000    4.000000    5.000000  ...    2.500000   \n",
              "50%      5.000000    5.000000    5.000000    5.000000  ...    3.000000   \n",
              "75%      5.000000    5.000000    5.000000    5.000000  ...    3.000000   \n",
              "max     10.000000   10.000000   10.000000   10.000000  ...    7.500000   \n",
              "\n",
              "              P30         P31         P32         P33         P34         P35  \\\n",
              "count  137.000000  137.000000  137.000000  137.000000  137.000000  137.000000   \n",
              "mean     2.729927    1.941606    2.525547    1.138686    2.489051    2.029197   \n",
              "std      5.536647    3.512093    5.230117    1.698540    5.165093    3.436272   \n",
              "min      0.000000    0.000000    0.000000    0.000000    0.000000    0.000000   \n",
              "25%      0.000000    0.000000    0.000000    0.000000    0.000000    0.000000   \n",
              "50%      0.000000    0.000000    0.000000    0.000000    0.000000    0.000000   \n",
              "75%      4.000000    3.000000    3.000000    2.000000    3.000000    4.000000   \n",
              "max     25.000000   15.000000   25.000000    6.000000   24.000000   15.000000   \n",
              "\n",
              "              P36         P37       revenue  \n",
              "count  137.000000  137.000000  1.370000e+02  \n",
              "mean     2.211679    1.116788  4.453533e+06  \n",
              "std      4.168211    1.790768  2.576072e+06  \n",
              "min      0.000000    0.000000  1.149870e+06  \n",
              "25%      0.000000    0.000000  2.999068e+06  \n",
              "50%      0.000000    0.000000  3.939804e+06  \n",
              "75%      3.000000    2.000000  5.166635e+06  \n",
              "max     20.000000    8.000000  1.969694e+07  \n",
              "\n",
              "[8 rows x 38 columns]"
            ],
            "text/html": [
              "\n",
              "  <div id=\"df-f827a34d-c18e-43cf-96d6-70d28a33adb0\">\n",
              "    <div class=\"colab-df-container\">\n",
              "      <div>\n",
              "<style scoped>\n",
              "    .dataframe tbody tr th:only-of-type {\n",
              "        vertical-align: middle;\n",
              "    }\n",
              "\n",
              "    .dataframe tbody tr th {\n",
              "        vertical-align: top;\n",
              "    }\n",
              "\n",
              "    .dataframe thead th {\n",
              "        text-align: right;\n",
              "    }\n",
              "</style>\n",
              "<table border=\"1\" class=\"dataframe\">\n",
              "  <thead>\n",
              "    <tr style=\"text-align: right;\">\n",
              "      <th></th>\n",
              "      <th>P1</th>\n",
              "      <th>P2</th>\n",
              "      <th>P3</th>\n",
              "      <th>P4</th>\n",
              "      <th>P5</th>\n",
              "      <th>P6</th>\n",
              "      <th>P7</th>\n",
              "      <th>P8</th>\n",
              "      <th>P9</th>\n",
              "      <th>P10</th>\n",
              "      <th>...</th>\n",
              "      <th>P29</th>\n",
              "      <th>P30</th>\n",
              "      <th>P31</th>\n",
              "      <th>P32</th>\n",
              "      <th>P33</th>\n",
              "      <th>P34</th>\n",
              "      <th>P35</th>\n",
              "      <th>P36</th>\n",
              "      <th>P37</th>\n",
              "      <th>revenue</th>\n",
              "    </tr>\n",
              "  </thead>\n",
              "  <tbody>\n",
              "    <tr>\n",
              "      <th>count</th>\n",
              "      <td>137.000000</td>\n",
              "      <td>137.000000</td>\n",
              "      <td>137.000000</td>\n",
              "      <td>137.000000</td>\n",
              "      <td>137.000000</td>\n",
              "      <td>137.000000</td>\n",
              "      <td>137.000000</td>\n",
              "      <td>137.000000</td>\n",
              "      <td>137.000000</td>\n",
              "      <td>137.000000</td>\n",
              "      <td>...</td>\n",
              "      <td>137.000000</td>\n",
              "      <td>137.000000</td>\n",
              "      <td>137.000000</td>\n",
              "      <td>137.000000</td>\n",
              "      <td>137.000000</td>\n",
              "      <td>137.000000</td>\n",
              "      <td>137.000000</td>\n",
              "      <td>137.000000</td>\n",
              "      <td>137.000000</td>\n",
              "      <td>1.370000e+02</td>\n",
              "    </tr>\n",
              "    <tr>\n",
              "      <th>mean</th>\n",
              "      <td>4.014599</td>\n",
              "      <td>4.408759</td>\n",
              "      <td>4.317518</td>\n",
              "      <td>4.372263</td>\n",
              "      <td>2.007299</td>\n",
              "      <td>3.357664</td>\n",
              "      <td>5.423358</td>\n",
              "      <td>5.153285</td>\n",
              "      <td>5.445255</td>\n",
              "      <td>5.489051</td>\n",
              "      <td>...</td>\n",
              "      <td>3.135036</td>\n",
              "      <td>2.729927</td>\n",
              "      <td>1.941606</td>\n",
              "      <td>2.525547</td>\n",
              "      <td>1.138686</td>\n",
              "      <td>2.489051</td>\n",
              "      <td>2.029197</td>\n",
              "      <td>2.211679</td>\n",
              "      <td>1.116788</td>\n",
              "      <td>4.453533e+06</td>\n",
              "    </tr>\n",
              "    <tr>\n",
              "      <th>std</th>\n",
              "      <td>2.910391</td>\n",
              "      <td>1.514900</td>\n",
              "      <td>1.032337</td>\n",
              "      <td>1.016462</td>\n",
              "      <td>1.209620</td>\n",
              "      <td>2.134235</td>\n",
              "      <td>2.296809</td>\n",
              "      <td>1.858567</td>\n",
              "      <td>1.834793</td>\n",
              "      <td>1.847561</td>\n",
              "      <td>...</td>\n",
              "      <td>1.680887</td>\n",
              "      <td>5.536647</td>\n",
              "      <td>3.512093</td>\n",
              "      <td>5.230117</td>\n",
              "      <td>1.698540</td>\n",
              "      <td>5.165093</td>\n",
              "      <td>3.436272</td>\n",
              "      <td>4.168211</td>\n",
              "      <td>1.790768</td>\n",
              "      <td>2.576072e+06</td>\n",
              "    </tr>\n",
              "    <tr>\n",
              "      <th>min</th>\n",
              "      <td>1.000000</td>\n",
              "      <td>1.000000</td>\n",
              "      <td>0.000000</td>\n",
              "      <td>3.000000</td>\n",
              "      <td>1.000000</td>\n",
              "      <td>1.000000</td>\n",
              "      <td>1.000000</td>\n",
              "      <td>1.000000</td>\n",
              "      <td>4.000000</td>\n",
              "      <td>4.000000</td>\n",
              "      <td>...</td>\n",
              "      <td>0.000000</td>\n",
              "      <td>0.000000</td>\n",
              "      <td>0.000000</td>\n",
              "      <td>0.000000</td>\n",
              "      <td>0.000000</td>\n",
              "      <td>0.000000</td>\n",
              "      <td>0.000000</td>\n",
              "      <td>0.000000</td>\n",
              "      <td>0.000000</td>\n",
              "      <td>1.149870e+06</td>\n",
              "    </tr>\n",
              "    <tr>\n",
              "      <th>25%</th>\n",
              "      <td>2.000000</td>\n",
              "      <td>4.000000</td>\n",
              "      <td>4.000000</td>\n",
              "      <td>4.000000</td>\n",
              "      <td>1.000000</td>\n",
              "      <td>2.000000</td>\n",
              "      <td>5.000000</td>\n",
              "      <td>4.000000</td>\n",
              "      <td>4.000000</td>\n",
              "      <td>5.000000</td>\n",
              "      <td>...</td>\n",
              "      <td>2.500000</td>\n",
              "      <td>0.000000</td>\n",
              "      <td>0.000000</td>\n",
              "      <td>0.000000</td>\n",
              "      <td>0.000000</td>\n",
              "      <td>0.000000</td>\n",
              "      <td>0.000000</td>\n",
              "      <td>0.000000</td>\n",
              "      <td>0.000000</td>\n",
              "      <td>2.999068e+06</td>\n",
              "    </tr>\n",
              "    <tr>\n",
              "      <th>50%</th>\n",
              "      <td>3.000000</td>\n",
              "      <td>5.000000</td>\n",
              "      <td>4.000000</td>\n",
              "      <td>4.000000</td>\n",
              "      <td>2.000000</td>\n",
              "      <td>3.000000</td>\n",
              "      <td>5.000000</td>\n",
              "      <td>5.000000</td>\n",
              "      <td>5.000000</td>\n",
              "      <td>5.000000</td>\n",
              "      <td>...</td>\n",
              "      <td>3.000000</td>\n",
              "      <td>0.000000</td>\n",
              "      <td>0.000000</td>\n",
              "      <td>0.000000</td>\n",
              "      <td>0.000000</td>\n",
              "      <td>0.000000</td>\n",
              "      <td>0.000000</td>\n",
              "      <td>0.000000</td>\n",
              "      <td>0.000000</td>\n",
              "      <td>3.939804e+06</td>\n",
              "    </tr>\n",
              "    <tr>\n",
              "      <th>75%</th>\n",
              "      <td>4.000000</td>\n",
              "      <td>5.000000</td>\n",
              "      <td>5.000000</td>\n",
              "      <td>5.000000</td>\n",
              "      <td>2.000000</td>\n",
              "      <td>4.000000</td>\n",
              "      <td>5.000000</td>\n",
              "      <td>5.000000</td>\n",
              "      <td>5.000000</td>\n",
              "      <td>5.000000</td>\n",
              "      <td>...</td>\n",
              "      <td>3.000000</td>\n",
              "      <td>4.000000</td>\n",
              "      <td>3.000000</td>\n",
              "      <td>3.000000</td>\n",
              "      <td>2.000000</td>\n",
              "      <td>3.000000</td>\n",
              "      <td>4.000000</td>\n",
              "      <td>3.000000</td>\n",
              "      <td>2.000000</td>\n",
              "      <td>5.166635e+06</td>\n",
              "    </tr>\n",
              "    <tr>\n",
              "      <th>max</th>\n",
              "      <td>12.000000</td>\n",
              "      <td>7.500000</td>\n",
              "      <td>7.500000</td>\n",
              "      <td>7.500000</td>\n",
              "      <td>8.000000</td>\n",
              "      <td>10.000000</td>\n",
              "      <td>10.000000</td>\n",
              "      <td>10.000000</td>\n",
              "      <td>10.000000</td>\n",
              "      <td>10.000000</td>\n",
              "      <td>...</td>\n",
              "      <td>7.500000</td>\n",
              "      <td>25.000000</td>\n",
              "      <td>15.000000</td>\n",
              "      <td>25.000000</td>\n",
              "      <td>6.000000</td>\n",
              "      <td>24.000000</td>\n",
              "      <td>15.000000</td>\n",
              "      <td>20.000000</td>\n",
              "      <td>8.000000</td>\n",
              "      <td>1.969694e+07</td>\n",
              "    </tr>\n",
              "  </tbody>\n",
              "</table>\n",
              "<p>8 rows × 38 columns</p>\n",
              "</div>\n",
              "      <button class=\"colab-df-convert\" onclick=\"convertToInteractive('df-f827a34d-c18e-43cf-96d6-70d28a33adb0')\"\n",
              "              title=\"Convert this dataframe to an interactive table.\"\n",
              "              style=\"display:none;\">\n",
              "        \n",
              "  <svg xmlns=\"http://www.w3.org/2000/svg\" height=\"24px\"viewBox=\"0 0 24 24\"\n",
              "       width=\"24px\">\n",
              "    <path d=\"M0 0h24v24H0V0z\" fill=\"none\"/>\n",
              "    <path d=\"M18.56 5.44l.94 2.06.94-2.06 2.06-.94-2.06-.94-.94-2.06-.94 2.06-2.06.94zm-11 1L8.5 8.5l.94-2.06 2.06-.94-2.06-.94L8.5 2.5l-.94 2.06-2.06.94zm10 10l.94 2.06.94-2.06 2.06-.94-2.06-.94-.94-2.06-.94 2.06-2.06.94z\"/><path d=\"M17.41 7.96l-1.37-1.37c-.4-.4-.92-.59-1.43-.59-.52 0-1.04.2-1.43.59L10.3 9.45l-7.72 7.72c-.78.78-.78 2.05 0 2.83L4 21.41c.39.39.9.59 1.41.59.51 0 1.02-.2 1.41-.59l7.78-7.78 2.81-2.81c.8-.78.8-2.07 0-2.86zM5.41 20L4 18.59l7.72-7.72 1.47 1.35L5.41 20z\"/>\n",
              "  </svg>\n",
              "      </button>\n",
              "      \n",
              "  <style>\n",
              "    .colab-df-container {\n",
              "      display:flex;\n",
              "      flex-wrap:wrap;\n",
              "      gap: 12px;\n",
              "    }\n",
              "\n",
              "    .colab-df-convert {\n",
              "      background-color: #E8F0FE;\n",
              "      border: none;\n",
              "      border-radius: 50%;\n",
              "      cursor: pointer;\n",
              "      display: none;\n",
              "      fill: #1967D2;\n",
              "      height: 32px;\n",
              "      padding: 0 0 0 0;\n",
              "      width: 32px;\n",
              "    }\n",
              "\n",
              "    .colab-df-convert:hover {\n",
              "      background-color: #E2EBFA;\n",
              "      box-shadow: 0px 1px 2px rgba(60, 64, 67, 0.3), 0px 1px 3px 1px rgba(60, 64, 67, 0.15);\n",
              "      fill: #174EA6;\n",
              "    }\n",
              "\n",
              "    [theme=dark] .colab-df-convert {\n",
              "      background-color: #3B4455;\n",
              "      fill: #D2E3FC;\n",
              "    }\n",
              "\n",
              "    [theme=dark] .colab-df-convert:hover {\n",
              "      background-color: #434B5C;\n",
              "      box-shadow: 0px 1px 3px 1px rgba(0, 0, 0, 0.15);\n",
              "      filter: drop-shadow(0px 1px 2px rgba(0, 0, 0, 0.3));\n",
              "      fill: #FFFFFF;\n",
              "    }\n",
              "  </style>\n",
              "\n",
              "      <script>\n",
              "        const buttonEl =\n",
              "          document.querySelector('#df-f827a34d-c18e-43cf-96d6-70d28a33adb0 button.colab-df-convert');\n",
              "        buttonEl.style.display =\n",
              "          google.colab.kernel.accessAllowed ? 'block' : 'none';\n",
              "\n",
              "        async function convertToInteractive(key) {\n",
              "          const element = document.querySelector('#df-f827a34d-c18e-43cf-96d6-70d28a33adb0');\n",
              "          const dataTable =\n",
              "            await google.colab.kernel.invokeFunction('convertToInteractive',\n",
              "                                                     [key], {});\n",
              "          if (!dataTable) return;\n",
              "\n",
              "          const docLinkHtml = 'Like what you see? Visit the ' +\n",
              "            '<a target=\"_blank\" href=https://colab.research.google.com/notebooks/data_table.ipynb>data table notebook</a>'\n",
              "            + ' to learn more about interactive tables.';\n",
              "          element.innerHTML = '';\n",
              "          dataTable['output_type'] = 'display_data';\n",
              "          await google.colab.output.renderOutput(dataTable, element);\n",
              "          const docLink = document.createElement('div');\n",
              "          docLink.innerHTML = docLinkHtml;\n",
              "          element.appendChild(docLink);\n",
              "        }\n",
              "      </script>\n",
              "    </div>\n",
              "  </div>\n",
              "  "
            ]
          },
          "metadata": {},
          "execution_count": 11
        }
      ]
    },
    {
      "cell_type": "code",
      "source": [
        "_ = train_df.hist(bins=50, figsize = (20, 20))"
      ],
      "metadata": {
        "colab": {
          "base_uri": "https://localhost:8080/",
          "height": 725
        },
        "id": "QBIVscvN6s9h",
        "outputId": "885878de-503c-45d1-90ba-43615ecc5cd0"
      },
      "execution_count": null,
      "outputs": [
        {
          "output_type": "display_data",
          "data": {
            "text/plain": [
              "<Figure size 1440x1440 with 42 Axes>"
            ],
            "image/png": "[encoded data removed]"
          },
          "metadata": {
            "needs_background": "light"
          }
        }
      ]
    },
    {
      "cell_type": "markdown",
      "source": [
        "# 5. Create test + trainval sets (remember stratified sampling)"
      ],
      "metadata": {
        "id": "t8bUXVBt8DSZ"
      }
    },
    {
      "cell_type": "code",
      "source": [
        "TEST_PERCENTAGE = 0.15\n",
        "RANDOM_STATE = 42\n",
        "\n",
        "train_val_sample, test_sample = train_test_split(\n",
        "    train_df,\n",
        "    test_size = TEST_PERCENTAGE,\n",
        "    random_state = RANDOM_STATE,\n",
        "    # stratify = train_df['revenue'].values\n",
        ")"
      ],
      "metadata": {
        "id": "QZ9jDoaR8Hw8"
      },
      "execution_count": 187,
      "outputs": []
    },
    {
      "cell_type": "code",
      "source": [
        "fig, ax = plt.subplots()\n",
        "\n",
        "ax.hist(train_val_sample['revenue'], density=True, alpha=0.5)\n",
        "ax.hist(test_sample['revenue'], density=True, alpha=0.5)\n",
        "\n",
        "ax.legend(['train + validation', 'test'])\n",
        "ax.grid()\n",
        "ax.set_title('Target distribution')\n",
        "ax.set_xlabel('Revenue')\n",
        "ax.set_ylabel('Percentage')"
      ],
      "metadata": {
        "colab": {
          "base_uri": "https://localhost:8080/",
          "height": 0
        },
        "id": "SvfLdjag946F",
        "outputId": "33f04046-2dd0-4624-99d5-1896ea259dc2"
      },
      "execution_count": 188,
      "outputs": [
        {
          "output_type": "execute_result",
          "data": {
            "text/plain": [
              "Text(0, 0.5, 'Percentage')"
            ]
          },
          "metadata": {},
          "execution_count": 188
        },
        {
          "output_type": "display_data",
          "data": {
            "text/plain": [
              "<Figure size 432x288 with 1 Axes>"
            ],
            "image/png": "[encoded data removed]"
          },
          "metadata": {
            "needs_background": "light"
          }
        }
      ]
    },
    {
      "cell_type": "markdown",
      "source": [
        "# 6. Data exploration (from now on: work with trainval set)"
      ],
      "metadata": {
        "id": "SWMTw0Hq19mR"
      }
    },
    {
      "cell_type": "markdown",
      "source": [
        "- Heavy tail - might log-transform the data. Because many algorithms fail to detect patterns for data with heavy tails\n",
        "- P28, P6, P17 - log transform\n",
        "- Big cities contribute to larger revenue (City Group feature). Apply cat encoding, to enforce order\n",
        "- One hot encoding for the restaurant type. We will not inflate the the dataset, as there are only 4 types of categories\n",
        "- The majority of restaurants opened after 2007 (skewed). There is an upward trend - the later a restaurant is opened, the more revenue it gives. Replace text feature \"Opening date\" with numeric feature - year of opening\n",
        "- Strong correlation with a new feature - population of the city"
      ],
      "metadata": {
        "id": "LkyNEOAdX_LC"
      }
    },
    {
      "cell_type": "markdown",
      "source": [
        "## Sample an exploration set"
      ],
      "metadata": {
        "id": "c01s4YqMBUT-"
      }
    },
    {
      "cell_type": "markdown",
      "source": [
        "- Not necessary, dataset is of low size\n",
        "- **At this step - make a copy of dataset for experiments (for safety)**"
      ],
      "metadata": {
        "id": "Q_WRLhY6BZ_B"
      }
    },
    {
      "cell_type": "code",
      "source": [
        "exploration_df = train_val_sample.copy()"
      ],
      "metadata": {
        "id": "8dOTeYr9BlP7"
      },
      "execution_count": 12,
      "outputs": []
    },
    {
      "cell_type": "markdown",
      "source": [
        "## Visualizations"
      ],
      "metadata": {
        "id": "s7_IMfFmBrm5"
      }
    },
    {
      "cell_type": "markdown",
      "source": [
        "### Target variable"
      ],
      "metadata": {
        "id": "4ldj8ambaPz5"
      }
    },
    {
      "cell_type": "code",
      "source": [
        "fig, ax = plt.subplots(1, 2, figsize = (10, 5))\n",
        "\n",
        "ax[0].hist(exploration_df['revenue'])\n",
        "ax[0].set_title('Before log transform')\n",
        "ax[0].set_ylabel('Revenue')\n",
        "\n",
        "ax[1].hist(np.log(exploration_df['revenue']))\n",
        "ax[1].set_title('After log transform')\n",
        "ax[1].set_ylabel('Revenue')\n",
        "\n",
        "ax[0].grid(), ax[1].grid()"
      ],
      "metadata": {
        "colab": {
          "base_uri": "https://localhost:8080/",
          "height": 366
        },
        "id": "vwbHcjHdBuBC",
        "outputId": "89e7ef5f-5905-4600-b85c-fec2e9eab8c1"
      },
      "execution_count": null,
      "outputs": [
        {
          "output_type": "execute_result",
          "data": {
            "text/plain": [
              "(None, None)"
            ]
          },
          "metadata": {},
          "execution_count": 16
        },
        {
          "output_type": "display_data",
          "data": {
            "text/plain": [
              "<Figure size 720x360 with 2 Axes>"
            ],
            "image/png": "[encoded data removed]"
          },
          "metadata": {
            "needs_background": "light"
          }
        }
      ]
    },
    {
      "cell_type": "markdown",
      "source": [
        "### Revenue by city"
      ],
      "metadata": {
        "id": "8e-ML5kGaTx3"
      }
    },
    {
      "cell_type": "code",
      "source": [
        "counter = 0\n",
        "available_cities = np.unique(exploration_df['City'])\n",
        "\n",
        "boxplot_regression(\n",
        "    df_=exploration_df.loc[np.isin(exploration_df['City'], available_cities[0:5]), :],\n",
        "    cat_feature_='City',\n",
        "    target_feature_='revenue'\n",
        ")\n",
        "\n",
        "boxplot_regression(\n",
        "    df_=exploration_df.loc[np.isin(exploration_df['City'], available_cities[5:10]), :],\n",
        "    cat_feature_='City',\n",
        "    target_feature_='revenue'\n",
        ")"
      ],
      "metadata": {
        "colab": {
          "base_uri": "https://localhost:8080/",
          "height": 582
        },
        "id": "UVN0tOilCYSC",
        "outputId": "4fa8885b-4161-4c29-add9-b44a4b26f536"
      },
      "execution_count": null,
      "outputs": [
        {
          "output_type": "display_data",
          "data": {
            "text/plain": [
              "<Figure size 1080x360 with 2 Axes>"
            ],
            "image/png": "[encoded data removed]"
          },
          "metadata": {
            "needs_background": "light"
          }
        },
        {
          "output_type": "display_data",
          "data": {
            "text/plain": [
              "<Figure size 1080x360 with 2 Axes>"
            ],
            "image/png": "[encoded data removed]"
          },
          "metadata": {
            "needs_background": "light"
          }
        }
      ]
    },
    {
      "cell_type": "markdown",
      "source": [
        "### Restaurant type"
      ],
      "metadata": {
        "id": "cT8Ba7MZaYCw"
      }
    },
    {
      "cell_type": "code",
      "source": [
        "exploration_df['Type'].value_counts()\n",
        "boxplot_regression(\n",
        "    df_=exploration_df, \n",
        "    cat_feature_='Type', \n",
        "    target_feature_='revenue'\n",
        ")"
      ],
      "metadata": {
        "colab": {
          "base_uri": "https://localhost:8080/",
          "height": 282
        },
        "id": "JVrIojJbDH75",
        "outputId": "6f4519de-0f1f-4f02-96af-15b6f604822a"
      },
      "execution_count": null,
      "outputs": [
        {
          "output_type": "display_data",
          "data": {
            "text/plain": [
              "<Figure size 1080x360 with 2 Axes>"
            ],
            "image/png": "[encoded data removed]"
          },
          "metadata": {
            "needs_background": "light"
          }
        }
      ]
    },
    {
      "cell_type": "markdown",
      "source": [
        "### City type"
      ],
      "metadata": {
        "id": "yitPxMFraf1t"
      }
    },
    {
      "cell_type": "code",
      "source": [
        "boxplot_regression(exploration_df, 'City Group', 'revenue')"
      ],
      "metadata": {
        "colab": {
          "base_uri": "https://localhost:8080/",
          "height": 282
        },
        "id": "TEYhsf9ZSBMa",
        "outputId": "b12bfb13-8b38-461f-9542-60ef75278370"
      },
      "execution_count": null,
      "outputs": [
        {
          "output_type": "display_data",
          "data": {
            "text/plain": [
              "<Figure size 1080x360 with 2 Axes>"
            ],
            "image/png": "[encoded data removed]"
          },
          "metadata": {
            "needs_background": "light"
          }
        }
      ]
    },
    {
      "cell_type": "markdown",
      "source": [
        "## Correlations & scatter matrix"
      ],
      "metadata": {
        "id": "pzWI5kmNG_aC"
      }
    },
    {
      "cell_type": "code",
      "source": [
        "attributes = get_correlated_attributes(exploration_df, 'revenue', 0.12).index\n",
        "_ = scatter_matrix(exploration_df[attributes], figsize=(10, 10))"
      ],
      "metadata": {
        "colab": {
          "base_uri": "https://localhost:8080/",
          "height": 611
        },
        "id": "N5WIDuaOLRGJ",
        "outputId": "83e88fab-2e52-41fc-b53d-b696db83d2f1"
      },
      "execution_count": null,
      "outputs": [
        {
          "output_type": "display_data",
          "data": {
            "text/plain": [
              "<Figure size 720x720 with 49 Axes>"
            ],
            "image/png": "[encoded data removed]"
          },
          "metadata": {
            "needs_background": "light"
          }
        }
      ]
    },
    {
      "cell_type": "markdown",
      "source": [
        "## Looking for interesting features"
      ],
      "metadata": {
        "id": "mxOauCYOTNMk"
      }
    },
    {
      "cell_type": "markdown",
      "source": [
        "### Experiment with attribute combinations"
      ],
      "metadata": {
        "id": "vxeveWlRO8rg"
      }
    },
    {
      "cell_type": "markdown",
      "source": [
        "- Not a lot of attributes to combine (unline Housing prices tasks, here we cannot combint P-features). I focus on feature engineering component"
      ],
      "metadata": {
        "id": "q0YbJfOATDVS"
      }
    },
    {
      "cell_type": "markdown",
      "source": [
        "### Year of opening"
      ],
      "metadata": {
        "id": "NL9JjwbIUDd7"
      }
    },
    {
      "cell_type": "code",
      "source": [
        "dates = exploration_df['Open Date'].values\n",
        "years = [int(date.split('/')[-1]) for date in dates]\n",
        "years[:5]"
      ],
      "metadata": {
        "colab": {
          "base_uri": "https://localhost:8080/"
        },
        "id": "Wo1btPF4S22u",
        "outputId": "05b99a7b-6b54-4790-dc4e-7b808a3b9326"
      },
      "execution_count": null,
      "outputs": [
        {
          "output_type": "execute_result",
          "data": {
            "text/plain": [
              "[2009, 2007, 2008, 2009, 2007]"
            ]
          },
          "metadata": {},
          "execution_count": 201
        }
      ]
    },
    {
      "cell_type": "code",
      "source": [
        "exploration_df['open_year'] = years"
      ],
      "metadata": {
        "id": "wJIMwbhQTdeN"
      },
      "execution_count": null,
      "outputs": []
    },
    {
      "cell_type": "code",
      "source": [
        "boxplot_regression(exploration_df, 'open_year', 'revenue')"
      ],
      "metadata": {
        "colab": {
          "base_uri": "https://localhost:8080/"
        },
        "id": "VrKGHWaYTlJK",
        "outputId": "820f9b8b-1819-4f81-e938-e71ec9c3c893"
      },
      "execution_count": null,
      "outputs": [
        {
          "output_type": "display_data",
          "data": {
            "text/plain": [
              "<Figure size 1080x360 with 2 Axes>"
            ],
            "image/png": "[encoded data removed]"
          },
          "metadata": {
            "needs_background": "light"
          }
        }
      ]
    },
    {
      "cell_type": "markdown",
      "source": [
        "### How long restaurant is opened"
      ],
      "metadata": {
        "id": "_s7kedPOheAt"
      }
    },
    {
      "cell_type": "code",
      "source": [
        "exploration_df['Open Date']"
      ],
      "metadata": {
        "colab": {
          "base_uri": "https://localhost:8080/"
        },
        "id": "N1pTw89Ckspd",
        "outputId": "29f1a1b0-2b73-439c-bcf3-7a83710ef949"
      },
      "execution_count": null,
      "outputs": [
        {
          "output_type": "execute_result",
          "data": {
            "text/plain": [
              "Id\n",
              "4      05/09/2009\n",
              "109    08/25/2007\n",
              "36     05/09/2008\n",
              "89     05/11/2009\n",
              "100    09/21/2007\n",
              "          ...    \n",
              "71     12/06/2006\n",
              "106    06/15/2008\n",
              "14     12/29/2011\n",
              "92     11/01/2002\n",
              "102    09/11/2004\n",
              "Name: Open Date, Length: 116, dtype: object"
            ]
          },
          "metadata": {},
          "execution_count": 204
        }
      ]
    },
    {
      "cell_type": "code",
      "source": [
        "exploration_df['Open Date dtm'] = pd.to_datetime(\n",
        "    exploration_df['Open Date'],\n",
        "    format='%m/%d/%Y'\n",
        ")"
      ],
      "metadata": {
        "id": "RNYlEovEhjMq"
      },
      "execution_count": null,
      "outputs": []
    },
    {
      "cell_type": "code",
      "source": [
        "exploration_df['Open Date dtm'].dt.year + exploration_df['Open Date dtm'].dt.month "
      ],
      "metadata": {
        "colab": {
          "base_uri": "https://localhost:8080/"
        },
        "id": "f-OzZOH8iKyq",
        "outputId": "81d6d0d0-b9cb-4007-9b65-92256e3cf6af"
      },
      "execution_count": null,
      "outputs": [
        {
          "output_type": "execute_result",
          "data": {
            "text/plain": [
              "Id\n",
              "4      2014\n",
              "109    2015\n",
              "36     2013\n",
              "89     2014\n",
              "100    2016\n",
              "       ... \n",
              "71     2018\n",
              "106    2014\n",
              "14     2023\n",
              "92     2013\n",
              "102    2013\n",
              "Name: Open Date dtm, Length: 116, dtype: int64"
            ]
          },
          "metadata": {},
          "execution_count": 206
        }
      ]
    },
    {
      "cell_type": "code",
      "source": [
        "exploration_df['BusinessPeriod'] = \\\n",
        "    (exploration_df['Open Date dtm'].max()\n",
        "     - exploration_df['Open Date dtm']).dt.days\n",
        "\n",
        "pep8(_ih)"
      ],
      "metadata": {
        "colab": {
          "base_uri": "https://localhost:8080/"
        },
        "id": "xRRDFjxhh-GA",
        "outputId": "8990fbf0-342c-4a31-866d-3d70f4a307b8"
      },
      "execution_count": null,
      "outputs": [
        {
          "output_type": "stream",
          "name": "stdout",
          "text": [
            "\n"
          ]
        }
      ]
    },
    {
      "cell_type": "code",
      "source": [
        "plt.scatter(\n",
        "    x=exploration_df['BusinessPeriod'],\n",
        "    y=exploration_df['revenue']\n",
        ")\n",
        "get_correlated_attributes(exploration_df, 'revenue', 0.09)"
      ],
      "metadata": {
        "colab": {
          "base_uri": "https://localhost:8080/"
        },
        "id": "_HLNlObHlV11",
        "outputId": "35a9cd5b-0f21-496b-d554-ca71c8f13ca9"
      },
      "execution_count": null,
      "outputs": [
        {
          "output_type": "execute_result",
          "data": {
            "text/plain": [
              "revenue           1.000000\n",
              "BusinessPeriod    0.320551\n",
              "P2                0.191189\n",
              "P28               0.150818\n",
              "P6                0.136381\n",
              "P17               0.133384\n",
              "P22               0.099139\n",
              "P21               0.094685\n",
              "P13              -0.126957\n",
              "P29              -0.127254\n",
              "open_year        -0.318152\n",
              "Name: revenue, dtype: float64"
            ]
          },
          "metadata": {},
          "execution_count": 208
        },
        {
          "output_type": "display_data",
          "data": {
            "text/plain": [
              "<Figure size 432x288 with 1 Axes>"
            ],
            "image/png": "[encoded data removed]"
          },
          "metadata": {
            "needs_background": "light"
          }
        }
      ]
    },
    {
      "cell_type": "markdown",
      "source": [
        "### Longtitude, Lattitude"
      ],
      "metadata": {
        "id": "PoK6dTYinGjk"
      }
    },
    {
      "cell_type": "code",
      "source": [
        "# Longitude, lattitude\n",
        "\n",
        "longitudes_lattitudes = {\n",
        "        'Gaziantep': [37.383331, 37.066666],\n",
        "        'Ankara': [32.866287, 39.925533],\n",
        "        'İstanbul': [28.979530, 41.015137],\n",
        "        'İzmir': [27.142826, 38.423733],\n",
        "        'Kocaeli': [29.916668, 40.766666],\n",
        "        'Osmaniye': [36.246400, 37.074628],\n",
        "        'Kastamonu': [33.77528, 41.376625],\n",
        "        'Eskişehir': [30.526714, 39.766193],\n",
        "        'Denizli': [29.094715, 37.783333],\n",
        "        'Balıkesir': [26.726990, 39.327923],\n",
        "        'Sakarya': [30.400000, 40.783333],\n",
        "        'Tekirdağ': [27.515278, 40.977779],\n",
        "        'Bursa': [29.074202, 40.193298],\n",
        "        'Kayseri': [35.467987, 38.734802],\n",
        "        'Muğla': [28.643204, 36.834740],\n",
        "        'Edirne': [26.583481, 41.674965],\n",
        "        'Samsun': [36.336067, 41.2867],\n",
        "        'Karabük': [32.741742, 41.187489],\n",
        "        'Adana': [35.321335, 37.000000],\n",
        "        'Afyonkarahisar': [30.538704, 38.756886],\n",
        "        'Tokat': [36.625186, 40.390271],\n",
        "        'Amasya': [35.828819, 40.652382],\n",
        "        'Diyarbakır': [40.240002, 37.910000],\n",
        "        'Kütahya': [29.985732, 39.419955],\n",
        "        'Antalya': [30.6833, 36.9],\n",
        "        'Aydın': [27.845560, 37.838016],\n",
        "        'Şanlıurfa': [38.791668, 37.158333],\n",
        "        'Kırklareli': [27.224369, 41.735472],\n",
        "        'Isparta': [30.553705, 37.762649],\n",
        "        'Uşak':  [29.405882, 38.674229],\n",
        "        'Elazığ': [39.226398, 38.680969],\n",
        "            \n",
        "        'Bolu': [31.589813, 40.731647],\n",
        "        'Konya': [32.493156, 37.874641],\n",
        "        'Trabzon': [39.716763, 41.002697],\n",
        "        'Niğde': [34.676608, 37.969774],\n",
        "        'Aksaray': [34.029700, 38.368626],\n",
        "        'Artvin': [41.830982, 41.183224],\n",
        "        'Batman': [41.12793, 37.88289],\n",
        "        'Bilecik': [29.979330, 40.142573],\n",
        "        'Düzce': [31.162609, 40.838720],\n",
        "        'Erzincan': [39.491124, 39.746797],\n",
        "        'Erzurum': [41.265824, 39.905499],\n",
        "        'Giresun': [38.392654, 40.917534],\n",
        "        'Hatay': [36.166668, 36.200001],\n",
        "        'Kahramanmaraş': [36.922821, 37.575275],\n",
        "        'Kars': [43.097453, 40.601338],\n",
        "        'Kırıkkale': [33.508878, 39.839784],\n",
        "        'Kırşehir': [34.159499, 39.146078],\n",
        "        'Malatya': [38.333525, 38.355363],\n",
        "        'Manisa': [27.422222, 38.630554],\n",
        "        'Mardin': [40.733951, 37.312903],\n",
        "        'Mersin': [34.641479, 36.812103],\n",
        "        'Nevşehir': [34.719975, 38.626995],\n",
        "        'Ordu': [37.879721, 40.986166],\n",
        "        'Rize': [40.517666, 41.025511],\n",
        "        'Siirt': [41.941978, 37.927404],\n",
        "        'Sivas': [37.015598, 39.750359],\n",
        "        'Tanımsız': [None, None],  # ??? not in google\n",
        "        'Yalova': [29.284186, 40.654895],\n",
        "        'Zonguldak': [31.791344, 41.451733],\n",
        "        'Çanakkale': [26.408587, 40.146720],\n",
        "        'Çankırı': [33.616223, 40.600207],\n",
        "        'Çorum': [34.953724, 40.549926] \n",
        "    }"
      ],
      "metadata": {
        "id": "m0bigYA1nKZs"
      },
      "execution_count": 13,
      "outputs": []
    },
    {
      "cell_type": "markdown",
      "source": [
        "#### Visualization"
      ],
      "metadata": {
        "id": "XXnOiGVbtX_r"
      }
    },
    {
      "cell_type": "code",
      "source": [
        "fig, ax = plt.subplots(1, 3, figsize=(10, 4))\n",
        "\n",
        "lats = [\n",
        "    item[1] for item in longitudes_lattitudes.values() if item[1] is not None\n",
        "]\n",
        "\n",
        "longitudes = [\n",
        "    item[0] for item in longitudes_lattitudes.values() if item[0] is not None\n",
        "]\n",
        "\n",
        "N_BINS = 5\n",
        "ax[0].hist(lats, bins=N_BINS)\n",
        "ax[1].hist(longitudes, bins=N_BINS)\n",
        "ax[2].scatter(lats, longitudes)\n",
        "\n",
        "fig.suptitle('Longitudes and lattitudes')\n",
        "\n",
        "pep8(_ih)"
      ],
      "metadata": {
        "id": "5LYDRliWvp3B",
        "outputId": "e52ba667-8579-4363-fd2f-2df7153222c4",
        "colab": {
          "base_uri": "https://localhost:8080/",
          "height": 311
        }
      },
      "execution_count": 14,
      "outputs": [
        {
          "output_type": "stream",
          "name": "stdout",
          "text": [
            "\n"
          ]
        },
        {
          "output_type": "display_data",
          "data": {
            "text/plain": [
              "<Figure size 720x288 with 3 Axes>"
            ],
            "image/png": "[encoded data removed]"
          },
          "metadata": {
            "needs_background": "light"
          }
        }
      ]
    },
    {
      "cell_type": "markdown",
      "source": [
        "#### Adding longitude and lattitude features"
      ],
      "metadata": {
        "id": "xBruFSlHtMY-"
      }
    },
    {
      "cell_type": "code",
      "source": [
        "def add_longitude(city):\n",
        "    val = longitudes_lattitudes.get(city, None)\n",
        "    if val is not None:\n",
        "        return val[0]\n",
        "\n",
        "\n",
        "def add_lattitude(city):\n",
        "    pair = longitudes_lattitudes.get(city, None)\n",
        "    if pair is not None:\n",
        "        return pair[1]\n",
        "\n",
        "\n",
        "exploration_df['longitude'] = exploration_df['City'].apply(\n",
        "    lambda city: add_longitude(city)\n",
        ")\n",
        "\n",
        "exploration_df['lattitude'] = exploration_df['City'].apply(\n",
        "    lambda city: add_lattitude(city)\n",
        ")\n",
        "\n",
        "pep8(_ih)"
      ],
      "metadata": {
        "colab": {
          "base_uri": "https://localhost:8080/"
        },
        "id": "_MK7J7XKtPF9",
        "outputId": "c81eabad-96d7-49cc-e1d7-febde51383ad"
      },
      "execution_count": 15,
      "outputs": [
        {
          "output_type": "stream",
          "name": "stdout",
          "text": [
            "\n"
          ]
        }
      ]
    },
    {
      "cell_type": "code",
      "source": [
        "exploration_df['lattitude'].hist(bins=5, alpha=0.5, label='lattitude')\n",
        "exploration_df['longitude'].hist(bins=5, alpha=0.5, label='longitude')\n",
        "plt.legend()"
      ],
      "metadata": {
        "colab": {
          "base_uri": "https://localhost:8080/",
          "height": 282
        },
        "id": "8kCDaltMuLIY",
        "outputId": "8a914fb6-0307-49d5-daa5-877e779d9e4c"
      },
      "execution_count": 16,
      "outputs": [
        {
          "output_type": "execute_result",
          "data": {
            "text/plain": [
              "<matplotlib.legend.Legend at 0x7f8774d27090>"
            ]
          },
          "metadata": {},
          "execution_count": 16
        },
        {
          "output_type": "display_data",
          "data": {
            "text/plain": [
              "<Figure size 432x288 with 1 Axes>"
            ],
            "image/png": "[encoded data removed]"
          },
          "metadata": {
            "needs_background": "light"
          }
        }
      ]
    },
    {
      "cell_type": "markdown",
      "source": [
        "#### Binning"
      ],
      "metadata": {
        "id": "TYQT47Lruawj"
      }
    },
    {
      "cell_type": "code",
      "source": [
        "exploration_df['lattitude_binned'] = pd.cut(\n",
        "    exploration_df['lattitude'],\n",
        "    bins=5,\n",
        "    labels=[1, 2, 3, 4, 5]\n",
        ").astype('int64')\n",
        "\n",
        "exploration_df['longitude_binned'] = pd.cut(\n",
        "    exploration_df['longitude'],\n",
        "    bins=5,\n",
        "    labels=[1, 2, 3, 4, 5]\n",
        ").astype('int64')\n",
        "\n",
        "pep8(_ih)"
      ],
      "metadata": {
        "colab": {
          "base_uri": "https://localhost:8080/"
        },
        "id": "rx_GZsxOucCg",
        "outputId": "0092fcb9-8de5-42cc-8692-331829e1ec7b"
      },
      "execution_count": 17,
      "outputs": [
        {
          "output_type": "stream",
          "name": "stdout",
          "text": [
            "\n"
          ]
        }
      ]
    },
    {
      "cell_type": "code",
      "source": [
        "exploration_df['longitude_binned'].hist(alpha=0.5, label='long')\n",
        "exploration_df['lattitude_binned'].hist(alpha=0.5, label='lats')\n",
        "plt.legend()"
      ],
      "metadata": {
        "colab": {
          "base_uri": "https://localhost:8080/",
          "height": 282
        },
        "id": "HxO0eSzCzCdp",
        "outputId": "e880f4c4-2c5a-4520-99ae-aae5c2787d13"
      },
      "execution_count": 18,
      "outputs": [
        {
          "output_type": "execute_result",
          "data": {
            "text/plain": [
              "<matplotlib.legend.Legend at 0x7f8774c48050>"
            ]
          },
          "metadata": {},
          "execution_count": 18
        },
        {
          "output_type": "display_data",
          "data": {
            "text/plain": [
              "<Figure size 432x288 with 1 Axes>"
            ],
            "image/png": "[encoded data removed]"
          },
          "metadata": {
            "needs_background": "light"
          }
        }
      ]
    },
    {
      "cell_type": "code",
      "source": [
        "# Now we need to transfer it into one-hot vectors\n",
        "get_correlated_attributes(exploration_df, 'revenue', 0.1)"
      ],
      "metadata": {
        "colab": {
          "base_uri": "https://localhost:8080/"
        },
        "id": "Bwr0VLuVzH6h",
        "outputId": "012b7dcd-349a-4fde-cde0-8155cd920fb8"
      },
      "execution_count": 19,
      "outputs": [
        {
          "output_type": "execute_result",
          "data": {
            "text/plain": [
              "revenue             1.000000\n",
              "P2                  0.191189\n",
              "lattitude_binned    0.159036\n",
              "lattitude           0.151199\n",
              "P28                 0.150818\n",
              "P6                  0.136381\n",
              "P17                 0.133384\n",
              "P13                -0.126957\n",
              "P29                -0.127254\n",
              "longitude          -0.195660\n",
              "longitude_binned   -0.243286\n",
              "Name: revenue, dtype: float64"
            ]
          },
          "metadata": {},
          "execution_count": 19
        }
      ]
    },
    {
      "cell_type": "code",
      "source": [
        "from sklearn.preprocessing import OneHotEncoder\n",
        "\n",
        "lattitude_encoder = OneHotEncoder()\n",
        "longitude_encoder = OneHotEncoder()\n",
        "\n",
        "lattitude_encoder.fit(exploration_df[['lattitude_binned']])\n",
        "longitude_encoder.fit(exploration_df[['longitude_binned']])\n",
        "\n",
        "\n",
        "pep8(_ih)"
      ],
      "metadata": {
        "colab": {
          "base_uri": "https://localhost:8080/"
        },
        "id": "xOYOxFcgz8rI",
        "outputId": "46b55365-a4e2-44d6-af6e-30228a163f87"
      },
      "execution_count": 20,
      "outputs": [
        {
          "output_type": "stream",
          "name": "stdout",
          "text": [
            "\n"
          ]
        }
      ]
    },
    {
      "cell_type": "code",
      "source": [
        "lats_bins_one_hot = lattitude_encoder.fit_transform(\n",
        "    exploration_df[['lattitude_binned']]\n",
        ").toarray()\n",
        "\n",
        "longs_bins_one_hot = longitude_encoder.fit_transform(\n",
        "    exploration_df[['longitude_binned']]\n",
        ").toarray()"
      ],
      "metadata": {
        "id": "fAGILSh20jFY"
      },
      "execution_count": 21,
      "outputs": []
    },
    {
      "cell_type": "code",
      "source": [
        "lats_bins_one_hot.shape"
      ],
      "metadata": {
        "colab": {
          "base_uri": "https://localhost:8080/"
        },
        "id": "2Kd4aGC11o9r",
        "outputId": "76ebeee7-c78e-4d1f-b6f6-29a35b585e3c"
      },
      "execution_count": 22,
      "outputs": [
        {
          "output_type": "execute_result",
          "data": {
            "text/plain": [
              "(116, 5)"
            ]
          },
          "metadata": {},
          "execution_count": 22
        }
      ]
    },
    {
      "cell_type": "code",
      "source": [
        "print(lats_bins_one_hot[:3])\n",
        "print(longs_bins_one_hot[:3])"
      ],
      "metadata": {
        "colab": {
          "base_uri": "https://localhost:8080/"
        },
        "id": "x3ll9TjZ1q0A",
        "outputId": "b992db77-4ed4-4793-ce95-d6e95dce2103"
      },
      "execution_count": 23,
      "outputs": [
        {
          "output_type": "stream",
          "name": "stdout",
          "text": [
            "[[1. 0. 0. 0. 0.]\n",
            " [0. 0. 0. 1. 0.]\n",
            " [0. 0. 0. 1. 0.]]\n",
            "[[0. 0. 0. 1. 0.]\n",
            " [0. 0. 1. 0. 0.]\n",
            " [0. 0. 1. 0. 0.]]\n"
          ]
        }
      ]
    },
    {
      "cell_type": "markdown",
      "source": [
        "#### Feature crossing one-hot vectors"
      ],
      "metadata": {
        "id": "Ob_DKBVK3NyO"
      }
    },
    {
      "cell_type": "code",
      "source": [
        "feature_crosses = np.array(\n",
        "    [\n",
        "        np.outer(lat_onehot, long_onehot).flatten()\n",
        "        for lat_onehot, long_onehot in\n",
        "        zip(lats_bins_one_hot, longs_bins_one_hot)\n",
        "    ]\n",
        ")\n",
        "\n",
        "pep8(_ih)"
      ],
      "metadata": {
        "colab": {
          "base_uri": "https://localhost:8080/"
        },
        "id": "D4H48_tg3QaO",
        "outputId": "a962f784-c8a0-452b-9246-10a7e33bcf70"
      },
      "execution_count": 24,
      "outputs": [
        {
          "output_type": "stream",
          "name": "stdout",
          "text": [
            "\n"
          ]
        }
      ]
    },
    {
      "cell_type": "code",
      "source": [
        "print(feature_crosses.shape)\n",
        "feature_crosses[:, 0].shape"
      ],
      "metadata": {
        "colab": {
          "base_uri": "https://localhost:8080/"
        },
        "id": "2SGGBD-g3jGU",
        "outputId": "8a8f30b4-f97c-4fba-8a5b-f53c527e5ae8"
      },
      "execution_count": 25,
      "outputs": [
        {
          "output_type": "stream",
          "name": "stdout",
          "text": [
            "(116, 25)\n"
          ]
        },
        {
          "output_type": "execute_result",
          "data": {
            "text/plain": [
              "(116,)"
            ]
          },
          "metadata": {},
          "execution_count": 25
        }
      ]
    },
    {
      "cell_type": "code",
      "source": [
        "for i in range(feature_crosses.shape[1]):\n",
        "    exploration_df[f'cross_{i}'] = feature_crosses[:, i]"
      ],
      "metadata": {
        "id": "t6ROZuxx3ydO"
      },
      "execution_count": 26,
      "outputs": []
    },
    {
      "cell_type": "code",
      "source": [
        "get_correlated_attributes(exploration_df, 'revenue', 0.09)"
      ],
      "metadata": {
        "colab": {
          "base_uri": "https://localhost:8080/"
        },
        "id": "Iu7bouPq4CIV",
        "outputId": "589195a9-2892-4ea3-8c2d-c1042cfcc2eb"
      },
      "execution_count": 27,
      "outputs": [
        {
          "output_type": "execute_result",
          "data": {
            "text/plain": [
              "revenue             1.000000\n",
              "cross_20            0.328622\n",
              "P2                  0.191189\n",
              "lattitude_binned    0.159036\n",
              "lattitude           0.151199\n",
              "P28                 0.150818\n",
              "P6                  0.136381\n",
              "P17                 0.133384\n",
              "P22                 0.099139\n",
              "P21                 0.094685\n",
              "cross_23           -0.102220\n",
              "P13                -0.126957\n",
              "P29                -0.127254\n",
              "cross_17           -0.171979\n",
              "longitude          -0.195660\n",
              "longitude_binned   -0.243286\n",
              "Name: revenue, dtype: float64"
            ]
          },
          "metadata": {},
          "execution_count": 27
        }
      ]
    },
    {
      "cell_type": "code",
      "source": [
        "exploration_df.columns"
      ],
      "metadata": {
        "colab": {
          "base_uri": "https://localhost:8080/"
        },
        "id": "KwkhOOoN4hrI",
        "outputId": "a2475d5d-5163-45fd-d57a-5b797ad3aca9"
      },
      "execution_count": 28,
      "outputs": [
        {
          "output_type": "execute_result",
          "data": {
            "text/plain": [
              "Index(['Open Date', 'City', 'City Group', 'Type', 'P1', 'P2', 'P3', 'P4', 'P5',\n",
              "       'P6', 'P7', 'P8', 'P9', 'P10', 'P11', 'P12', 'P13', 'P14', 'P15', 'P16',\n",
              "       'P17', 'P18', 'P19', 'P20', 'P21', 'P22', 'P23', 'P24', 'P25', 'P26',\n",
              "       'P27', 'P28', 'P29', 'P30', 'P31', 'P32', 'P33', 'P34', 'P35', 'P36',\n",
              "       'P37', 'revenue', 'longitude', 'lattitude', 'lattitude_binned',\n",
              "       'longitude_binned', 'cross_0', 'cross_1', 'cross_2', 'cross_3',\n",
              "       'cross_4', 'cross_5', 'cross_6', 'cross_7', 'cross_8', 'cross_9',\n",
              "       'cross_10', 'cross_11', 'cross_12', 'cross_13', 'cross_14', 'cross_15',\n",
              "       'cross_16', 'cross_17', 'cross_18', 'cross_19', 'cross_20', 'cross_21',\n",
              "       'cross_22', 'cross_23', 'cross_24'],\n",
              "      dtype='object')"
            ]
          },
          "metadata": {},
          "execution_count": 28
        }
      ]
    },
    {
      "cell_type": "code",
      "source": [
        "from sklearn_utils import boxplot_regression\n",
        "\n",
        "boxplot_regression(exploration_df, 'cross_20', 'revenue')\n",
        "boxplot_regression(exploration_df, 'cross_23', 'revenue')\n",
        "boxplot_regression(exploration_df, 'cross_17', 'revenue')"
      ],
      "metadata": {
        "colab": {
          "base_uri": "https://localhost:8080/",
          "height": 815
        },
        "id": "McRWxYXR4Q1T",
        "outputId": "cfbdcbdd-d34b-486f-fbb2-4ea2df1090f7"
      },
      "execution_count": 29,
      "outputs": [
        {
          "output_type": "display_data",
          "data": {
            "text/plain": [
              "<Figure size 1080x360 with 2 Axes>"
            ],
            "image/png": "[encoded data removed]"
          },
          "metadata": {
            "needs_background": "light"
          }
        },
        {
          "output_type": "display_data",
          "data": {
            "text/plain": [
              "<Figure size 1080x360 with 2 Axes>"
            ],
            "image/png": "[encoded data removed]"
          },
          "metadata": {
            "needs_background": "light"
          }
        },
        {
          "output_type": "display_data",
          "data": {
            "text/plain": [
              "<Figure size 1080x360 with 2 Axes>"
            ],
            "image/png": "[encoded data removed]"
          },
          "metadata": {
            "needs_background": "light"
          }
        }
      ]
    },
    {
      "cell_type": "markdown",
      "source": [
        "### Population"
      ],
      "metadata": {
        "id": "iE2P82IzUJGk"
      }
    },
    {
      "cell_type": "code",
      "source": [
        "def write_population(city):\n",
        "    populations = {\n",
        "        'Gaziantep': 2069000,\n",
        "        'Ankara': 5663000,\n",
        "        'İstanbul': 15460000,\n",
        "        'İzmir'  : 4367000,\n",
        "        'Kocaeli'  : 2033441,\n",
        "        'Osmaniye'  : 219339,\n",
        "        'Kastamonu'  : 128537,\n",
        "        'Eskişehir'  : 887475,\n",
        "        'Denizli'  : 1028000,\n",
        "        'Balıkesir'  : 1229000,\n",
        "        'Sakarya'  : 567000,\n",
        "        'Tekirdağ'  : 204001,\n",
        "        'Bursa'  : 2055000,\n",
        "        'Kayseri'  : 1062000,\n",
        "        'Muğla'  : 1000773,\n",
        "        'Edirne'  : 165979,\n",
        "        'Samsun'  : 605319,\n",
        "        'Karabük'  : 248014,\n",
        "        'Adana'  : 1769000,\n",
        "        'Afyonkarahisar'  : 744179,\n",
        "        'Tokat'  : 612646,\n",
        "        'Amasya'  : 91874,\n",
        "        'Diyarbakır'   : 1783000,\n",
        "        'Kütahya'  : 248054,\n",
        "        'Antalya'   : 1319000,\n",
        "        'Aydın'   : 1134031,\n",
        "        'Şanlıurfa'  : 2031000,\n",
        "        'Kırklareli'  : 88956,\n",
        "        'Isparta'   : 198385,\n",
        "        'Uşak'  :  500000,\n",
        "        'Elazığ'  : 541258\n",
        "    }\n",
        "    \n",
        "    \n",
        "    assert city in populations.keys()\n",
        "    return populations[city]\n",
        "\n",
        "exploration_df['population'] = exploration_df['City'].apply(\n",
        "    lambda row: write_population(row))"
      ],
      "metadata": {
        "id": "wBQFEyUMWByD"
      },
      "execution_count": null,
      "outputs": []
    },
    {
      "cell_type": "code",
      "source": [
        "get_correlated_attributes(exploration_df, 'revenue', 0.12)"
      ],
      "metadata": {
        "colab": {
          "base_uri": "https://localhost:8080/"
        },
        "id": "L52GpPADPSvA",
        "outputId": "c34b423b-d4e5-41ae-8a40-c30aa1c93a2d"
      },
      "execution_count": null,
      "outputs": [
        {
          "output_type": "execute_result",
          "data": {
            "text/plain": [
              "revenue             1.000000\n",
              "population          0.363098\n",
              "cross_20            0.328622\n",
              "BusinessPeriod      0.320551\n",
              "P2                  0.191189\n",
              "lattitude_binned    0.159036\n",
              "lattitude           0.151199\n",
              "P28                 0.150818\n",
              "P6                  0.136381\n",
              "P17                 0.133384\n",
              "P13                -0.126957\n",
              "P29                -0.127254\n",
              "cross_17           -0.171979\n",
              "longitude          -0.195660\n",
              "longitude_binned   -0.243286\n",
              "open_year          -0.318152\n",
              "Name: revenue, dtype: float64"
            ]
          },
          "metadata": {},
          "execution_count": 227
        }
      ]
    },
    {
      "cell_type": "code",
      "source": [
        "plt.scatter(\n",
        "    exploration_df['BusinessPeriod'],\n",
        "    exploration_df['open_year']\n",
        ")\n",
        "exploration_df.loc[:, ['BusinessPeriod', 'open_year']].corr()"
      ],
      "metadata": {
        "colab": {
          "base_uri": "https://localhost:8080/"
        },
        "id": "Fe_n1FhIrfrA",
        "outputId": "0fc2af47-950b-47ef-a51c-b8afeb769450"
      },
      "execution_count": null,
      "outputs": [
        {
          "output_type": "execute_result",
          "data": {
            "text/plain": [
              "                BusinessPeriod  open_year\n",
              "BusinessPeriod        1.000000  -0.997234\n",
              "open_year            -0.997234   1.000000"
            ],
            "text/html": [
              "\n",
              "  <div id=\"df-9283a48e-2ce7-4363-a54b-59958dcd7295\">\n",
              "    <div class=\"colab-df-container\">\n",
              "      <div>\n",
              "<style scoped>\n",
              "    .dataframe tbody tr th:only-of-type {\n",
              "        vertical-align: middle;\n",
              "    }\n",
              "\n",
              "    .dataframe tbody tr th {\n",
              "        vertical-align: top;\n",
              "    }\n",
              "\n",
              "    .dataframe thead th {\n",
              "        text-align: right;\n",
              "    }\n",
              "</style>\n",
              "<table border=\"1\" class=\"dataframe\">\n",
              "  <thead>\n",
              "    <tr style=\"text-align: right;\">\n",
              "      <th></th>\n",
              "      <th>BusinessPeriod</th>\n",
              "      <th>open_year</th>\n",
              "    </tr>\n",
              "  </thead>\n",
              "  <tbody>\n",
              "    <tr>\n",
              "      <th>BusinessPeriod</th>\n",
              "      <td>1.000000</td>\n",
              "      <td>-0.997234</td>\n",
              "    </tr>\n",
              "    <tr>\n",
              "      <th>open_year</th>\n",
              "      <td>-0.997234</td>\n",
              "      <td>1.000000</td>\n",
              "    </tr>\n",
              "  </tbody>\n",
              "</table>\n",
              "</div>\n",
              "      <button class=\"colab-df-convert\" onclick=\"convertToInteractive('df-9283a48e-2ce7-4363-a54b-59958dcd7295')\"\n",
              "              title=\"Convert this dataframe to an interactive table.\"\n",
              "              style=\"display:none;\">\n",
              "        \n",
              "  <svg xmlns=\"http://www.w3.org/2000/svg\" height=\"24px\"viewBox=\"0 0 24 24\"\n",
              "       width=\"24px\">\n",
              "    <path d=\"M0 0h24v24H0V0z\" fill=\"none\"/>\n",
              "    <path d=\"M18.56 5.44l.94 2.06.94-2.06 2.06-.94-2.06-.94-.94-2.06-.94 2.06-2.06.94zm-11 1L8.5 8.5l.94-2.06 2.06-.94-2.06-.94L8.5 2.5l-.94 2.06-2.06.94zm10 10l.94 2.06.94-2.06 2.06-.94-2.06-.94-.94-2.06-.94 2.06-2.06.94z\"/><path d=\"M17.41 7.96l-1.37-1.37c-.4-.4-.92-.59-1.43-.59-.52 0-1.04.2-1.43.59L10.3 9.45l-7.72 7.72c-.78.78-.78 2.05 0 2.83L4 21.41c.39.39.9.59 1.41.59.51 0 1.02-.2 1.41-.59l7.78-7.78 2.81-2.81c.8-.78.8-2.07 0-2.86zM5.41 20L4 18.59l7.72-7.72 1.47 1.35L5.41 20z\"/>\n",
              "  </svg>\n",
              "      </button>\n",
              "      \n",
              "  <style>\n",
              "    .colab-df-container {\n",
              "      display:flex;\n",
              "      flex-wrap:wrap;\n",
              "      gap: 12px;\n",
              "    }\n",
              "\n",
              "    .colab-df-convert {\n",
              "      background-color: #E8F0FE;\n",
              "      border: none;\n",
              "      border-radius: 50%;\n",
              "      cursor: pointer;\n",
              "      display: none;\n",
              "      fill: #1967D2;\n",
              "      height: 32px;\n",
              "      padding: 0 0 0 0;\n",
              "      width: 32px;\n",
              "    }\n",
              "\n",
              "    .colab-df-convert:hover {\n",
              "      background-color: #E2EBFA;\n",
              "      box-shadow: 0px 1px 2px rgba(60, 64, 67, 0.3), 0px 1px 3px 1px rgba(60, 64, 67, 0.15);\n",
              "      fill: #174EA6;\n",
              "    }\n",
              "\n",
              "    [theme=dark] .colab-df-convert {\n",
              "      background-color: #3B4455;\n",
              "      fill: #D2E3FC;\n",
              "    }\n",
              "\n",
              "    [theme=dark] .colab-df-convert:hover {\n",
              "      background-color: #434B5C;\n",
              "      box-shadow: 0px 1px 3px 1px rgba(0, 0, 0, 0.15);\n",
              "      filter: drop-shadow(0px 1px 2px rgba(0, 0, 0, 0.3));\n",
              "      fill: #FFFFFF;\n",
              "    }\n",
              "  </style>\n",
              "\n",
              "      <script>\n",
              "        const buttonEl =\n",
              "          document.querySelector('#df-9283a48e-2ce7-4363-a54b-59958dcd7295 button.colab-df-convert');\n",
              "        buttonEl.style.display =\n",
              "          google.colab.kernel.accessAllowed ? 'block' : 'none';\n",
              "\n",
              "        async function convertToInteractive(key) {\n",
              "          const element = document.querySelector('#df-9283a48e-2ce7-4363-a54b-59958dcd7295');\n",
              "          const dataTable =\n",
              "            await google.colab.kernel.invokeFunction('convertToInteractive',\n",
              "                                                     [key], {});\n",
              "          if (!dataTable) return;\n",
              "\n",
              "          const docLinkHtml = 'Like what you see? Visit the ' +\n",
              "            '<a target=\"_blank\" href=https://colab.research.google.com/notebooks/data_table.ipynb>data table notebook</a>'\n",
              "            + ' to learn more about interactive tables.';\n",
              "          element.innerHTML = '';\n",
              "          dataTable['output_type'] = 'display_data';\n",
              "          await google.colab.output.renderOutput(dataTable, element);\n",
              "          const docLink = document.createElement('div');\n",
              "          docLink.innerHTML = docLinkHtml;\n",
              "          element.appendChild(docLink);\n",
              "        }\n",
              "      </script>\n",
              "    </div>\n",
              "  </div>\n",
              "  "
            ]
          },
          "metadata": {},
          "execution_count": 228
        },
        {
          "output_type": "display_data",
          "data": {
            "text/plain": [
              "<Figure size 432x288 with 1 Axes>"
            ],
            "image/png": "[encoded data removed]"
          },
          "metadata": {
            "needs_background": "light"
          }
        }
      ]
    },
    {
      "cell_type": "code",
      "source": [
        "_ = exploration_df.hist(figsize=(15, 15))"
      ],
      "metadata": {
        "id": "tp0422fxmjQC",
        "outputId": "1041b78d-5a16-4445-865b-db9328ad88d9",
        "colab": {
          "base_uri": "https://localhost:8080/"
        }
      },
      "execution_count": null,
      "outputs": [
        {
          "output_type": "display_data",
          "data": {
            "text/plain": [
              "<Figure size 1080x1080 with 72 Axes>"
            ],
            "image/png": "[encoded data removed]"
          },
          "metadata": {
            "needs_background": "light"
          }
        }
      ]
    },
    {
      "cell_type": "markdown",
      "source": [
        "### City area"
      ],
      "metadata": {
        "id": "i-BwfprQVXqH"
      }
    },
    {
      "cell_type": "code",
      "source": [
        "def write_area(city):\n",
        "    # in km2\n",
        "    # urban area\n",
        "    areas = {\n",
        "        'Gaziantep': 6819,\n",
        "        'Ankara': 2516,\n",
        "        'İstanbul': 5343,\n",
        "        'İzmir': 3159,\n",
        "        'Kocaeli': 3626,\n",
        "        'Osmaniye': 746,\n",
        "        'Kastamonu': 1834,\n",
        "        'Eskişehir': 2678,\n",
        "        'Denizli': 798,\n",
        "        'Balıkesir': 1453.97,\n",
        "        'Sakarya': 4821,\n",
        "        'Tekirdağ': 1111.53,\n",
        "        'Bursa': 1036,\n",
        "        'Kayseri': 6430,\n",
        "        'Muğla': 1582,\n",
        "        'Edirne': 844,\n",
        "        'Samsun': 1055,\n",
        "        'Karabük': 760,\n",
        "        'Adana': 2280,\n",
        "        'Afyonkarahisar': 14.23,\n",
        "        'Tokat': 9.958,\n",
        "        'Amasya': 1729.69,\n",
        "        'Diyarbakır': 15355,\n",
        "        'Kütahya': 2484.16,\n",
        "        'Antalya': 1417,\n",
        "        'Aydın': 627.2,\n",
        "        'Şanlıurfa': 18584,\n",
        "        'Kırklareli': 6550,\n",
        "        'Isparta': 8993,\n",
        "        'Uşak':  5341,\n",
        "        'Elazığ': 2211.07,\n",
        "            \n",
        "        'Bolu': 1524.37,\n",
        "        'Konya': 6600,\n",
        "        'Trabzon': 188.85,\n",
        "        'Niğde': 2302.99,\n",
        "        'Aksaray': 4589,\n",
        "        'Artvin': 1084.74,\n",
        "        'Batman': 563.59,\n",
        "        'Bilecik': 840.47,\n",
        "        'Düzce': 739.13,\n",
        "        'Erzincan': 1622.08,\n",
        "        'Erzurum': None,\n",
        "        'Giresun': 317,\n",
        "        'Hatay': 5524,\n",
        "        'Kahramanmaraş': None,\n",
        "        'Kars': 1804,\n",
        "        'Kırıkkale': 318.07,\n",
        "        'Kırşehir': 1677.67,\n",
        "        'Malatya': 822.16,\n",
        "        'Manisa': 13339,\n",
        "        'Mardin': 8891,\n",
        "        'Mersin': 1590,\n",
        "        'Nevşehir': 535,\n",
        "        'Ordu': 586,\n",
        "        'Rize': 250.14,\n",
        "        'Siirt': 284,\n",
        "        'Sivas': 2768,\n",
        "        'Tanımsız': None,  # ??? not in google\n",
        "        'Yalova': 166.85,\n",
        "        'Zonguldak': 632.98,\n",
        "        'Çanakkale': 937.82,\n",
        "        'Çankırı': 1347.05,\n",
        "        'Çorum': 2276.81\n",
        "    }\n",
        "    \n",
        "    assert city in areas.keys()\n",
        "    return areas[city]\n"
      ],
      "metadata": {
        "id": "Dkw1CqelVZhu"
      },
      "execution_count": null,
      "outputs": []
    },
    {
      "cell_type": "code",
      "source": [
        "# exploration_df['population'] = exploration_df['City'].apply(\n",
        "#     lambda row: write_population(row))\n",
        "\n",
        "exploration_df['City area'] = exploration_df['City'].apply(\n",
        "    lambda row: write_area(row)\n",
        ")"
      ],
      "metadata": {
        "id": "nJML74QJZRDV"
      },
      "execution_count": null,
      "outputs": []
    },
    {
      "cell_type": "code",
      "source": [
        "corr_series = get_correlated_attributes(exploration_df, 'revenue', 0.09)\n",
        "plt.bar(\n",
        "    # np.arange(len(corr_series.values)), \n",
        "    corr_series.index,\n",
        "    corr_series.values\n",
        ")\n",
        "print(corr_series)"
      ],
      "metadata": {
        "colab": {
          "base_uri": "https://localhost:8080/"
        },
        "id": "zMmQ-32tagWC",
        "outputId": "1d07b7fd-912d-41b4-9c89-1184b35f5b02"
      },
      "execution_count": null,
      "outputs": [
        {
          "output_type": "stream",
          "name": "stdout",
          "text": [
            "revenue             1.000000\n",
            "population          0.363098\n",
            "cross_20            0.328622\n",
            "BusinessPeriod      0.320551\n",
            "P2                  0.191189\n",
            "lattitude_binned    0.159036\n",
            "lattitude           0.151199\n",
            "P28                 0.150818\n",
            "P6                  0.136381\n",
            "P17                 0.133384\n",
            "City area           0.122537\n",
            "P22                 0.099139\n",
            "P21                 0.094685\n",
            "cross_23           -0.102220\n",
            "P13                -0.126957\n",
            "P29                -0.127254\n",
            "cross_17           -0.171979\n",
            "longitude          -0.195660\n",
            "longitude_binned   -0.243286\n",
            "open_year          -0.318152\n",
            "Name: revenue, dtype: float64\n"
          ]
        },
        {
          "output_type": "display_data",
          "data": {
            "text/plain": [
              "<Figure size 432x288 with 1 Axes>"
            ],
            "image/png": "[encoded data removed]"
          },
          "metadata": {
            "needs_background": "light"
          }
        }
      ]
    },
    {
      "cell_type": "markdown",
      "source": [
        "# 7. Data preparation"
      ],
      "metadata": {
        "id": "ErodorX2bCKf"
      }
    },
    {
      "cell_type": "markdown",
      "source": [
        "## Check missing and infinite values"
      ],
      "metadata": {
        "id": "g1eubvdJbee5"
      }
    },
    {
      "cell_type": "code",
      "source": [
        "nan_statistics(train_val_sample), nan_statistics(test_sample)"
      ],
      "metadata": {
        "colab": {
          "base_uri": "https://localhost:8080/"
        },
        "id": "HC6ezs-ucWkC",
        "outputId": "ef24ba4b-e218-4364-bfb2-75e2017b430d"
      },
      "execution_count": 118,
      "outputs": [
        {
          "output_type": "stream",
          "name": "stdout",
          "text": [
            "Col -- Nan percentage\n",
            "Col -- Nan percentage\n"
          ]
        },
        {
          "output_type": "execute_result",
          "data": {
            "text/plain": [
              "({}, {})"
            ]
          },
          "metadata": {},
          "execution_count": 118
        }
      ]
    },
    {
      "cell_type": "markdown",
      "source": [
        "## Text and categorical attributes"
      ],
      "metadata": {
        "id": "lXvjISfxc0_5"
      }
    },
    {
      "cell_type": "code",
      "source": [
        "def get_categorical_columns(df_):\n",
        "    return df_.dtypes[df_.dtypes == 'object']\n",
        "\n",
        "cat_columns = get_categorical_columns(train_val_sample)\n",
        "cat_columns"
      ],
      "metadata": {
        "colab": {
          "base_uri": "https://localhost:8080/"
        },
        "id": "Qt2KDyq8ctLZ",
        "outputId": "8b96d2a7-bb07-4b57-8601-ab8d0016a080"
      },
      "execution_count": 119,
      "outputs": [
        {
          "output_type": "execute_result",
          "data": {
            "text/plain": [
              "Open Date     object\n",
              "City          object\n",
              "City Group    object\n",
              "Type          object\n",
              "dtype: object"
            ]
          },
          "metadata": {},
          "execution_count": 119
        }
      ]
    },
    {
      "cell_type": "code",
      "source": [
        "train_val_sample['City Group'].value_counts()"
      ],
      "metadata": {
        "colab": {
          "base_uri": "https://localhost:8080/"
        },
        "id": "soxX-iMikkAJ",
        "outputId": "8e89b37b-1ac8-4c77-a366-b7235738c613"
      },
      "execution_count": 120,
      "outputs": [
        {
          "output_type": "execute_result",
          "data": {
            "text/plain": [
              "Big Cities    67\n",
              "Other         49\n",
              "Name: City Group, dtype: int64"
            ]
          },
          "metadata": {},
          "execution_count": 120
        }
      ]
    },
    {
      "cell_type": "markdown",
      "source": [
        "### City Group\n"
      ],
      "metadata": {
        "id": "R7fLx1WzkfCJ"
      }
    },
    {
      "cell_type": "code",
      "source": [
        "# Apply ordinal encoding. \n",
        "# Such that big cities were ranked higher, than other\n",
        "# areas.\n",
        "\n",
        "enc = OrdinalEncoder(categories = [['Other', 'Big Cities']])\n",
        "enc.fit(train_val_sample[['City Group']])"
      ],
      "metadata": {
        "colab": {
          "base_uri": "https://localhost:8080/"
        },
        "id": "nYv7lXQOkpXG",
        "outputId": "fa37bac1-a877-4ccd-df19-2aa90bcff773"
      },
      "execution_count": 121,
      "outputs": [
        {
          "output_type": "execute_result",
          "data": {
            "text/plain": [
              "OrdinalEncoder(categories=[['Other', 'Big Cities']])"
            ]
          },
          "metadata": {},
          "execution_count": 121
        }
      ]
    },
    {
      "cell_type": "markdown",
      "source": [
        "### Type (of restaurant)"
      ],
      "metadata": {
        "id": "__8aUBKNmLdV"
      }
    },
    {
      "cell_type": "code",
      "source": [
        "one_hot_enc = OneHotEncoder()\n",
        "one_hot_enc.fit(train_val_sample[['Type']])"
      ],
      "metadata": {
        "colab": {
          "base_uri": "https://localhost:8080/"
        },
        "id": "OfHviIRomaJf",
        "outputId": "ea496701-b3c5-4a12-f978-0454c7e158d2"
      },
      "execution_count": 122,
      "outputs": [
        {
          "output_type": "execute_result",
          "data": {
            "text/plain": [
              "OneHotEncoder()"
            ]
          },
          "metadata": {},
          "execution_count": 122
        }
      ]
    },
    {
      "cell_type": "code",
      "source": [
        "res = one_hot_enc.transform(train_val_sample[['Type']])\n",
        "res"
      ],
      "metadata": {
        "colab": {
          "base_uri": "https://localhost:8080/"
        },
        "id": "_c6oOh5imPxL",
        "outputId": "cd8ec52a-98e4-427f-8046-8143f6a5f68a"
      },
      "execution_count": 123,
      "outputs": [
        {
          "output_type": "execute_result",
          "data": {
            "text/plain": [
              "<116x3 sparse matrix of type '<class 'numpy.float64'>'\n",
              "\twith 116 stored elements in Compressed Sparse Row format>"
            ]
          },
          "metadata": {},
          "execution_count": 123
        }
      ]
    },
    {
      "cell_type": "markdown",
      "source": [
        "### City "
      ],
      "metadata": {
        "id": "EGIqyswQnWLf"
      }
    },
    {
      "cell_type": "markdown",
      "source": [
        "- Dropping that column"
      ],
      "metadata": {
        "id": "T3h0JeuKnXXM"
      }
    },
    {
      "cell_type": "code",
      "source": [
        "dropper = ColumnDropper(\n",
        "    columns_to_drop = ['City']\n",
        ")\n",
        "\n",
        "res = dropper.fit_transform(train_val_sample)\n",
        "assert not 'City' in res.columns\n",
        "assert 'City' in train_val_sample.columns"
      ],
      "metadata": {
        "id": "pALCgGBK3aYI"
      },
      "execution_count": 124,
      "outputs": []
    },
    {
      "cell_type": "markdown",
      "source": [
        "# Engineer new features"
      ],
      "metadata": {
        "id": "UYcMI4j8nWaW"
      }
    },
    {
      "cell_type": "markdown",
      "source": [
        "### Area, population, opening year"
      ],
      "metadata": {
        "id": "UXyISrCU7eAO"
      }
    },
    {
      "cell_type": "code",
      "source": [
        "from sklearn.base import TransformerMixin, BaseEstimator\n",
        "\n",
        "\n",
        "class PopulationAdder(BaseEstimator, TransformerMixin):\n",
        "    def __init__(self):\n",
        "        super().__init__()\n",
        "        self.populations = {\n",
        "            'Gaziantep': 2069000,\n",
        "            'Ankara': 5663000,\n",
        "            'İstanbul': 15460000,\n",
        "            'İzmir': 4367000,\n",
        "            'Kocaeli': 2033441,\n",
        "            'Osmaniye': 219339,\n",
        "            'Kastamonu': 128537,\n",
        "            'Eskişehir': 887475,\n",
        "            'Denizli': 1028000,\n",
        "            'Balıkesir': 1229000,\n",
        "            'Sakarya': 567000,\n",
        "            'Tekirdağ': 204001,\n",
        "            'Bursa': 2055000,\n",
        "            'Kayseri': 1062000,\n",
        "            'Muğla': 1000773,\n",
        "            'Edirne': 165979,\n",
        "            'Samsun': 605319,\n",
        "            'Karabük': 248014,\n",
        "            'Adana': 1769000,\n",
        "            'Afyonkarahisar': 744179,\n",
        "            'Tokat': 612646,\n",
        "            'Amasya': 91874,\n",
        "            'Diyarbakır': 1783000,\n",
        "            'Kütahya': 248054,\n",
        "            'Antalya': 1319000,\n",
        "            'Aydın': 1134031,\n",
        "            'Şanlıurfa': 2031000,\n",
        "            'Kırklareli': 88956,\n",
        "            'Isparta': 198385,\n",
        "            'Uşak':  500000,\n",
        "            'Elazığ': 541258,\n",
        "            'Bolu': 131264,\n",
        "            'Konya': 2161000,\n",
        "            'Trabzon': 312060,\n",
        "            'Niğde': 341412,\n",
        "            'Aksaray': 416317,\n",
        "            'Artvin': 25771,\n",
        "            'Batman': 348963,\n",
        "            'Bilecik': 64531,\n",
        "            'Düzce': 135557,\n",
        "            'Erzincan': 236034,\n",
        "            'Erzurum': 767848,\n",
        "            'Giresun': 100712,\n",
        "            'Hatay': 1670712,\n",
        "            'Kahramanmaraş': 547000,\n",
        "            'Kars': 78100,\n",
        "            'Kırıkkale': 192473,\n",
        "            'Kırşehir': 114244,\n",
        "            'Malatya': 512000,\n",
        "            'Manisa': 356702,\n",
        "            'Mardin': 809719,\n",
        "            'Mersin': 955106,\n",
        "            'Nevşehir': 303010,\n",
        "            'Ordu': 229214,\n",
        "            'Rize': 344359,\n",
        "            'Siirt': 135350,\n",
        "            'Sivas': 359219,\n",
        "            'Tanımsız': 500000,  # ??? not in google\n",
        "            'Yalova': 121479,\n",
        "            'Zonguldak': 213544,\n",
        "            'Çanakkale': 328736,\n",
        "            'Çankırı': 216362,\n",
        "            'Çorum': 237000\n",
        "        }\n",
        "        self.max_population = np.max(list(self.populations.values()))\n",
        "        self.min_population = np.min(list(self.populations.values()))\n",
        "\n",
        "    def fit(self, X, y=None):\n",
        "        return self\n",
        "\n",
        "    def write_population(self, city):\n",
        "        assert city in self.populations.keys(), print(city)\n",
        "\n",
        "        return self.populations[city]\n",
        "\n",
        "        # return (self.populations[city] - self.min_population)\\\n",
        "        #     / (self.max_population - self.min_population)\n",
        "\n",
        "    def transform(self, X, y=None):\n",
        "        transformed_df = X.copy()\n",
        "        transformed_df['population'] = X['City'].apply(\n",
        "            lambda row: self.write_population(row)\n",
        "        )\n",
        "        return transformed_df\n",
        "\n",
        "\n",
        "pep8(_ih)"
      ],
      "metadata": {
        "colab": {
          "base_uri": "https://localhost:8080/"
        },
        "id": "OahuriNGp_qL",
        "outputId": "1439164b-c84e-4315-c551-a7802b29cc70"
      },
      "execution_count": 150,
      "outputs": [
        {
          "output_type": "stream",
          "name": "stdout",
          "text": [
            "\n"
          ]
        }
      ]
    },
    {
      "cell_type": "code",
      "source": [
        "from sklearn.base import BaseEstimator, TransformerMixin\n",
        "\n",
        "class AreaAdder(BaseEstimator, TransformerMixin):\n",
        "    def __init__(self):\n",
        "        super().__init__()\n",
        "        self.areas = {\n",
        "            'Gaziantep': 6819,\n",
        "            'Ankara': 2516,\n",
        "            'İstanbul': 5343,\n",
        "            'İzmir': 3159,\n",
        "            'Kocaeli': 3626,\n",
        "            'Osmaniye': 746,\n",
        "            'Kastamonu': 1834,\n",
        "            'Eskişehir': 2678,\n",
        "            'Denizli': 798,\n",
        "            'Balıkesir': 1453.97,\n",
        "            'Sakarya': 4821,\n",
        "            'Tekirdağ': 1111.53,\n",
        "            'Bursa': 1036,\n",
        "            'Kayseri': 6430,\n",
        "            'Muğla': 1582,\n",
        "            'Edirne': 844,\n",
        "            'Samsun': 1055,\n",
        "            'Karabük': 760,\n",
        "            'Adana': 2280,\n",
        "            'Afyonkarahisar': 14.23,\n",
        "            'Tokat': 9.958,\n",
        "            'Amasya': 1729.69,\n",
        "            'Diyarbakır': 15355,\n",
        "            'Kütahya': 2484.16,\n",
        "            'Antalya': 1417,\n",
        "            'Aydın': 627.2,\n",
        "            'Şanlıurfa': 18584,\n",
        "            'Kırklareli': 6550,\n",
        "            'Isparta': 8993,\n",
        "            'Uşak':  5341,\n",
        "            'Elazığ': 2211.07,\n",
        "\n",
        "            'Bolu': 1524.37,\n",
        "            'Konya': 6600,\n",
        "            'Trabzon': 188.85,\n",
        "            'Niğde': 2302.99,\n",
        "            'Aksaray': 4589,\n",
        "            'Artvin': 1084.74,\n",
        "            'Batman': 563.59,\n",
        "            'Bilecik': 840.47,\n",
        "            'Düzce': 739.13,\n",
        "            'Erzincan': 1622.08,\n",
        "            'Erzurum': None,\n",
        "            'Giresun': 317,\n",
        "            'Hatay': 5524,\n",
        "            'Kahramanmaraş': None,\n",
        "            'Kars': 1804,\n",
        "            'Kırıkkale': 318.07,\n",
        "            'Kırşehir': 1677.67,\n",
        "            'Malatya': 822.16,\n",
        "            'Manisa': 13339,\n",
        "            'Mardin': 8891,\n",
        "            'Mersin': 1590,\n",
        "            'Nevşehir': 535,\n",
        "            'Ordu': 586,\n",
        "            'Rize': 250.14,\n",
        "            'Siirt': 284,\n",
        "            'Sivas': 2768,\n",
        "            'Tanımsız': None,  # ??? not in google\n",
        "            'Yalova': 166.85,\n",
        "            'Zonguldak': 632.98,\n",
        "            'Çanakkale': 937.82,\n",
        "            'Çankırı': 1347.05,\n",
        "            'Çorum': 2276.81\n",
        "        }\n",
        "        self.mean_area = np.mean([area for area in self.areas.values() if \\\n",
        "                                  area is not None])\n",
        "    \n",
        "    def fit(self, X, y=None):\n",
        "        return self\n",
        "    \n",
        "    def assign_area(self, city):\n",
        "        assert city in self.areas.keys()\n",
        "        \n",
        "        if self.areas[city] is None:\n",
        "            return self.mean_area\n",
        "        else:\n",
        "            return self.areas[city]\n",
        "\n",
        "    def transform(self, X, y=None):\n",
        "        transformed_df = X.copy()\n",
        "        transformed_df['city_area'] = transformed_df['City'].apply(\n",
        "            lambda city: self.assign_area(city)\n",
        "        )\n",
        "        return transformed_df"
      ],
      "metadata": {
        "id": "ck0sRPWUqP1E"
      },
      "execution_count": 151,
      "outputs": []
    },
    {
      "cell_type": "code",
      "source": [
        "from sklearn.base import BaseEstimator, TransformerMixin\n",
        "\n",
        "\n",
        "class DateTransformer(BaseEstimator, TransformerMixin):\n",
        "    def __init__(self):\n",
        "        super().__init__()\n",
        "        self._column_index = 0  # column_index\n",
        "\n",
        "    def fit(self, X, y=None):\n",
        "        return self\n",
        "\n",
        "    def get_year(self, date_):\n",
        "        return int(date_.split('/')[-1])\n",
        "\n",
        "    def transform(self, X, y=None):\n",
        "        dates = X.loc[:, 'Open Date'].values\n",
        "        numeric_years = np.array(\n",
        "            list(map(self.get_year, dates)), dtype=np.float64\n",
        "        )\n",
        "\n",
        "        res_df = X.copy()\n",
        "        res_df['Open Date'] = (numeric_years)\n",
        "        # X[:, self._column_index] = res\n",
        "        return res_df\n",
        "\n",
        "\n",
        "pep8(_ih)"
      ],
      "metadata": {
        "colab": {
          "base_uri": "https://localhost:8080/"
        },
        "id": "Hbk37P9Arik9",
        "outputId": "57f6d1cb-749f-4d6e-ac1c-a8fe474de175"
      },
      "execution_count": 152,
      "outputs": [
        {
          "output_type": "stream",
          "name": "stdout",
          "text": [
            "\n"
          ]
        }
      ]
    },
    {
      "cell_type": "code",
      "source": [
        "from sklearn.base import TransformerMixin, BaseEstimator\n",
        "\n",
        "\n",
        "class HugeAreaAndPopulationAdder(TransformerMixin, BaseEstimator):\n",
        "    def __init__(self):\n",
        "        super().__init__()\n",
        "\n",
        "    def fit(self, X, y=None):\n",
        "        return self\n",
        "    \n",
        "    def transform(self, X, y=None):\n",
        "        X_transformed = X.copy()\n",
        "\n",
        "        X_transformed['huge_population'] = np.array(\n",
        "            X_transformed['population'] > 1e7,\n",
        "            dtype=np.int64\n",
        "        )\n",
        "\n",
        "        X_transformed['huge_city_area'] = np.array(\n",
        "            X_transformed['city_area'] > 10000,\n",
        "            dtype=np.int64\n",
        "        )\n",
        "\n",
        "        return X_transformed"
      ],
      "metadata": {
        "id": "-mOGOPdI-7at"
      },
      "execution_count": 153,
      "outputs": []
    },
    {
      "cell_type": "code",
      "source": [
        "transformers = [\n",
        "    AreaAdder(),\n",
        "    PopulationAdder(),\n",
        "    DateTransformer(),\n",
        "    HugeAreaAndPopulationAdder()\n",
        "]\n",
        "\n",
        "\n",
        "for t in transformers:\n",
        "    train_val_sample = t.fit_transform(train_val_sample)\n",
        "    test_sample = t.transform(test_sample)\n",
        "    test_df = t.transform(test_df)"
      ],
      "metadata": {
        "id": "83FFFGg40lXC"
      },
      "execution_count": 154,
      "outputs": []
    },
    {
      "cell_type": "code",
      "source": [
        "_ = train_val_sample[['Open Date', 'population', 'city_area']].hist()"
      ],
      "metadata": {
        "id": "uiz8mkAJ7Cpc",
        "outputId": "c7156e69-3afb-4b06-df72-45fa5b03b8e4",
        "colab": {
          "base_uri": "https://localhost:8080/",
          "height": 0
        }
      },
      "execution_count": 155,
      "outputs": [
        {
          "output_type": "display_data",
          "data": {
            "text/plain": [
              "<Figure size 432x288 with 4 Axes>"
            ],
            "image/png": "[encoded data removed]"
          },
          "metadata": {
            "needs_background": "light"
          }
        }
      ]
    },
    {
      "cell_type": "code",
      "source": [
        "get_correlated_attributes(train_val_sample, 'revenue', 0.12)"
      ],
      "metadata": {
        "id": "ocxq2i8d7FJQ",
        "outputId": "2b9fe2cf-c6b0-445a-804b-94a7c4747e63",
        "colab": {
          "base_uri": "https://localhost:8080/"
        }
      },
      "execution_count": 156,
      "outputs": [
        {
          "output_type": "execute_result",
          "data": {
            "text/plain": [
              "revenue            1.000000\n",
              "huge_population    0.372979\n",
              "population         0.363098\n",
              "P2                 0.191189\n",
              "P28                0.150818\n",
              "P6                 0.136381\n",
              "P17                0.133384\n",
              "city_area          0.122537\n",
              "P13               -0.126957\n",
              "P29               -0.127254\n",
              "Open Date         -0.318152\n",
              "Name: revenue, dtype: float64"
            ]
          },
          "metadata": {},
          "execution_count": 156
        }
      ]
    },
    {
      "cell_type": "markdown",
      "source": [
        "### Engineer longitudes, lattitudes and feature crosses"
      ],
      "metadata": {
        "id": "762i6ZWs7QeC"
      }
    },
    {
      "cell_type": "code",
      "source": [
        "from sklearn.base import TransformerMixin, BaseEstimator\n",
        "\n",
        "\n",
        "class LongitudeLattitudeAdder(TransformerMixin, BaseEstimator):\n",
        "    def __init__(self):\n",
        "        super().__init__()\n",
        "\n",
        "        # Longitude, lattitude\n",
        "        self.longitudes_lattitudes = {\n",
        "            'Gaziantep': [37.383331, 37.066666],\n",
        "            'Ankara': [32.866287, 39.925533],\n",
        "            'İstanbul': [28.979530, 41.015137],\n",
        "            'İzmir': [27.142826, 38.423733],\n",
        "            'Kocaeli': [29.916668, 40.766666],\n",
        "            'Osmaniye': [36.246400, 37.074628],\n",
        "            'Kastamonu': [33.77528, 41.376625],\n",
        "            'Eskişehir': [30.526714, 39.766193],\n",
        "            'Denizli': [29.094715, 37.783333],\n",
        "            'Balıkesir': [26.726990, 39.327923],\n",
        "            'Sakarya': [30.400000, 40.783333],\n",
        "            'Tekirdağ': [27.515278, 40.977779],\n",
        "            'Bursa': [29.074202, 40.193298],\n",
        "            'Kayseri': [35.467987, 38.734802],\n",
        "            'Muğla': [28.643204, 36.834740],\n",
        "            'Edirne': [26.583481, 41.674965],\n",
        "            'Samsun': [36.336067, 41.2867],\n",
        "            'Karabük': [32.741742, 41.187489],\n",
        "            'Adana': [35.321335, 37.000000],\n",
        "            'Afyonkarahisar': [30.538704, 38.756886],\n",
        "            'Tokat': [36.625186, 40.390271],\n",
        "            'Amasya': [35.828819, 40.652382],\n",
        "            'Diyarbakır': [40.240002, 37.910000],\n",
        "            'Kütahya': [29.985732, 39.419955],\n",
        "            'Antalya': [30.6833, 36.9],\n",
        "            'Aydın': [27.845560, 37.838016],\n",
        "            'Şanlıurfa': [38.791668, 37.158333],\n",
        "            'Kırklareli': [27.224369, 41.735472],\n",
        "            'Isparta': [30.553705, 37.762649],\n",
        "            'Uşak':  [29.405882, 38.674229],\n",
        "            'Elazığ': [39.226398, 38.680969],\n",
        "\n",
        "            'Bolu': [31.589813, 40.731647],\n",
        "            'Konya': [32.493156, 37.874641],\n",
        "            'Trabzon': [39.716763, 41.002697],\n",
        "            'Niğde': [34.676608, 37.969774],\n",
        "            'Aksaray': [34.029700, 38.368626],\n",
        "            'Artvin': [41.830982, 41.183224],\n",
        "            'Batman': [41.12793, 37.88289],\n",
        "            'Bilecik': [29.979330, 40.142573],\n",
        "            'Düzce': [31.162609, 40.838720],\n",
        "            'Erzincan': [39.491124, 39.746797],\n",
        "            'Erzurum': [41.265824, 39.905499],\n",
        "            'Giresun': [38.392654, 40.917534],\n",
        "            'Hatay': [36.166668, 36.200001],\n",
        "            'Kahramanmaraş': [36.922821, 37.575275],\n",
        "            'Kars': [43.097453, 40.601338],\n",
        "            'Kırıkkale': [33.508878, 39.839784],\n",
        "            'Kırşehir': [34.159499, 39.146078],\n",
        "            'Malatya': [38.333525, 38.355363],\n",
        "            'Manisa': [27.422222, 38.630554],\n",
        "            'Mardin': [40.733951, 37.312903],\n",
        "            'Mersin': [34.641479, 36.812103],\n",
        "            'Nevşehir': [34.719975, 38.626995],\n",
        "            'Ordu': [37.879721, 40.986166],\n",
        "            'Rize': [40.517666, 41.025511],\n",
        "            'Siirt': [41.941978, 37.927404],\n",
        "            'Sivas': [37.015598, 39.750359],\n",
        "            'Tanımsız': [None, None],  # ??? not in google\n",
        "            'Yalova': [29.284186, 40.654895],\n",
        "            'Zonguldak': [31.791344, 41.451733],\n",
        "            'Çanakkale': [26.408587, 40.146720],\n",
        "            'Çankırı': [33.616223, 40.600207],\n",
        "            'Çorum': [34.953724, 40.549926]\n",
        "        }\n",
        "\n",
        "    def fit(self, X, y=None):\n",
        "        return self\n",
        "\n",
        "    def _add_longitude_or_lattitude(self, city, what_to_add):\n",
        "        assert what_to_add in ['longitude', 'lattitude']\n",
        "        INDEX = None\n",
        "        if what_to_add == 'longitude':\n",
        "            INDEX = 0\n",
        "        else:\n",
        "            INDEX = 1\n",
        "\n",
        "        val_pair = self.longitudes_lattitudes.get(city, None)\n",
        "        if val_pair[INDEX] is not None:\n",
        "            return val_pair[INDEX]\n",
        "        else:\n",
        "            return np.mean(\n",
        "                [val_pair[INDEX]\n",
        "                 for val_pair in self.longitudes_lattitudes.values()\n",
        "                 if val_pair[INDEX] is not None\n",
        "                 ]\n",
        "            )\n",
        "\n",
        "    def add_longitude(self, city):\n",
        "        return self._add_longitude_or_lattitude(city, what_to_add='longitude')\n",
        "\n",
        "    def add_lattitude(self, city):\n",
        "        return self._add_longitude_or_lattitude(city, what_to_add='lattitude')\n",
        "\n",
        "    def transform(self, X, y=None):\n",
        "        df_transformed = X.copy()\n",
        "\n",
        "        df_transformed['longitude'] = X['City'].apply(\n",
        "            lambda city: self.add_longitude(city)\n",
        "        )\n",
        "\n",
        "        df_transformed['lattitude'] = X['City'].apply(\n",
        "            lambda city: self.add_lattitude(city)\n",
        "        )\n",
        "\n",
        "        return df_transformed\n",
        "\n",
        "\n",
        "pep8(_ih)"
      ],
      "metadata": {
        "id": "MVoskiGK7U9-",
        "outputId": "12ceb800-1233-4b36-b60b-bdb3ad1ec3c1",
        "colab": {
          "base_uri": "https://localhost:8080/"
        }
      },
      "execution_count": 189,
      "outputs": [
        {
          "output_type": "stream",
          "name": "stdout",
          "text": [
            "\n"
          ]
        }
      ]
    },
    {
      "cell_type": "code",
      "source": [
        "transformers = [\n",
        "    LongitudeLattitudeAdder()\n",
        "]\n",
        "\n",
        "for t in transformers:\n",
        "    train_val_sample = t.fit_transform(train_val_sample)\n",
        "    test_sample = t.transform(test_sample)\n",
        "    test_df = t.transform(test_df)"
      ],
      "metadata": {
        "id": "-Jmi9Mpx87Sy"
      },
      "execution_count": 190,
      "outputs": []
    },
    {
      "cell_type": "code",
      "source": [
        "from pandas.io.formats.style_render import non_reducing_slice\n",
        "from sklearn.base import BaseEstimator, TransformerMixin\n",
        "\n",
        "\n",
        "class LongitudeLattitudeBinner(BaseEstimator, TransformerMixin):\n",
        "    def __init__(self, n_lattitude_bins_, n_longitude_bins_):\n",
        "        super().__init__()\n",
        "        self.n_lattitude_bins = n_lattitude_bins_\n",
        "        self.n_longitude_bins = n_longitude_bins_\n",
        "\n",
        "        self.lattitude_labels = [i for i in range(self.n_lattitude_bins)]\n",
        "        self.longitude_labels = [i for i in range(self.n_longitude_bins)]\n",
        "\n",
        "        self.lattitude_bins = None\n",
        "        self.longitude_bins = None\n",
        "\n",
        "    def _get_bins(self, column_name_, df_):\n",
        "        if column_name_ == 'lattitude':\n",
        "            n_bins = self.n_lattitude_bins\n",
        "            labels = self.lattitude_labels\n",
        "        elif column_name_ == 'longitude':\n",
        "            n_bins = self.n_longitude_bins\n",
        "            labels = self.longitude_labels\n",
        "\n",
        "        _, bins = pd.cut(\n",
        "            df_[column_name_],\n",
        "            bins=n_bins,\n",
        "            labels=labels,\n",
        "            retbins=True\n",
        "        )\n",
        "        return bins\n",
        "\n",
        "    def fit(self, X, y=None):\n",
        "        transformed_df = X.copy()\n",
        "        self.lattitude_bins = self._get_bins('lattitude', transformed_df)\n",
        "        self.longitude_bins = self._get_bins('longitude', transformed_df)\n",
        "        print(self.lattitude_bins, self.longitude_bins)\n",
        "        return self\n",
        "\n",
        "    def _get_binned_column(self, df_, column_name_):\n",
        "        assert column_name_ in ['lattitude', 'longitude']\n",
        "        if column_name_ == 'lattitude':\n",
        "            bins = self.lattitude_bins\n",
        "            labels = self.lattitude_labels\n",
        "        elif column_name_ == 'longitude':\n",
        "            bins = self.longitude_bins\n",
        "            labels = self.longitude_labels\n",
        "\n",
        "        binned_col = pd.cut(\n",
        "            x=df_[column_name_],\n",
        "            bins=bins,\n",
        "            labels=labels\n",
        "        )\n",
        "        binned_col = binned_col.cat.codes\n",
        "        return binned_col\n",
        "\n",
        "    def transform(self, X, y=None):\n",
        "        transformed_df = X.copy()\n",
        "\n",
        "        transformed_df['lattitude_binned'] = self._get_binned_column(\n",
        "            df_=transformed_df,\n",
        "            column_name_='lattitude'\n",
        "        )\n",
        "\n",
        "        transformed_df['longitude_binned'] = self._get_binned_column(\n",
        "            df_=transformed_df,\n",
        "            column_name_='longitude'\n",
        "        )\n",
        "        return transformed_df\n",
        "\n",
        "\n",
        "pep8(_ih)"
      ],
      "metadata": {
        "id": "UpXrbmit828M",
        "outputId": "a8f02647-59e1-4d8f-88de-a04bef1f779e",
        "colab": {
          "base_uri": "https://localhost:8080/"
        }
      },
      "execution_count": 238,
      "outputs": [
        {
          "output_type": "stream",
          "name": "stdout",
          "text": [
            "\n"
          ]
        }
      ]
    },
    {
      "cell_type": "code",
      "source": [
        "class LongitudeLattitudeCrosser(TransformerMixin, BaseEstimator):\n",
        "    def __init__(self, lat_categories_, long_categories_):\n",
        "        super().__init__()\n",
        "        self.lat_categories = lat_categories_\n",
        "        self.long_categories = long_categories_\n",
        "        # self.lattitude_categories = lattitude_categories_\n",
        "        # self.longitude_categories = longitude_categories_\n",
        "\n",
        "    def fit(self, X, y=None):\n",
        "        return self\n",
        "\n",
        "    def transform(self, X, y=None):\n",
        "        transformed_df = X.copy()\n",
        "\n",
        "        lattitude_encoder = OneHotEncoder(\n",
        "            categories=[self.lat_categories]\n",
        "        )\n",
        "        longitude_encoder = OneHotEncoder(\n",
        "            categories=[self.long_categories]\n",
        "        )\n",
        "\n",
        "        lattitude_binned_onehot = lattitude_encoder.fit_transform(\n",
        "            transformed_df[['lattitude_binned']]\n",
        "        ).toarray()\n",
        "\n",
        "        longitude_binned_onehot = longitude_encoder.fit_transform(\n",
        "            transformed_df[['longitude_binned']]\n",
        "        ).toarray()\n",
        "\n",
        "        crossed_features = np.array(\n",
        "            [\n",
        "                np.outer(lat_onehot, long_onehot).flatten()\n",
        "                for lat_onehot, long_onehot in\n",
        "                zip(lattitude_binned_onehot, longitude_binned_onehot)\n",
        "            ]\n",
        "        )\n",
        "\n",
        "        for i in range(crossed_features.shape[1]):\n",
        "            transformed_df[f'cross_{i}'] = crossed_features[:, i]\n",
        "\n",
        "        return transformed_df\n",
        "\n",
        "\n",
        "pep8(_ih)"
      ],
      "metadata": {
        "id": "83OUt-oqJr6r",
        "outputId": "33e88dcc-5d37-434c-90e6-be3a84803008",
        "colab": {
          "base_uri": "https://localhost:8080/"
        }
      },
      "execution_count": 245,
      "outputs": [
        {
          "output_type": "stream",
          "name": "stdout",
          "text": [
            "\n"
          ]
        }
      ]
    },
    {
      "cell_type": "code",
      "source": [
        "a = np.sort(test_df['lattitude_binned'].unique()) # .values.sort()\n",
        "print(a)"
      ],
      "metadata": {
        "id": "RL8lcRsJQgXp",
        "outputId": "ce20a04f-e623-4547-d2d9-7b7eb1e4178a",
        "colab": {
          "base_uri": "https://localhost:8080/"
        }
      },
      "execution_count": 246,
      "outputs": [
        {
          "output_type": "stream",
          "name": "stdout",
          "text": [
            "[-1  0  1  2  3  4]\n"
          ]
        }
      ]
    },
    {
      "cell_type": "code",
      "source": [
        "long_lat_binner = LongitudeLattitudeBinner(\n",
        "    n_lattitude_bins_=5,\n",
        "    n_longitude_bins_=5\n",
        ")\n",
        "\n",
        "long_lat_crosser = LongitudeLattitudeCrosser(\n",
        "    lat_categories_ = [-1, 0, 1, 2, 3, 4],\n",
        "    long_categories_ = [-1, 0, 1, 2, 3, 4]\n",
        "    # lattitude_categories_ = long_lat_binner.lattitude_labels,\n",
        "    # longitude_categories_ = long_lat_binner.longitude_labels\n",
        ")\n",
        "\n",
        "transformers = [\n",
        "    long_lat_binner,\n",
        "    long_lat_crosser\n",
        "    # LongitudeLattitudeCrosser()\n",
        "]\n",
        "\n",
        "\n",
        "for t in transformers:\n",
        "    train_val_sample = t.fit_transform(train_val_sample)\n",
        "    test_sample = t.transform(test_sample)\n",
        "    test_df = t.transform(test_df)\n",
        "\n",
        "    assert train_val_sample.isna().sum().sum() == 0\n",
        "    assert test_sample.isna().sum().sum() == 0\n",
        "    assert test_df.isna().sum().sum() == 0, print(test_df.isna().sum().sum())\n",
        "    assert \\\n",
        "    len(train_val_sample.columns) \\\n",
        "    == len(test_sample.columns) \\\n",
        "    == len(test_df.columns) + 1"
      ],
      "metadata": {
        "id": "GZHMUHT3_Elp",
        "outputId": "ba907c81-67f9-43f7-9f18-dfd1919118da",
        "colab": {
          "base_uri": "https://localhost:8080/"
        }
      },
      "execution_count": 265,
      "outputs": [
        {
          "output_type": "stream",
          "name": "stdout",
          "text": [
            "[36.82983927 37.8148864  38.7950328  39.7751792  40.7553256  41.735472  ] [26.56982448 29.3147852  32.0460894  34.7773936  37.5086978  40.240002  ]\n"
          ]
        }
      ]
    },
    {
      "cell_type": "markdown",
      "source": [
        "# Define columns for pipeline"
      ],
      "metadata": {
        "id": "sVtsX0ForrqJ"
      }
    },
    {
      "cell_type": "code",
      "source": [
        "assert (train_val_sample.columns == test_sample.columns).all()\n",
        "\n",
        "num_cols = train_val_sample.columns[\n",
        "    np.isin(train_val_sample.dtypes, ['float64', 'int64'])\n",
        "]\n",
        "\n",
        "num_cols = num_cols.drop('revenue')\n",
        "\n",
        "cat_cols = train_val_sample.columns[\n",
        "    train_val_sample.dtypes == 'object'\n",
        "]\n",
        "\n",
        "target_cols = ['revenue']\n",
        "\n",
        "print(cat_cols)\n",
        "print(num_cols)\n",
        "print(target_cols)"
      ],
      "metadata": {
        "colab": {
          "base_uri": "https://localhost:8080/",
          "height": 398
        },
        "id": "y-iHWDgh1gMR",
        "outputId": "325d1af9-449e-465b-c48c-e95b41ab705a"
      },
      "execution_count": null,
      "outputs": [
        {
          "output_type": "error",
          "ename": "ValueError",
          "evalue": "ignored",
          "traceback": [
            "\u001b[0;31m---------------------------------------------------------------------------\u001b[0m",
            "\u001b[0;31mValueError\u001b[0m                                Traceback (most recent call last)",
            "\u001b[0;32m<ipython-input-260-3a1b0f7a3811>\u001b[0m in \u001b[0;36m<module>\u001b[0;34m\u001b[0m\n\u001b[0;32m----> 1\u001b[0;31m \u001b[0;32massert\u001b[0m \u001b[0;34m(\u001b[0m\u001b[0mtrain_val_sample\u001b[0m\u001b[0;34m.\u001b[0m\u001b[0mcolumns\u001b[0m \u001b[0;34m==\u001b[0m \u001b[0mtest_sample\u001b[0m\u001b[0;34m.\u001b[0m\u001b[0mcolumns\u001b[0m\u001b[0;34m)\u001b[0m\u001b[0;34m.\u001b[0m\u001b[0mall\u001b[0m\u001b[0;34m(\u001b[0m\u001b[0;34m)\u001b[0m\u001b[0;34m\u001b[0m\u001b[0;34m\u001b[0m\u001b[0m\n\u001b[0m\u001b[1;32m      2\u001b[0m \u001b[0;34m\u001b[0m\u001b[0m\n\u001b[1;32m      3\u001b[0m num_cols = train_val_sample.columns[\n\u001b[1;32m      4\u001b[0m     \u001b[0mnp\u001b[0m\u001b[0;34m.\u001b[0m\u001b[0misin\u001b[0m\u001b[0;34m(\u001b[0m\u001b[0mtrain_val_sample\u001b[0m\u001b[0;34m.\u001b[0m\u001b[0mdtypes\u001b[0m\u001b[0;34m,\u001b[0m \u001b[0;34m[\u001b[0m\u001b[0;34m'float64'\u001b[0m\u001b[0;34m,\u001b[0m \u001b[0;34m'int64'\u001b[0m\u001b[0;34m]\u001b[0m\u001b[0;34m)\u001b[0m\u001b[0;34m\u001b[0m\u001b[0;34m\u001b[0m\u001b[0m\n\u001b[1;32m      5\u001b[0m ]\n",
            "\u001b[0;32m/usr/local/lib/python3.7/dist-packages/pandas/core/ops/common.py\u001b[0m in \u001b[0;36mnew_method\u001b[0;34m(self, other)\u001b[0m\n\u001b[1;32m     67\u001b[0m         \u001b[0mother\u001b[0m \u001b[0;34m=\u001b[0m \u001b[0mitem_from_zerodim\u001b[0m\u001b[0;34m(\u001b[0m\u001b[0mother\u001b[0m\u001b[0;34m)\u001b[0m\u001b[0;34m\u001b[0m\u001b[0;34m\u001b[0m\u001b[0m\n\u001b[1;32m     68\u001b[0m \u001b[0;34m\u001b[0m\u001b[0m\n\u001b[0;32m---> 69\u001b[0;31m         \u001b[0;32mreturn\u001b[0m \u001b[0mmethod\u001b[0m\u001b[0;34m(\u001b[0m\u001b[0mself\u001b[0m\u001b[0;34m,\u001b[0m \u001b[0mother\u001b[0m\u001b[0;34m)\u001b[0m\u001b[0;34m\u001b[0m\u001b[0;34m\u001b[0m\u001b[0m\n\u001b[0m\u001b[1;32m     70\u001b[0m \u001b[0;34m\u001b[0m\u001b[0m\n\u001b[1;32m     71\u001b[0m     \u001b[0;32mreturn\u001b[0m \u001b[0mnew_method\u001b[0m\u001b[0;34m\u001b[0m\u001b[0;34m\u001b[0m\u001b[0m\n",
            "\u001b[0;32m/usr/local/lib/python3.7/dist-packages/pandas/core/arraylike.py\u001b[0m in \u001b[0;36m__eq__\u001b[0;34m(self, other)\u001b[0m\n\u001b[1;32m     30\u001b[0m     \u001b[0;34m@\u001b[0m\u001b[0munpack_zerodim_and_defer\u001b[0m\u001b[0;34m(\u001b[0m\u001b[0;34m\"__eq__\"\u001b[0m\u001b[0;34m)\u001b[0m\u001b[0;34m\u001b[0m\u001b[0;34m\u001b[0m\u001b[0m\n\u001b[1;32m     31\u001b[0m     \u001b[0;32mdef\u001b[0m \u001b[0m__eq__\u001b[0m\u001b[0;34m(\u001b[0m\u001b[0mself\u001b[0m\u001b[0;34m,\u001b[0m \u001b[0mother\u001b[0m\u001b[0;34m)\u001b[0m\u001b[0;34m:\u001b[0m\u001b[0;34m\u001b[0m\u001b[0;34m\u001b[0m\u001b[0m\n\u001b[0;32m---> 32\u001b[0;31m         \u001b[0;32mreturn\u001b[0m \u001b[0mself\u001b[0m\u001b[0;34m.\u001b[0m\u001b[0m_cmp_method\u001b[0m\u001b[0;34m(\u001b[0m\u001b[0mother\u001b[0m\u001b[0;34m,\u001b[0m \u001b[0moperator\u001b[0m\u001b[0;34m.\u001b[0m\u001b[0meq\u001b[0m\u001b[0;34m)\u001b[0m\u001b[0;34m\u001b[0m\u001b[0;34m\u001b[0m\u001b[0m\n\u001b[0m\u001b[1;32m     33\u001b[0m \u001b[0;34m\u001b[0m\u001b[0m\n\u001b[1;32m     34\u001b[0m     \u001b[0;34m@\u001b[0m\u001b[0munpack_zerodim_and_defer\u001b[0m\u001b[0;34m(\u001b[0m\u001b[0;34m\"__ne__\"\u001b[0m\u001b[0;34m)\u001b[0m\u001b[0;34m\u001b[0m\u001b[0;34m\u001b[0m\u001b[0m\n",
            "\u001b[0;32m/usr/local/lib/python3.7/dist-packages/pandas/core/indexes/base.py\u001b[0m in \u001b[0;36m_cmp_method\u001b[0;34m(self, other, op)\u001b[0m\n\u001b[1;32m   6040\u001b[0m             \u001b[0mself\u001b[0m\u001b[0;34m\u001b[0m\u001b[0;34m\u001b[0m\u001b[0m\n\u001b[1;32m   6041\u001b[0m         ) != len(other):\n\u001b[0;32m-> 6042\u001b[0;31m             \u001b[0;32mraise\u001b[0m \u001b[0mValueError\u001b[0m\u001b[0;34m(\u001b[0m\u001b[0;34m\"Lengths must match to compare\"\u001b[0m\u001b[0;34m)\u001b[0m\u001b[0;34m\u001b[0m\u001b[0;34m\u001b[0m\u001b[0m\n\u001b[0m\u001b[1;32m   6043\u001b[0m \u001b[0;34m\u001b[0m\u001b[0m\n\u001b[1;32m   6044\u001b[0m         \u001b[0;32mif\u001b[0m \u001b[0;32mnot\u001b[0m \u001b[0misinstance\u001b[0m\u001b[0;34m(\u001b[0m\u001b[0mother\u001b[0m\u001b[0;34m,\u001b[0m \u001b[0mABCMultiIndex\u001b[0m\u001b[0;34m)\u001b[0m\u001b[0;34m:\u001b[0m\u001b[0;34m\u001b[0m\u001b[0;34m\u001b[0m\u001b[0m\n",
            "\u001b[0;31mValueError\u001b[0m: Lengths must match to compare"
          ]
        }
      ]
    },
    {
      "cell_type": "markdown",
      "source": [
        "## Creating pipeline"
      ],
      "metadata": {
        "id": "kB1fNYINuFx3"
      }
    },
    {
      "cell_type": "code",
      "source": [
        "num_pipeline = Pipeline(\n",
        "    [\n",
        "        ('impute', SimpleImputer(strategy='mean')),\n",
        "        ('scale', MinMaxScaler())\n",
        "    ]\n",
        ")\n",
        "\n",
        "city_group_pipeline = Pipeline(\n",
        "    [\n",
        "        ('encoder', OrdinalEncoder(categories=[['Other', 'Big Cities']]))  \n",
        "    ]\n",
        ")\n",
        "\n",
        "type_pipeline = Pipeline(\n",
        "    [\n",
        "        ('encoder', OneHotEncoder(categories=[['IL', 'FC', 'DT', 'MB']]))\n",
        "    ]\n",
        ")\n",
        "\n",
        "city_pipeline = Pipeline(\n",
        "    [\n",
        "        ('drop', ColumnDropper(['City']))\n",
        "    ]\n",
        ")\n",
        "\n"
      ],
      "metadata": {
        "id": "saCt1WUO6Cpd"
      },
      "execution_count": null,
      "outputs": []
    },
    {
      "cell_type": "code",
      "source": [
        "from sklearn.compose import ColumnTransformer\n",
        "\n",
        "preprocessor = ColumnTransformer(\n",
        "    [\n",
        "        ('numeric_data', num_pipeline, num_cols),\n",
        "        ('city_group', city_group_pipeline, ['City Group']),\n",
        "        ('type', type_pipeline, ['Type']),\n",
        "        ('drop', city_pipeline, ['City'])\n",
        "    ],\n",
        "    remainder='passthrough'\n",
        ")"
      ],
      "metadata": {
        "id": "KphZB7jE720I"
      },
      "execution_count": null,
      "outputs": []
    },
    {
      "cell_type": "code",
      "source": [
        "# These are the subsets of the training set\n",
        "trainval_sample_processed = preprocessor.fit_transform(\n",
        "    train_val_sample\n",
        ")\n",
        "test_sample_processed = preprocessor.transform(test_sample)"
      ],
      "metadata": {
        "id": "lu558gzQyMsR"
      },
      "execution_count": null,
      "outputs": []
    },
    {
      "cell_type": "code",
      "source": [
        "# This is the kaggle test set\n",
        "test_df['revenue'] = np.ones(test_df.shape[0]) # to avoid bug. because no such column\n",
        "test_processed = preprocessor.transform(\n",
        "    test_df\n",
        ")"
      ],
      "metadata": {
        "id": "j-U_wCZZOgz6"
      },
      "execution_count": null,
      "outputs": []
    },
    {
      "cell_type": "code",
      "source": [
        "trainval_sample_processed.dtype"
      ],
      "metadata": {
        "colab": {
          "base_uri": "https://localhost:8080/"
        },
        "id": "FZBXECfXS1Pc",
        "outputId": "7fff3ad1-6f2e-4d81-8c77-27104298faff"
      },
      "execution_count": null,
      "outputs": [
        {
          "output_type": "execute_result",
          "data": {
            "text/plain": [
              "dtype('float64')"
            ]
          },
          "metadata": {},
          "execution_count": 67
        }
      ]
    },
    {
      "cell_type": "markdown",
      "source": [
        "## Log transform to target"
      ],
      "metadata": {
        "id": "9D0y3CjbVaJF"
      }
    },
    {
      "cell_type": "code",
      "source": [
        "from sklearn.base import BaseEstimator, TransformerMixin\n",
        "\n",
        "\n",
        "class LogTransformer(BaseEstimator, TransformerMixin):\n",
        "    def __init__(self):\n",
        "        super().__init__()\n",
        "    \n",
        "    def fit(self, X, y=None):\n",
        "        return self\n",
        "\n",
        "    def transform(self, X, y=None):\n",
        "        X[:, -1] = np.log(X[:, -1])\n",
        "        return X\n",
        "\n",
        "log_transformer = LogTransformer()\n",
        "\n",
        "trainval_sample_processed = log_transformer.fit_transform(\n",
        "    trainval_sample_processed\n",
        ")"
      ],
      "metadata": {
        "id": "okxR8eg5VUSq"
      },
      "execution_count": null,
      "outputs": []
    },
    {
      "cell_type": "code",
      "source": [
        "test_sample_processed = log_transformer.transform(\n",
        "    test_sample_processed\n",
        ")"
      ],
      "metadata": {
        "id": "u06DtLhKWCad"
      },
      "execution_count": null,
      "outputs": []
    },
    {
      "cell_type": "code",
      "source": [
        "test_processed = log_transformer.transform(\n",
        "    test_processed\n",
        ")"
      ],
      "metadata": {
        "id": "Zw1ujMkDWHBx"
      },
      "execution_count": null,
      "outputs": []
    },
    {
      "cell_type": "markdown",
      "source": [
        "# Drop unnecessary columns"
      ],
      "metadata": {
        "id": "rPTI1Ji8Ta5_"
      }
    },
    {
      "cell_type": "code",
      "source": [
        "# Already dropped in the 'drop' step above"
      ],
      "metadata": {
        "colab": {
          "base_uri": "https://localhost:8080/"
        },
        "id": "NHvWji6VTc-j",
        "outputId": "6f4ad940-9bf7-4505-f65a-77e9717d3364"
      },
      "execution_count": null,
      "outputs": [
        {
          "output_type": "execute_result",
          "data": {
            "text/plain": [
              "array(['1', '2', '3.0', 'abc'], dtype='<U32')"
            ]
          },
          "metadata": {},
          "execution_count": 58
        }
      ]
    },
    {
      "cell_type": "markdown",
      "source": [
        "# Saving processed data"
      ],
      "metadata": {
        "id": "0PzoggoiBTUW"
      }
    },
    {
      "cell_type": "code",
      "source": [
        "manager.save_to_csv(\n",
        "    array_=trainval_sample_processed,\n",
        "    path_=manager.data_trial_path,\n",
        "    file_name_='trainval_sample_processed.csv'\n",
        ")"
      ],
      "metadata": {
        "id": "DPGcdkun-iGj"
      },
      "execution_count": null,
      "outputs": []
    },
    {
      "cell_type": "code",
      "source": [
        "manager.save_to_csv(\n",
        "    array_=test_sample_processed,\n",
        "    path_=manager.data_trial_path,\n",
        "    file_name_='test_sample_processed.csv'\n",
        ")"
      ],
      "metadata": {
        "id": "uIwm6MK2_nWA"
      },
      "execution_count": null,
      "outputs": []
    },
    {
      "cell_type": "code",
      "source": [
        "manager.save_to_csv(\n",
        "    array_=test_processed,\n",
        "    path_=manager.data_trial_path,\n",
        "    file_name_='test_processed.csv'\n",
        ")"
      ],
      "metadata": {
        "id": "qr8S6ppS_yK4"
      },
      "execution_count": null,
      "outputs": []
    },
    {
      "cell_type": "code",
      "source": [
        "visualize_datasets_distributions(\n",
        "    {\n",
        "        'trainval': pd.DataFrame(trainval_sample_processed),\n",
        "        'test sample': pd.DataFrame(test_sample_processed),\n",
        "        'test': pd.DataFrame(test_processed)\n",
        "    },\n",
        "    column_numbers_ = range(5),\n",
        "    grid_width_=2\n",
        ")"
      ],
      "metadata": {
        "id": "vRUsAJq-nKrh",
        "outputId": "2ed86394-336f-4088-c763-da1629cc4ff8",
        "colab": {
          "base_uri": "https://localhost:8080/",
          "height": 607
        }
      },
      "execution_count": null,
      "outputs": [
        {
          "output_type": "display_data",
          "data": {
            "text/plain": [
              "<Figure size 720x720 with 6 Axes>"
            ],
            "image/png": "[encoded data removed]"
          },
          "metadata": {
            "needs_background": "light"
          }
        }
      ]
    }
  ]
}