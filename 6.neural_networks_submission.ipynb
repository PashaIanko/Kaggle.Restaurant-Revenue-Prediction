{
  "nbformat": 4,
  "nbformat_minor": 0,
  "metadata": {
    "colab": {
      "name": "6.neural_networks_submission.ipynb",
      "provenance": [],
      "authorship_tag": "ABX9TyNt7vVyxX2ctVoi9EpgkstL",
      "include_colab_link": true
    },
    "kernelspec": {
      "name": "python3",
      "display_name": "Python 3"
    },
    "language_info": {
      "name": "python"
    }
  },
  "cells": [
    {
      "cell_type": "markdown",
      "metadata": {
        "id": "view-in-github",
        "colab_type": "text"
      },
      "source": [
        "<a href=\"https://colab.research.google.com/github/PashaIanko/Kaggle.Restaurant-Revenue-Prediction/blob/main/6_neural_networks_submission.ipynb\" target=\"_parent\"><img src=\"https://colab.research.google.com/assets/colab-badge.svg\" alt=\"Open In Colab\"/></a>"
      ]
    },
    {
      "cell_type": "markdown",
      "source": [
        "# Imports"
      ],
      "metadata": {
        "id": "bgFec6bAqivq"
      }
    },
    {
      "cell_type": "code",
      "source": [
        "from google.colab import drive\n",
        "import pandas as pd\n",
        "import numpy as np\n",
        "import os"
      ],
      "metadata": {
        "id": "K5YIxUHmr-Lh"
      },
      "execution_count": 22,
      "outputs": []
    },
    {
      "cell_type": "code",
      "execution_count": 2,
      "metadata": {
        "id": "DJWoTdbwqbnh"
      },
      "outputs": [],
      "source": [
        "# PEP 8\n",
        "%%capture\n",
        "!pip install pycodestyle\n",
        "!pip install --index-url https://test.pypi.org/simple/ nbpep8\n",
        "\n",
        "from nbpep8.nbpep8 import pep8"
      ]
    },
    {
      "cell_type": "markdown",
      "source": [
        "# Import module files"
      ],
      "metadata": {
        "id": "0pi6Frt4qkoT"
      }
    },
    {
      "cell_type": "code",
      "source": [
        "%%capture\n",
        "git_download_path = \\\n",
        "'https://raw.githubusercontent.com/PashaIanko/Kaggle.Restaurant-Revenue-Prediction/main/'\n",
        "\n",
        "files = [\n",
        "    'sklearn_utils.py',\n",
        "    'path_manager.py'\n",
        "]\n",
        "\n",
        "def download_files(dict_):\n",
        "    for file, url in dict_.items():\n",
        "        !wget {file} {url} {file}\n",
        "\n",
        "\n",
        "download_files(\n",
        "    {\n",
        "        file: git_download_path + file for file in files\n",
        "    }\n",
        ")\n",
        "\n",
        "pep8(_ih)"
      ],
      "metadata": {
        "id": "fr8Z7KAyqmw5"
      },
      "execution_count": 8,
      "outputs": []
    },
    {
      "cell_type": "code",
      "source": [
        "import importlib\n",
        "import sklearn_utils\n",
        "import path_manager\n",
        "\n",
        "\n",
        "def reload_modules(modules):\n",
        "    for m in modules:\n",
        "        importlib.reload(m)\n",
        "\n",
        "\n",
        "reload_modules(\n",
        "    [\n",
        "        sklearn_utils\n",
        "    ]\n",
        ")\n",
        "\n",
        "from sklearn_utils import print_model_cv_scores\n",
        "from path_manager import PathManager\n",
        "\n",
        "pep8(_ih)"
      ],
      "metadata": {
        "colab": {
          "base_uri": "https://localhost:8080/"
        },
        "id": "uVR5s3ULqon-",
        "outputId": "aca31f68-ac78-4ff1-e627-84f79b0f4629"
      },
      "execution_count": 9,
      "outputs": [
        {
          "output_type": "stream",
          "name": "stdout",
          "text": [
            "cell_content.py:17:1: E402 module level import not at top of file\n",
            "cell_content.py:18:1: E402 module level import not at top of file\n",
            "\n"
          ]
        }
      ]
    },
    {
      "cell_type": "markdown",
      "source": [
        "# Setup paths"
      ],
      "metadata": {
        "id": "bLr9LWf2rtBd"
      }
    },
    {
      "cell_type": "code",
      "source": [
        "drive.mount('/content/gdrive')\n",
        "gdrive_path = '/content/gdrive/MyDrive/'\n",
        "\n",
        "COMPETITION_PATH = gdrive_path + 'ML/Competitions/5.RestaurantRevenue/'\n",
        "PREPROC_TRIAL = 2\n",
        "MODELS_TRIAL = 2\n",
        "\n",
        "pep8(_ih)"
      ],
      "metadata": {
        "colab": {
          "base_uri": "https://localhost:8080/"
        },
        "id": "8hXRhZcRraoC",
        "outputId": "a2afdd1a-4ee4-4eda-f5f3-06ab7d0bc689"
      },
      "execution_count": 12,
      "outputs": [
        {
          "output_type": "stream",
          "name": "stdout",
          "text": [
            "Drive already mounted at /content/gdrive; to attempt to forcibly remount, call drive.mount(\"/content/gdrive\", force_remount=True).\n",
            "\n"
          ]
        }
      ]
    },
    {
      "cell_type": "code",
      "source": [
        "manager = PathManager(\n",
        "    competition_path=COMPETITION_PATH,\n",
        "    preprocessing_trial=PREPROC_TRIAL,\n",
        "    models_trial=MODELS_TRIAL\n",
        ")\n",
        "\n",
        "pep8(_ih)"
      ],
      "metadata": {
        "colab": {
          "base_uri": "https://localhost:8080/"
        },
        "id": "CnoweP2ur2Xi",
        "outputId": "68e2e025-b8c6-4e76-8125-0b92df50d5bf"
      },
      "execution_count": 13,
      "outputs": [
        {
          "output_type": "stream",
          "name": "stdout",
          "text": [
            "\n"
          ]
        }
      ]
    },
    {
      "cell_type": "markdown",
      "source": [
        "# Download models"
      ],
      "metadata": {
        "id": "Ar_jAClQsPQL"
      }
    },
    {
      "cell_type": "code",
      "source": [
        "models = manager.load_models(\n",
        "    [\n",
        "        'FFNN'\n",
        "    ]\n",
        ")"
      ],
      "metadata": {
        "id": "AAvHLur2sQIJ"
      },
      "execution_count": 14,
      "outputs": []
    },
    {
      "cell_type": "code",
      "source": [
        "models"
      ],
      "metadata": {
        "colab": {
          "base_uri": "https://localhost:8080/"
        },
        "id": "f_p8bAnosSt0",
        "outputId": "2caf4897-6e13-4936-8228-5628f4b09051"
      },
      "execution_count": 15,
      "outputs": [
        {
          "output_type": "execute_result",
          "data": {
            "text/plain": [
              "{'FFNN': <keras.engine.sequential.Sequential at 0x7f751ec2f950>}"
            ]
          },
          "metadata": {},
          "execution_count": 15
        }
      ]
    },
    {
      "cell_type": "markdown",
      "source": [
        "# Download data"
      ],
      "metadata": {
        "id": "1dIbkdrUsVBW"
      }
    },
    {
      "cell_type": "code",
      "source": [
        "df_test = pd.read_csv(\n",
        "    os.path.join(\n",
        "        manager.data_trial_path,\n",
        "        'test_processed.csv'\n",
        "    ),\n",
        "    index_col=[0]\n",
        ")\n",
        "\n",
        "# subsample from train.csv for testing\n",
        "df_test_sample = pd.read_csv(\n",
        "    os.path.join(\n",
        "        manager.data_trial_path,\n",
        "        'test_sample_processed.csv'\n",
        "    ),\n",
        "    index_col=[0]\n",
        ")\n",
        "\n",
        "df_trainval = pd.read_csv(\n",
        "    os.path.join(\n",
        "        manager.data_trial_path,\n",
        "        'trainval_sample_processed.csv'\n",
        "    ),\n",
        "    index_col=[0]\n",
        ")\n",
        "\n",
        "X_train_val = df_trainval.values[:, :-1]\n",
        "Y_train_val = df_trainval.values[:, -1]\n",
        "\n",
        "X_test_sample = df_test_sample.values[:, :-1]\n",
        "Y_test_sample = df_test_sample.values[:, -1]"
      ],
      "metadata": {
        "id": "aWVB4Xa9sTnU"
      },
      "execution_count": 19,
      "outputs": []
    },
    {
      "cell_type": "markdown",
      "source": [
        "# Data treatment (follow the same procedure as in neural_networks_preparation.ipynb)"
      ],
      "metadata": {
        "id": "Y1iT2SjBsmHk"
      }
    },
    {
      "cell_type": "code",
      "source": [
        "from sklearn.preprocessing import MinMaxScaler\n",
        "\n",
        "\n",
        "scaler = MinMaxScaler()\n",
        "scaler.fit(X_train_val)\n",
        "X_test_sample_scaled = scaler.transform(X_test_sample)\n",
        "\n",
        "pep8(_ih)"
      ],
      "metadata": {
        "colab": {
          "base_uri": "https://localhost:8080/"
        },
        "id": "ehnHOFajsYuL",
        "outputId": "999a2c83-8830-48ac-d0d9-89a494f22d0d"
      },
      "execution_count": 20,
      "outputs": [
        {
          "output_type": "stream",
          "name": "stdout",
          "text": [
            "\n"
          ]
        }
      ]
    },
    {
      "cell_type": "code",
      "source": [
        "np.max(X_test_sample_scaled)"
      ],
      "metadata": {
        "colab": {
          "base_uri": "https://localhost:8080/"
        },
        "id": "gJWjjV46tS2G",
        "outputId": "5e8a8320-9cb5-42ec-cdfd-ddc79780182a"
      },
      "execution_count": 25,
      "outputs": [
        {
          "output_type": "execute_result",
          "data": {
            "text/plain": [
              "1.6666666666666665"
            ]
          },
          "metadata": {},
          "execution_count": 25
        }
      ]
    }
  ]
}
