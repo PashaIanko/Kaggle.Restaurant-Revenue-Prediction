{
  "nbformat": 4,
  "nbformat_minor": 0,
  "metadata": {
    "colab": {
      "name": "6.neural_networks_submission.ipynb",
      "provenance": [],
      "authorship_tag": "ABX9TyMicWJ1SBusGqvmpYVcDnD0",
      "include_colab_link": true
    },
    "kernelspec": {
      "name": "python3",
      "display_name": "Python 3"
    },
    "language_info": {
      "name": "python"
    }
  },
  "cells": [
    {
      "cell_type": "markdown",
      "metadata": {
        "id": "view-in-github",
        "colab_type": "text"
      },
      "source": [
        "<a href=\"https://colab.research.google.com/github/PashaIanko/Kaggle.Restaurant-Revenue-Prediction/blob/main/6.neural_networks_submission.ipynb\" target=\"_parent\"><img src=\"https://colab.research.google.com/assets/colab-badge.svg\" alt=\"Open In Colab\"/></a>"
      ]
    },
    {
      "cell_type": "markdown",
      "source": [
        "# Imports"
      ],
      "metadata": {
        "id": "bgFec6bAqivq"
      }
    },
    {
      "cell_type": "code",
      "source": [
        "from google.colab import drive\n",
        "import pandas as pd\n",
        "import numpy as np\n",
        "import os"
      ],
      "metadata": {
        "id": "K5YIxUHmr-Lh"
      },
      "execution_count": 1,
      "outputs": []
    },
    {
      "cell_type": "code",
      "execution_count": 2,
      "metadata": {
        "id": "DJWoTdbwqbnh"
      },
      "outputs": [],
      "source": [
        "# PEP 8\n",
        "%%capture\n",
        "!pip install pycodestyle\n",
        "!pip install --index-url https://test.pypi.org/simple/ nbpep8\n",
        "\n",
        "from nbpep8.nbpep8 import pep8"
      ]
    },
    {
      "cell_type": "markdown",
      "source": [
        "# Import module files"
      ],
      "metadata": {
        "id": "0pi6Frt4qkoT"
      }
    },
    {
      "cell_type": "code",
      "source": [
        "%%capture\n",
        "git_download_path = \\\n",
        "'https://raw.githubusercontent.com/PashaIanko/Kaggle.Restaurant-Revenue-Prediction/main/'\n",
        "\n",
        "files = [\n",
        "    'sklearn_utils.py',\n",
        "    'path_manager.py'\n",
        "]\n",
        "\n",
        "def download_files(dict_):\n",
        "    for file, url in dict_.items():\n",
        "        !wget {file} {url} {file}\n",
        "\n",
        "\n",
        "download_files(\n",
        "    {\n",
        "        file: git_download_path + file for file in files\n",
        "    }\n",
        ")\n",
        "\n",
        "pep8(_ih)"
      ],
      "metadata": {
        "id": "fr8Z7KAyqmw5"
      },
      "execution_count": 3,
      "outputs": []
    },
    {
      "cell_type": "code",
      "source": [
        "import importlib\n",
        "import sklearn_utils\n",
        "import path_manager\n",
        "\n",
        "\n",
        "def reload_modules(modules):\n",
        "    for m in modules:\n",
        "        importlib.reload(m)\n",
        "\n",
        "\n",
        "reload_modules(\n",
        "    [\n",
        "        sklearn_utils\n",
        "    ]\n",
        ")\n",
        "\n",
        "from sklearn_utils import print_model_cv_scores\n",
        "from path_manager import PathManager\n",
        "\n",
        "pep8(_ih)"
      ],
      "metadata": {
        "colab": {
          "base_uri": "https://localhost:8080/"
        },
        "id": "uVR5s3ULqon-",
        "outputId": "81970c71-635a-4ed0-9938-2487a42cad71"
      },
      "execution_count": 4,
      "outputs": [
        {
          "output_type": "stream",
          "name": "stdout",
          "text": [
            "cell_content.py:17:1: E402 module level import not at top of file\n",
            "cell_content.py:18:1: E402 module level import not at top of file\n",
            "\n"
          ]
        }
      ]
    },
    {
      "cell_type": "markdown",
      "source": [
        "# Setup paths"
      ],
      "metadata": {
        "id": "bLr9LWf2rtBd"
      }
    },
    {
      "cell_type": "code",
      "source": [
        "drive.mount('/content/gdrive')\n",
        "gdrive_path = '/content/gdrive/MyDrive/'\n",
        "\n",
        "COMPETITION_PATH = gdrive_path + 'ML/Competitions/5.RestaurantRevenue/'\n",
        "PREPROC_TRIAL = 2\n",
        "MODELS_TRIAL = 2\n",
        "\n",
        "pep8(_ih)"
      ],
      "metadata": {
        "colab": {
          "base_uri": "https://localhost:8080/"
        },
        "id": "8hXRhZcRraoC",
        "outputId": "1d7e7024-fdf3-43d6-a78c-f2339918f821"
      },
      "execution_count": 5,
      "outputs": [
        {
          "output_type": "stream",
          "name": "stdout",
          "text": [
            "Mounted at /content/gdrive\n",
            "\n"
          ]
        }
      ]
    },
    {
      "cell_type": "code",
      "source": [
        "manager = PathManager(\n",
        "    competition_path=COMPETITION_PATH,\n",
        "    preprocessing_trial=PREPROC_TRIAL,\n",
        "    models_trial=MODELS_TRIAL\n",
        ")\n",
        "\n",
        "pep8(_ih)"
      ],
      "metadata": {
        "colab": {
          "base_uri": "https://localhost:8080/"
        },
        "id": "CnoweP2ur2Xi",
        "outputId": "ecce5654-f551-4c6d-d0df-e99edce50069"
      },
      "execution_count": 6,
      "outputs": [
        {
          "output_type": "stream",
          "name": "stdout",
          "text": [
            "\n"
          ]
        }
      ]
    },
    {
      "cell_type": "markdown",
      "source": [
        "# Download models"
      ],
      "metadata": {
        "id": "Ar_jAClQsPQL"
      }
    },
    {
      "cell_type": "code",
      "source": [
        "models = manager.load_models(\n",
        "    [\n",
        "        'FFNN'\n",
        "    ]\n",
        ")"
      ],
      "metadata": {
        "id": "AAvHLur2sQIJ"
      },
      "execution_count": 7,
      "outputs": []
    },
    {
      "cell_type": "code",
      "source": [
        "models"
      ],
      "metadata": {
        "colab": {
          "base_uri": "https://localhost:8080/"
        },
        "id": "f_p8bAnosSt0",
        "outputId": "21d315da-fb11-434f-888c-9c92c0813076"
      },
      "execution_count": 8,
      "outputs": [
        {
          "output_type": "execute_result",
          "data": {
            "text/plain": [
              "{'FFNN': <keras.engine.sequential.Sequential at 0x7f3f6f5a76d0>}"
            ]
          },
          "metadata": {},
          "execution_count": 8
        }
      ]
    },
    {
      "cell_type": "markdown",
      "source": [
        "# Download data"
      ],
      "metadata": {
        "id": "1dIbkdrUsVBW"
      }
    },
    {
      "cell_type": "code",
      "source": [
        "df_test = pd.read_csv(\n",
        "    os.path.join(\n",
        "        manager.data_trial_path,\n",
        "        'test_processed.csv'\n",
        "    ),\n",
        "    index_col=[0]\n",
        ")\n",
        "\n",
        "# subsample from train.csv for testing\n",
        "df_test_sample = pd.read_csv(\n",
        "    os.path.join(\n",
        "        manager.data_trial_path,\n",
        "        'test_sample_processed.csv'\n",
        "    ),\n",
        "    index_col=[0]\n",
        ")\n",
        "\n",
        "df_trainval = pd.read_csv(\n",
        "    os.path.join(\n",
        "        manager.data_trial_path,\n",
        "        'trainval_sample_processed.csv'\n",
        "    ),\n",
        "    index_col=[0]\n",
        ")\n",
        "\n",
        "X_train_val = df_trainval.values[:, :-1]\n",
        "Y_train_val = df_trainval.values[:, -1]\n",
        "\n",
        "X_test_sample = df_test_sample.values[:, :-1]\n",
        "Y_test_sample = df_test_sample.values[:, -1]"
      ],
      "metadata": {
        "id": "aWVB4Xa9sTnU"
      },
      "execution_count": 9,
      "outputs": []
    },
    {
      "cell_type": "markdown",
      "source": [
        "# Data treatment (follow the same procedure as in neural_networks_preparation.ipynb)"
      ],
      "metadata": {
        "id": "Y1iT2SjBsmHk"
      }
    },
    {
      "cell_type": "code",
      "source": [
        "from sklearn.preprocessing import MinMaxScaler\n",
        "\n",
        "\n",
        "scaler = MinMaxScaler()\n",
        "scaler.fit(X_train_val)\n",
        "X_test_sample_scaled = scaler.transform(X_test_sample)\n",
        "\n",
        "pep8(_ih)"
      ],
      "metadata": {
        "colab": {
          "base_uri": "https://localhost:8080/"
        },
        "id": "ehnHOFajsYuL",
        "outputId": "d5086220-7b2c-4942-9c71-9bd0ec5456e6"
      },
      "execution_count": 10,
      "outputs": [
        {
          "output_type": "stream",
          "name": "stdout",
          "text": [
            "\n"
          ]
        }
      ]
    },
    {
      "cell_type": "code",
      "source": [
        "np.max(X_test_sample_scaled)"
      ],
      "metadata": {
        "colab": {
          "base_uri": "https://localhost:8080/"
        },
        "id": "gJWjjV46tS2G",
        "outputId": "173647b4-fd05-4002-c797-23dacd1a7d65"
      },
      "execution_count": 11,
      "outputs": [
        {
          "output_type": "execute_result",
          "data": {
            "text/plain": [
              "1.6666666666666665"
            ]
          },
          "metadata": {},
          "execution_count": 11
        }
      ]
    },
    {
      "cell_type": "markdown",
      "source": [
        "# Report test sample performance"
      ],
      "metadata": {
        "id": "GMTuniwlv4mh"
      }
    },
    {
      "cell_type": "code",
      "source": [
        "final_model = models['FFNN']"
      ],
      "metadata": {
        "id": "jMk1fXNxvfNU"
      },
      "execution_count": 12,
      "outputs": []
    },
    {
      "cell_type": "code",
      "source": [
        "from sklearn.metrics import mean_squared_error\n",
        "\n",
        "test_sample_predictions = final_model.predict(\n",
        "    X_test_sample_scaled\n",
        ")"
      ],
      "metadata": {
        "id": "dzeGDnMNv8cU"
      },
      "execution_count": 13,
      "outputs": []
    },
    {
      "cell_type": "code",
      "source": [
        "mean_squared_error(\n",
        "    test_sample_predictions,\n",
        "    Y_test_sample\n",
        ")"
      ],
      "metadata": {
        "id": "FPkuNyqQwEjQ",
        "outputId": "dfec5b8a-7496-4272-c0a8-13e77c75721a",
        "colab": {
          "base_uri": "https://localhost:8080/"
        }
      },
      "execution_count": 14,
      "outputs": [
        {
          "output_type": "execute_result",
          "data": {
            "text/plain": [
              "0.38359666013648086"
            ]
          },
          "metadata": {},
          "execution_count": 14
        }
      ]
    },
    {
      "cell_type": "markdown",
      "source": [
        "# Fitting on test sample before submission"
      ],
      "metadata": {
        "id": "V32wjRo-wR11"
      }
    },
    {
      "cell_type": "code",
      "source": [
        "final_model.fit(\n",
        "    X_test_sample_scaled,\n",
        "    Y_test_sample,\n",
        "    epochs=2\n",
        ")"
      ],
      "metadata": {
        "id": "FvRWJVNywV8_",
        "outputId": "fd769714-349b-45a0-c717-e95c47f9fa07",
        "colab": {
          "base_uri": "https://localhost:8080/"
        }
      },
      "execution_count": 16,
      "outputs": [
        {
          "output_type": "stream",
          "name": "stdout",
          "text": [
            "Epoch 1/2\n",
            "1/1 [==============================] - 0s 27ms/step - loss: 0.3440\n",
            "Epoch 2/2\n",
            "1/1 [==============================] - 0s 16ms/step - loss: 0.3317\n"
          ]
        },
        {
          "output_type": "execute_result",
          "data": {
            "text/plain": [
              "<keras.callbacks.History at 0x7f3f6a5c4bd0>"
            ]
          },
          "metadata": {},
          "execution_count": 16
        }
      ]
    },
    {
      "cell_type": "markdown",
      "source": [
        "# Submitting results"
      ],
      "metadata": {
        "id": "lVu93YEBwL8A"
      }
    },
    {
      "cell_type": "code",
      "source": [
        "df_test.head(1)"
      ],
      "metadata": {
        "id": "bGiVJppSwNV5",
        "outputId": "0ce439be-04df-4978-fa49-3d2788211dee",
        "colab": {
          "base_uri": "https://localhost:8080/",
          "height": 174
        }
      },
      "execution_count": 17,
      "outputs": [
        {
          "output_type": "execute_result",
          "data": {
            "text/plain": [
              "          0         1         2        3         4         5         6  \\\n",
              "0  0.995545 -1.032819 -0.285964 -0.26814 -0.383325 -0.807152 -0.633614   \n",
              "\n",
              "          7         8         9  ...        34        35        36        37  \\\n",
              "0 -0.182156 -0.619713 -0.217343  ... -0.497002 -0.606797 -0.556056 -0.652386   \n",
              "\n",
              "    38   39   40   41        42        43  \n",
              "0  0.0  0.0  1.0  0.0  0.020451  0.693147  \n",
              "\n",
              "[1 rows x 44 columns]"
            ],
            "text/html": [
              "\n",
              "  <div id=\"df-466152f9-7070-42b4-9c30-e964e872fe82\">\n",
              "    <div class=\"colab-df-container\">\n",
              "      <div>\n",
              "<style scoped>\n",
              "    .dataframe tbody tr th:only-of-type {\n",
              "        vertical-align: middle;\n",
              "    }\n",
              "\n",
              "    .dataframe tbody tr th {\n",
              "        vertical-align: top;\n",
              "    }\n",
              "\n",
              "    .dataframe thead th {\n",
              "        text-align: right;\n",
              "    }\n",
              "</style>\n",
              "<table border=\"1\" class=\"dataframe\">\n",
              "  <thead>\n",
              "    <tr style=\"text-align: right;\">\n",
              "      <th></th>\n",
              "      <th>0</th>\n",
              "      <th>1</th>\n",
              "      <th>2</th>\n",
              "      <th>3</th>\n",
              "      <th>4</th>\n",
              "      <th>5</th>\n",
              "      <th>6</th>\n",
              "      <th>7</th>\n",
              "      <th>8</th>\n",
              "      <th>9</th>\n",
              "      <th>...</th>\n",
              "      <th>34</th>\n",
              "      <th>35</th>\n",
              "      <th>36</th>\n",
              "      <th>37</th>\n",
              "      <th>38</th>\n",
              "      <th>39</th>\n",
              "      <th>40</th>\n",
              "      <th>41</th>\n",
              "      <th>42</th>\n",
              "      <th>43</th>\n",
              "    </tr>\n",
              "  </thead>\n",
              "  <tbody>\n",
              "    <tr>\n",
              "      <th>0</th>\n",
              "      <td>0.995545</td>\n",
              "      <td>-1.032819</td>\n",
              "      <td>-0.285964</td>\n",
              "      <td>-0.26814</td>\n",
              "      <td>-0.383325</td>\n",
              "      <td>-0.807152</td>\n",
              "      <td>-0.633614</td>\n",
              "      <td>-0.182156</td>\n",
              "      <td>-0.619713</td>\n",
              "      <td>-0.217343</td>\n",
              "      <td>...</td>\n",
              "      <td>-0.497002</td>\n",
              "      <td>-0.606797</td>\n",
              "      <td>-0.556056</td>\n",
              "      <td>-0.652386</td>\n",
              "      <td>0.0</td>\n",
              "      <td>0.0</td>\n",
              "      <td>1.0</td>\n",
              "      <td>0.0</td>\n",
              "      <td>0.020451</td>\n",
              "      <td>0.693147</td>\n",
              "    </tr>\n",
              "  </tbody>\n",
              "</table>\n",
              "<p>1 rows × 44 columns</p>\n",
              "</div>\n",
              "      <button class=\"colab-df-convert\" onclick=\"convertToInteractive('df-466152f9-7070-42b4-9c30-e964e872fe82')\"\n",
              "              title=\"Convert this dataframe to an interactive table.\"\n",
              "              style=\"display:none;\">\n",
              "        \n",
              "  <svg xmlns=\"http://www.w3.org/2000/svg\" height=\"24px\"viewBox=\"0 0 24 24\"\n",
              "       width=\"24px\">\n",
              "    <path d=\"M0 0h24v24H0V0z\" fill=\"none\"/>\n",
              "    <path d=\"M18.56 5.44l.94 2.06.94-2.06 2.06-.94-2.06-.94-.94-2.06-.94 2.06-2.06.94zm-11 1L8.5 8.5l.94-2.06 2.06-.94-2.06-.94L8.5 2.5l-.94 2.06-2.06.94zm10 10l.94 2.06.94-2.06 2.06-.94-2.06-.94-.94-2.06-.94 2.06-2.06.94z\"/><path d=\"M17.41 7.96l-1.37-1.37c-.4-.4-.92-.59-1.43-.59-.52 0-1.04.2-1.43.59L10.3 9.45l-7.72 7.72c-.78.78-.78 2.05 0 2.83L4 21.41c.39.39.9.59 1.41.59.51 0 1.02-.2 1.41-.59l7.78-7.78 2.81-2.81c.8-.78.8-2.07 0-2.86zM5.41 20L4 18.59l7.72-7.72 1.47 1.35L5.41 20z\"/>\n",
              "  </svg>\n",
              "      </button>\n",
              "      \n",
              "  <style>\n",
              "    .colab-df-container {\n",
              "      display:flex;\n",
              "      flex-wrap:wrap;\n",
              "      gap: 12px;\n",
              "    }\n",
              "\n",
              "    .colab-df-convert {\n",
              "      background-color: #E8F0FE;\n",
              "      border: none;\n",
              "      border-radius: 50%;\n",
              "      cursor: pointer;\n",
              "      display: none;\n",
              "      fill: #1967D2;\n",
              "      height: 32px;\n",
              "      padding: 0 0 0 0;\n",
              "      width: 32px;\n",
              "    }\n",
              "\n",
              "    .colab-df-convert:hover {\n",
              "      background-color: #E2EBFA;\n",
              "      box-shadow: 0px 1px 2px rgba(60, 64, 67, 0.3), 0px 1px 3px 1px rgba(60, 64, 67, 0.15);\n",
              "      fill: #174EA6;\n",
              "    }\n",
              "\n",
              "    [theme=dark] .colab-df-convert {\n",
              "      background-color: #3B4455;\n",
              "      fill: #D2E3FC;\n",
              "    }\n",
              "\n",
              "    [theme=dark] .colab-df-convert:hover {\n",
              "      background-color: #434B5C;\n",
              "      box-shadow: 0px 1px 3px 1px rgba(0, 0, 0, 0.15);\n",
              "      filter: drop-shadow(0px 1px 2px rgba(0, 0, 0, 0.3));\n",
              "      fill: #FFFFFF;\n",
              "    }\n",
              "  </style>\n",
              "\n",
              "      <script>\n",
              "        const buttonEl =\n",
              "          document.querySelector('#df-466152f9-7070-42b4-9c30-e964e872fe82 button.colab-df-convert');\n",
              "        buttonEl.style.display =\n",
              "          google.colab.kernel.accessAllowed ? 'block' : 'none';\n",
              "\n",
              "        async function convertToInteractive(key) {\n",
              "          const element = document.querySelector('#df-466152f9-7070-42b4-9c30-e964e872fe82');\n",
              "          const dataTable =\n",
              "            await google.colab.kernel.invokeFunction('convertToInteractive',\n",
              "                                                     [key], {});\n",
              "          if (!dataTable) return;\n",
              "\n",
              "          const docLinkHtml = 'Like what you see? Visit the ' +\n",
              "            '<a target=\"_blank\" href=https://colab.research.google.com/notebooks/data_table.ipynb>data table notebook</a>'\n",
              "            + ' to learn more about interactive tables.';\n",
              "          element.innerHTML = '';\n",
              "          dataTable['output_type'] = 'display_data';\n",
              "          await google.colab.output.renderOutput(dataTable, element);\n",
              "          const docLink = document.createElement('div');\n",
              "          docLink.innerHTML = docLinkHtml;\n",
              "          element.appendChild(docLink);\n",
              "        }\n",
              "      </script>\n",
              "    </div>\n",
              "  </div>\n",
              "  "
            ]
          },
          "metadata": {},
          "execution_count": 17
        }
      ]
    },
    {
      "cell_type": "code",
      "source": [
        "submission_data = df_test.values[:, :-1]\n",
        "submission_data.shape"
      ],
      "metadata": {
        "id": "vUeYT5w9wjbK",
        "outputId": "1695b4b8-93da-4428-933a-787923cafe10",
        "colab": {
          "base_uri": "https://localhost:8080/"
        }
      },
      "execution_count": 18,
      "outputs": [
        {
          "output_type": "execute_result",
          "data": {
            "text/plain": [
              "(100000, 43)"
            ]
          },
          "metadata": {},
          "execution_count": 18
        }
      ]
    },
    {
      "cell_type": "code",
      "source": [
        "submission_data_scaled = scaler.transform(\n",
        "    submission_data\n",
        ")"
      ],
      "metadata": {
        "id": "uOzW8rLJwpUM"
      },
      "execution_count": 19,
      "outputs": []
    },
    {
      "cell_type": "code",
      "source": [
        "submission_data_scaled[:, 0]"
      ],
      "metadata": {
        "id": "D6Vtwbu1wt5S",
        "outputId": "6c7a68ac-693b-41b3-d1e0-703695ab1f4f",
        "colab": {
          "base_uri": "https://localhost:8080/"
        }
      },
      "execution_count": 21,
      "outputs": [
        {
          "output_type": "execute_result",
          "data": {
            "text/plain": [
              "array([0.83333333, 0.83333333, 0.94444444, ..., 0.88888889, 0.94444444,\n",
              "       0.77777778])"
            ]
          },
          "metadata": {},
          "execution_count": 21
        }
      ]
    },
    {
      "cell_type": "code",
      "source": [
        "final_predictions = np.exp(\n",
        "    final_model.predict(submission_data_scaled)\n",
        ")\n",
        "final_predictions[:5]"
      ],
      "metadata": {
        "id": "6CytgWtUwyrW",
        "outputId": "c8a1085f-84e9-469c-94b9-580c2bb82c00",
        "colab": {
          "base_uri": "https://localhost:8080/"
        }
      },
      "execution_count": 23,
      "outputs": [
        {
          "output_type": "execute_result",
          "data": {
            "text/plain": [
              "array([[3953342.8],\n",
              "       [4843340. ],\n",
              "       [4010883.5],\n",
              "       [9914572. ],\n",
              "       [6559134. ]], dtype=float32)"
            ]
          },
          "metadata": {},
          "execution_count": 23
        }
      ]
    },
    {
      "cell_type": "code",
      "source": [
        "df_submission = pd.DataFrame(\n",
        "    final_predictions.ravel(),\n",
        "    columns=['Prediction']\n",
        ")\n",
        "df_submission.index.rename('Id', inplace=True)\n",
        "df_submission.head()"
      ],
      "metadata": {
        "id": "k_OjC7r_w5ew",
        "outputId": "0ec57bb3-5df6-44a3-8453-92b2dfb7ca3d",
        "colab": {
          "base_uri": "https://localhost:8080/",
          "height": 237
        }
      },
      "execution_count": 26,
      "outputs": [
        {
          "output_type": "execute_result",
          "data": {
            "text/plain": [
              "    Prediction\n",
              "Id            \n",
              "0   3953342.75\n",
              "1   4843340.00\n",
              "2   4010883.50\n",
              "3   9914572.00\n",
              "4   6559134.00"
            ],
            "text/html": [
              "\n",
              "  <div id=\"df-052ed214-65da-4938-b737-403d67b4d627\">\n",
              "    <div class=\"colab-df-container\">\n",
              "      <div>\n",
              "<style scoped>\n",
              "    .dataframe tbody tr th:only-of-type {\n",
              "        vertical-align: middle;\n",
              "    }\n",
              "\n",
              "    .dataframe tbody tr th {\n",
              "        vertical-align: top;\n",
              "    }\n",
              "\n",
              "    .dataframe thead th {\n",
              "        text-align: right;\n",
              "    }\n",
              "</style>\n",
              "<table border=\"1\" class=\"dataframe\">\n",
              "  <thead>\n",
              "    <tr style=\"text-align: right;\">\n",
              "      <th></th>\n",
              "      <th>Prediction</th>\n",
              "    </tr>\n",
              "    <tr>\n",
              "      <th>Id</th>\n",
              "      <th></th>\n",
              "    </tr>\n",
              "  </thead>\n",
              "  <tbody>\n",
              "    <tr>\n",
              "      <th>0</th>\n",
              "      <td>3953342.75</td>\n",
              "    </tr>\n",
              "    <tr>\n",
              "      <th>1</th>\n",
              "      <td>4843340.00</td>\n",
              "    </tr>\n",
              "    <tr>\n",
              "      <th>2</th>\n",
              "      <td>4010883.50</td>\n",
              "    </tr>\n",
              "    <tr>\n",
              "      <th>3</th>\n",
              "      <td>9914572.00</td>\n",
              "    </tr>\n",
              "    <tr>\n",
              "      <th>4</th>\n",
              "      <td>6559134.00</td>\n",
              "    </tr>\n",
              "  </tbody>\n",
              "</table>\n",
              "</div>\n",
              "      <button class=\"colab-df-convert\" onclick=\"convertToInteractive('df-052ed214-65da-4938-b737-403d67b4d627')\"\n",
              "              title=\"Convert this dataframe to an interactive table.\"\n",
              "              style=\"display:none;\">\n",
              "        \n",
              "  <svg xmlns=\"http://www.w3.org/2000/svg\" height=\"24px\"viewBox=\"0 0 24 24\"\n",
              "       width=\"24px\">\n",
              "    <path d=\"M0 0h24v24H0V0z\" fill=\"none\"/>\n",
              "    <path d=\"M18.56 5.44l.94 2.06.94-2.06 2.06-.94-2.06-.94-.94-2.06-.94 2.06-2.06.94zm-11 1L8.5 8.5l.94-2.06 2.06-.94-2.06-.94L8.5 2.5l-.94 2.06-2.06.94zm10 10l.94 2.06.94-2.06 2.06-.94-2.06-.94-.94-2.06-.94 2.06-2.06.94z\"/><path d=\"M17.41 7.96l-1.37-1.37c-.4-.4-.92-.59-1.43-.59-.52 0-1.04.2-1.43.59L10.3 9.45l-7.72 7.72c-.78.78-.78 2.05 0 2.83L4 21.41c.39.39.9.59 1.41.59.51 0 1.02-.2 1.41-.59l7.78-7.78 2.81-2.81c.8-.78.8-2.07 0-2.86zM5.41 20L4 18.59l7.72-7.72 1.47 1.35L5.41 20z\"/>\n",
              "  </svg>\n",
              "      </button>\n",
              "      \n",
              "  <style>\n",
              "    .colab-df-container {\n",
              "      display:flex;\n",
              "      flex-wrap:wrap;\n",
              "      gap: 12px;\n",
              "    }\n",
              "\n",
              "    .colab-df-convert {\n",
              "      background-color: #E8F0FE;\n",
              "      border: none;\n",
              "      border-radius: 50%;\n",
              "      cursor: pointer;\n",
              "      display: none;\n",
              "      fill: #1967D2;\n",
              "      height: 32px;\n",
              "      padding: 0 0 0 0;\n",
              "      width: 32px;\n",
              "    }\n",
              "\n",
              "    .colab-df-convert:hover {\n",
              "      background-color: #E2EBFA;\n",
              "      box-shadow: 0px 1px 2px rgba(60, 64, 67, 0.3), 0px 1px 3px 1px rgba(60, 64, 67, 0.15);\n",
              "      fill: #174EA6;\n",
              "    }\n",
              "\n",
              "    [theme=dark] .colab-df-convert {\n",
              "      background-color: #3B4455;\n",
              "      fill: #D2E3FC;\n",
              "    }\n",
              "\n",
              "    [theme=dark] .colab-df-convert:hover {\n",
              "      background-color: #434B5C;\n",
              "      box-shadow: 0px 1px 3px 1px rgba(0, 0, 0, 0.15);\n",
              "      filter: drop-shadow(0px 1px 2px rgba(0, 0, 0, 0.3));\n",
              "      fill: #FFFFFF;\n",
              "    }\n",
              "  </style>\n",
              "\n",
              "      <script>\n",
              "        const buttonEl =\n",
              "          document.querySelector('#df-052ed214-65da-4938-b737-403d67b4d627 button.colab-df-convert');\n",
              "        buttonEl.style.display =\n",
              "          google.colab.kernel.accessAllowed ? 'block' : 'none';\n",
              "\n",
              "        async function convertToInteractive(key) {\n",
              "          const element = document.querySelector('#df-052ed214-65da-4938-b737-403d67b4d627');\n",
              "          const dataTable =\n",
              "            await google.colab.kernel.invokeFunction('convertToInteractive',\n",
              "                                                     [key], {});\n",
              "          if (!dataTable) return;\n",
              "\n",
              "          const docLinkHtml = 'Like what you see? Visit the ' +\n",
              "            '<a target=\"_blank\" href=https://colab.research.google.com/notebooks/data_table.ipynb>data table notebook</a>'\n",
              "            + ' to learn more about interactive tables.';\n",
              "          element.innerHTML = '';\n",
              "          dataTable['output_type'] = 'display_data';\n",
              "          await google.colab.output.renderOutput(dataTable, element);\n",
              "          const docLink = document.createElement('div');\n",
              "          docLink.innerHTML = docLinkHtml;\n",
              "          element.appendChild(docLink);\n",
              "        }\n",
              "      </script>\n",
              "    </div>\n",
              "  </div>\n",
              "  "
            ]
          },
          "metadata": {},
          "execution_count": 26
        }
      ]
    },
    {
      "cell_type": "code",
      "source": [
        "final_model_name = 'FFNN_retrained'\n",
        "\n",
        "submission_path = os.path.join(\n",
        "    manager.models_trial_path,\n",
        "    final_model_name,\n",
        "    'submission.csv'\n",
        ")\n",
        "\n",
        "manager.save_models(\n",
        "    {\n",
        "        final_model_name: final_model\n",
        "    }\n",
        ")\n",
        "df_submission.to_csv(submission_path)"
      ],
      "metadata": {
        "id": "EvjjtYBVxTW-"
      },
      "execution_count": 27,
      "outputs": []
    }
  ]
}