{
  "nbformat": 4,
  "nbformat_minor": 0,
  "metadata": {
    "colab": {
      "name": "model_preparation.ipynb",
      "provenance": [],
      "collapsed_sections": [
        "uMLe8EvZM6Zu",
        "S3n0_Ht7NUdv",
        "B98xuMDok8Ea",
        "2GXVk_QFlFOw"
      ],
      "toc_visible": true,
      "authorship_tag": "ABX9TyNuFXKXBVnEGO6a1SNGXZL8",
      "include_colab_link": true
    },
    "kernelspec": {
      "name": "python3",
      "display_name": "Python 3"
    },
    "language_info": {
      "name": "python"
    }
  },
  "cells": [
    {
      "cell_type": "markdown",
      "metadata": {
        "id": "view-in-github",
        "colab_type": "text"
      },
      "source": [
        "<a href=\"https://colab.research.google.com/github/PashaIanko/Kaggle.Restaurant-Revenue-Prediction/blob/path_manager/model_preparation.ipynb\" target=\"_parent\"><img src=\"https://colab.research.google.com/assets/colab-badge.svg\" alt=\"Open In Colab\"/></a>"
      ]
    },
    {
      "cell_type": "markdown",
      "source": [
        "- Stretch tasks:\n",
        "    - CV\n",
        "    - best_params_\n",
        "    - Short list of models\n",
        "    - sklearn.metrics module"
      ],
      "metadata": {
        "id": "A-3O4yB_Q8dL"
      }
    },
    {
      "cell_type": "markdown",
      "source": [
        "# Imports"
      ],
      "metadata": {
        "id": "U2bYgdttM4jD"
      }
    },
    {
      "cell_type": "code",
      "execution_count": 1,
      "metadata": {
        "id": "mtTZUMDJLvw2"
      },
      "outputs": [],
      "source": [
        "from google.colab import drive\n",
        "import pandas as pd\n",
        "import numpy as np\n",
        "import matplotlib.pyplot as plt\n",
        "import pickle"
      ]
    },
    {
      "cell_type": "code",
      "source": [
        "# Models\n",
        "from sklearn.linear_model import LinearRegression\n",
        "from sklearn.tree import DecisionTreeRegressor\n",
        "from sklearn.ensemble import RandomForestRegressor\n",
        "from sklearn.linear_model import Lasso\n",
        "from sklearn.linear_model import ElasticNet\n",
        "from sklearn.svm import SVR\n",
        "\n",
        "# Grid search\n",
        "from sklearn.model_selection import GridSearchCV\n",
        "\n",
        "# Metrics\n",
        "from sklearn.metrics import mean_squared_error\n",
        "from sklearn.model_selection import cross_val_score"
      ],
      "metadata": {
        "id": "1JlpfMx9Ri3A"
      },
      "execution_count": 2,
      "outputs": []
    },
    {
      "cell_type": "code",
      "source": [
        "# PEP 8\n",
        "%%capture\n",
        "!pip install pycodestyle\n",
        "!pip install --index-url https://test.pypi.org/simple/ nbpep8\n",
        "\n",
        "from nbpep8.nbpep8 import pep8"
      ],
      "metadata": {
        "id": "n4xmQqzXsleN"
      },
      "execution_count": 3,
      "outputs": []
    },
    {
      "cell_type": "markdown",
      "source": [
        "# Setup paths"
      ],
      "metadata": {
        "id": "uMLe8EvZM6Zu"
      }
    },
    {
      "cell_type": "code",
      "source": [
        "# %%pycodestyle\n",
        "from dataclasses import dataclass\n",
        "from dataclasses import field\n",
        "import os\n",
        "\n",
        "\n",
        "@dataclass\n",
        "class PathManager:\n",
        "    competition_path: str\n",
        "    preprocessing_trial: int\n",
        "    models_trial: int\n",
        "\n",
        "    def __post_init__(self):\n",
        "        self.data_root_path = os.path.join(self.competition_path, 'Data')\n",
        "        self.models_root_path = os.path.join(self.competition_path, 'Models')\n",
        "\n",
        "        self.data_trial_path = os.path.join(\n",
        "            self.data_root_path,\n",
        "            f'preproc_trial_{self.preprocessing_trial}'\n",
        "        )\n",
        "        self.models_trial_path = os.path.join(\n",
        "            self.models_root_path,\n",
        "            f'trial_{self.models_trial}'\n",
        "        )\n",
        "\n",
        "    @property\n",
        "    def train_path(self):\n",
        "        return os.path.join(self.data_root_path, 'train.csv')\n",
        "\n",
        "    @property\n",
        "    def test_path(self):\n",
        "        return os.path.join(self.data_root_path, 'test.csv')\n",
        "\n",
        "    def _create_path(self, path):\n",
        "        if not os.path.isdir(path):\n",
        "            os.mkdir(path)\n",
        "        else:\n",
        "            print(f'{path} already exists')\n",
        "\n",
        "    def save_to_csv(self, array_, path_, file_name_):\n",
        "        df = pd.DataFrame(array_)\n",
        "        df.to_csv(os.path.join(path_, file_name_))\n",
        "\n",
        "    def setup_paths(self):\n",
        "        # precondition\n",
        "        assert os.path.isdir(self.data_root_path), print(self.data_root_path)\n",
        "        assert os.path.isdir(self.models_root_path), \\\n",
        "            print(self.models_root_path)\n",
        "\n",
        "        self._create_path(self.data_trial_path)\n",
        "        self._create_path(self.models_trial_path)\n",
        "\n",
        "    def save_models(self, sklearn_models_dict_):\n",
        "        '''\n",
        "        For each model in the dictionary, create a folder.\n",
        "        Save pickle file there. If model (or folder) already exists -\n",
        "        overrides all files\n",
        "        '''\n",
        "        for model_name, sklearn_model in sklearn_models_dict_.items():\n",
        "            folder_path = os.path.join(\n",
        "                self.models_trial_path, model_name\n",
        "            )\n",
        "            self._create_path(folder_path)\n",
        "            model_filename = model_name + '.sav'\n",
        "            pickle.dump(\n",
        "                sklearn_model,\n",
        "                open(\n",
        "                    os.path.join(folder_path, model_filename),\n",
        "                    'w+b'\n",
        "                ),\n",
        "            )\n",
        "\n",
        "    def load_models(self, models_subfolders_=[]):\n",
        "        '''\n",
        "        1. Goes to self.models_trial_path\n",
        "        2. If models_names=[] - downloads all\n",
        "           models from their subfolders.\n",
        "        3. models_names must contain names of subfolders on\n",
        "           google drive!\n",
        "        '''\n",
        "\n",
        "        # precondition\n",
        "        assert os.path.isdir(self.models_trial_path), \\\n",
        "            print(self.models_trial_path)\n",
        "\n",
        "        available_models_subfolders = os.listdir(self.models_trial_path)\n",
        "        if models_subfolders_:\n",
        "            models_to_download = models_subfolders_\n",
        "        else:\n",
        "            # Download everything\n",
        "            models_to_download = available_models_subfolders\n",
        "\n",
        "        res = {}\n",
        "        for model_subfolder in models_to_download:\n",
        "            # file name coincides with folder name\n",
        "            file_name = f'{model_subfolder}.sav'\n",
        "            full_path = os.path.join(\n",
        "                self.models_trial_path,\n",
        "                model_subfolder,\n",
        "                file_name\n",
        "            )\n",
        "\n",
        "            loaded_model = pickle.load(\n",
        "                open(full_path, 'rb')\n",
        "            )\n",
        "            res[model_subfolder] = loaded_model\n",
        "        return res\n",
        "\n",
        "\n",
        "pep8(_ih)"
      ],
      "metadata": {
        "id": "fJ1aRd5SDKEG",
        "outputId": "7364a240-e018-41e6-8354-e52a2f17df72",
        "colab": {
          "base_uri": "https://localhost:8080/"
        }
      },
      "execution_count": 28,
      "outputs": [
        {
          "output_type": "stream",
          "name": "stdout",
          "text": [
            "\n"
          ]
        }
      ]
    },
    {
      "cell_type": "code",
      "source": [
        "drive.mount('/content/gdrive')\n",
        "gdrive_path = '/content/gdrive/MyDrive/'\n",
        "\n",
        "COMPETITION_PATH = gdrive_path + 'ML/Competitions/5.RestaurantRevenue/'\n",
        "PREPROC_TRIAL = 1\n",
        "MODELS_TRIAL = 1"
      ],
      "metadata": {
        "id": "rsoA3LtCDP22",
        "outputId": "d222fdbf-0cca-489f-8cc1-77eadc0fb21f",
        "colab": {
          "base_uri": "https://localhost:8080/"
        }
      },
      "execution_count": 29,
      "outputs": [
        {
          "output_type": "stream",
          "name": "stdout",
          "text": [
            "Drive already mounted at /content/gdrive; to attempt to forcibly remount, call drive.mount(\"/content/gdrive\", force_remount=True).\n"
          ]
        }
      ]
    },
    {
      "cell_type": "code",
      "source": [
        "path_manager = PathManager(\n",
        "    competition_path=COMPETITION_PATH, \n",
        "    preprocessing_trial=PREPROC_TRIAL,\n",
        "    models_trial=MODELS_TRIAL\n",
        ")\n",
        "path_manager.setup_paths()"
      ],
      "metadata": {
        "id": "77e1K8mRDjbM",
        "outputId": "b8938899-ec57-43e3-b2d5-88739970bbc6",
        "colab": {
          "base_uri": "https://localhost:8080/"
        }
      },
      "execution_count": 30,
      "outputs": [
        {
          "output_type": "stream",
          "name": "stdout",
          "text": [
            "/content/gdrive/MyDrive/ML/Competitions/5.RestaurantRevenue/Data/preproc_trial_1 already exists\n",
            "/content/gdrive/MyDrive/ML/Competitions/5.RestaurantRevenue/Models/trial_1 already exists\n"
          ]
        }
      ]
    },
    {
      "cell_type": "markdown",
      "source": [
        "# Download the data"
      ],
      "metadata": {
        "id": "S3n0_Ht7NUdv"
      }
    },
    {
      "cell_type": "code",
      "source": [
        "kaggle_test_path = os.path.join(\n",
        "    path_manager.data_trial_path,\n",
        "    'test_processed.csv'\n",
        ")\n",
        "df_test = pd.read_csv(\n",
        "    kaggle_test_path, index_col=[0]\n",
        ")\n",
        "df_test.head(2)"
      ],
      "metadata": {
        "colab": {
          "base_uri": "https://localhost:8080/",
          "height": 0
        },
        "id": "d6EyPaN57RU_",
        "outputId": "ed2ff7fe-8a53-4ff6-a2b2-e8b1d63152b7"
      },
      "execution_count": 7,
      "outputs": [
        {
          "output_type": "execute_result",
          "data": {
            "text/plain": [
              "          0         1        2         3         4         5         6  \\\n",
              "0 -1.032819 -0.285964 -0.26814 -0.383325 -0.807152 -0.633614 -0.182156   \n",
              "1 -0.334236 -0.285964 -0.26814 -0.383325  0.014161 -0.633614 -0.182156   \n",
              "\n",
              "          7         8         9  ...        34        35        36      37  \\\n",
              "0 -0.619713 -0.217343 -0.244523  ... -0.606797 -0.556056 -0.652386  2011.0   \n",
              "1 -1.176974 -0.790338 -0.811816  ... -0.606797 -0.556056 -0.652386  2011.0   \n",
              "\n",
              "    38   39   40   41        42        43  \n",
              "0  0.0  0.0  1.0  0.0  0.341412  0.693147  \n",
              "1  0.0  0.0  0.0  1.0  2.161000  0.693147  \n",
              "\n",
              "[2 rows x 44 columns]"
            ],
            "text/html": [
              "\n",
              "  <div id=\"df-c7f44d08-6a7f-494a-9928-d0a778d0386a\">\n",
              "    <div class=\"colab-df-container\">\n",
              "      <div>\n",
              "<style scoped>\n",
              "    .dataframe tbody tr th:only-of-type {\n",
              "        vertical-align: middle;\n",
              "    }\n",
              "\n",
              "    .dataframe tbody tr th {\n",
              "        vertical-align: top;\n",
              "    }\n",
              "\n",
              "    .dataframe thead th {\n",
              "        text-align: right;\n",
              "    }\n",
              "</style>\n",
              "<table border=\"1\" class=\"dataframe\">\n",
              "  <thead>\n",
              "    <tr style=\"text-align: right;\">\n",
              "      <th></th>\n",
              "      <th>0</th>\n",
              "      <th>1</th>\n",
              "      <th>2</th>\n",
              "      <th>3</th>\n",
              "      <th>4</th>\n",
              "      <th>5</th>\n",
              "      <th>6</th>\n",
              "      <th>7</th>\n",
              "      <th>8</th>\n",
              "      <th>9</th>\n",
              "      <th>...</th>\n",
              "      <th>34</th>\n",
              "      <th>35</th>\n",
              "      <th>36</th>\n",
              "      <th>37</th>\n",
              "      <th>38</th>\n",
              "      <th>39</th>\n",
              "      <th>40</th>\n",
              "      <th>41</th>\n",
              "      <th>42</th>\n",
              "      <th>43</th>\n",
              "    </tr>\n",
              "  </thead>\n",
              "  <tbody>\n",
              "    <tr>\n",
              "      <th>0</th>\n",
              "      <td>-1.032819</td>\n",
              "      <td>-0.285964</td>\n",
              "      <td>-0.26814</td>\n",
              "      <td>-0.383325</td>\n",
              "      <td>-0.807152</td>\n",
              "      <td>-0.633614</td>\n",
              "      <td>-0.182156</td>\n",
              "      <td>-0.619713</td>\n",
              "      <td>-0.217343</td>\n",
              "      <td>-0.244523</td>\n",
              "      <td>...</td>\n",
              "      <td>-0.606797</td>\n",
              "      <td>-0.556056</td>\n",
              "      <td>-0.652386</td>\n",
              "      <td>2011.0</td>\n",
              "      <td>0.0</td>\n",
              "      <td>0.0</td>\n",
              "      <td>1.0</td>\n",
              "      <td>0.0</td>\n",
              "      <td>0.341412</td>\n",
              "      <td>0.693147</td>\n",
              "    </tr>\n",
              "    <tr>\n",
              "      <th>1</th>\n",
              "      <td>-0.334236</td>\n",
              "      <td>-0.285964</td>\n",
              "      <td>-0.26814</td>\n",
              "      <td>-0.383325</td>\n",
              "      <td>0.014161</td>\n",
              "      <td>-0.633614</td>\n",
              "      <td>-0.182156</td>\n",
              "      <td>-1.176974</td>\n",
              "      <td>-0.790338</td>\n",
              "      <td>-0.811816</td>\n",
              "      <td>...</td>\n",
              "      <td>-0.606797</td>\n",
              "      <td>-0.556056</td>\n",
              "      <td>-0.652386</td>\n",
              "      <td>2011.0</td>\n",
              "      <td>0.0</td>\n",
              "      <td>0.0</td>\n",
              "      <td>0.0</td>\n",
              "      <td>1.0</td>\n",
              "      <td>2.161000</td>\n",
              "      <td>0.693147</td>\n",
              "    </tr>\n",
              "  </tbody>\n",
              "</table>\n",
              "<p>2 rows × 44 columns</p>\n",
              "</div>\n",
              "      <button class=\"colab-df-convert\" onclick=\"convertToInteractive('df-c7f44d08-6a7f-494a-9928-d0a778d0386a')\"\n",
              "              title=\"Convert this dataframe to an interactive table.\"\n",
              "              style=\"display:none;\">\n",
              "        \n",
              "  <svg xmlns=\"http://www.w3.org/2000/svg\" height=\"24px\"viewBox=\"0 0 24 24\"\n",
              "       width=\"24px\">\n",
              "    <path d=\"M0 0h24v24H0V0z\" fill=\"none\"/>\n",
              "    <path d=\"M18.56 5.44l.94 2.06.94-2.06 2.06-.94-2.06-.94-.94-2.06-.94 2.06-2.06.94zm-11 1L8.5 8.5l.94-2.06 2.06-.94-2.06-.94L8.5 2.5l-.94 2.06-2.06.94zm10 10l.94 2.06.94-2.06 2.06-.94-2.06-.94-.94-2.06-.94 2.06-2.06.94z\"/><path d=\"M17.41 7.96l-1.37-1.37c-.4-.4-.92-.59-1.43-.59-.52 0-1.04.2-1.43.59L10.3 9.45l-7.72 7.72c-.78.78-.78 2.05 0 2.83L4 21.41c.39.39.9.59 1.41.59.51 0 1.02-.2 1.41-.59l7.78-7.78 2.81-2.81c.8-.78.8-2.07 0-2.86zM5.41 20L4 18.59l7.72-7.72 1.47 1.35L5.41 20z\"/>\n",
              "  </svg>\n",
              "      </button>\n",
              "      \n",
              "  <style>\n",
              "    .colab-df-container {\n",
              "      display:flex;\n",
              "      flex-wrap:wrap;\n",
              "      gap: 12px;\n",
              "    }\n",
              "\n",
              "    .colab-df-convert {\n",
              "      background-color: #E8F0FE;\n",
              "      border: none;\n",
              "      border-radius: 50%;\n",
              "      cursor: pointer;\n",
              "      display: none;\n",
              "      fill: #1967D2;\n",
              "      height: 32px;\n",
              "      padding: 0 0 0 0;\n",
              "      width: 32px;\n",
              "    }\n",
              "\n",
              "    .colab-df-convert:hover {\n",
              "      background-color: #E2EBFA;\n",
              "      box-shadow: 0px 1px 2px rgba(60, 64, 67, 0.3), 0px 1px 3px 1px rgba(60, 64, 67, 0.15);\n",
              "      fill: #174EA6;\n",
              "    }\n",
              "\n",
              "    [theme=dark] .colab-df-convert {\n",
              "      background-color: #3B4455;\n",
              "      fill: #D2E3FC;\n",
              "    }\n",
              "\n",
              "    [theme=dark] .colab-df-convert:hover {\n",
              "      background-color: #434B5C;\n",
              "      box-shadow: 0px 1px 3px 1px rgba(0, 0, 0, 0.15);\n",
              "      filter: drop-shadow(0px 1px 2px rgba(0, 0, 0, 0.3));\n",
              "      fill: #FFFFFF;\n",
              "    }\n",
              "  </style>\n",
              "\n",
              "      <script>\n",
              "        const buttonEl =\n",
              "          document.querySelector('#df-c7f44d08-6a7f-494a-9928-d0a778d0386a button.colab-df-convert');\n",
              "        buttonEl.style.display =\n",
              "          google.colab.kernel.accessAllowed ? 'block' : 'none';\n",
              "\n",
              "        async function convertToInteractive(key) {\n",
              "          const element = document.querySelector('#df-c7f44d08-6a7f-494a-9928-d0a778d0386a');\n",
              "          const dataTable =\n",
              "            await google.colab.kernel.invokeFunction('convertToInteractive',\n",
              "                                                     [key], {});\n",
              "          if (!dataTable) return;\n",
              "\n",
              "          const docLinkHtml = 'Like what you see? Visit the ' +\n",
              "            '<a target=\"_blank\" href=https://colab.research.google.com/notebooks/data_table.ipynb>data table notebook</a>'\n",
              "            + ' to learn more about interactive tables.';\n",
              "          element.innerHTML = '';\n",
              "          dataTable['output_type'] = 'display_data';\n",
              "          await google.colab.output.renderOutput(dataTable, element);\n",
              "          const docLink = document.createElement('div');\n",
              "          docLink.innerHTML = docLinkHtml;\n",
              "          element.appendChild(docLink);\n",
              "        }\n",
              "      </script>\n",
              "    </div>\n",
              "  </div>\n",
              "  "
            ]
          },
          "metadata": {},
          "execution_count": 7
        }
      ]
    },
    {
      "cell_type": "code",
      "source": [
        "df_test_sample = pd.read_csv(\n",
        "    os.path.join(path_manager.data_trial_path, 'test_sample_processed.csv'), \n",
        "    index_col=[0]\n",
        ")\n",
        "df_test_sample.head(2)"
      ],
      "metadata": {
        "colab": {
          "base_uri": "https://localhost:8080/",
          "height": 0
        },
        "id": "e5SY6pmc3iNC",
        "outputId": "255c2ade-caad-4346-9122-0b7baca8ed81"
      },
      "execution_count": 8,
      "outputs": [
        {
          "output_type": "execute_result",
          "data": {
            "text/plain": [
              "          0         1         2         3         4         5         6  \\\n",
              "0 -1.032819 -1.653875  0.688913 -1.382555 -0.807152 -0.633614 -2.019553   \n",
              "1  0.015056  0.397991 -0.268140 -1.382555 -0.807152 -0.159426 -0.182156   \n",
              "\n",
              "          7         8         9  ...        34        35        36      37  \\\n",
              "0 -0.062452 -0.217343 -0.244523  ... -0.606797 -0.556056 -0.652386  2008.0   \n",
              "1 -0.062452 -0.217343 -0.244523  ...  0.655776  0.253599  0.511872  2007.0   \n",
              "\n",
              "    38   39   40   41        42         43  \n",
              "0  0.0  0.0  1.0  0.0  1.134031  14.842280  \n",
              "1  0.0  0.0  0.0  1.0  1.769000  15.312391  \n",
              "\n",
              "[2 rows x 44 columns]"
            ],
            "text/html": [
              "\n",
              "  <div id=\"df-875772e7-70ca-4440-b027-b6d1f8ec9884\">\n",
              "    <div class=\"colab-df-container\">\n",
              "      <div>\n",
              "<style scoped>\n",
              "    .dataframe tbody tr th:only-of-type {\n",
              "        vertical-align: middle;\n",
              "    }\n",
              "\n",
              "    .dataframe tbody tr th {\n",
              "        vertical-align: top;\n",
              "    }\n",
              "\n",
              "    .dataframe thead th {\n",
              "        text-align: right;\n",
              "    }\n",
              "</style>\n",
              "<table border=\"1\" class=\"dataframe\">\n",
              "  <thead>\n",
              "    <tr style=\"text-align: right;\">\n",
              "      <th></th>\n",
              "      <th>0</th>\n",
              "      <th>1</th>\n",
              "      <th>2</th>\n",
              "      <th>3</th>\n",
              "      <th>4</th>\n",
              "      <th>5</th>\n",
              "      <th>6</th>\n",
              "      <th>7</th>\n",
              "      <th>8</th>\n",
              "      <th>9</th>\n",
              "      <th>...</th>\n",
              "      <th>34</th>\n",
              "      <th>35</th>\n",
              "      <th>36</th>\n",
              "      <th>37</th>\n",
              "      <th>38</th>\n",
              "      <th>39</th>\n",
              "      <th>40</th>\n",
              "      <th>41</th>\n",
              "      <th>42</th>\n",
              "      <th>43</th>\n",
              "    </tr>\n",
              "  </thead>\n",
              "  <tbody>\n",
              "    <tr>\n",
              "      <th>0</th>\n",
              "      <td>-1.032819</td>\n",
              "      <td>-1.653875</td>\n",
              "      <td>0.688913</td>\n",
              "      <td>-1.382555</td>\n",
              "      <td>-0.807152</td>\n",
              "      <td>-0.633614</td>\n",
              "      <td>-2.019553</td>\n",
              "      <td>-0.062452</td>\n",
              "      <td>-0.217343</td>\n",
              "      <td>-0.244523</td>\n",
              "      <td>...</td>\n",
              "      <td>-0.606797</td>\n",
              "      <td>-0.556056</td>\n",
              "      <td>-0.652386</td>\n",
              "      <td>2008.0</td>\n",
              "      <td>0.0</td>\n",
              "      <td>0.0</td>\n",
              "      <td>1.0</td>\n",
              "      <td>0.0</td>\n",
              "      <td>1.134031</td>\n",
              "      <td>14.842280</td>\n",
              "    </tr>\n",
              "    <tr>\n",
              "      <th>1</th>\n",
              "      <td>0.015056</td>\n",
              "      <td>0.397991</td>\n",
              "      <td>-0.268140</td>\n",
              "      <td>-1.382555</td>\n",
              "      <td>-0.807152</td>\n",
              "      <td>-0.159426</td>\n",
              "      <td>-0.182156</td>\n",
              "      <td>-0.062452</td>\n",
              "      <td>-0.217343</td>\n",
              "      <td>-0.244523</td>\n",
              "      <td>...</td>\n",
              "      <td>0.655776</td>\n",
              "      <td>0.253599</td>\n",
              "      <td>0.511872</td>\n",
              "      <td>2007.0</td>\n",
              "      <td>0.0</td>\n",
              "      <td>0.0</td>\n",
              "      <td>0.0</td>\n",
              "      <td>1.0</td>\n",
              "      <td>1.769000</td>\n",
              "      <td>15.312391</td>\n",
              "    </tr>\n",
              "  </tbody>\n",
              "</table>\n",
              "<p>2 rows × 44 columns</p>\n",
              "</div>\n",
              "      <button class=\"colab-df-convert\" onclick=\"convertToInteractive('df-875772e7-70ca-4440-b027-b6d1f8ec9884')\"\n",
              "              title=\"Convert this dataframe to an interactive table.\"\n",
              "              style=\"display:none;\">\n",
              "        \n",
              "  <svg xmlns=\"http://www.w3.org/2000/svg\" height=\"24px\"viewBox=\"0 0 24 24\"\n",
              "       width=\"24px\">\n",
              "    <path d=\"M0 0h24v24H0V0z\" fill=\"none\"/>\n",
              "    <path d=\"M18.56 5.44l.94 2.06.94-2.06 2.06-.94-2.06-.94-.94-2.06-.94 2.06-2.06.94zm-11 1L8.5 8.5l.94-2.06 2.06-.94-2.06-.94L8.5 2.5l-.94 2.06-2.06.94zm10 10l.94 2.06.94-2.06 2.06-.94-2.06-.94-.94-2.06-.94 2.06-2.06.94z\"/><path d=\"M17.41 7.96l-1.37-1.37c-.4-.4-.92-.59-1.43-.59-.52 0-1.04.2-1.43.59L10.3 9.45l-7.72 7.72c-.78.78-.78 2.05 0 2.83L4 21.41c.39.39.9.59 1.41.59.51 0 1.02-.2 1.41-.59l7.78-7.78 2.81-2.81c.8-.78.8-2.07 0-2.86zM5.41 20L4 18.59l7.72-7.72 1.47 1.35L5.41 20z\"/>\n",
              "  </svg>\n",
              "      </button>\n",
              "      \n",
              "  <style>\n",
              "    .colab-df-container {\n",
              "      display:flex;\n",
              "      flex-wrap:wrap;\n",
              "      gap: 12px;\n",
              "    }\n",
              "\n",
              "    .colab-df-convert {\n",
              "      background-color: #E8F0FE;\n",
              "      border: none;\n",
              "      border-radius: 50%;\n",
              "      cursor: pointer;\n",
              "      display: none;\n",
              "      fill: #1967D2;\n",
              "      height: 32px;\n",
              "      padding: 0 0 0 0;\n",
              "      width: 32px;\n",
              "    }\n",
              "\n",
              "    .colab-df-convert:hover {\n",
              "      background-color: #E2EBFA;\n",
              "      box-shadow: 0px 1px 2px rgba(60, 64, 67, 0.3), 0px 1px 3px 1px rgba(60, 64, 67, 0.15);\n",
              "      fill: #174EA6;\n",
              "    }\n",
              "\n",
              "    [theme=dark] .colab-df-convert {\n",
              "      background-color: #3B4455;\n",
              "      fill: #D2E3FC;\n",
              "    }\n",
              "\n",
              "    [theme=dark] .colab-df-convert:hover {\n",
              "      background-color: #434B5C;\n",
              "      box-shadow: 0px 1px 3px 1px rgba(0, 0, 0, 0.15);\n",
              "      filter: drop-shadow(0px 1px 2px rgba(0, 0, 0, 0.3));\n",
              "      fill: #FFFFFF;\n",
              "    }\n",
              "  </style>\n",
              "\n",
              "      <script>\n",
              "        const buttonEl =\n",
              "          document.querySelector('#df-875772e7-70ca-4440-b027-b6d1f8ec9884 button.colab-df-convert');\n",
              "        buttonEl.style.display =\n",
              "          google.colab.kernel.accessAllowed ? 'block' : 'none';\n",
              "\n",
              "        async function convertToInteractive(key) {\n",
              "          const element = document.querySelector('#df-875772e7-70ca-4440-b027-b6d1f8ec9884');\n",
              "          const dataTable =\n",
              "            await google.colab.kernel.invokeFunction('convertToInteractive',\n",
              "                                                     [key], {});\n",
              "          if (!dataTable) return;\n",
              "\n",
              "          const docLinkHtml = 'Like what you see? Visit the ' +\n",
              "            '<a target=\"_blank\" href=https://colab.research.google.com/notebooks/data_table.ipynb>data table notebook</a>'\n",
              "            + ' to learn more about interactive tables.';\n",
              "          element.innerHTML = '';\n",
              "          dataTable['output_type'] = 'display_data';\n",
              "          await google.colab.output.renderOutput(dataTable, element);\n",
              "          const docLink = document.createElement('div');\n",
              "          docLink.innerHTML = docLinkHtml;\n",
              "          element.appendChild(docLink);\n",
              "        }\n",
              "      </script>\n",
              "    </div>\n",
              "  </div>\n",
              "  "
            ]
          },
          "metadata": {},
          "execution_count": 8
        }
      ]
    },
    {
      "cell_type": "code",
      "source": [
        "df_trainval = pd.read_csv(\n",
        "    os.path.join(path_manager.data_trial_path, 'trainval_sample_processed.csv'), \n",
        "    index_col=[0]\n",
        ")\n",
        "df_trainval.head(2)"
      ],
      "metadata": {
        "colab": {
          "base_uri": "https://localhost:8080/",
          "height": 0
        },
        "id": "-ZeWM9PpNWGK",
        "outputId": "092cc540-5a21-4694-b49e-68c36c582b5f"
      },
      "execution_count": 9,
      "outputs": [
        {
          "output_type": "execute_result",
          "data": {
            "text/plain": [
              "          0         1         2         3         4         5         6  \\\n",
              "0 -0.334236 -0.285964 -1.225193 -0.383325  0.014161 -0.633614 -0.182156   \n",
              "1 -0.683527 -0.285964 -1.225193  0.615905  1.656785  0.788952 -0.182156   \n",
              "\n",
              "          7         8         9  ...        34        35        36      37  \\\n",
              "0 -0.062452 -0.217343 -0.244523  ...  0.655776  0.253599  1.094000  2009.0   \n",
              "1 -0.619713 -0.790338 -0.811816  ... -0.606797 -0.556056 -0.652386  2007.0   \n",
              "\n",
              "    38   39   40   41     42         43  \n",
              "0  0.0  0.0  0.0  1.0  2.069  15.278005  \n",
              "1  1.0  0.0  1.0  0.0  5.663  15.255171  \n",
              "\n",
              "[2 rows x 44 columns]"
            ],
            "text/html": [
              "\n",
              "  <div id=\"df-5741d76f-5eca-49cf-b73d-668884b84b4a\">\n",
              "    <div class=\"colab-df-container\">\n",
              "      <div>\n",
              "<style scoped>\n",
              "    .dataframe tbody tr th:only-of-type {\n",
              "        vertical-align: middle;\n",
              "    }\n",
              "\n",
              "    .dataframe tbody tr th {\n",
              "        vertical-align: top;\n",
              "    }\n",
              "\n",
              "    .dataframe thead th {\n",
              "        text-align: right;\n",
              "    }\n",
              "</style>\n",
              "<table border=\"1\" class=\"dataframe\">\n",
              "  <thead>\n",
              "    <tr style=\"text-align: right;\">\n",
              "      <th></th>\n",
              "      <th>0</th>\n",
              "      <th>1</th>\n",
              "      <th>2</th>\n",
              "      <th>3</th>\n",
              "      <th>4</th>\n",
              "      <th>5</th>\n",
              "      <th>6</th>\n",
              "      <th>7</th>\n",
              "      <th>8</th>\n",
              "      <th>9</th>\n",
              "      <th>...</th>\n",
              "      <th>34</th>\n",
              "      <th>35</th>\n",
              "      <th>36</th>\n",
              "      <th>37</th>\n",
              "      <th>38</th>\n",
              "      <th>39</th>\n",
              "      <th>40</th>\n",
              "      <th>41</th>\n",
              "      <th>42</th>\n",
              "      <th>43</th>\n",
              "    </tr>\n",
              "  </thead>\n",
              "  <tbody>\n",
              "    <tr>\n",
              "      <th>0</th>\n",
              "      <td>-0.334236</td>\n",
              "      <td>-0.285964</td>\n",
              "      <td>-1.225193</td>\n",
              "      <td>-0.383325</td>\n",
              "      <td>0.014161</td>\n",
              "      <td>-0.633614</td>\n",
              "      <td>-0.182156</td>\n",
              "      <td>-0.062452</td>\n",
              "      <td>-0.217343</td>\n",
              "      <td>-0.244523</td>\n",
              "      <td>...</td>\n",
              "      <td>0.655776</td>\n",
              "      <td>0.253599</td>\n",
              "      <td>1.094000</td>\n",
              "      <td>2009.0</td>\n",
              "      <td>0.0</td>\n",
              "      <td>0.0</td>\n",
              "      <td>0.0</td>\n",
              "      <td>1.0</td>\n",
              "      <td>2.069</td>\n",
              "      <td>15.278005</td>\n",
              "    </tr>\n",
              "    <tr>\n",
              "      <th>1</th>\n",
              "      <td>-0.683527</td>\n",
              "      <td>-0.285964</td>\n",
              "      <td>-1.225193</td>\n",
              "      <td>0.615905</td>\n",
              "      <td>1.656785</td>\n",
              "      <td>0.788952</td>\n",
              "      <td>-0.182156</td>\n",
              "      <td>-0.619713</td>\n",
              "      <td>-0.790338</td>\n",
              "      <td>-0.811816</td>\n",
              "      <td>...</td>\n",
              "      <td>-0.606797</td>\n",
              "      <td>-0.556056</td>\n",
              "      <td>-0.652386</td>\n",
              "      <td>2007.0</td>\n",
              "      <td>1.0</td>\n",
              "      <td>0.0</td>\n",
              "      <td>1.0</td>\n",
              "      <td>0.0</td>\n",
              "      <td>5.663</td>\n",
              "      <td>15.255171</td>\n",
              "    </tr>\n",
              "  </tbody>\n",
              "</table>\n",
              "<p>2 rows × 44 columns</p>\n",
              "</div>\n",
              "      <button class=\"colab-df-convert\" onclick=\"convertToInteractive('df-5741d76f-5eca-49cf-b73d-668884b84b4a')\"\n",
              "              title=\"Convert this dataframe to an interactive table.\"\n",
              "              style=\"display:none;\">\n",
              "        \n",
              "  <svg xmlns=\"http://www.w3.org/2000/svg\" height=\"24px\"viewBox=\"0 0 24 24\"\n",
              "       width=\"24px\">\n",
              "    <path d=\"M0 0h24v24H0V0z\" fill=\"none\"/>\n",
              "    <path d=\"M18.56 5.44l.94 2.06.94-2.06 2.06-.94-2.06-.94-.94-2.06-.94 2.06-2.06.94zm-11 1L8.5 8.5l.94-2.06 2.06-.94-2.06-.94L8.5 2.5l-.94 2.06-2.06.94zm10 10l.94 2.06.94-2.06 2.06-.94-2.06-.94-.94-2.06-.94 2.06-2.06.94z\"/><path d=\"M17.41 7.96l-1.37-1.37c-.4-.4-.92-.59-1.43-.59-.52 0-1.04.2-1.43.59L10.3 9.45l-7.72 7.72c-.78.78-.78 2.05 0 2.83L4 21.41c.39.39.9.59 1.41.59.51 0 1.02-.2 1.41-.59l7.78-7.78 2.81-2.81c.8-.78.8-2.07 0-2.86zM5.41 20L4 18.59l7.72-7.72 1.47 1.35L5.41 20z\"/>\n",
              "  </svg>\n",
              "      </button>\n",
              "      \n",
              "  <style>\n",
              "    .colab-df-container {\n",
              "      display:flex;\n",
              "      flex-wrap:wrap;\n",
              "      gap: 12px;\n",
              "    }\n",
              "\n",
              "    .colab-df-convert {\n",
              "      background-color: #E8F0FE;\n",
              "      border: none;\n",
              "      border-radius: 50%;\n",
              "      cursor: pointer;\n",
              "      display: none;\n",
              "      fill: #1967D2;\n",
              "      height: 32px;\n",
              "      padding: 0 0 0 0;\n",
              "      width: 32px;\n",
              "    }\n",
              "\n",
              "    .colab-df-convert:hover {\n",
              "      background-color: #E2EBFA;\n",
              "      box-shadow: 0px 1px 2px rgba(60, 64, 67, 0.3), 0px 1px 3px 1px rgba(60, 64, 67, 0.15);\n",
              "      fill: #174EA6;\n",
              "    }\n",
              "\n",
              "    [theme=dark] .colab-df-convert {\n",
              "      background-color: #3B4455;\n",
              "      fill: #D2E3FC;\n",
              "    }\n",
              "\n",
              "    [theme=dark] .colab-df-convert:hover {\n",
              "      background-color: #434B5C;\n",
              "      box-shadow: 0px 1px 3px 1px rgba(0, 0, 0, 0.15);\n",
              "      filter: drop-shadow(0px 1px 2px rgba(0, 0, 0, 0.3));\n",
              "      fill: #FFFFFF;\n",
              "    }\n",
              "  </style>\n",
              "\n",
              "      <script>\n",
              "        const buttonEl =\n",
              "          document.querySelector('#df-5741d76f-5eca-49cf-b73d-668884b84b4a button.colab-df-convert');\n",
              "        buttonEl.style.display =\n",
              "          google.colab.kernel.accessAllowed ? 'block' : 'none';\n",
              "\n",
              "        async function convertToInteractive(key) {\n",
              "          const element = document.querySelector('#df-5741d76f-5eca-49cf-b73d-668884b84b4a');\n",
              "          const dataTable =\n",
              "            await google.colab.kernel.invokeFunction('convertToInteractive',\n",
              "                                                     [key], {});\n",
              "          if (!dataTable) return;\n",
              "\n",
              "          const docLinkHtml = 'Like what you see? Visit the ' +\n",
              "            '<a target=\"_blank\" href=https://colab.research.google.com/notebooks/data_table.ipynb>data table notebook</a>'\n",
              "            + ' to learn more about interactive tables.';\n",
              "          element.innerHTML = '';\n",
              "          dataTable['output_type'] = 'display_data';\n",
              "          await google.colab.output.renderOutput(dataTable, element);\n",
              "          const docLink = document.createElement('div');\n",
              "          docLink.innerHTML = docLinkHtml;\n",
              "          element.appendChild(docLink);\n",
              "        }\n",
              "      </script>\n",
              "    </div>\n",
              "  </div>\n",
              "  "
            ]
          },
          "metadata": {},
          "execution_count": 9
        }
      ]
    },
    {
      "cell_type": "code",
      "source": [
        "X_train_val = df_trainval.values[:, :-1]\n",
        "Y_train_val = df_trainval.values[:, -1]"
      ],
      "metadata": {
        "id": "J8FBYt0tQJFw"
      },
      "execution_count": 10,
      "outputs": []
    },
    {
      "cell_type": "code",
      "source": [
        "X_test_sample = df_test_sample.values[:, :-1]  # test subsample from training data\n",
        "Y_test_sample = df_test_sample.values[:, -1]"
      ],
      "metadata": {
        "id": "QLMmkUbIQzJN"
      },
      "execution_count": 11,
      "outputs": []
    },
    {
      "cell_type": "markdown",
      "source": [
        "# Select and train models (+ ensemble methods)"
      ],
      "metadata": {
        "id": "yfVYCyTcNIzh"
      }
    },
    {
      "cell_type": "markdown",
      "source": [
        "## Define models"
      ],
      "metadata": {
        "id": "3yuwyXBG3EXo"
      }
    },
    {
      "cell_type": "code",
      "source": [
        "from dataclasses import dataclass, field\n",
        "\n",
        "@dataclass\n",
        "class Model:\n",
        "    model: None\n",
        "    name: str\n",
        "    grid_search_param_grid: list \n",
        "    random_search_param_grid: list"
      ],
      "metadata": {
        "id": "eZX5SMJ7yeXf"
      },
      "execution_count": 12,
      "outputs": []
    },
    {
      "cell_type": "code",
      "source": [
        "RFModel = Model(\n",
        "    RandomForestRegressor(),\n",
        "    'RF',\n",
        "    [\n",
        "        {'n_estimators': [100, 200, 500]}\n",
        "    ],\n",
        "\n",
        "    [\n",
        "        {\n",
        "            'n_estimators': [100, 200, 300, 400, 500, 600, 700, 800],\n",
        "            'max_depth': [i for i in range(1, 20)]\n",
        "        }\n",
        "    ]\n",
        ")\n",
        "\n",
        "ElasticNetModel = Model(\n",
        "    ElasticNet(),\n",
        "    'Elastic',\n",
        "    [\n",
        "        {\n",
        "            'alpha': [0.1, 0.3, 0.5],\n",
        "            'l1_ratio': [0.2, 0.4]\n",
        "        }, \n",
        "    ],\n",
        "    [\n",
        "        {}\n",
        "    ]\n",
        ")\n",
        "\n",
        "SVRModel = Model(\n",
        "    SVR(),\n",
        "    'SVM reg',\n",
        "    [\n",
        "        {}\n",
        "    ],\n",
        "    [\n",
        "        {}\n",
        "    ]\n",
        ")"
      ],
      "metadata": {
        "id": "wN5j5kkNyU7M"
      },
      "execution_count": 13,
      "outputs": []
    },
    {
      "cell_type": "code",
      "source": [
        "all_models = {\n",
        "    model.name: model for model in [RFModel, SVRModel, ElasticNetModel]\n",
        "}"
      ],
      "metadata": {
        "id": "HJJeGdrmz2Sh"
      },
      "execution_count": 14,
      "outputs": []
    },
    {
      "cell_type": "markdown",
      "source": [
        "## Preliminary look (shortlisting 2-5 models)"
      ],
      "metadata": {
        "id": "JJ9oO_0QYFMR"
      }
    },
    {
      "cell_type": "markdown",
      "source": [
        "## Cross validation result"
      ],
      "metadata": {
        "id": "7NK6uu9E3Lf5"
      }
    },
    {
      "cell_type": "code",
      "source": [
        "def print_model_cv_scores(sklearn_models_dict_, X_, Y_, cv_, scoring_):\n",
        "    res = {}\n",
        "    for name, model in sklearn_models_dict_.items():\n",
        "        scores = cross_val_score(\n",
        "            model,\n",
        "            X_,\n",
        "            Y_,\n",
        "            cv=cv_,\n",
        "            scoring=scoring_\n",
        "        )\n",
        "        res[name] = scores\n",
        "    \n",
        "    # Sort the dict\n",
        "    sorted_res = {\n",
        "        k:v for \\\n",
        "        k, v in sorted(res.items(), key = lambda item: np.mean(item[1]))\n",
        "    }\n",
        "    for model_name, scores in sorted_res.items():\n",
        "        print(f'Model: {model_name}, mean: {np.mean(scores)}, std: {np.std(scores)}')\n",
        "\n",
        "    return sorted_res"
      ],
      "metadata": {
        "id": "_cZ6A4Z8YGv4"
      },
      "execution_count": 15,
      "outputs": []
    },
    {
      "cell_type": "code",
      "source": [
        "_ = print_model_cv_scores(\n",
        "    sklearn_models_dict_={\n",
        "        model_name: model.model for model_name, model in all_models.items()\n",
        "    },\n",
        "    X_=X_train_val,\n",
        "    Y_=Y_train_val,\n",
        "    cv_=7,\n",
        "    scoring_='neg_mean_squared_error'\n",
        ")"
      ],
      "metadata": {
        "colab": {
          "base_uri": "https://localhost:8080/"
        },
        "id": "xfmBuh3RYJu4",
        "outputId": "10a289be-1cf8-4d47-bea6-beacfad388fe"
      },
      "execution_count": 16,
      "outputs": [
        {
          "output_type": "stream",
          "name": "stdout",
          "text": [
            "Model: SVM reg, mean: -0.23975755066794463, std: 0.10254520924351965\n",
            "Model: Elastic, mean: -0.21569093211351922, std: 0.10074172443016455\n",
            "Model: RF, mean: -0.1886300129825333, std: 0.0632056961424282\n"
          ]
        }
      ]
    },
    {
      "cell_type": "markdown",
      "source": [
        "## Overfitting behavior"
      ],
      "metadata": {
        "id": "GyRFNZNh3O2-"
      }
    },
    {
      "cell_type": "code",
      "source": [
        "# %%pycodestyle\n",
        "from sklearn.model_selection import cross_validate\n",
        "\n",
        "\n",
        "def plot_cv_results(\n",
        "    sklearn_models_dict_, X_, Y_, cv_, scoring_, to_put_minus_=False):\n",
        "\n",
        "    for model_name, model in sklearn_models_dict_.items():\n",
        "        cv_res = cross_validate(\n",
        "            model,\n",
        "            X_,\n",
        "            Y_,\n",
        "            cv=cv_,\n",
        "            scoring=scoring_,\n",
        "            return_train_score=True\n",
        "        )\n",
        "        _, ax = plt.subplots()\n",
        "        x = np.arange(len(cv_res['test_score']))\n",
        "        width = 0.5\n",
        "        if to_put_minus_:\n",
        "            train_score = -cv_res['train_score']\n",
        "            test_score = -cv_res['test_score']\n",
        "        else:\n",
        "            train_score = cv_res['train_score']\n",
        "            test_score = cv_res['test_score']\n",
        "\n",
        "        ax.bar(x - width / 2, test_score, width, label='validation')\n",
        "        ax.bar(x + width / 2, train_score, width, label='train')\n",
        "\n",
        "        ax.set_title(f'Results for {model_name}')\n",
        "        ax.set_xlabel(f'CV fold number')\n",
        "        ax.set_ylabel(f'Metrics: {scoring_}')\n",
        "\n",
        "        ax.legend()\n",
        "        ax.grid()"
      ],
      "metadata": {
        "id": "DHSFBbUbx9U3"
      },
      "execution_count": 17,
      "outputs": []
    },
    {
      "cell_type": "code",
      "source": [
        "# %%pycodestyle\n",
        "plot_cv_results(\n",
        "    sklearn_models_dict_={\n",
        "        model_name: model.model for model_name, model in all_models.items()\n",
        "    },\n",
        "    X_=X_train_val,\n",
        "    Y_=Y_train_val,\n",
        "    cv_=5,\n",
        "    scoring_='neg_mean_squared_error',\n",
        "    to_put_minus_=True\n",
        ")"
      ],
      "metadata": {
        "colab": {
          "base_uri": "https://localhost:8080/",
          "height": 851
        },
        "id": "fGRthSlu0eDX",
        "outputId": "a840014e-57f1-45a8-c9f2-f52bf18ad2fc"
      },
      "execution_count": 18,
      "outputs": [
        {
          "output_type": "display_data",
          "data": {
            "text/plain": [
              "<Figure size 432x288 with 1 Axes>"
            ],
            "image/png": "[encoded data removed]"
          },
          "metadata": {
            "needs_background": "light"
          }
        },
        {
          "output_type": "display_data",
          "data": {
            "text/plain": [
              "<Figure size 432x288 with 1 Axes>"
            ],
            "image/png": "[encoded data removed]"
          },
          "metadata": {
            "needs_background": "light"
          }
        },
        {
          "output_type": "display_data",
          "data": {
            "text/plain": [
              "<Figure size 432x288 with 1 Axes>"
            ],
            "image/png": "[encoded data removed]"
          },
          "metadata": {
            "needs_background": "light"
          }
        }
      ]
    },
    {
      "cell_type": "code",
      "source": [
        "shortlisted_models = {\n",
        "    model.name: model for model in [RFModel, ElasticNetModel, SVRModel]\n",
        "}"
      ],
      "metadata": {
        "id": "HYaX2Q0I28W7"
      },
      "execution_count": 19,
      "outputs": []
    },
    {
      "cell_type": "markdown",
      "source": [
        "# Fine tuning"
      ],
      "metadata": {
        "id": "TfIM9kLeZw63"
      }
    },
    {
      "cell_type": "markdown",
      "source": [
        "## Grid search"
      ],
      "metadata": {
        "id": "B98xuMDok8Ea"
      }
    },
    {
      "cell_type": "code",
      "source": [
        "def fit_grid_search(models_dict_, X_, Y_, cv_, scoring_):\n",
        "    res = {\n",
        "        name: None for name in list(models_dict_.keys())\n",
        "    }\n",
        "    for name, model in models_dict_.items():\n",
        "        print(f'Fitting {name}')\n",
        "        \n",
        "        grid_search_estimator = GridSearchCV(\n",
        "            model.model,\n",
        "            param_grid=model.grid_search_param_grid,\n",
        "            cv=cv_,\n",
        "            scoring=scoring_,\n",
        "            return_train_score=True,\n",
        "            refit=True\n",
        "        )\n",
        "\n",
        "        grid_search_result = grid_search_estimator.fit(X_, Y_)\n",
        "        res[name] = grid_search_result\n",
        "    return res"
      ],
      "metadata": {
        "id": "dMtT-iDy309B"
      },
      "execution_count": 20,
      "outputs": []
    },
    {
      "cell_type": "code",
      "source": [
        "grid_search_results = fit_grid_search(\n",
        "    shortlisted_models,\n",
        "    X_=X_train_val,\n",
        "    Y_=Y_train_val,\n",
        "    cv_ = 5,\n",
        "    scoring_ = 'neg_mean_squared_error'\n",
        ")"
      ],
      "metadata": {
        "colab": {
          "base_uri": "https://localhost:8080/"
        },
        "id": "3kvpjPXfeQW4",
        "outputId": "e420797c-0246-450e-bc27-8752fdc93936"
      },
      "execution_count": 21,
      "outputs": [
        {
          "output_type": "stream",
          "name": "stdout",
          "text": [
            "Fitting RF\n",
            "Fitting Elastic\n",
            "Fitting SVM reg\n"
          ]
        }
      ]
    },
    {
      "cell_type": "code",
      "source": [
        "print(grid_search_results['RF'].best_params_)\n",
        "print(grid_search_results['Elastic'].best_estimator_)"
      ],
      "metadata": {
        "colab": {
          "base_uri": "https://localhost:8080/"
        },
        "id": "s4pvWNeeeZqE",
        "outputId": "7c64c092-4023-4ec7-8d32-fc04c3a51c90"
      },
      "execution_count": 22,
      "outputs": [
        {
          "output_type": "stream",
          "name": "stdout",
          "text": [
            "{'n_estimators': 500}\n",
            "ElasticNet(alpha=0.5, l1_ratio=0.2)\n"
          ]
        }
      ]
    },
    {
      "cell_type": "markdown",
      "source": [
        "## Randomized search"
      ],
      "metadata": {
        "id": "2GXVk_QFlFOw"
      }
    },
    {
      "cell_type": "code",
      "source": [
        "# %%pycodestyle\n",
        "from sklearn.model_selection import RandomizedSearchCV\n",
        "\n",
        "def fit_randomized_search(models_dict_, X_, Y_, cv_, n_iter_, scoring_):\n",
        "    RANDOM_STATE = 42\n",
        "    res = {}\n",
        "    for name, model in models_dict_.items():\n",
        "        print(f'Fitting {name}')\n",
        "\n",
        "        estimator = RandomizedSearchCV(\n",
        "            model.model,\n",
        "            param_distributions=model.random_search_param_grid,\n",
        "            cv=cv_,\n",
        "            n_iter=n_iter_,\n",
        "            scoring=scoring_,\n",
        "            return_train_score=True,\n",
        "            refit=True,\n",
        "            random_state=RANDOM_STATE\n",
        "        )\n",
        "\n",
        "        rand_search_res = estimator.fit(X_, Y_)\n",
        "        res[name] = rand_search_res\n",
        "    return res"
      ],
      "metadata": {
        "id": "tYhkvnmzh06M"
      },
      "execution_count": 23,
      "outputs": []
    },
    {
      "cell_type": "code",
      "source": [
        "rand_search_results = fit_randomized_search(\n",
        "    shortlisted_models,\n",
        "    X_=X_train_val,\n",
        "    Y_=Y_train_val,\n",
        "    cv_=5,\n",
        "    n_iter_=10,\n",
        "    scoring_='neg_mean_squared_error'\n",
        ")"
      ],
      "metadata": {
        "colab": {
          "base_uri": "https://localhost:8080/"
        },
        "id": "ZyZzrhcKinx-",
        "outputId": "d3d42807-2677-41b4-8b9a-5bf8cf972c64"
      },
      "execution_count": 24,
      "outputs": [
        {
          "output_type": "stream",
          "name": "stdout",
          "text": [
            "Fitting RF\n",
            "Fitting Elastic\n",
            "Fitting SVM reg\n"
          ]
        },
        {
          "output_type": "stream",
          "name": "stderr",
          "text": [
            "/usr/local/lib/python3.7/dist-packages/sklearn/model_selection/_search.py:296: UserWarning: The total space of parameters 1 is smaller than n_iter=10. Running 1 iterations. For exhaustive searches, use GridSearchCV.\n",
            "  UserWarning,\n",
            "/usr/local/lib/python3.7/dist-packages/sklearn/model_selection/_search.py:296: UserWarning: The total space of parameters 1 is smaller than n_iter=10. Running 1 iterations. For exhaustive searches, use GridSearchCV.\n",
            "  UserWarning,\n"
          ]
        }
      ]
    },
    {
      "cell_type": "code",
      "source": [
        "print(rand_search_results['RF'].best_estimator_)\n",
        "print(rand_search_results['SVM reg'].best_estimator_)"
      ],
      "metadata": {
        "colab": {
          "base_uri": "https://localhost:8080/"
        },
        "id": "jczgbC14jhQS",
        "outputId": "e0a7a661-244e-44dc-a8c7-51fe4d0cefc0"
      },
      "execution_count": 25,
      "outputs": [
        {
          "output_type": "stream",
          "name": "stdout",
          "text": [
            "RandomForestRegressor(max_depth=11, n_estimators=300)\n",
            "SVR()\n"
          ]
        }
      ]
    },
    {
      "cell_type": "markdown",
      "source": [
        "# Check final models for overfit"
      ],
      "metadata": {
        "id": "lc5ejrvB-94I"
      }
    },
    {
      "cell_type": "code",
      "source": [
        "plot_cv_results(\n",
        "    sklearn_models_dict_ = {\n",
        "        name: rand_search_results[name].best_estimator_ \\\n",
        "        for name in rand_search_results.keys()\n",
        "    },\n",
        "    X_=X_train_val,\n",
        "    Y_=Y_train_val,\n",
        "    cv_=5,\n",
        "    scoring_='neg_mean_squared_error',\n",
        "    to_put_minus_=True\n",
        ")"
      ],
      "metadata": {
        "colab": {
          "base_uri": "https://localhost:8080/",
          "height": 851
        },
        "id": "PUVMThyR_Anj",
        "outputId": "81350c25-4ba2-4415-e1d2-aec51c00e09b"
      },
      "execution_count": 26,
      "outputs": [
        {
          "output_type": "display_data",
          "data": {
            "text/plain": [
              "<Figure size 432x288 with 1 Axes>"
            ],
            "image/png": "[encoded data removed]"
          },
          "metadata": {
            "needs_background": "light"
          }
        },
        {
          "output_type": "display_data",
          "data": {
            "text/plain": [
              "<Figure size 432x288 with 1 Axes>"
            ],
            "image/png": "[encoded data removed]"
          },
          "metadata": {
            "needs_background": "light"
          }
        },
        {
          "output_type": "display_data",
          "data": {
            "text/plain": [
              "<Figure size 432x288 with 1 Axes>"
            ],
            "image/png": "[encoded data removed]"
          },
          "metadata": {
            "needs_background": "light"
          }
        }
      ]
    },
    {
      "cell_type": "code",
      "source": [
        "plot_cv_results(\n",
        "    sklearn_models_dict_ = {\n",
        "        name: grid_search_results[name].best_estimator_ \\\n",
        "        for name in grid_search_results.keys()\n",
        "    },\n",
        "    X_=X_train_val,\n",
        "    Y_=Y_train_val,\n",
        "    cv_=5,\n",
        "    scoring_='neg_mean_squared_error',\n",
        "    to_put_minus_=True\n",
        ")"
      ],
      "metadata": {
        "colab": {
          "base_uri": "https://localhost:8080/",
          "height": 851
        },
        "id": "WDANq3bODGXl",
        "outputId": "acd3ffb8-9cd1-4ffb-a85e-c57c04365674"
      },
      "execution_count": 27,
      "outputs": [
        {
          "output_type": "display_data",
          "data": {
            "text/plain": [
              "<Figure size 432x288 with 1 Axes>"
            ],
            "image/png": "[encoded data removed]"
          },
          "metadata": {
            "needs_background": "light"
          }
        },
        {
          "output_type": "display_data",
          "data": {
            "text/plain": [
              "<Figure size 432x288 with 1 Axes>"
            ],
            "image/png": "[encoded data removed]"
          },
          "metadata": {
            "needs_background": "light"
          }
        },
        {
          "output_type": "display_data",
          "data": {
            "text/plain": [
              "<Figure size 432x288 with 1 Axes>"
            ],
            "image/png": "[encoded data removed]"
          },
          "metadata": {
            "needs_background": "light"
          }
        }
      ]
    },
    {
      "cell_type": "markdown",
      "source": [
        "# Saving fine tuned candidates (retrained on train+val subset)"
      ],
      "metadata": {
        "id": "LEUN072Sc8AC"
      }
    },
    {
      "cell_type": "code",
      "source": [
        "path_manager.save_models(\n",
        "    {\n",
        "        model_name: result.best_estimator_\n",
        "        for model_name, result in rand_search_results.items()\n",
        "    }\n",
        ")"
      ],
      "metadata": {
        "id": "Pr9TePwAc-S7"
      },
      "execution_count": 34,
      "outputs": []
    },
    {
      "cell_type": "markdown",
      "source": [
        "# Model mistake analysis"
      ],
      "metadata": {
        "id": "2t7oXoeJlQdC"
      }
    },
    {
      "cell_type": "markdown",
      "source": [
        "- From feature importance analysis, we see that the most important features are **opening year** and **city population**"
      ],
      "metadata": {
        "id": "nq0KaI-WrHjv"
      }
    },
    {
      "cell_type": "markdown",
      "source": [
        "## Feature importances"
      ],
      "metadata": {
        "id": "nBfuos4ksMfF"
      }
    },
    {
      "cell_type": "markdown",
      "source": [
        "- Here, we definitely see how engineered features (**population** and **year of opening**) are more important to the decision tree algorithm"
      ],
      "metadata": {
        "id": "5Q3QNkLU5CXF"
      }
    },
    {
      "cell_type": "code",
      "source": [
        "plt.bar(\n",
        "    np.arange(len(grid_search_results['RF'].best_estimator_.feature_importances_)),\n",
        "    grid_search_results['RF'].best_estimator_.feature_importances_\n",
        ")\n",
        "plt.grid()"
      ],
      "metadata": {
        "colab": {
          "base_uri": "https://localhost:8080/",
          "height": 265
        },
        "id": "d13y0SQdlSVc",
        "outputId": "f5ba1c40-fdc6-4468-a513-c52c24acf215"
      },
      "execution_count": null,
      "outputs": [
        {
          "output_type": "display_data",
          "data": {
            "text/plain": [
              "<Figure size 432x288 with 1 Axes>"
            ],
            "image/png": "[encoded data removed]"
          },
          "metadata": {
            "needs_background": "light"
          }
        }
      ]
    },
    {
      "cell_type": "markdown",
      "source": [
        "## Visualize predictions"
      ],
      "metadata": {
        "id": "gmHHDH2MsV4M"
      }
    },
    {
      "cell_type": "code",
      "source": [
        "# %%pycodestyle\n",
        "def visualize_regression_predictions(\n",
        "    sklearn_models_dict_, X_, Y_, dataset_type_):\n",
        "\n",
        "    _, ax = plt.subplots()\n",
        "    ax.plot(\n",
        "            Y_,\n",
        "            label=f'{dataset_type_} target'\n",
        "    )\n",
        "\n",
        "    for model_name, model in sklearn_models_dict_.items():\n",
        "        predictions = model.predict(X_)\n",
        "        ax.scatter(\n",
        "            x=np.arange(len(predictions)),\n",
        "            y=predictions,\n",
        "            label=f'{model_name} predictions'\n",
        "        )\n",
        "        \n",
        "    ax.set_xlabel('Dataset instance')\n",
        "    ax.set_ylabel('Prediction')\n",
        "    ax.set_title(f'Visualized predictons on {dataset_type_}')\n",
        "\n",
        "    ax.legend()\n",
        "    ax.grid()"
      ],
      "metadata": {
        "id": "Z3hrf9_j7cQQ"
      },
      "execution_count": null,
      "outputs": []
    },
    {
      "cell_type": "code",
      "source": [
        "visualize_regression_predictions(\n",
        "    sklearn_models_dict_={\n",
        "        model_name: rand_search_results[model_name].best_estimator_\n",
        "        for model_name in rand_search_results.keys()\n",
        "    },\n",
        "    X_=X_train_val,\n",
        "    Y_=Y_train_val,\n",
        "    dataset_type_='train set'\n",
        ")"
      ],
      "metadata": {
        "colab": {
          "base_uri": "https://localhost:8080/",
          "height": 295
        },
        "id": "wbVR6_tV8Pc1",
        "outputId": "1f5d1d77-9288-4220-f604-d47992c216d2"
      },
      "execution_count": null,
      "outputs": [
        {
          "output_type": "display_data",
          "data": {
            "text/plain": [
              "<Figure size 432x288 with 1 Axes>"
            ],
            "image/png": "[encoded data removed]"
          },
          "metadata": {
            "needs_background": "light"
          }
        }
      ]
    },
    {
      "cell_type": "code",
      "source": [
        "# %%pycodestyle\n",
        "visualize_regression_predictions(\n",
        "    sklearn_models_dict_={\n",
        "        model_name: rand_search_results[model_name].best_estimator_ \\\n",
        "        for model_name in rand_search_results.keys()\n",
        "    },\n",
        "    X_=X_test_sample,\n",
        "    Y_=Y_test_sample,\n",
        "    dataset_type_='test set'\n",
        ")"
      ],
      "metadata": {
        "colab": {
          "base_uri": "https://localhost:8080/",
          "height": 295
        },
        "id": "PrrzygEM-BgI",
        "outputId": "702ab888-ec3a-4b03-cf8a-facba09836fb"
      },
      "execution_count": null,
      "outputs": [
        {
          "output_type": "display_data",
          "data": {
            "text/plain": [
              "<Figure size 432x288 with 1 Axes>"
            ],
            "image/png": "[encoded data removed]"
          },
          "metadata": {
            "needs_background": "light"
          }
        }
      ]
    },
    {
      "cell_type": "markdown",
      "source": [
        "# Select final model"
      ],
      "metadata": {
        "id": "GsjsRXN3BB2w"
      }
    },
    {
      "cell_type": "markdown",
      "source": [
        "- I select the best model, based on average cross validation score among fine-tuned models. At the same time, i track that this model does not overfit the trainset, and average cross-validation performance is comparable with train metrics"
      ],
      "metadata": {
        "id": "kftMdMnADTbE"
      }
    },
    {
      "cell_type": "code",
      "source": [
        "_ = print_model_cv_scores(\n",
        "    {\n",
        "        model_name: grid_search_results[model_name].best_estimator_ \n",
        "        for model_name in grid_search_results.keys()\n",
        "    },\n",
        "    X_=X_train_val,\n",
        "    Y_=Y_train_val,\n",
        "    cv_=7,\n",
        "    scoring_='neg_mean_squared_error'\n",
        ")"
      ],
      "metadata": {
        "colab": {
          "base_uri": "https://localhost:8080/"
        },
        "id": "8N4ZnVxWBQD9",
        "outputId": "5570d8b1-f0e4-425e-fff8-9c412521c375"
      },
      "execution_count": null,
      "outputs": [
        {
          "output_type": "stream",
          "name": "stdout",
          "text": [
            "Model: SVM reg, mean: -0.23975755066794463, std: 0.10254520924351965\n",
            "Model: Elastic, mean: -0.20073170318480518, std: 0.08848660198096124\n",
            "Model: RF, mean: -0.18835268902559305, std: 0.06768350926089192\n"
          ]
        }
      ]
    },
    {
      "cell_type": "code",
      "source": [
        "_ = print_model_cv_scores(\n",
        "    {\n",
        "        model_name: rand_search_results[model_name].best_estimator_ \n",
        "        for model_name in rand_search_results.keys()\n",
        "    },\n",
        "    X_=X_train_val,\n",
        "    Y_=Y_train_val,\n",
        "    cv_=7,\n",
        "    scoring_='neg_mean_squared_error'\n",
        ")"
      ],
      "metadata": {
        "colab": {
          "base_uri": "https://localhost:8080/"
        },
        "id": "KlviMCXWFDw5",
        "outputId": "94884beb-e531-4f12-dabd-4195ebe5359b"
      },
      "execution_count": null,
      "outputs": [
        {
          "output_type": "stream",
          "name": "stdout",
          "text": [
            "Model: SVM reg, mean: -0.23975755066794463, std: 0.10254520924351965\n",
            "Model: Elastic, mean: -0.21569093211351922, std: 0.10074172443016455\n",
            "Model: RF, mean: -0.1913209112283328, std: 0.06725175968687148\n"
          ]
        }
      ]
    },
    {
      "cell_type": "code",
      "source": [
        "print(rand_search_results['RF'].best_estimator_)\n",
        "print(grid_search_results['RF'].best_estimator_)"
      ],
      "metadata": {
        "colab": {
          "base_uri": "https://localhost:8080/"
        },
        "id": "-6qkCDTpG3_T",
        "outputId": "ad717961-5aab-478e-8110-fa969e97a4c0"
      },
      "execution_count": null,
      "outputs": [
        {
          "output_type": "stream",
          "name": "stdout",
          "text": [
            "RandomForestRegressor(max_depth=13)\n",
            "RandomForestRegressor(n_estimators=500)\n"
          ]
        }
      ]
    },
    {
      "cell_type": "markdown",
      "source": [
        "- My decision:\n",
        "    - Random forest better captured the structure of the data (visualizations)\n",
        "    - However, random forest overfits. Both version with n_estimators = 800 and 200 give approximately same average cross validation result. Hence, I use other model (e.g. Elastic regression)"
      ],
      "metadata": {
        "id": "3WG9ISmcHN00"
      }
    },
    {
      "cell_type": "code",
      "source": [
        "_ = plot_cv_results(\n",
        "    sklearn_models_dict_={\n",
        "        'GS elastic': grid_search_results['Elastic'].best_estimator_,\n",
        "        'RS elastic': rand_search_results['Elastic'].best_estimator_\n",
        "    },\n",
        "    X_=X_train_val,\n",
        "    Y_=Y_train_val,\n",
        "    cv_=7,\n",
        "    scoring_='neg_mean_squared_error',\n",
        "    to_put_minus_=True\n",
        ")"
      ],
      "metadata": {
        "colab": {
          "base_uri": "https://localhost:8080/",
          "height": 573
        },
        "id": "gzVj2Cu65Irs",
        "outputId": "d9166d9e-0104-4905-f2a1-17d073a16d88"
      },
      "execution_count": null,
      "outputs": [
        {
          "output_type": "display_data",
          "data": {
            "text/plain": [
              "<Figure size 432x288 with 1 Axes>"
            ],
            "image/png": "[encoded data removed]"
          },
          "metadata": {
            "needs_background": "light"
          }
        },
        {
          "output_type": "display_data",
          "data": {
            "text/plain": [
              "<Figure size 432x288 with 1 Axes>"
            ],
            "image/png": "[encoded data removed]"
          },
          "metadata": {
            "needs_background": "light"
          }
        }
      ]
    },
    {
      "cell_type": "code",
      "source": [
        "final_model = grid_search_results['Elastic'].best_estimator_"
      ],
      "metadata": {
        "id": "ikVoLE6UHGWm"
      },
      "execution_count": null,
      "outputs": []
    },
    {
      "cell_type": "markdown",
      "source": [
        "# Final cross validation performance"
      ],
      "metadata": {
        "id": "ESBCwqHtBEQ5"
      }
    },
    {
      "cell_type": "code",
      "source": [
        "_ = print_model_cv_scores(\n",
        "    {\"Final\": final_model},\n",
        "    X_=X_train_val,\n",
        "    Y_=Y_train_val,\n",
        "    scoring_='neg_mean_squared_error',\n",
        "    cv_=5\n",
        ")"
      ],
      "metadata": {
        "colab": {
          "base_uri": "https://localhost:8080/"
        },
        "id": "U9GrZngZHmnE",
        "outputId": "0a037653-85fa-49c4-90be-b540b19000b1"
      },
      "execution_count": null,
      "outputs": [
        {
          "output_type": "stream",
          "name": "stdout",
          "text": [
            "Model: Final, mean: -0.19974053116219284, std: 0.06586654048960637\n"
          ]
        }
      ]
    },
    {
      "cell_type": "markdown",
      "source": [
        "# Final test performance"
      ],
      "metadata": {
        "id": "4bY82Xwe7wcQ"
      }
    },
    {
      "cell_type": "code",
      "source": [
        "final_model.fit(\n",
        "    X_train_val,\n",
        "    Y_train_val\n",
        ")"
      ],
      "metadata": {
        "colab": {
          "base_uri": "https://localhost:8080/"
        },
        "id": "KELO2_Vs75UU",
        "outputId": "dece9c74-59a8-45d4-ee5b-96eca534342a"
      },
      "execution_count": null,
      "outputs": [
        {
          "output_type": "execute_result",
          "data": {
            "text/plain": [
              "ElasticNet(alpha=0.5, l1_ratio=0.2)"
            ]
          },
          "metadata": {},
          "execution_count": 43
        }
      ]
    },
    {
      "cell_type": "code",
      "source": [
        "from sklearn.metrics import mean_squared_error\n",
        "\n",
        "test_sample_predictions = final_model.predict(X_test_sample)\n",
        "mean_squared_error(\n",
        "    test_sample_predictions,\n",
        "    Y_test_sample\n",
        ")"
      ],
      "metadata": {
        "colab": {
          "base_uri": "https://localhost:8080/"
        },
        "id": "mhEZLwYJ7_NP",
        "outputId": "c2fde576-abd5-49ec-c0f9-e384b4c1940e"
      },
      "execution_count": null,
      "outputs": [
        {
          "output_type": "execute_result",
          "data": {
            "text/plain": [
              "0.21245325524449132"
            ]
          },
          "metadata": {},
          "execution_count": 44
        }
      ]
    },
    {
      "cell_type": "markdown",
      "source": [
        "# Retrain on all available data"
      ],
      "metadata": {
        "id": "ugcChNQFBGDp"
      }
    },
    {
      "cell_type": "code",
      "source": [
        "final_arr = np.vstack([X_train_val, X_test_sample])\n",
        "final_target = np.hstack([Y_train_val, Y_test_sample])\n",
        "final_arr.shape,  final_target.shape"
      ],
      "metadata": {
        "colab": {
          "base_uri": "https://localhost:8080/"
        },
        "id": "H6NWE9TeIMlN",
        "outputId": "7ddd113f-0762-4de9-cc83-54576c14e919"
      },
      "execution_count": null,
      "outputs": [
        {
          "output_type": "execute_result",
          "data": {
            "text/plain": [
              "((137, 43), (137,))"
            ]
          },
          "metadata": {},
          "execution_count": 45
        }
      ]
    },
    {
      "cell_type": "code",
      "source": [
        "final_model.fit(\n",
        "    final_arr,\n",
        "    final_target\n",
        ")"
      ],
      "metadata": {
        "colab": {
          "base_uri": "https://localhost:8080/"
        },
        "id": "1izUfx7gMqFo",
        "outputId": "aa46fd2f-ef38-48a0-8fca-997d029bc68f"
      },
      "execution_count": null,
      "outputs": [
        {
          "output_type": "execute_result",
          "data": {
            "text/plain": [
              "ElasticNet(alpha=0.5, l1_ratio=0.2)"
            ]
          },
          "metadata": {},
          "execution_count": 46
        }
      ]
    },
    {
      "cell_type": "markdown",
      "source": [
        "# Saving best models (pickle)"
      ],
      "metadata": {
        "id": "A-cfIxHuYzLu"
      }
    },
    {
      "cell_type": "code",
      "source": [
        "models_to_save = {\n",
        "    'elastic_net_final': final_model,\n",
        "    'random_forest': grid_search_results['RF'].best_estimator_\n",
        "}"
      ],
      "metadata": {
        "id": "CSnGXVGdFy9E"
      },
      "execution_count": null,
      "outputs": []
    },
    {
      "cell_type": "code",
      "source": [
        "path_manager.save_models(\n",
        "    sklearn_models_dict_=models_to_save\n",
        ")"
      ],
      "metadata": {
        "id": "gVktZtZ0GCVA",
        "outputId": "a59a5597-3535-41b6-94b7-9d1cbf9601c7",
        "colab": {
          "base_uri": "https://localhost:8080/"
        }
      },
      "execution_count": null,
      "outputs": [
        {
          "output_type": "stream",
          "name": "stdout",
          "text": [
            "/content/gdrive/MyDrive/ML/Competitions/5.RestaurantRevenue/Models/trial_1/elastic_net_final already exists\n"
          ]
        }
      ]
    },
    {
      "cell_type": "markdown",
      "source": [
        "# Submit"
      ],
      "metadata": {
        "id": "9gVwt0ErBJGS"
      }
    },
    {
      "cell_type": "code",
      "source": [
        "submission_data = pd.read_csv(\n",
        "    test_processed_path, index_col=[0])\n",
        "submission_data.head(2)"
      ],
      "metadata": {
        "colab": {
          "base_uri": "https://localhost:8080/",
          "height": 205
        },
        "id": "j7VvKjxdBJnv",
        "outputId": "eb53c66c-f618-40ea-b184-fe8a1e2ed4e4"
      },
      "execution_count": null,
      "outputs": [
        {
          "output_type": "execute_result",
          "data": {
            "text/plain": [
              "          0         1        2         3         4         5         6  \\\n",
              "0 -1.032819 -0.285964 -0.26814 -0.383325 -0.807152 -0.633614 -0.182156   \n",
              "1 -0.334236 -0.285964 -0.26814 -0.383325  0.014161 -0.633614 -0.182156   \n",
              "\n",
              "          7         8         9  ...        34        35        36      37  \\\n",
              "0 -0.619713 -0.217343 -0.244523  ... -0.606797 -0.556056 -0.652386  2011.0   \n",
              "1 -1.176974 -0.790338 -0.811816  ... -0.606797 -0.556056 -0.652386  2011.0   \n",
              "\n",
              "    38   39   40   41        42        43  \n",
              "0  0.0  0.0  1.0  0.0  0.341412  0.693147  \n",
              "1  0.0  0.0  0.0  1.0  2.161000  0.693147  \n",
              "\n",
              "[2 rows x 44 columns]"
            ],
            "text/html": [
              "\n",
              "  <div id=\"df-824c642f-df18-40e2-81c1-61b3d3c30fdf\">\n",
              "    <div class=\"colab-df-container\">\n",
              "      <div>\n",
              "<style scoped>\n",
              "    .dataframe tbody tr th:only-of-type {\n",
              "        vertical-align: middle;\n",
              "    }\n",
              "\n",
              "    .dataframe tbody tr th {\n",
              "        vertical-align: top;\n",
              "    }\n",
              "\n",
              "    .dataframe thead th {\n",
              "        text-align: right;\n",
              "    }\n",
              "</style>\n",
              "<table border=\"1\" class=\"dataframe\">\n",
              "  <thead>\n",
              "    <tr style=\"text-align: right;\">\n",
              "      <th></th>\n",
              "      <th>0</th>\n",
              "      <th>1</th>\n",
              "      <th>2</th>\n",
              "      <th>3</th>\n",
              "      <th>4</th>\n",
              "      <th>5</th>\n",
              "      <th>6</th>\n",
              "      <th>7</th>\n",
              "      <th>8</th>\n",
              "      <th>9</th>\n",
              "      <th>...</th>\n",
              "      <th>34</th>\n",
              "      <th>35</th>\n",
              "      <th>36</th>\n",
              "      <th>37</th>\n",
              "      <th>38</th>\n",
              "      <th>39</th>\n",
              "      <th>40</th>\n",
              "      <th>41</th>\n",
              "      <th>42</th>\n",
              "      <th>43</th>\n",
              "    </tr>\n",
              "  </thead>\n",
              "  <tbody>\n",
              "    <tr>\n",
              "      <th>0</th>\n",
              "      <td>-1.032819</td>\n",
              "      <td>-0.285964</td>\n",
              "      <td>-0.26814</td>\n",
              "      <td>-0.383325</td>\n",
              "      <td>-0.807152</td>\n",
              "      <td>-0.633614</td>\n",
              "      <td>-0.182156</td>\n",
              "      <td>-0.619713</td>\n",
              "      <td>-0.217343</td>\n",
              "      <td>-0.244523</td>\n",
              "      <td>...</td>\n",
              "      <td>-0.606797</td>\n",
              "      <td>-0.556056</td>\n",
              "      <td>-0.652386</td>\n",
              "      <td>2011.0</td>\n",
              "      <td>0.0</td>\n",
              "      <td>0.0</td>\n",
              "      <td>1.0</td>\n",
              "      <td>0.0</td>\n",
              "      <td>0.341412</td>\n",
              "      <td>0.693147</td>\n",
              "    </tr>\n",
              "    <tr>\n",
              "      <th>1</th>\n",
              "      <td>-0.334236</td>\n",
              "      <td>-0.285964</td>\n",
              "      <td>-0.26814</td>\n",
              "      <td>-0.383325</td>\n",
              "      <td>0.014161</td>\n",
              "      <td>-0.633614</td>\n",
              "      <td>-0.182156</td>\n",
              "      <td>-1.176974</td>\n",
              "      <td>-0.790338</td>\n",
              "      <td>-0.811816</td>\n",
              "      <td>...</td>\n",
              "      <td>-0.606797</td>\n",
              "      <td>-0.556056</td>\n",
              "      <td>-0.652386</td>\n",
              "      <td>2011.0</td>\n",
              "      <td>0.0</td>\n",
              "      <td>0.0</td>\n",
              "      <td>0.0</td>\n",
              "      <td>1.0</td>\n",
              "      <td>2.161000</td>\n",
              "      <td>0.693147</td>\n",
              "    </tr>\n",
              "  </tbody>\n",
              "</table>\n",
              "<p>2 rows × 44 columns</p>\n",
              "</div>\n",
              "      <button class=\"colab-df-convert\" onclick=\"convertToInteractive('df-824c642f-df18-40e2-81c1-61b3d3c30fdf')\"\n",
              "              title=\"Convert this dataframe to an interactive table.\"\n",
              "              style=\"display:none;\">\n",
              "        \n",
              "  <svg xmlns=\"http://www.w3.org/2000/svg\" height=\"24px\"viewBox=\"0 0 24 24\"\n",
              "       width=\"24px\">\n",
              "    <path d=\"M0 0h24v24H0V0z\" fill=\"none\"/>\n",
              "    <path d=\"M18.56 5.44l.94 2.06.94-2.06 2.06-.94-2.06-.94-.94-2.06-.94 2.06-2.06.94zm-11 1L8.5 8.5l.94-2.06 2.06-.94-2.06-.94L8.5 2.5l-.94 2.06-2.06.94zm10 10l.94 2.06.94-2.06 2.06-.94-2.06-.94-.94-2.06-.94 2.06-2.06.94z\"/><path d=\"M17.41 7.96l-1.37-1.37c-.4-.4-.92-.59-1.43-.59-.52 0-1.04.2-1.43.59L10.3 9.45l-7.72 7.72c-.78.78-.78 2.05 0 2.83L4 21.41c.39.39.9.59 1.41.59.51 0 1.02-.2 1.41-.59l7.78-7.78 2.81-2.81c.8-.78.8-2.07 0-2.86zM5.41 20L4 18.59l7.72-7.72 1.47 1.35L5.41 20z\"/>\n",
              "  </svg>\n",
              "      </button>\n",
              "      \n",
              "  <style>\n",
              "    .colab-df-container {\n",
              "      display:flex;\n",
              "      flex-wrap:wrap;\n",
              "      gap: 12px;\n",
              "    }\n",
              "\n",
              "    .colab-df-convert {\n",
              "      background-color: #E8F0FE;\n",
              "      border: none;\n",
              "      border-radius: 50%;\n",
              "      cursor: pointer;\n",
              "      display: none;\n",
              "      fill: #1967D2;\n",
              "      height: 32px;\n",
              "      padding: 0 0 0 0;\n",
              "      width: 32px;\n",
              "    }\n",
              "\n",
              "    .colab-df-convert:hover {\n",
              "      background-color: #E2EBFA;\n",
              "      box-shadow: 0px 1px 2px rgba(60, 64, 67, 0.3), 0px 1px 3px 1px rgba(60, 64, 67, 0.15);\n",
              "      fill: #174EA6;\n",
              "    }\n",
              "\n",
              "    [theme=dark] .colab-df-convert {\n",
              "      background-color: #3B4455;\n",
              "      fill: #D2E3FC;\n",
              "    }\n",
              "\n",
              "    [theme=dark] .colab-df-convert:hover {\n",
              "      background-color: #434B5C;\n",
              "      box-shadow: 0px 1px 3px 1px rgba(0, 0, 0, 0.15);\n",
              "      filter: drop-shadow(0px 1px 2px rgba(0, 0, 0, 0.3));\n",
              "      fill: #FFFFFF;\n",
              "    }\n",
              "  </style>\n",
              "\n",
              "      <script>\n",
              "        const buttonEl =\n",
              "          document.querySelector('#df-824c642f-df18-40e2-81c1-61b3d3c30fdf button.colab-df-convert');\n",
              "        buttonEl.style.display =\n",
              "          google.colab.kernel.accessAllowed ? 'block' : 'none';\n",
              "\n",
              "        async function convertToInteractive(key) {\n",
              "          const element = document.querySelector('#df-824c642f-df18-40e2-81c1-61b3d3c30fdf');\n",
              "          const dataTable =\n",
              "            await google.colab.kernel.invokeFunction('convertToInteractive',\n",
              "                                                     [key], {});\n",
              "          if (!dataTable) return;\n",
              "\n",
              "          const docLinkHtml = 'Like what you see? Visit the ' +\n",
              "            '<a target=\"_blank\" href=https://colab.research.google.com/notebooks/data_table.ipynb>data table notebook</a>'\n",
              "            + ' to learn more about interactive tables.';\n",
              "          element.innerHTML = '';\n",
              "          dataTable['output_type'] = 'display_data';\n",
              "          await google.colab.output.renderOutput(dataTable, element);\n",
              "          const docLink = document.createElement('div');\n",
              "          docLink.innerHTML = docLinkHtml;\n",
              "          element.appendChild(docLink);\n",
              "        }\n",
              "      </script>\n",
              "    </div>\n",
              "  </div>\n",
              "  "
            ]
          },
          "metadata": {},
          "execution_count": 78
        }
      ]
    },
    {
      "cell_type": "code",
      "source": [
        "# Remove target (that was artificially created during data processing pipeline)\n",
        "submission_data = submission_data.values[:, :-1]\n",
        "submission_data.shape"
      ],
      "metadata": {
        "colab": {
          "base_uri": "https://localhost:8080/"
        },
        "id": "_Ks7zDGmWZb8",
        "outputId": "cf4e094f-8ccd-44dd-d7b5-311cccf53d4d"
      },
      "execution_count": null,
      "outputs": [
        {
          "output_type": "execute_result",
          "data": {
            "text/plain": [
              "(100000, 43)"
            ]
          },
          "metadata": {},
          "execution_count": 79
        }
      ]
    },
    {
      "cell_type": "code",
      "source": [
        "final_predictions = np.exp(final_model.predict(submission_data))"
      ],
      "metadata": {
        "id": "5Y630NSnWID9"
      },
      "execution_count": null,
      "outputs": []
    },
    {
      "cell_type": "code",
      "source": [
        "df_submission = pd.DataFrame(final_predictions, columns=['Prediction'])\n",
        "df_submission.index.rename('Id', inplace=True)\n",
        "df_submission.to_csv(submission_path)\n",
        "df_submission.head()"
      ],
      "metadata": {
        "colab": {
          "base_uri": "https://localhost:8080/",
          "height": 237
        },
        "id": "o2knUg94XOAc",
        "outputId": "8b438e46-249f-4125-b98f-d71146e0d39c"
      },
      "execution_count": null,
      "outputs": [
        {
          "output_type": "execute_result",
          "data": {
            "text/plain": [
              "      Prediction\n",
              "Id              \n",
              "0   3.307691e+06\n",
              "1   3.410696e+06\n",
              "2   3.433673e+06\n",
              "3   3.229931e+06\n",
              "4   3.160507e+06"
            ],
            "text/html": [
              "\n",
              "  <div id=\"df-a85061dd-3433-4493-adc5-df73dbeb434b\">\n",
              "    <div class=\"colab-df-container\">\n",
              "      <div>\n",
              "<style scoped>\n",
              "    .dataframe tbody tr th:only-of-type {\n",
              "        vertical-align: middle;\n",
              "    }\n",
              "\n",
              "    .dataframe tbody tr th {\n",
              "        vertical-align: top;\n",
              "    }\n",
              "\n",
              "    .dataframe thead th {\n",
              "        text-align: right;\n",
              "    }\n",
              "</style>\n",
              "<table border=\"1\" class=\"dataframe\">\n",
              "  <thead>\n",
              "    <tr style=\"text-align: right;\">\n",
              "      <th></th>\n",
              "      <th>Prediction</th>\n",
              "    </tr>\n",
              "    <tr>\n",
              "      <th>Id</th>\n",
              "      <th></th>\n",
              "    </tr>\n",
              "  </thead>\n",
              "  <tbody>\n",
              "    <tr>\n",
              "      <th>0</th>\n",
              "      <td>3.307691e+06</td>\n",
              "    </tr>\n",
              "    <tr>\n",
              "      <th>1</th>\n",
              "      <td>3.410696e+06</td>\n",
              "    </tr>\n",
              "    <tr>\n",
              "      <th>2</th>\n",
              "      <td>3.433673e+06</td>\n",
              "    </tr>\n",
              "    <tr>\n",
              "      <th>3</th>\n",
              "      <td>3.229931e+06</td>\n",
              "    </tr>\n",
              "    <tr>\n",
              "      <th>4</th>\n",
              "      <td>3.160507e+06</td>\n",
              "    </tr>\n",
              "  </tbody>\n",
              "</table>\n",
              "</div>\n",
              "      <button class=\"colab-df-convert\" onclick=\"convertToInteractive('df-a85061dd-3433-4493-adc5-df73dbeb434b')\"\n",
              "              title=\"Convert this dataframe to an interactive table.\"\n",
              "              style=\"display:none;\">\n",
              "        \n",
              "  <svg xmlns=\"http://www.w3.org/2000/svg\" height=\"24px\"viewBox=\"0 0 24 24\"\n",
              "       width=\"24px\">\n",
              "    <path d=\"M0 0h24v24H0V0z\" fill=\"none\"/>\n",
              "    <path d=\"M18.56 5.44l.94 2.06.94-2.06 2.06-.94-2.06-.94-.94-2.06-.94 2.06-2.06.94zm-11 1L8.5 8.5l.94-2.06 2.06-.94-2.06-.94L8.5 2.5l-.94 2.06-2.06.94zm10 10l.94 2.06.94-2.06 2.06-.94-2.06-.94-.94-2.06-.94 2.06-2.06.94z\"/><path d=\"M17.41 7.96l-1.37-1.37c-.4-.4-.92-.59-1.43-.59-.52 0-1.04.2-1.43.59L10.3 9.45l-7.72 7.72c-.78.78-.78 2.05 0 2.83L4 21.41c.39.39.9.59 1.41.59.51 0 1.02-.2 1.41-.59l7.78-7.78 2.81-2.81c.8-.78.8-2.07 0-2.86zM5.41 20L4 18.59l7.72-7.72 1.47 1.35L5.41 20z\"/>\n",
              "  </svg>\n",
              "      </button>\n",
              "      \n",
              "  <style>\n",
              "    .colab-df-container {\n",
              "      display:flex;\n",
              "      flex-wrap:wrap;\n",
              "      gap: 12px;\n",
              "    }\n",
              "\n",
              "    .colab-df-convert {\n",
              "      background-color: #E8F0FE;\n",
              "      border: none;\n",
              "      border-radius: 50%;\n",
              "      cursor: pointer;\n",
              "      display: none;\n",
              "      fill: #1967D2;\n",
              "      height: 32px;\n",
              "      padding: 0 0 0 0;\n",
              "      width: 32px;\n",
              "    }\n",
              "\n",
              "    .colab-df-convert:hover {\n",
              "      background-color: #E2EBFA;\n",
              "      box-shadow: 0px 1px 2px rgba(60, 64, 67, 0.3), 0px 1px 3px 1px rgba(60, 64, 67, 0.15);\n",
              "      fill: #174EA6;\n",
              "    }\n",
              "\n",
              "    [theme=dark] .colab-df-convert {\n",
              "      background-color: #3B4455;\n",
              "      fill: #D2E3FC;\n",
              "    }\n",
              "\n",
              "    [theme=dark] .colab-df-convert:hover {\n",
              "      background-color: #434B5C;\n",
              "      box-shadow: 0px 1px 3px 1px rgba(0, 0, 0, 0.15);\n",
              "      filter: drop-shadow(0px 1px 2px rgba(0, 0, 0, 0.3));\n",
              "      fill: #FFFFFF;\n",
              "    }\n",
              "  </style>\n",
              "\n",
              "      <script>\n",
              "        const buttonEl =\n",
              "          document.querySelector('#df-a85061dd-3433-4493-adc5-df73dbeb434b button.colab-df-convert');\n",
              "        buttonEl.style.display =\n",
              "          google.colab.kernel.accessAllowed ? 'block' : 'none';\n",
              "\n",
              "        async function convertToInteractive(key) {\n",
              "          const element = document.querySelector('#df-a85061dd-3433-4493-adc5-df73dbeb434b');\n",
              "          const dataTable =\n",
              "            await google.colab.kernel.invokeFunction('convertToInteractive',\n",
              "                                                     [key], {});\n",
              "          if (!dataTable) return;\n",
              "\n",
              "          const docLinkHtml = 'Like what you see? Visit the ' +\n",
              "            '<a target=\"_blank\" href=https://colab.research.google.com/notebooks/data_table.ipynb>data table notebook</a>'\n",
              "            + ' to learn more about interactive tables.';\n",
              "          element.innerHTML = '';\n",
              "          dataTable['output_type'] = 'display_data';\n",
              "          await google.colab.output.renderOutput(dataTable, element);\n",
              "          const docLink = document.createElement('div');\n",
              "          docLink.innerHTML = docLinkHtml;\n",
              "          element.appendChild(docLink);\n",
              "        }\n",
              "      </script>\n",
              "    </div>\n",
              "  </div>\n",
              "  "
            ]
          },
          "metadata": {},
          "execution_count": 81
        }
      ]
    }
  ]
}
