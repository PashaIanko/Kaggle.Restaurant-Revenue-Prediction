{
  "nbformat": 4,
  "nbformat_minor": 0,
  "metadata": {
    "colab": {
      "name": "model_preparation.ipynb",
      "provenance": [],
      "collapsed_sections": [
        "uMLe8EvZM6Zu",
        "S3n0_Ht7NUdv",
        "B98xuMDok8Ea",
        "2GXVk_QFlFOw"
      ],
      "toc_visible": true,
      "authorship_tag": "ABX9TyNAC1I3d8uEdPCzdUfk/knd",
      "include_colab_link": true
    },
    "kernelspec": {
      "name": "python3",
      "display_name": "Python 3"
    },
    "language_info": {
      "name": "python"
    }
  },
  "cells": [
    {
      "cell_type": "markdown",
      "metadata": {
        "id": "view-in-github",
        "colab_type": "text"
      },
      "source": [
        "<a href=\"https://colab.research.google.com/github/PashaIanko/Kaggle.Restaurant-Revenue-Prediction/blob/feature_engineering/2.model_preparation.ipynb\" target=\"_parent\"><img src=\"https://colab.research.google.com/assets/colab-badge.svg\" alt=\"Open In Colab\"/></a>"
      ]
    },
    {
      "cell_type": "markdown",
      "source": [
        "# Imports"
      ],
      "metadata": {
        "id": "U2bYgdttM4jD"
      }
    },
    {
      "cell_type": "code",
      "execution_count": 36,
      "metadata": {
        "id": "mtTZUMDJLvw2"
      },
      "outputs": [],
      "source": [
        "from google.colab import drive\n",
        "import pandas as pd\n",
        "import numpy as np\n",
        "import matplotlib.pyplot as plt\n",
        "import pickle\n",
        "import os"
      ]
    },
    {
      "cell_type": "code",
      "source": [
        "# Models\n",
        "from sklearn.linear_model import LinearRegression\n",
        "from sklearn.tree import DecisionTreeRegressor\n",
        "from sklearn.ensemble import RandomForestRegressor\n",
        "from sklearn.ensemble import GradientBoostingRegressor\n",
        "from sklearn.linear_model import Lasso\n",
        "from sklearn.linear_model import ElasticNet\n",
        "from sklearn.svm import SVR\n",
        "\n",
        "# Grid search\n",
        "from sklearn.model_selection import GridSearchCV\n",
        "\n",
        "# Metrics\n",
        "from sklearn.metrics import mean_squared_error\n",
        "from sklearn.model_selection import cross_val_score"
      ],
      "metadata": {
        "id": "1JlpfMx9Ri3A"
      },
      "execution_count": 37,
      "outputs": []
    },
    {
      "cell_type": "code",
      "source": [
        "# PEP 8\n",
        "%%capture\n",
        "!pip install pycodestyle\n",
        "!pip install --index-url https://test.pypi.org/simple/ nbpep8\n",
        "\n",
        "from nbpep8.nbpep8 import pep8"
      ],
      "metadata": {
        "id": "n4xmQqzXsleN"
      },
      "execution_count": 38,
      "outputs": []
    },
    {
      "cell_type": "markdown",
      "source": [
        "# Import module files"
      ],
      "metadata": {
        "id": "vK0KS8iPMlod"
      }
    },
    {
      "cell_type": "code",
      "source": [
        "%%capture\n",
        "def download_files(url_dict):\n",
        "    for file, url in url_dict.items():\n",
        "        print(f'Downloading {file}')\n",
        "        !wget -O {file} {url} {file}\n",
        "\n",
        "\n",
        "files = [\n",
        "    'path_manager.py',\n",
        "    'sklearn_utils.py',\n",
        "    'sklearn_transformers.py',\n",
        "    'model.py'\n",
        "]\n",
        "\n",
        "git_download_path = \\\n",
        "'https://raw.githubusercontent.com/PashaIanko/Kaggle.Restaurant-Revenue-Prediction/main/'\n",
        "url_dict = {file: git_download_path + file for file in files}\n",
        "download_files(url_dict)"
      ],
      "metadata": {
        "id": "9m93SxetMnKl"
      },
      "execution_count": 39,
      "outputs": []
    },
    {
      "cell_type": "code",
      "source": [
        "import importlib\n",
        "import path_manager\n",
        "import sklearn_transformers\n",
        "import sklearn_utils\n",
        "import model\n",
        "\n",
        "def reload_all(modules_list):\n",
        "    for module in modules_list:\n",
        "        importlib.reload(module)\n",
        "\n",
        "reload_all(\n",
        "    [\n",
        "        path_manager,\n",
        "        sklearn_utils,\n",
        "        sklearn_transformers,\n",
        "        model\n",
        "    ]\n",
        ")\n",
        "\n",
        "from path_manager import PathManager\n",
        "\n",
        "from sklearn_utils import boxplot_regression\n",
        "from sklearn_utils import get_correlated_attributes\n",
        "from sklearn_utils import nan_statistics\n",
        "from sklearn_utils import visualize_datasets_distributions\n",
        "from sklearn_utils import print_model_cv_scores\n",
        "from sklearn_utils import plot_cv_results\n",
        "from sklearn_utils import fit_grid_search\n",
        "from sklearn_utils import fit_randomized_search\n",
        "\n",
        "from sklearn_transformers import ColumnDropper\n",
        "from sklearn_transformers import LogTransformer\n",
        "from model import Model"
      ],
      "metadata": {
        "id": "EyQba-_XMspv"
      },
      "execution_count": 40,
      "outputs": []
    },
    {
      "cell_type": "markdown",
      "source": [
        "# Fixing seed"
      ],
      "metadata": {
        "id": "P2iJIDM0NEoQ"
      }
    },
    {
      "cell_type": "code",
      "source": [
        "RANDOM_SEED = 42\n",
        "np.random.seed(RANDOM_SEED)"
      ],
      "metadata": {
        "id": "9OZ8pbzSNGN2"
      },
      "execution_count": 41,
      "outputs": []
    },
    {
      "cell_type": "markdown",
      "source": [
        "# Setup paths (**Set preprocessing and model trials!**)"
      ],
      "metadata": {
        "id": "uMLe8EvZM6Zu"
      }
    },
    {
      "cell_type": "code",
      "source": [
        "drive.mount('/content/gdrive')\n",
        "gdrive_path = '/content/gdrive/MyDrive/'\n",
        "\n",
        "COMPETITION_PATH = gdrive_path + 'ML/Competitions/5.RestaurantRevenue/'\n",
        "PREPROC_TRIAL = 4\n",
        "MODELS_TRIAL = 4"
      ],
      "metadata": {
        "id": "rsoA3LtCDP22",
        "outputId": "4a98c39f-465e-44b1-bfd1-2d3fcd21f08c",
        "colab": {
          "base_uri": "https://localhost:8080/"
        }
      },
      "execution_count": 42,
      "outputs": [
        {
          "output_type": "stream",
          "name": "stdout",
          "text": [
            "Drive already mounted at /content/gdrive; to attempt to forcibly remount, call drive.mount(\"/content/gdrive\", force_remount=True).\n"
          ]
        }
      ]
    },
    {
      "cell_type": "code",
      "source": [
        "manager = PathManager(\n",
        "    competition_path=COMPETITION_PATH, \n",
        "    preprocessing_trial=PREPROC_TRIAL,\n",
        "    models_trial=MODELS_TRIAL\n",
        ")\n",
        "manager.setup_paths()"
      ],
      "metadata": {
        "id": "77e1K8mRDjbM",
        "outputId": "0669bc69-55c6-44b3-a404-b9c20a031c56",
        "colab": {
          "base_uri": "https://localhost:8080/"
        }
      },
      "execution_count": 43,
      "outputs": [
        {
          "output_type": "stream",
          "name": "stdout",
          "text": [
            "/content/gdrive/MyDrive/ML/Competitions/5.RestaurantRevenue/Data/preproc_trial_4 already exists\n",
            "/content/gdrive/MyDrive/ML/Competitions/5.RestaurantRevenue/Models/trial_4 already exists\n"
          ]
        }
      ]
    },
    {
      "cell_type": "markdown",
      "source": [
        "# Download the data"
      ],
      "metadata": {
        "id": "S3n0_Ht7NUdv"
      }
    },
    {
      "cell_type": "code",
      "source": [
        "kaggle_test_path = os.path.join(\n",
        "    manager.data_trial_path,\n",
        "    'test_processed.csv'\n",
        ")\n",
        "df_test = pd.read_csv(\n",
        "    kaggle_test_path, index_col=[0]\n",
        ")\n",
        "df_test.head(2)"
      ],
      "metadata": {
        "colab": {
          "base_uri": "https://localhost:8080/",
          "height": 0
        },
        "id": "d6EyPaN57RU_",
        "outputId": "c2a66af0-9b1f-4aa5-e7a7-959bea010f2d"
      },
      "execution_count": 44,
      "outputs": [
        {
          "output_type": "execute_result",
          "data": {
            "text/plain": [
              "          0         1         2         3         4         5         6  \\\n",
              "0  0.000000  0.461538  0.533333  0.222222  0.000000  0.111111  0.444444   \n",
              "1  0.181818  0.461538  0.533333  0.222222  0.142857  0.111111  0.444444   \n",
              "\n",
              "          7         8         9  ...   73   74   75   76   77   78   79   80  \\\n",
              "0  0.333333  0.166667  0.166667  ...  0.0  0.0  0.0  0.0  0.0  0.0  1.0  0.0   \n",
              "1  0.222222  0.000000  0.000000  ...  0.0  0.0  0.0  0.0  0.0  1.0  0.0  0.0   \n",
              "\n",
              "    81   82  \n",
              "0  0.0  0.0  \n",
              "1  0.0  0.0  \n",
              "\n",
              "[2 rows x 83 columns]"
            ],
            "text/html": [
              "\n",
              "  <div id=\"df-41fc7808-5777-452a-966c-83fa2aa0730a\">\n",
              "    <div class=\"colab-df-container\">\n",
              "      <div>\n",
              "<style scoped>\n",
              "    .dataframe tbody tr th:only-of-type {\n",
              "        vertical-align: middle;\n",
              "    }\n",
              "\n",
              "    .dataframe tbody tr th {\n",
              "        vertical-align: top;\n",
              "    }\n",
              "\n",
              "    .dataframe thead th {\n",
              "        text-align: right;\n",
              "    }\n",
              "</style>\n",
              "<table border=\"1\" class=\"dataframe\">\n",
              "  <thead>\n",
              "    <tr style=\"text-align: right;\">\n",
              "      <th></th>\n",
              "      <th>0</th>\n",
              "      <th>1</th>\n",
              "      <th>2</th>\n",
              "      <th>3</th>\n",
              "      <th>4</th>\n",
              "      <th>5</th>\n",
              "      <th>6</th>\n",
              "      <th>7</th>\n",
              "      <th>8</th>\n",
              "      <th>9</th>\n",
              "      <th>...</th>\n",
              "      <th>73</th>\n",
              "      <th>74</th>\n",
              "      <th>75</th>\n",
              "      <th>76</th>\n",
              "      <th>77</th>\n",
              "      <th>78</th>\n",
              "      <th>79</th>\n",
              "      <th>80</th>\n",
              "      <th>81</th>\n",
              "      <th>82</th>\n",
              "    </tr>\n",
              "  </thead>\n",
              "  <tbody>\n",
              "    <tr>\n",
              "      <th>0</th>\n",
              "      <td>0.000000</td>\n",
              "      <td>0.461538</td>\n",
              "      <td>0.533333</td>\n",
              "      <td>0.222222</td>\n",
              "      <td>0.000000</td>\n",
              "      <td>0.111111</td>\n",
              "      <td>0.444444</td>\n",
              "      <td>0.333333</td>\n",
              "      <td>0.166667</td>\n",
              "      <td>0.166667</td>\n",
              "      <td>...</td>\n",
              "      <td>0.0</td>\n",
              "      <td>0.0</td>\n",
              "      <td>0.0</td>\n",
              "      <td>0.0</td>\n",
              "      <td>0.0</td>\n",
              "      <td>0.0</td>\n",
              "      <td>1.0</td>\n",
              "      <td>0.0</td>\n",
              "      <td>0.0</td>\n",
              "      <td>0.0</td>\n",
              "    </tr>\n",
              "    <tr>\n",
              "      <th>1</th>\n",
              "      <td>0.181818</td>\n",
              "      <td>0.461538</td>\n",
              "      <td>0.533333</td>\n",
              "      <td>0.222222</td>\n",
              "      <td>0.142857</td>\n",
              "      <td>0.111111</td>\n",
              "      <td>0.444444</td>\n",
              "      <td>0.222222</td>\n",
              "      <td>0.000000</td>\n",
              "      <td>0.000000</td>\n",
              "      <td>...</td>\n",
              "      <td>0.0</td>\n",
              "      <td>0.0</td>\n",
              "      <td>0.0</td>\n",
              "      <td>0.0</td>\n",
              "      <td>0.0</td>\n",
              "      <td>1.0</td>\n",
              "      <td>0.0</td>\n",
              "      <td>0.0</td>\n",
              "      <td>0.0</td>\n",
              "      <td>0.0</td>\n",
              "    </tr>\n",
              "  </tbody>\n",
              "</table>\n",
              "<p>2 rows × 83 columns</p>\n",
              "</div>\n",
              "      <button class=\"colab-df-convert\" onclick=\"convertToInteractive('df-41fc7808-5777-452a-966c-83fa2aa0730a')\"\n",
              "              title=\"Convert this dataframe to an interactive table.\"\n",
              "              style=\"display:none;\">\n",
              "        \n",
              "  <svg xmlns=\"http://www.w3.org/2000/svg\" height=\"24px\"viewBox=\"0 0 24 24\"\n",
              "       width=\"24px\">\n",
              "    <path d=\"M0 0h24v24H0V0z\" fill=\"none\"/>\n",
              "    <path d=\"M18.56 5.44l.94 2.06.94-2.06 2.06-.94-2.06-.94-.94-2.06-.94 2.06-2.06.94zm-11 1L8.5 8.5l.94-2.06 2.06-.94-2.06-.94L8.5 2.5l-.94 2.06-2.06.94zm10 10l.94 2.06.94-2.06 2.06-.94-2.06-.94-.94-2.06-.94 2.06-2.06.94z\"/><path d=\"M17.41 7.96l-1.37-1.37c-.4-.4-.92-.59-1.43-.59-.52 0-1.04.2-1.43.59L10.3 9.45l-7.72 7.72c-.78.78-.78 2.05 0 2.83L4 21.41c.39.39.9.59 1.41.59.51 0 1.02-.2 1.41-.59l7.78-7.78 2.81-2.81c.8-.78.8-2.07 0-2.86zM5.41 20L4 18.59l7.72-7.72 1.47 1.35L5.41 20z\"/>\n",
              "  </svg>\n",
              "      </button>\n",
              "      \n",
              "  <style>\n",
              "    .colab-df-container {\n",
              "      display:flex;\n",
              "      flex-wrap:wrap;\n",
              "      gap: 12px;\n",
              "    }\n",
              "\n",
              "    .colab-df-convert {\n",
              "      background-color: #E8F0FE;\n",
              "      border: none;\n",
              "      border-radius: 50%;\n",
              "      cursor: pointer;\n",
              "      display: none;\n",
              "      fill: #1967D2;\n",
              "      height: 32px;\n",
              "      padding: 0 0 0 0;\n",
              "      width: 32px;\n",
              "    }\n",
              "\n",
              "    .colab-df-convert:hover {\n",
              "      background-color: #E2EBFA;\n",
              "      box-shadow: 0px 1px 2px rgba(60, 64, 67, 0.3), 0px 1px 3px 1px rgba(60, 64, 67, 0.15);\n",
              "      fill: #174EA6;\n",
              "    }\n",
              "\n",
              "    [theme=dark] .colab-df-convert {\n",
              "      background-color: #3B4455;\n",
              "      fill: #D2E3FC;\n",
              "    }\n",
              "\n",
              "    [theme=dark] .colab-df-convert:hover {\n",
              "      background-color: #434B5C;\n",
              "      box-shadow: 0px 1px 3px 1px rgba(0, 0, 0, 0.15);\n",
              "      filter: drop-shadow(0px 1px 2px rgba(0, 0, 0, 0.3));\n",
              "      fill: #FFFFFF;\n",
              "    }\n",
              "  </style>\n",
              "\n",
              "      <script>\n",
              "        const buttonEl =\n",
              "          document.querySelector('#df-41fc7808-5777-452a-966c-83fa2aa0730a button.colab-df-convert');\n",
              "        buttonEl.style.display =\n",
              "          google.colab.kernel.accessAllowed ? 'block' : 'none';\n",
              "\n",
              "        async function convertToInteractive(key) {\n",
              "          const element = document.querySelector('#df-41fc7808-5777-452a-966c-83fa2aa0730a');\n",
              "          const dataTable =\n",
              "            await google.colab.kernel.invokeFunction('convertToInteractive',\n",
              "                                                     [key], {});\n",
              "          if (!dataTable) return;\n",
              "\n",
              "          const docLinkHtml = 'Like what you see? Visit the ' +\n",
              "            '<a target=\"_blank\" href=https://colab.research.google.com/notebooks/data_table.ipynb>data table notebook</a>'\n",
              "            + ' to learn more about interactive tables.';\n",
              "          element.innerHTML = '';\n",
              "          dataTable['output_type'] = 'display_data';\n",
              "          await google.colab.output.renderOutput(dataTable, element);\n",
              "          const docLink = document.createElement('div');\n",
              "          docLink.innerHTML = docLinkHtml;\n",
              "          element.appendChild(docLink);\n",
              "        }\n",
              "      </script>\n",
              "    </div>\n",
              "  </div>\n",
              "  "
            ]
          },
          "metadata": {},
          "execution_count": 44
        }
      ]
    },
    {
      "cell_type": "code",
      "source": [
        "df_test_sample = pd.read_csv(\n",
        "    os.path.join(manager.data_trial_path, 'test_sample_processed.csv'), \n",
        "    index_col=[0]\n",
        ")\n",
        "df_test_sample.head(2)"
      ],
      "metadata": {
        "colab": {
          "base_uri": "https://localhost:8080/",
          "height": 0
        },
        "id": "e5SY6pmc3iNC",
        "outputId": "bee5b6db-c3c7-4cc4-84d5-354e9e27d616"
      },
      "execution_count": 45,
      "outputs": [
        {
          "output_type": "execute_result",
          "data": {
            "text/plain": [
              "          0         1         2    3    4         5         6         7  \\\n",
              "0  0.000000  0.153846  0.666667  0.0  0.0  0.111111  0.000000  0.444444   \n",
              "1  0.272727  0.615385  0.533333  0.0  0.0  0.222222  0.444444  0.444444   \n",
              "\n",
              "          8         9  ...   73   74   75   76   77   78   79   80   81  \\\n",
              "0  0.166667  0.166667  ...  0.0  0.0  0.0  0.0  0.0  0.0  1.0  0.0  0.0   \n",
              "1  0.166667  0.166667  ...  0.0  0.0  0.0  0.0  0.0  1.0  0.0  0.0  0.0   \n",
              "\n",
              "          82  \n",
              "0  14.842280  \n",
              "1  15.312391  \n",
              "\n",
              "[2 rows x 83 columns]"
            ],
            "text/html": [
              "\n",
              "  <div id=\"df-dbe0955d-3cff-4b6d-8851-70118c95d0ca\">\n",
              "    <div class=\"colab-df-container\">\n",
              "      <div>\n",
              "<style scoped>\n",
              "    .dataframe tbody tr th:only-of-type {\n",
              "        vertical-align: middle;\n",
              "    }\n",
              "\n",
              "    .dataframe tbody tr th {\n",
              "        vertical-align: top;\n",
              "    }\n",
              "\n",
              "    .dataframe thead th {\n",
              "        text-align: right;\n",
              "    }\n",
              "</style>\n",
              "<table border=\"1\" class=\"dataframe\">\n",
              "  <thead>\n",
              "    <tr style=\"text-align: right;\">\n",
              "      <th></th>\n",
              "      <th>0</th>\n",
              "      <th>1</th>\n",
              "      <th>2</th>\n",
              "      <th>3</th>\n",
              "      <th>4</th>\n",
              "      <th>5</th>\n",
              "      <th>6</th>\n",
              "      <th>7</th>\n",
              "      <th>8</th>\n",
              "      <th>9</th>\n",
              "      <th>...</th>\n",
              "      <th>73</th>\n",
              "      <th>74</th>\n",
              "      <th>75</th>\n",
              "      <th>76</th>\n",
              "      <th>77</th>\n",
              "      <th>78</th>\n",
              "      <th>79</th>\n",
              "      <th>80</th>\n",
              "      <th>81</th>\n",
              "      <th>82</th>\n",
              "    </tr>\n",
              "  </thead>\n",
              "  <tbody>\n",
              "    <tr>\n",
              "      <th>0</th>\n",
              "      <td>0.000000</td>\n",
              "      <td>0.153846</td>\n",
              "      <td>0.666667</td>\n",
              "      <td>0.0</td>\n",
              "      <td>0.0</td>\n",
              "      <td>0.111111</td>\n",
              "      <td>0.000000</td>\n",
              "      <td>0.444444</td>\n",
              "      <td>0.166667</td>\n",
              "      <td>0.166667</td>\n",
              "      <td>...</td>\n",
              "      <td>0.0</td>\n",
              "      <td>0.0</td>\n",
              "      <td>0.0</td>\n",
              "      <td>0.0</td>\n",
              "      <td>0.0</td>\n",
              "      <td>0.0</td>\n",
              "      <td>1.0</td>\n",
              "      <td>0.0</td>\n",
              "      <td>0.0</td>\n",
              "      <td>14.842280</td>\n",
              "    </tr>\n",
              "    <tr>\n",
              "      <th>1</th>\n",
              "      <td>0.272727</td>\n",
              "      <td>0.615385</td>\n",
              "      <td>0.533333</td>\n",
              "      <td>0.0</td>\n",
              "      <td>0.0</td>\n",
              "      <td>0.222222</td>\n",
              "      <td>0.444444</td>\n",
              "      <td>0.444444</td>\n",
              "      <td>0.166667</td>\n",
              "      <td>0.166667</td>\n",
              "      <td>...</td>\n",
              "      <td>0.0</td>\n",
              "      <td>0.0</td>\n",
              "      <td>0.0</td>\n",
              "      <td>0.0</td>\n",
              "      <td>0.0</td>\n",
              "      <td>1.0</td>\n",
              "      <td>0.0</td>\n",
              "      <td>0.0</td>\n",
              "      <td>0.0</td>\n",
              "      <td>15.312391</td>\n",
              "    </tr>\n",
              "  </tbody>\n",
              "</table>\n",
              "<p>2 rows × 83 columns</p>\n",
              "</div>\n",
              "      <button class=\"colab-df-convert\" onclick=\"convertToInteractive('df-dbe0955d-3cff-4b6d-8851-70118c95d0ca')\"\n",
              "              title=\"Convert this dataframe to an interactive table.\"\n",
              "              style=\"display:none;\">\n",
              "        \n",
              "  <svg xmlns=\"http://www.w3.org/2000/svg\" height=\"24px\"viewBox=\"0 0 24 24\"\n",
              "       width=\"24px\">\n",
              "    <path d=\"M0 0h24v24H0V0z\" fill=\"none\"/>\n",
              "    <path d=\"M18.56 5.44l.94 2.06.94-2.06 2.06-.94-2.06-.94-.94-2.06-.94 2.06-2.06.94zm-11 1L8.5 8.5l.94-2.06 2.06-.94-2.06-.94L8.5 2.5l-.94 2.06-2.06.94zm10 10l.94 2.06.94-2.06 2.06-.94-2.06-.94-.94-2.06-.94 2.06-2.06.94z\"/><path d=\"M17.41 7.96l-1.37-1.37c-.4-.4-.92-.59-1.43-.59-.52 0-1.04.2-1.43.59L10.3 9.45l-7.72 7.72c-.78.78-.78 2.05 0 2.83L4 21.41c.39.39.9.59 1.41.59.51 0 1.02-.2 1.41-.59l7.78-7.78 2.81-2.81c.8-.78.8-2.07 0-2.86zM5.41 20L4 18.59l7.72-7.72 1.47 1.35L5.41 20z\"/>\n",
              "  </svg>\n",
              "      </button>\n",
              "      \n",
              "  <style>\n",
              "    .colab-df-container {\n",
              "      display:flex;\n",
              "      flex-wrap:wrap;\n",
              "      gap: 12px;\n",
              "    }\n",
              "\n",
              "    .colab-df-convert {\n",
              "      background-color: #E8F0FE;\n",
              "      border: none;\n",
              "      border-radius: 50%;\n",
              "      cursor: pointer;\n",
              "      display: none;\n",
              "      fill: #1967D2;\n",
              "      height: 32px;\n",
              "      padding: 0 0 0 0;\n",
              "      width: 32px;\n",
              "    }\n",
              "\n",
              "    .colab-df-convert:hover {\n",
              "      background-color: #E2EBFA;\n",
              "      box-shadow: 0px 1px 2px rgba(60, 64, 67, 0.3), 0px 1px 3px 1px rgba(60, 64, 67, 0.15);\n",
              "      fill: #174EA6;\n",
              "    }\n",
              "\n",
              "    [theme=dark] .colab-df-convert {\n",
              "      background-color: #3B4455;\n",
              "      fill: #D2E3FC;\n",
              "    }\n",
              "\n",
              "    [theme=dark] .colab-df-convert:hover {\n",
              "      background-color: #434B5C;\n",
              "      box-shadow: 0px 1px 3px 1px rgba(0, 0, 0, 0.15);\n",
              "      filter: drop-shadow(0px 1px 2px rgba(0, 0, 0, 0.3));\n",
              "      fill: #FFFFFF;\n",
              "    }\n",
              "  </style>\n",
              "\n",
              "      <script>\n",
              "        const buttonEl =\n",
              "          document.querySelector('#df-dbe0955d-3cff-4b6d-8851-70118c95d0ca button.colab-df-convert');\n",
              "        buttonEl.style.display =\n",
              "          google.colab.kernel.accessAllowed ? 'block' : 'none';\n",
              "\n",
              "        async function convertToInteractive(key) {\n",
              "          const element = document.querySelector('#df-dbe0955d-3cff-4b6d-8851-70118c95d0ca');\n",
              "          const dataTable =\n",
              "            await google.colab.kernel.invokeFunction('convertToInteractive',\n",
              "                                                     [key], {});\n",
              "          if (!dataTable) return;\n",
              "\n",
              "          const docLinkHtml = 'Like what you see? Visit the ' +\n",
              "            '<a target=\"_blank\" href=https://colab.research.google.com/notebooks/data_table.ipynb>data table notebook</a>'\n",
              "            + ' to learn more about interactive tables.';\n",
              "          element.innerHTML = '';\n",
              "          dataTable['output_type'] = 'display_data';\n",
              "          await google.colab.output.renderOutput(dataTable, element);\n",
              "          const docLink = document.createElement('div');\n",
              "          docLink.innerHTML = docLinkHtml;\n",
              "          element.appendChild(docLink);\n",
              "        }\n",
              "      </script>\n",
              "    </div>\n",
              "  </div>\n",
              "  "
            ]
          },
          "metadata": {},
          "execution_count": 45
        }
      ]
    },
    {
      "cell_type": "code",
      "source": [
        "df_trainval = pd.read_csv(\n",
        "    os.path.join(manager.data_trial_path, 'trainval_sample_processed.csv'), \n",
        "    index_col=[0]\n",
        ")\n",
        "df_trainval.head(2)"
      ],
      "metadata": {
        "colab": {
          "base_uri": "https://localhost:8080/",
          "height": 0
        },
        "id": "-ZeWM9PpNWGK",
        "outputId": "f55fa686-8fe0-4607-ec56-a6a33e02fbad"
      },
      "execution_count": 46,
      "outputs": [
        {
          "output_type": "execute_result",
          "data": {
            "text/plain": [
              "          0         1    2         3         4         5         6         7  \\\n",
              "0  0.181818  0.461538  0.4  0.222222  0.142857  0.111111  0.444444  0.444444   \n",
              "1  0.090909  0.461538  0.4  0.444444  0.428571  0.444444  0.444444  0.333333   \n",
              "\n",
              "          8         9  ...   73   74   75   76   77   78   79   80   81  \\\n",
              "0  0.166667  0.166667  ...  0.0  0.0  0.0  0.0  0.0  1.0  0.0  0.0  0.0   \n",
              "1  0.000000  0.000000  ...  0.0  0.0  0.0  0.0  0.0  0.0  1.0  0.0  0.0   \n",
              "\n",
              "          82  \n",
              "0  15.278005  \n",
              "1  15.255171  \n",
              "\n",
              "[2 rows x 83 columns]"
            ],
            "text/html": [
              "\n",
              "  <div id=\"df-5f04924c-6691-4fd7-82ff-8b74d35ed29b\">\n",
              "    <div class=\"colab-df-container\">\n",
              "      <div>\n",
              "<style scoped>\n",
              "    .dataframe tbody tr th:only-of-type {\n",
              "        vertical-align: middle;\n",
              "    }\n",
              "\n",
              "    .dataframe tbody tr th {\n",
              "        vertical-align: top;\n",
              "    }\n",
              "\n",
              "    .dataframe thead th {\n",
              "        text-align: right;\n",
              "    }\n",
              "</style>\n",
              "<table border=\"1\" class=\"dataframe\">\n",
              "  <thead>\n",
              "    <tr style=\"text-align: right;\">\n",
              "      <th></th>\n",
              "      <th>0</th>\n",
              "      <th>1</th>\n",
              "      <th>2</th>\n",
              "      <th>3</th>\n",
              "      <th>4</th>\n",
              "      <th>5</th>\n",
              "      <th>6</th>\n",
              "      <th>7</th>\n",
              "      <th>8</th>\n",
              "      <th>9</th>\n",
              "      <th>...</th>\n",
              "      <th>73</th>\n",
              "      <th>74</th>\n",
              "      <th>75</th>\n",
              "      <th>76</th>\n",
              "      <th>77</th>\n",
              "      <th>78</th>\n",
              "      <th>79</th>\n",
              "      <th>80</th>\n",
              "      <th>81</th>\n",
              "      <th>82</th>\n",
              "    </tr>\n",
              "  </thead>\n",
              "  <tbody>\n",
              "    <tr>\n",
              "      <th>0</th>\n",
              "      <td>0.181818</td>\n",
              "      <td>0.461538</td>\n",
              "      <td>0.4</td>\n",
              "      <td>0.222222</td>\n",
              "      <td>0.142857</td>\n",
              "      <td>0.111111</td>\n",
              "      <td>0.444444</td>\n",
              "      <td>0.444444</td>\n",
              "      <td>0.166667</td>\n",
              "      <td>0.166667</td>\n",
              "      <td>...</td>\n",
              "      <td>0.0</td>\n",
              "      <td>0.0</td>\n",
              "      <td>0.0</td>\n",
              "      <td>0.0</td>\n",
              "      <td>0.0</td>\n",
              "      <td>1.0</td>\n",
              "      <td>0.0</td>\n",
              "      <td>0.0</td>\n",
              "      <td>0.0</td>\n",
              "      <td>15.278005</td>\n",
              "    </tr>\n",
              "    <tr>\n",
              "      <th>1</th>\n",
              "      <td>0.090909</td>\n",
              "      <td>0.461538</td>\n",
              "      <td>0.4</td>\n",
              "      <td>0.444444</td>\n",
              "      <td>0.428571</td>\n",
              "      <td>0.444444</td>\n",
              "      <td>0.444444</td>\n",
              "      <td>0.333333</td>\n",
              "      <td>0.000000</td>\n",
              "      <td>0.000000</td>\n",
              "      <td>...</td>\n",
              "      <td>0.0</td>\n",
              "      <td>0.0</td>\n",
              "      <td>0.0</td>\n",
              "      <td>0.0</td>\n",
              "      <td>0.0</td>\n",
              "      <td>0.0</td>\n",
              "      <td>1.0</td>\n",
              "      <td>0.0</td>\n",
              "      <td>0.0</td>\n",
              "      <td>15.255171</td>\n",
              "    </tr>\n",
              "  </tbody>\n",
              "</table>\n",
              "<p>2 rows × 83 columns</p>\n",
              "</div>\n",
              "      <button class=\"colab-df-convert\" onclick=\"convertToInteractive('df-5f04924c-6691-4fd7-82ff-8b74d35ed29b')\"\n",
              "              title=\"Convert this dataframe to an interactive table.\"\n",
              "              style=\"display:none;\">\n",
              "        \n",
              "  <svg xmlns=\"http://www.w3.org/2000/svg\" height=\"24px\"viewBox=\"0 0 24 24\"\n",
              "       width=\"24px\">\n",
              "    <path d=\"M0 0h24v24H0V0z\" fill=\"none\"/>\n",
              "    <path d=\"M18.56 5.44l.94 2.06.94-2.06 2.06-.94-2.06-.94-.94-2.06-.94 2.06-2.06.94zm-11 1L8.5 8.5l.94-2.06 2.06-.94-2.06-.94L8.5 2.5l-.94 2.06-2.06.94zm10 10l.94 2.06.94-2.06 2.06-.94-2.06-.94-.94-2.06-.94 2.06-2.06.94z\"/><path d=\"M17.41 7.96l-1.37-1.37c-.4-.4-.92-.59-1.43-.59-.52 0-1.04.2-1.43.59L10.3 9.45l-7.72 7.72c-.78.78-.78 2.05 0 2.83L4 21.41c.39.39.9.59 1.41.59.51 0 1.02-.2 1.41-.59l7.78-7.78 2.81-2.81c.8-.78.8-2.07 0-2.86zM5.41 20L4 18.59l7.72-7.72 1.47 1.35L5.41 20z\"/>\n",
              "  </svg>\n",
              "      </button>\n",
              "      \n",
              "  <style>\n",
              "    .colab-df-container {\n",
              "      display:flex;\n",
              "      flex-wrap:wrap;\n",
              "      gap: 12px;\n",
              "    }\n",
              "\n",
              "    .colab-df-convert {\n",
              "      background-color: #E8F0FE;\n",
              "      border: none;\n",
              "      border-radius: 50%;\n",
              "      cursor: pointer;\n",
              "      display: none;\n",
              "      fill: #1967D2;\n",
              "      height: 32px;\n",
              "      padding: 0 0 0 0;\n",
              "      width: 32px;\n",
              "    }\n",
              "\n",
              "    .colab-df-convert:hover {\n",
              "      background-color: #E2EBFA;\n",
              "      box-shadow: 0px 1px 2px rgba(60, 64, 67, 0.3), 0px 1px 3px 1px rgba(60, 64, 67, 0.15);\n",
              "      fill: #174EA6;\n",
              "    }\n",
              "\n",
              "    [theme=dark] .colab-df-convert {\n",
              "      background-color: #3B4455;\n",
              "      fill: #D2E3FC;\n",
              "    }\n",
              "\n",
              "    [theme=dark] .colab-df-convert:hover {\n",
              "      background-color: #434B5C;\n",
              "      box-shadow: 0px 1px 3px 1px rgba(0, 0, 0, 0.15);\n",
              "      filter: drop-shadow(0px 1px 2px rgba(0, 0, 0, 0.3));\n",
              "      fill: #FFFFFF;\n",
              "    }\n",
              "  </style>\n",
              "\n",
              "      <script>\n",
              "        const buttonEl =\n",
              "          document.querySelector('#df-5f04924c-6691-4fd7-82ff-8b74d35ed29b button.colab-df-convert');\n",
              "        buttonEl.style.display =\n",
              "          google.colab.kernel.accessAllowed ? 'block' : 'none';\n",
              "\n",
              "        async function convertToInteractive(key) {\n",
              "          const element = document.querySelector('#df-5f04924c-6691-4fd7-82ff-8b74d35ed29b');\n",
              "          const dataTable =\n",
              "            await google.colab.kernel.invokeFunction('convertToInteractive',\n",
              "                                                     [key], {});\n",
              "          if (!dataTable) return;\n",
              "\n",
              "          const docLinkHtml = 'Like what you see? Visit the ' +\n",
              "            '<a target=\"_blank\" href=https://colab.research.google.com/notebooks/data_table.ipynb>data table notebook</a>'\n",
              "            + ' to learn more about interactive tables.';\n",
              "          element.innerHTML = '';\n",
              "          dataTable['output_type'] = 'display_data';\n",
              "          await google.colab.output.renderOutput(dataTable, element);\n",
              "          const docLink = document.createElement('div');\n",
              "          docLink.innerHTML = docLinkHtml;\n",
              "          element.appendChild(docLink);\n",
              "        }\n",
              "      </script>\n",
              "    </div>\n",
              "  </div>\n",
              "  "
            ]
          },
          "metadata": {},
          "execution_count": 46
        }
      ]
    },
    {
      "cell_type": "code",
      "source": [
        "X_train_val = df_trainval.values[:, :-1]\n",
        "Y_train_val = df_trainval.values[:, -1]"
      ],
      "metadata": {
        "id": "J8FBYt0tQJFw"
      },
      "execution_count": 47,
      "outputs": []
    },
    {
      "cell_type": "code",
      "source": [
        "X_test_sample = df_test_sample.values[:, :-1]  # test subsample from training data\n",
        "Y_test_sample = df_test_sample.values[:, -1]"
      ],
      "metadata": {
        "id": "QLMmkUbIQzJN"
      },
      "execution_count": 48,
      "outputs": []
    },
    {
      "cell_type": "markdown",
      "source": [
        "# Select and train models (+ ensemble methods)"
      ],
      "metadata": {
        "id": "yfVYCyTcNIzh"
      }
    },
    {
      "cell_type": "markdown",
      "source": [
        "## Define models"
      ],
      "metadata": {
        "id": "3yuwyXBG3EXo"
      }
    },
    {
      "cell_type": "code",
      "source": [
        "RFModel = Model(\n",
        "    RandomForestRegressor(),\n",
        "    'RF',\n",
        "    [\n",
        "        {\n",
        "            'n_estimators': [1, 3],\n",
        "            'max_depth': [1, 3],\n",
        "            'random_state': [42],\n",
        "            'max_features': ['sqrt', 'log2']\n",
        "        }\n",
        "    ],\n",
        "\n",
        "    [\n",
        "        {\n",
        "            'n_estimators': [i * 1 for i in range(1, 11)],\n",
        "            'max_depth': [i for i in range(1, 11)],\n",
        "            'bootstrap': [True],\n",
        "            'max_samples': [0.4, 0.6, 0.9],\n",
        "            'min_samples_split': [i for i in range(2, 10)],\n",
        "            'max_features': ['sqrt', 'log2'],\n",
        "            'random_state': [42]\n",
        "        }\n",
        "    ]\n",
        ")\n",
        "\n",
        "ElasticNetModel = Model(\n",
        "    ElasticNet(),\n",
        "    'ElasticNet',\n",
        "    [\n",
        "        {\n",
        "            'alpha': [0.1, 0.3, 0.5],\n",
        "            'l1_ratio': [0.2, 0.5],\n",
        "            'random_state': [42]\n",
        "        }, \n",
        "    ],\n",
        "    [\n",
        "        {\n",
        "            'alpha': [i * 0.1 for i in range(1, 10)],\n",
        "            'l1_ratio': [i * 0.1 for i in range(1, 10)],\n",
        "            'random_state': [42]\n",
        "        }\n",
        "    ]\n",
        ")\n",
        "\n",
        "SVRModel = Model(\n",
        "    SVR(),\n",
        "    'SVM reg',\n",
        "    [\n",
        "        {\n",
        "            'kernel': ['linear'],\n",
        "            'C': [0.2, 0.5, 1.0]\n",
        "        },\n",
        "     \n",
        "        {\n",
        "            'kernel': ['rbf', 'sigmoid', 'poly'],\n",
        "            'gamma': ['scale', 'auto'],\n",
        "            'C': [0.2, 0.5, 1.0]\n",
        "        }\n",
        "    ],\n",
        "    [\n",
        "        {\n",
        "            'kernel': ['linear'],\n",
        "            'C': [0.1 * i for i in range(1, 11)]\n",
        "        },\n",
        "        {\n",
        "            'kernel': ['rbf', 'sigmoid', 'poly'],\n",
        "            'gamma': ['scale', 'auto'],\n",
        "            'C': [0.1 * i for i in range(1, 11)]\n",
        "        }\n",
        "    ]\n",
        ")"
      ],
      "metadata": {
        "id": "wN5j5kkNyU7M"
      },
      "execution_count": 49,
      "outputs": []
    },
    {
      "cell_type": "code",
      "source": [
        "XGBModel = Model(\n",
        "    GradientBoostingRegressor(n_estimators=5),\n",
        "    'XGB',\n",
        "    [\n",
        "        {\n",
        "            'n_estimators': [1],\n",
        "            'max_depth': [1],\n",
        "            'learning_rate': [0.1, 0.01, 0.003],\n",
        "            'subsample': [0.5, 0.7],\n",
        "            'max_features': ['auto', 'sqrt', 'log2'],\n",
        "            'random_state': [42]\n",
        "        }\n",
        "    ],\n",
        "    [\n",
        "        {\n",
        "            'n_estimators': [i for i in range(1, 9)],\n",
        "            'max_depth': [i for i in range(1, 10)],\n",
        "            'learning_rate': [0.001, 0.005, 0.01, 0.05, 0.1],\n",
        "            'subsample': [i * 0.1 for i in range(4, 10)],\n",
        "            'min_samples_leaf': [i for i in range(1, 10)],\n",
        "            'max_features': ['auto', 'sqrt', 'log2'],\n",
        "            'random_state': [42]\n",
        "        }\n",
        "    ]\n",
        ")\n",
        "\n",
        "pep8(_ih)"
      ],
      "metadata": {
        "colab": {
          "base_uri": "https://localhost:8080/"
        },
        "id": "Y9reAf8sTlEg",
        "outputId": "e0cfe711-4ce9-4233-fa0b-71cc63b0cdbb"
      },
      "execution_count": 50,
      "outputs": [
        {
          "output_type": "stream",
          "name": "stdout",
          "text": [
            "\n"
          ]
        }
      ]
    },
    {
      "cell_type": "code",
      "source": [
        "all_models = {\n",
        "    model.name: model for model in [\n",
        "        RFModel, \n",
        "        # SVRModel,\n",
        "        # ElasticNetModel,\n",
        "        XGBModel\n",
        "    ]\n",
        "}"
      ],
      "metadata": {
        "id": "HJJeGdrmz2Sh"
      },
      "execution_count": 51,
      "outputs": []
    },
    {
      "cell_type": "markdown",
      "source": [
        "## Preliminary look. Shortlisting 2-5 models, based on CV results, overfitting tendency"
      ],
      "metadata": {
        "id": "JJ9oO_0QYFMR"
      }
    },
    {
      "cell_type": "code",
      "source": [
        "# %%pycodestyle\n",
        "np.random.seed(RANDOM_SEED)\n",
        "\n",
        "res = plot_cv_results(\n",
        "    sklearn_models_dict_={\n",
        "        model_name: model.model for model_name, model in all_models.items()\n",
        "    },\n",
        "    X_=X_train_val,\n",
        "    Y_=Y_train_val,\n",
        "    cv_=7,\n",
        "    scoring_='neg_mean_squared_error',\n",
        "    to_put_minus_=True\n",
        ")"
      ],
      "metadata": {
        "colab": {
          "base_uri": "https://localhost:8080/",
          "height": 662
        },
        "id": "fGRthSlu0eDX",
        "outputId": "acb588a1-b72c-4f01-805f-00cb6303467d"
      },
      "execution_count": 52,
      "outputs": [
        {
          "output_type": "stream",
          "name": "stdout",
          "text": [
            "Model      Seen folds avg score    Seen folds std    Unseen folds avg score    Unseen folds std\n",
            "-------  ----------------------  ----------------  ------------------------  ------------------\n",
            "RF                   -0.0378215        0.00425959                 -0.244145           0.089132\n",
            "XGB                  -0.167867         0.0144129                  -0.244143           0.0904544\n"
          ]
        },
        {
          "output_type": "display_data",
          "data": {
            "text/plain": [
              "<Figure size 432x288 with 1 Axes>"
            ],
            "image/png": "[encoded data removed]"
          },
          "metadata": {
            "needs_background": "light"
          }
        },
        {
          "output_type": "display_data",
          "data": {
            "text/plain": [
              "<Figure size 432x288 with 1 Axes>"
            ],
            "image/png": "[encoded data removed]"
          },
          "metadata": {
            "needs_background": "light"
          }
        }
      ]
    },
    {
      "cell_type": "code",
      "source": [
        "shortlisted_models = {\n",
        "    model.name: model for model in [\n",
        "        # RFModel, \n",
        "        # ElasticNetModel, \n",
        "        # SVRModel,\n",
        "        XGBModel\n",
        "    ]\n",
        "}"
      ],
      "metadata": {
        "id": "HYaX2Q0I28W7"
      },
      "execution_count": 54,
      "outputs": []
    },
    {
      "cell_type": "markdown",
      "source": [
        "# Fine tuning"
      ],
      "metadata": {
        "id": "TfIM9kLeZw63"
      }
    },
    {
      "cell_type": "markdown",
      "source": [
        "## Grid search"
      ],
      "metadata": {
        "id": "B98xuMDok8Ea"
      }
    },
    {
      "cell_type": "code",
      "source": [
        "grid_search_results = fit_grid_search(\n",
        "    shortlisted_models,  # dict_subset(models, ['RF'])\n",
        "    X_=X_train_val,\n",
        "    Y_=Y_train_val,\n",
        "    cv_=4,\n",
        "    scoring_='neg_mean_squared_error'\n",
        ")\n",
        "\n",
        "# grid_search_results = {\n",
        "#     'RF': rf_grid_search_results['RF'],\n",
        "#     'ElasticNet': elastic_grid_search_results['ElasticNet'],\n",
        "#     'SVM reg': svm_grid_search_results['SVM reg']\n",
        "# }\n",
        "\n",
        "pep8(_ih)"
      ],
      "metadata": {
        "colab": {
          "base_uri": "https://localhost:8080/"
        },
        "id": "3kvpjPXfeQW4",
        "outputId": "a3a4b1eb-d580-4768-de4e-4a900004f923"
      },
      "execution_count": 55,
      "outputs": [
        {
          "output_type": "stream",
          "name": "stdout",
          "text": [
            "Fitting XGB\n",
            "\n"
          ]
        }
      ]
    },
    {
      "cell_type": "code",
      "source": [
        "grid_search_results['XGB'].best_estimator_"
      ],
      "metadata": {
        "colab": {
          "base_uri": "https://localhost:8080/"
        },
        "id": "y21wr9NTSEFy",
        "outputId": "2aeae88d-270a-4503-d9e9-b8d21a282089"
      },
      "execution_count": 56,
      "outputs": [
        {
          "output_type": "execute_result",
          "data": {
            "text/plain": [
              "GradientBoostingRegressor(max_depth=1, max_features='auto', n_estimators=1,\n",
              "                          random_state=42, subsample=0.7)"
            ]
          },
          "metadata": {},
          "execution_count": 56
        }
      ]
    },
    {
      "cell_type": "markdown",
      "source": [
        "## Randomized search"
      ],
      "metadata": {
        "id": "2GXVk_QFlFOw"
      }
    },
    {
      "cell_type": "code",
      "source": [
        "rand_search_results = fit_randomized_search(\n",
        "    shortlisted_models,\n",
        "    X_=X_train_val,\n",
        "    Y_=Y_train_val,\n",
        "    cv_=6,\n",
        "    n_iter_=10,\n",
        "    scoring_='neg_mean_squared_error'\n",
        ")"
      ],
      "metadata": {
        "colab": {
          "base_uri": "https://localhost:8080/"
        },
        "id": "ZyZzrhcKinx-",
        "outputId": "cf589345-0f62-41d0-eb8d-26a9579466cc"
      },
      "execution_count": 57,
      "outputs": [
        {
          "output_type": "stream",
          "name": "stdout",
          "text": [
            "Fitting XGB\n"
          ]
        }
      ]
    },
    {
      "cell_type": "code",
      "source": [
        "# print(rand_search_results.get('RF').best_estimator_)\n",
        "# print(rand_search_results['SVM reg'].best_estimator_)\n",
        "rand_search_results['XGB'].best_estimator_"
      ],
      "metadata": {
        "colab": {
          "base_uri": "https://localhost:8080/"
        },
        "id": "jczgbC14jhQS",
        "outputId": "e21e3e9c-0d95-47f4-f6f7-e06150e4d3d3"
      },
      "execution_count": 59,
      "outputs": [
        {
          "output_type": "execute_result",
          "data": {
            "text/plain": [
              "GradientBoostingRegressor(learning_rate=0.05, max_depth=8, max_features='sqrt',\n",
              "                          min_samples_leaf=5, n_estimators=8, random_state=42,\n",
              "                          subsample=0.6000000000000001)"
            ]
          },
          "metadata": {},
          "execution_count": 59
        }
      ]
    },
    {
      "cell_type": "markdown",
      "source": [
        "# Check final models for overfit"
      ],
      "metadata": {
        "id": "lc5ejrvB-94I"
      }
    },
    {
      "cell_type": "code",
      "source": [
        "_ = plot_cv_results(\n",
        "    sklearn_models_dict_ = {\n",
        "        model_name: result.best_estimator_\n",
        "        for model_name, result in rand_search_results.items()\n",
        "    },\n",
        "    X_=X_train_val,\n",
        "    Y_=Y_train_val,\n",
        "    cv_=10,\n",
        "    scoring_='neg_mean_squared_error',\n",
        "    to_put_minus_=True\n",
        ")"
      ],
      "metadata": {
        "colab": {
          "base_uri": "https://localhost:8080/",
          "height": 367
        },
        "id": "PUVMThyR_Anj",
        "outputId": "755f5593-6080-4ccb-f752-2978be4790e0"
      },
      "execution_count": 60,
      "outputs": [
        {
          "output_type": "stream",
          "name": "stdout",
          "text": [
            "Model      Seen folds avg score    Seen folds std    Unseen folds avg score    Unseen folds std\n",
            "-------  ----------------------  ----------------  ------------------------  ------------------\n",
            "XGB                   -0.190162         0.0118472                 -0.225101            0.127273\n"
          ]
        },
        {
          "output_type": "display_data",
          "data": {
            "text/plain": [
              "<Figure size 432x288 with 1 Axes>"
            ],
            "image/png": "[encoded data removed]"
          },
          "metadata": {
            "needs_background": "light"
          }
        }
      ]
    },
    {
      "cell_type": "code",
      "source": [
        "_ = plot_cv_results(\n",
        "    sklearn_models_dict_ = {\n",
        "        model_name: result.best_estimator_\n",
        "        for model_name, result in grid_search_results.items()\n",
        "    },\n",
        "    X_=X_train_val,\n",
        "    Y_=Y_train_val,\n",
        "    cv_=6,\n",
        "    scoring_='neg_mean_squared_error',\n",
        "    to_put_minus_=True\n",
        ")"
      ],
      "metadata": {
        "colab": {
          "base_uri": "https://localhost:8080/",
          "height": 642
        },
        "id": "WDANq3bODGXl",
        "outputId": "74374650-28a4-4d6a-e427-36b08e5f38b8"
      },
      "execution_count": null,
      "outputs": [
        {
          "output_type": "stream",
          "name": "stdout",
          "text": [
            "Model      Seen folds avg score    Seen folds std    Unseen folds avg score    Unseen folds std\n",
            "-------  ----------------------  ----------------  ------------------------  ------------------\n",
            "RF                   -0.0935762         0.016756                  -0.244164           0.0590447\n",
            "XGB                  -0.119921          0.0121145                 -0.213205           0.0621885\n"
          ]
        },
        {
          "output_type": "display_data",
          "data": {
            "text/plain": [
              "<Figure size 432x288 with 1 Axes>"
            ],
            "image/png": "[encoded data removed]"
          },
          "metadata": {
            "needs_background": "light"
          }
        },
        {
          "output_type": "display_data",
          "data": {
            "text/plain": [
              "<Figure size 432x288 with 1 Axes>"
            ],
            "image/png": "[encoded data removed]"
          },
          "metadata": {
            "needs_background": "light"
          }
        }
      ]
    },
    {
      "cell_type": "markdown",
      "source": [
        "# Saving fine tuned candidates (retrained on train+val subset)"
      ],
      "metadata": {
        "id": "LEUN072Sc8AC"
      }
    },
    {
      "cell_type": "code",
      "source": [
        "manager.save_models(\n",
        "    {\n",
        "        f'{model_name}_rand': result.best_estimator_\n",
        "        for model_name, result in rand_search_results.items()\n",
        "    }\n",
        ")\n",
        "\n",
        "# manager.save_models(\n",
        "#     {\n",
        "#         f'{model_name}_grid_search': result.best_estimator_\n",
        "#         for model_name, result in grid_search_results.items()\n",
        "#     }\n",
        "# )"
      ],
      "metadata": {
        "id": "Pr9TePwAc-S7"
      },
      "execution_count": 61,
      "outputs": []
    }
  ]
}