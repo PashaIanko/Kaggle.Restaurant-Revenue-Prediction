{
  "nbformat": 4,
  "nbformat_minor": 0,
  "metadata": {
    "colab": {
      "name": "model_preparation.ipynb",
      "provenance": [],
      "collapsed_sections": [
        "uMLe8EvZM6Zu",
        "S3n0_Ht7NUdv",
        "B98xuMDok8Ea",
        "2GXVk_QFlFOw"
      ],
      "authorship_tag": "ABX9TyMmtpTUkmcYtcklEz5uINtC",
      "include_colab_link": true
    },
    "kernelspec": {
      "name": "python3",
      "display_name": "Python 3"
    },
    "language_info": {
      "name": "python"
    }
  },
  "cells": [
    {
      "cell_type": "markdown",
      "metadata": {
        "id": "view-in-github",
        "colab_type": "text"
      },
      "source": [
        "<a href=\"https://colab.research.google.com/github/PashaIanko/Kaggle.Restaurant-Revenue-Prediction/blob/main/2.model_preparation.ipynb\" target=\"_parent\"><img src=\"https://colab.research.google.com/assets/colab-badge.svg\" alt=\"Open In Colab\"/></a>"
      ]
    },
    {
      "cell_type": "markdown",
      "source": [
        "# Imports"
      ],
      "metadata": {
        "id": "U2bYgdttM4jD"
      }
    },
    {
      "cell_type": "code",
      "execution_count": 127,
      "metadata": {
        "id": "mtTZUMDJLvw2"
      },
      "outputs": [],
      "source": [
        "from google.colab import drive\n",
        "import pandas as pd\n",
        "import numpy as np\n",
        "import matplotlib.pyplot as plt\n",
        "import pickle\n",
        "import os"
      ]
    },
    {
      "cell_type": "code",
      "source": [
        "# Models\n",
        "from sklearn.linear_model import LinearRegression\n",
        "from sklearn.tree import DecisionTreeRegressor\n",
        "from sklearn.ensemble import RandomForestRegressor\n",
        "from sklearn.ensemble import GradientBoostingRegressor\n",
        "from sklearn.linear_model import Lasso\n",
        "from sklearn.linear_model import ElasticNet\n",
        "from sklearn.svm import SVR\n",
        "\n",
        "# Grid search\n",
        "from sklearn.model_selection import GridSearchCV\n",
        "\n",
        "# Metrics\n",
        "from sklearn.metrics import mean_squared_error\n",
        "from sklearn.model_selection import cross_val_score"
      ],
      "metadata": {
        "id": "1JlpfMx9Ri3A"
      },
      "execution_count": 128,
      "outputs": []
    },
    {
      "cell_type": "code",
      "source": [
        "# PEP 8\n",
        "%%capture\n",
        "!pip install pycodestyle\n",
        "!pip install --index-url https://test.pypi.org/simple/ nbpep8\n",
        "\n",
        "from nbpep8.nbpep8 import pep8"
      ],
      "metadata": {
        "id": "n4xmQqzXsleN"
      },
      "execution_count": 129,
      "outputs": []
    },
    {
      "cell_type": "markdown",
      "source": [
        "# Import module files"
      ],
      "metadata": {
        "id": "vK0KS8iPMlod"
      }
    },
    {
      "cell_type": "code",
      "source": [
        "%%capture\n",
        "def download_files(url_dict):\n",
        "    for file, url in url_dict.items():\n",
        "        print(f'Downloading {file}')\n",
        "        !wget -O {file} {url} {file}\n",
        "\n",
        "\n",
        "files = [\n",
        "    'path_manager.py',\n",
        "    'sklearn_utils.py',\n",
        "    'sklearn_transformers.py',\n",
        "    'model.py'\n",
        "]\n",
        "\n",
        "git_download_path = \\\n",
        "'https://raw.githubusercontent.com/PashaIanko/Kaggle.Restaurant-Revenue-Prediction/main/'\n",
        "url_dict = {file: git_download_path + file for file in files}\n",
        "download_files(url_dict)"
      ],
      "metadata": {
        "id": "9m93SxetMnKl"
      },
      "execution_count": 130,
      "outputs": []
    },
    {
      "cell_type": "code",
      "source": [
        "import importlib\n",
        "import path_manager\n",
        "import sklearn_transformers\n",
        "import sklearn_utils\n",
        "import model\n",
        "\n",
        "def reload_all(modules_list):\n",
        "    for module in modules_list:\n",
        "        importlib.reload(module)\n",
        "\n",
        "reload_all(\n",
        "    [\n",
        "        path_manager,\n",
        "        sklearn_utils,\n",
        "        sklearn_transformers,\n",
        "        model\n",
        "    ]\n",
        ")\n",
        "\n",
        "from path_manager import PathManager\n",
        "\n",
        "from sklearn_utils import boxplot_regression\n",
        "from sklearn_utils import get_correlated_attributes\n",
        "from sklearn_utils import nan_statistics\n",
        "from sklearn_utils import visualize_datasets_distributions\n",
        "from sklearn_utils import print_model_cv_scores\n",
        "from sklearn_utils import plot_cv_results\n",
        "from sklearn_utils import fit_grid_search\n",
        "from sklearn_utils import fit_randomized_search\n",
        "\n",
        "from sklearn_transformers import ColumnDropper\n",
        "from sklearn_transformers import LogTransformer\n",
        "from model import Model"
      ],
      "metadata": {
        "id": "EyQba-_XMspv"
      },
      "execution_count": 131,
      "outputs": []
    },
    {
      "cell_type": "markdown",
      "source": [
        "# Fixing seed"
      ],
      "metadata": {
        "id": "P2iJIDM0NEoQ"
      }
    },
    {
      "cell_type": "code",
      "source": [
        "RANDOM_SEED = 42\n",
        "np.random.seed(RANDOM_SEED)"
      ],
      "metadata": {
        "id": "9OZ8pbzSNGN2"
      },
      "execution_count": 132,
      "outputs": []
    },
    {
      "cell_type": "markdown",
      "source": [
        "# Setup paths (**Set preprocessing and model trials!**)"
      ],
      "metadata": {
        "id": "uMLe8EvZM6Zu"
      }
    },
    {
      "cell_type": "code",
      "source": [
        "drive.mount('/content/gdrive')\n",
        "gdrive_path = '/content/gdrive/MyDrive/'\n",
        "\n",
        "COMPETITION_PATH = gdrive_path + 'ML/Competitions/5.RestaurantRevenue/'\n",
        "PREPROC_TRIAL = 2\n",
        "MODELS_TRIAL = 2"
      ],
      "metadata": {
        "id": "rsoA3LtCDP22",
        "outputId": "28c2578a-c313-4603-b6df-5d6cd9e49ce3",
        "colab": {
          "base_uri": "https://localhost:8080/"
        }
      },
      "execution_count": 133,
      "outputs": [
        {
          "output_type": "stream",
          "name": "stdout",
          "text": [
            "Drive already mounted at /content/gdrive; to attempt to forcibly remount, call drive.mount(\"/content/gdrive\", force_remount=True).\n"
          ]
        }
      ]
    },
    {
      "cell_type": "code",
      "source": [
        "manager = PathManager(\n",
        "    competition_path=COMPETITION_PATH, \n",
        "    preprocessing_trial=PREPROC_TRIAL,\n",
        "    models_trial=MODELS_TRIAL\n",
        ")\n",
        "manager.setup_paths()"
      ],
      "metadata": {
        "id": "77e1K8mRDjbM",
        "outputId": "8024f7a7-1503-40a0-b3f9-40d01ccafddd",
        "colab": {
          "base_uri": "https://localhost:8080/"
        }
      },
      "execution_count": 134,
      "outputs": [
        {
          "output_type": "stream",
          "name": "stdout",
          "text": [
            "/content/gdrive/MyDrive/ML/Competitions/5.RestaurantRevenue/Data/preproc_trial_2 already exists\n",
            "/content/gdrive/MyDrive/ML/Competitions/5.RestaurantRevenue/Models/trial_2 already exists\n"
          ]
        }
      ]
    },
    {
      "cell_type": "markdown",
      "source": [
        "# Download the data"
      ],
      "metadata": {
        "id": "S3n0_Ht7NUdv"
      }
    },
    {
      "cell_type": "code",
      "source": [
        "kaggle_test_path = os.path.join(\n",
        "    manager.data_trial_path,\n",
        "    'test_processed.csv'\n",
        ")\n",
        "df_test = pd.read_csv(\n",
        "    kaggle_test_path, index_col=[0]\n",
        ")\n",
        "df_test.head(2)"
      ],
      "metadata": {
        "colab": {
          "base_uri": "https://localhost:8080/",
          "height": 205
        },
        "id": "d6EyPaN57RU_",
        "outputId": "c1cfdfdf-02be-47da-e369-a72c065dbe8d"
      },
      "execution_count": 135,
      "outputs": [
        {
          "output_type": "execute_result",
          "data": {
            "text/plain": [
              "          0         1         2        3         4         5         6  \\\n",
              "0  0.995545 -1.032819 -0.285964 -0.26814 -0.383325 -0.807152 -0.633614   \n",
              "1  0.995545 -0.334236 -0.285964 -0.26814 -0.383325  0.014161 -0.633614   \n",
              "\n",
              "          7         8         9  ...        34        35        36        37  \\\n",
              "0 -0.182156 -0.619713 -0.217343  ... -0.497002 -0.606797 -0.556056 -0.652386   \n",
              "1 -0.182156 -1.176974 -0.790338  ... -0.497002 -0.606797 -0.556056 -0.652386   \n",
              "\n",
              "    38   39   40   41        42        43  \n",
              "0  0.0  0.0  1.0  0.0  0.020451  0.693147  \n",
              "1  0.0  0.0  0.0  1.0  0.138344  0.693147  \n",
              "\n",
              "[2 rows x 44 columns]"
            ],
            "text/html": [
              "\n",
              "  <div id=\"df-9c5839ed-82da-4674-87c1-af270d41c99d\">\n",
              "    <div class=\"colab-df-container\">\n",
              "      <div>\n",
              "<style scoped>\n",
              "    .dataframe tbody tr th:only-of-type {\n",
              "        vertical-align: middle;\n",
              "    }\n",
              "\n",
              "    .dataframe tbody tr th {\n",
              "        vertical-align: top;\n",
              "    }\n",
              "\n",
              "    .dataframe thead th {\n",
              "        text-align: right;\n",
              "    }\n",
              "</style>\n",
              "<table border=\"1\" class=\"dataframe\">\n",
              "  <thead>\n",
              "    <tr style=\"text-align: right;\">\n",
              "      <th></th>\n",
              "      <th>0</th>\n",
              "      <th>1</th>\n",
              "      <th>2</th>\n",
              "      <th>3</th>\n",
              "      <th>4</th>\n",
              "      <th>5</th>\n",
              "      <th>6</th>\n",
              "      <th>7</th>\n",
              "      <th>8</th>\n",
              "      <th>9</th>\n",
              "      <th>...</th>\n",
              "      <th>34</th>\n",
              "      <th>35</th>\n",
              "      <th>36</th>\n",
              "      <th>37</th>\n",
              "      <th>38</th>\n",
              "      <th>39</th>\n",
              "      <th>40</th>\n",
              "      <th>41</th>\n",
              "      <th>42</th>\n",
              "      <th>43</th>\n",
              "    </tr>\n",
              "  </thead>\n",
              "  <tbody>\n",
              "    <tr>\n",
              "      <th>0</th>\n",
              "      <td>0.995545</td>\n",
              "      <td>-1.032819</td>\n",
              "      <td>-0.285964</td>\n",
              "      <td>-0.26814</td>\n",
              "      <td>-0.383325</td>\n",
              "      <td>-0.807152</td>\n",
              "      <td>-0.633614</td>\n",
              "      <td>-0.182156</td>\n",
              "      <td>-0.619713</td>\n",
              "      <td>-0.217343</td>\n",
              "      <td>...</td>\n",
              "      <td>-0.497002</td>\n",
              "      <td>-0.606797</td>\n",
              "      <td>-0.556056</td>\n",
              "      <td>-0.652386</td>\n",
              "      <td>0.0</td>\n",
              "      <td>0.0</td>\n",
              "      <td>1.0</td>\n",
              "      <td>0.0</td>\n",
              "      <td>0.020451</td>\n",
              "      <td>0.693147</td>\n",
              "    </tr>\n",
              "    <tr>\n",
              "      <th>1</th>\n",
              "      <td>0.995545</td>\n",
              "      <td>-0.334236</td>\n",
              "      <td>-0.285964</td>\n",
              "      <td>-0.26814</td>\n",
              "      <td>-0.383325</td>\n",
              "      <td>0.014161</td>\n",
              "      <td>-0.633614</td>\n",
              "      <td>-0.182156</td>\n",
              "      <td>-1.176974</td>\n",
              "      <td>-0.790338</td>\n",
              "      <td>...</td>\n",
              "      <td>-0.497002</td>\n",
              "      <td>-0.606797</td>\n",
              "      <td>-0.556056</td>\n",
              "      <td>-0.652386</td>\n",
              "      <td>0.0</td>\n",
              "      <td>0.0</td>\n",
              "      <td>0.0</td>\n",
              "      <td>1.0</td>\n",
              "      <td>0.138344</td>\n",
              "      <td>0.693147</td>\n",
              "    </tr>\n",
              "  </tbody>\n",
              "</table>\n",
              "<p>2 rows × 44 columns</p>\n",
              "</div>\n",
              "      <button class=\"colab-df-convert\" onclick=\"convertToInteractive('df-9c5839ed-82da-4674-87c1-af270d41c99d')\"\n",
              "              title=\"Convert this dataframe to an interactive table.\"\n",
              "              style=\"display:none;\">\n",
              "        \n",
              "  <svg xmlns=\"http://www.w3.org/2000/svg\" height=\"24px\"viewBox=\"0 0 24 24\"\n",
              "       width=\"24px\">\n",
              "    <path d=\"M0 0h24v24H0V0z\" fill=\"none\"/>\n",
              "    <path d=\"M18.56 5.44l.94 2.06.94-2.06 2.06-.94-2.06-.94-.94-2.06-.94 2.06-2.06.94zm-11 1L8.5 8.5l.94-2.06 2.06-.94-2.06-.94L8.5 2.5l-.94 2.06-2.06.94zm10 10l.94 2.06.94-2.06 2.06-.94-2.06-.94-.94-2.06-.94 2.06-2.06.94z\"/><path d=\"M17.41 7.96l-1.37-1.37c-.4-.4-.92-.59-1.43-.59-.52 0-1.04.2-1.43.59L10.3 9.45l-7.72 7.72c-.78.78-.78 2.05 0 2.83L4 21.41c.39.39.9.59 1.41.59.51 0 1.02-.2 1.41-.59l7.78-7.78 2.81-2.81c.8-.78.8-2.07 0-2.86zM5.41 20L4 18.59l7.72-7.72 1.47 1.35L5.41 20z\"/>\n",
              "  </svg>\n",
              "      </button>\n",
              "      \n",
              "  <style>\n",
              "    .colab-df-container {\n",
              "      display:flex;\n",
              "      flex-wrap:wrap;\n",
              "      gap: 12px;\n",
              "    }\n",
              "\n",
              "    .colab-df-convert {\n",
              "      background-color: #E8F0FE;\n",
              "      border: none;\n",
              "      border-radius: 50%;\n",
              "      cursor: pointer;\n",
              "      display: none;\n",
              "      fill: #1967D2;\n",
              "      height: 32px;\n",
              "      padding: 0 0 0 0;\n",
              "      width: 32px;\n",
              "    }\n",
              "\n",
              "    .colab-df-convert:hover {\n",
              "      background-color: #E2EBFA;\n",
              "      box-shadow: 0px 1px 2px rgba(60, 64, 67, 0.3), 0px 1px 3px 1px rgba(60, 64, 67, 0.15);\n",
              "      fill: #174EA6;\n",
              "    }\n",
              "\n",
              "    [theme=dark] .colab-df-convert {\n",
              "      background-color: #3B4455;\n",
              "      fill: #D2E3FC;\n",
              "    }\n",
              "\n",
              "    [theme=dark] .colab-df-convert:hover {\n",
              "      background-color: #434B5C;\n",
              "      box-shadow: 0px 1px 3px 1px rgba(0, 0, 0, 0.15);\n",
              "      filter: drop-shadow(0px 1px 2px rgba(0, 0, 0, 0.3));\n",
              "      fill: #FFFFFF;\n",
              "    }\n",
              "  </style>\n",
              "\n",
              "      <script>\n",
              "        const buttonEl =\n",
              "          document.querySelector('#df-9c5839ed-82da-4674-87c1-af270d41c99d button.colab-df-convert');\n",
              "        buttonEl.style.display =\n",
              "          google.colab.kernel.accessAllowed ? 'block' : 'none';\n",
              "\n",
              "        async function convertToInteractive(key) {\n",
              "          const element = document.querySelector('#df-9c5839ed-82da-4674-87c1-af270d41c99d');\n",
              "          const dataTable =\n",
              "            await google.colab.kernel.invokeFunction('convertToInteractive',\n",
              "                                                     [key], {});\n",
              "          if (!dataTable) return;\n",
              "\n",
              "          const docLinkHtml = 'Like what you see? Visit the ' +\n",
              "            '<a target=\"_blank\" href=https://colab.research.google.com/notebooks/data_table.ipynb>data table notebook</a>'\n",
              "            + ' to learn more about interactive tables.';\n",
              "          element.innerHTML = '';\n",
              "          dataTable['output_type'] = 'display_data';\n",
              "          await google.colab.output.renderOutput(dataTable, element);\n",
              "          const docLink = document.createElement('div');\n",
              "          docLink.innerHTML = docLinkHtml;\n",
              "          element.appendChild(docLink);\n",
              "        }\n",
              "      </script>\n",
              "    </div>\n",
              "  </div>\n",
              "  "
            ]
          },
          "metadata": {},
          "execution_count": 135
        }
      ]
    },
    {
      "cell_type": "code",
      "source": [
        "df_test_sample = pd.read_csv(\n",
        "    os.path.join(manager.data_trial_path, 'test_sample_processed.csv'), \n",
        "    index_col=[0]\n",
        ")\n",
        "df_test_sample.head(2)"
      ],
      "metadata": {
        "colab": {
          "base_uri": "https://localhost:8080/",
          "height": 205
        },
        "id": "e5SY6pmc3iNC",
        "outputId": "4c10d8ce-d5b4-43d2-f7cb-3007269e6113"
      },
      "execution_count": 136,
      "outputs": [
        {
          "output_type": "execute_result",
          "data": {
            "text/plain": [
              "          0         1         2         3         4         5         6  \\\n",
              "0  0.994059 -1.032819 -1.653875  0.688913 -1.382555 -0.807152 -0.633614   \n",
              "1  0.993564  0.015056  0.397991 -0.268140 -1.382555 -0.807152 -0.159426   \n",
              "\n",
              "          7         8         9  ...        34        35        36        37  \\\n",
              "0 -2.019553 -0.062452 -0.217343  ... -0.497002 -0.606797 -0.556056 -0.652386   \n",
              "1 -0.182156 -0.062452 -0.217343  ...  0.611695  0.655776  0.253599  0.511872   \n",
              "\n",
              "    38   39   40   41        42         43  \n",
              "0  0.0  0.0  1.0  0.0  0.071805  14.842280  \n",
              "1  0.0  0.0  0.0  1.0  0.112946  15.312391  \n",
              "\n",
              "[2 rows x 44 columns]"
            ],
            "text/html": [
              "\n",
              "  <div id=\"df-32573349-621f-4f9f-8a5b-7112395028d6\">\n",
              "    <div class=\"colab-df-container\">\n",
              "      <div>\n",
              "<style scoped>\n",
              "    .dataframe tbody tr th:only-of-type {\n",
              "        vertical-align: middle;\n",
              "    }\n",
              "\n",
              "    .dataframe tbody tr th {\n",
              "        vertical-align: top;\n",
              "    }\n",
              "\n",
              "    .dataframe thead th {\n",
              "        text-align: right;\n",
              "    }\n",
              "</style>\n",
              "<table border=\"1\" class=\"dataframe\">\n",
              "  <thead>\n",
              "    <tr style=\"text-align: right;\">\n",
              "      <th></th>\n",
              "      <th>0</th>\n",
              "      <th>1</th>\n",
              "      <th>2</th>\n",
              "      <th>3</th>\n",
              "      <th>4</th>\n",
              "      <th>5</th>\n",
              "      <th>6</th>\n",
              "      <th>7</th>\n",
              "      <th>8</th>\n",
              "      <th>9</th>\n",
              "      <th>...</th>\n",
              "      <th>34</th>\n",
              "      <th>35</th>\n",
              "      <th>36</th>\n",
              "      <th>37</th>\n",
              "      <th>38</th>\n",
              "      <th>39</th>\n",
              "      <th>40</th>\n",
              "      <th>41</th>\n",
              "      <th>42</th>\n",
              "      <th>43</th>\n",
              "    </tr>\n",
              "  </thead>\n",
              "  <tbody>\n",
              "    <tr>\n",
              "      <th>0</th>\n",
              "      <td>0.994059</td>\n",
              "      <td>-1.032819</td>\n",
              "      <td>-1.653875</td>\n",
              "      <td>0.688913</td>\n",
              "      <td>-1.382555</td>\n",
              "      <td>-0.807152</td>\n",
              "      <td>-0.633614</td>\n",
              "      <td>-2.019553</td>\n",
              "      <td>-0.062452</td>\n",
              "      <td>-0.217343</td>\n",
              "      <td>...</td>\n",
              "      <td>-0.497002</td>\n",
              "      <td>-0.606797</td>\n",
              "      <td>-0.556056</td>\n",
              "      <td>-0.652386</td>\n",
              "      <td>0.0</td>\n",
              "      <td>0.0</td>\n",
              "      <td>1.0</td>\n",
              "      <td>0.0</td>\n",
              "      <td>0.071805</td>\n",
              "      <td>14.842280</td>\n",
              "    </tr>\n",
              "    <tr>\n",
              "      <th>1</th>\n",
              "      <td>0.993564</td>\n",
              "      <td>0.015056</td>\n",
              "      <td>0.397991</td>\n",
              "      <td>-0.268140</td>\n",
              "      <td>-1.382555</td>\n",
              "      <td>-0.807152</td>\n",
              "      <td>-0.159426</td>\n",
              "      <td>-0.182156</td>\n",
              "      <td>-0.062452</td>\n",
              "      <td>-0.217343</td>\n",
              "      <td>...</td>\n",
              "      <td>0.611695</td>\n",
              "      <td>0.655776</td>\n",
              "      <td>0.253599</td>\n",
              "      <td>0.511872</td>\n",
              "      <td>0.0</td>\n",
              "      <td>0.0</td>\n",
              "      <td>0.0</td>\n",
              "      <td>1.0</td>\n",
              "      <td>0.112946</td>\n",
              "      <td>15.312391</td>\n",
              "    </tr>\n",
              "  </tbody>\n",
              "</table>\n",
              "<p>2 rows × 44 columns</p>\n",
              "</div>\n",
              "      <button class=\"colab-df-convert\" onclick=\"convertToInteractive('df-32573349-621f-4f9f-8a5b-7112395028d6')\"\n",
              "              title=\"Convert this dataframe to an interactive table.\"\n",
              "              style=\"display:none;\">\n",
              "        \n",
              "  <svg xmlns=\"http://www.w3.org/2000/svg\" height=\"24px\"viewBox=\"0 0 24 24\"\n",
              "       width=\"24px\">\n",
              "    <path d=\"M0 0h24v24H0V0z\" fill=\"none\"/>\n",
              "    <path d=\"M18.56 5.44l.94 2.06.94-2.06 2.06-.94-2.06-.94-.94-2.06-.94 2.06-2.06.94zm-11 1L8.5 8.5l.94-2.06 2.06-.94-2.06-.94L8.5 2.5l-.94 2.06-2.06.94zm10 10l.94 2.06.94-2.06 2.06-.94-2.06-.94-.94-2.06-.94 2.06-2.06.94z\"/><path d=\"M17.41 7.96l-1.37-1.37c-.4-.4-.92-.59-1.43-.59-.52 0-1.04.2-1.43.59L10.3 9.45l-7.72 7.72c-.78.78-.78 2.05 0 2.83L4 21.41c.39.39.9.59 1.41.59.51 0 1.02-.2 1.41-.59l7.78-7.78 2.81-2.81c.8-.78.8-2.07 0-2.86zM5.41 20L4 18.59l7.72-7.72 1.47 1.35L5.41 20z\"/>\n",
              "  </svg>\n",
              "      </button>\n",
              "      \n",
              "  <style>\n",
              "    .colab-df-container {\n",
              "      display:flex;\n",
              "      flex-wrap:wrap;\n",
              "      gap: 12px;\n",
              "    }\n",
              "\n",
              "    .colab-df-convert {\n",
              "      background-color: #E8F0FE;\n",
              "      border: none;\n",
              "      border-radius: 50%;\n",
              "      cursor: pointer;\n",
              "      display: none;\n",
              "      fill: #1967D2;\n",
              "      height: 32px;\n",
              "      padding: 0 0 0 0;\n",
              "      width: 32px;\n",
              "    }\n",
              "\n",
              "    .colab-df-convert:hover {\n",
              "      background-color: #E2EBFA;\n",
              "      box-shadow: 0px 1px 2px rgba(60, 64, 67, 0.3), 0px 1px 3px 1px rgba(60, 64, 67, 0.15);\n",
              "      fill: #174EA6;\n",
              "    }\n",
              "\n",
              "    [theme=dark] .colab-df-convert {\n",
              "      background-color: #3B4455;\n",
              "      fill: #D2E3FC;\n",
              "    }\n",
              "\n",
              "    [theme=dark] .colab-df-convert:hover {\n",
              "      background-color: #434B5C;\n",
              "      box-shadow: 0px 1px 3px 1px rgba(0, 0, 0, 0.15);\n",
              "      filter: drop-shadow(0px 1px 2px rgba(0, 0, 0, 0.3));\n",
              "      fill: #FFFFFF;\n",
              "    }\n",
              "  </style>\n",
              "\n",
              "      <script>\n",
              "        const buttonEl =\n",
              "          document.querySelector('#df-32573349-621f-4f9f-8a5b-7112395028d6 button.colab-df-convert');\n",
              "        buttonEl.style.display =\n",
              "          google.colab.kernel.accessAllowed ? 'block' : 'none';\n",
              "\n",
              "        async function convertToInteractive(key) {\n",
              "          const element = document.querySelector('#df-32573349-621f-4f9f-8a5b-7112395028d6');\n",
              "          const dataTable =\n",
              "            await google.colab.kernel.invokeFunction('convertToInteractive',\n",
              "                                                     [key], {});\n",
              "          if (!dataTable) return;\n",
              "\n",
              "          const docLinkHtml = 'Like what you see? Visit the ' +\n",
              "            '<a target=\"_blank\" href=https://colab.research.google.com/notebooks/data_table.ipynb>data table notebook</a>'\n",
              "            + ' to learn more about interactive tables.';\n",
              "          element.innerHTML = '';\n",
              "          dataTable['output_type'] = 'display_data';\n",
              "          await google.colab.output.renderOutput(dataTable, element);\n",
              "          const docLink = document.createElement('div');\n",
              "          docLink.innerHTML = docLinkHtml;\n",
              "          element.appendChild(docLink);\n",
              "        }\n",
              "      </script>\n",
              "    </div>\n",
              "  </div>\n",
              "  "
            ]
          },
          "metadata": {},
          "execution_count": 136
        }
      ]
    },
    {
      "cell_type": "code",
      "source": [
        "df_trainval = pd.read_csv(\n",
        "    os.path.join(manager.data_trial_path, 'trainval_sample_processed.csv'), \n",
        "    index_col=[0]\n",
        ")\n",
        "df_trainval.head(2)"
      ],
      "metadata": {
        "colab": {
          "base_uri": "https://localhost:8080/",
          "height": 205
        },
        "id": "-ZeWM9PpNWGK",
        "outputId": "16c9fec8-b4de-4eb3-b822-3c519e7fe23d"
      },
      "execution_count": 137,
      "outputs": [
        {
          "output_type": "execute_result",
          "data": {
            "text/plain": [
              "          0         1         2         3         4         5         6  \\\n",
              "0  0.994554 -0.334236 -0.285964 -1.225193 -0.383325  0.014161 -0.633614   \n",
              "1  0.993564 -0.683527 -0.285964 -1.225193  0.615905  1.656785  0.788952   \n",
              "\n",
              "          7         8         9  ...        34        35        36        37  \\\n",
              "0 -0.182156 -0.062452 -0.217343  ...  0.168216  0.655776  0.253599  1.094000   \n",
              "1 -0.182156 -0.619713 -0.790338  ... -0.497002 -0.606797 -0.556056 -0.652386   \n",
              "\n",
              "    38   39   40   41        42         43  \n",
              "0  0.0  0.0  0.0  1.0  0.132383  15.278005  \n",
              "1  1.0  0.0  1.0  0.0  0.365242  15.255171  \n",
              "\n",
              "[2 rows x 44 columns]"
            ],
            "text/html": [
              "\n",
              "  <div id=\"df-4bcfaaa6-ad74-450d-bbe0-c1db87012972\">\n",
              "    <div class=\"colab-df-container\">\n",
              "      <div>\n",
              "<style scoped>\n",
              "    .dataframe tbody tr th:only-of-type {\n",
              "        vertical-align: middle;\n",
              "    }\n",
              "\n",
              "    .dataframe tbody tr th {\n",
              "        vertical-align: top;\n",
              "    }\n",
              "\n",
              "    .dataframe thead th {\n",
              "        text-align: right;\n",
              "    }\n",
              "</style>\n",
              "<table border=\"1\" class=\"dataframe\">\n",
              "  <thead>\n",
              "    <tr style=\"text-align: right;\">\n",
              "      <th></th>\n",
              "      <th>0</th>\n",
              "      <th>1</th>\n",
              "      <th>2</th>\n",
              "      <th>3</th>\n",
              "      <th>4</th>\n",
              "      <th>5</th>\n",
              "      <th>6</th>\n",
              "      <th>7</th>\n",
              "      <th>8</th>\n",
              "      <th>9</th>\n",
              "      <th>...</th>\n",
              "      <th>34</th>\n",
              "      <th>35</th>\n",
              "      <th>36</th>\n",
              "      <th>37</th>\n",
              "      <th>38</th>\n",
              "      <th>39</th>\n",
              "      <th>40</th>\n",
              "      <th>41</th>\n",
              "      <th>42</th>\n",
              "      <th>43</th>\n",
              "    </tr>\n",
              "  </thead>\n",
              "  <tbody>\n",
              "    <tr>\n",
              "      <th>0</th>\n",
              "      <td>0.994554</td>\n",
              "      <td>-0.334236</td>\n",
              "      <td>-0.285964</td>\n",
              "      <td>-1.225193</td>\n",
              "      <td>-0.383325</td>\n",
              "      <td>0.014161</td>\n",
              "      <td>-0.633614</td>\n",
              "      <td>-0.182156</td>\n",
              "      <td>-0.062452</td>\n",
              "      <td>-0.217343</td>\n",
              "      <td>...</td>\n",
              "      <td>0.168216</td>\n",
              "      <td>0.655776</td>\n",
              "      <td>0.253599</td>\n",
              "      <td>1.094000</td>\n",
              "      <td>0.0</td>\n",
              "      <td>0.0</td>\n",
              "      <td>0.0</td>\n",
              "      <td>1.0</td>\n",
              "      <td>0.132383</td>\n",
              "      <td>15.278005</td>\n",
              "    </tr>\n",
              "    <tr>\n",
              "      <th>1</th>\n",
              "      <td>0.993564</td>\n",
              "      <td>-0.683527</td>\n",
              "      <td>-0.285964</td>\n",
              "      <td>-1.225193</td>\n",
              "      <td>0.615905</td>\n",
              "      <td>1.656785</td>\n",
              "      <td>0.788952</td>\n",
              "      <td>-0.182156</td>\n",
              "      <td>-0.619713</td>\n",
              "      <td>-0.790338</td>\n",
              "      <td>...</td>\n",
              "      <td>-0.497002</td>\n",
              "      <td>-0.606797</td>\n",
              "      <td>-0.556056</td>\n",
              "      <td>-0.652386</td>\n",
              "      <td>1.0</td>\n",
              "      <td>0.0</td>\n",
              "      <td>1.0</td>\n",
              "      <td>0.0</td>\n",
              "      <td>0.365242</td>\n",
              "      <td>15.255171</td>\n",
              "    </tr>\n",
              "  </tbody>\n",
              "</table>\n",
              "<p>2 rows × 44 columns</p>\n",
              "</div>\n",
              "      <button class=\"colab-df-convert\" onclick=\"convertToInteractive('df-4bcfaaa6-ad74-450d-bbe0-c1db87012972')\"\n",
              "              title=\"Convert this dataframe to an interactive table.\"\n",
              "              style=\"display:none;\">\n",
              "        \n",
              "  <svg xmlns=\"http://www.w3.org/2000/svg\" height=\"24px\"viewBox=\"0 0 24 24\"\n",
              "       width=\"24px\">\n",
              "    <path d=\"M0 0h24v24H0V0z\" fill=\"none\"/>\n",
              "    <path d=\"M18.56 5.44l.94 2.06.94-2.06 2.06-.94-2.06-.94-.94-2.06-.94 2.06-2.06.94zm-11 1L8.5 8.5l.94-2.06 2.06-.94-2.06-.94L8.5 2.5l-.94 2.06-2.06.94zm10 10l.94 2.06.94-2.06 2.06-.94-2.06-.94-.94-2.06-.94 2.06-2.06.94z\"/><path d=\"M17.41 7.96l-1.37-1.37c-.4-.4-.92-.59-1.43-.59-.52 0-1.04.2-1.43.59L10.3 9.45l-7.72 7.72c-.78.78-.78 2.05 0 2.83L4 21.41c.39.39.9.59 1.41.59.51 0 1.02-.2 1.41-.59l7.78-7.78 2.81-2.81c.8-.78.8-2.07 0-2.86zM5.41 20L4 18.59l7.72-7.72 1.47 1.35L5.41 20z\"/>\n",
              "  </svg>\n",
              "      </button>\n",
              "      \n",
              "  <style>\n",
              "    .colab-df-container {\n",
              "      display:flex;\n",
              "      flex-wrap:wrap;\n",
              "      gap: 12px;\n",
              "    }\n",
              "\n",
              "    .colab-df-convert {\n",
              "      background-color: #E8F0FE;\n",
              "      border: none;\n",
              "      border-radius: 50%;\n",
              "      cursor: pointer;\n",
              "      display: none;\n",
              "      fill: #1967D2;\n",
              "      height: 32px;\n",
              "      padding: 0 0 0 0;\n",
              "      width: 32px;\n",
              "    }\n",
              "\n",
              "    .colab-df-convert:hover {\n",
              "      background-color: #E2EBFA;\n",
              "      box-shadow: 0px 1px 2px rgba(60, 64, 67, 0.3), 0px 1px 3px 1px rgba(60, 64, 67, 0.15);\n",
              "      fill: #174EA6;\n",
              "    }\n",
              "\n",
              "    [theme=dark] .colab-df-convert {\n",
              "      background-color: #3B4455;\n",
              "      fill: #D2E3FC;\n",
              "    }\n",
              "\n",
              "    [theme=dark] .colab-df-convert:hover {\n",
              "      background-color: #434B5C;\n",
              "      box-shadow: 0px 1px 3px 1px rgba(0, 0, 0, 0.15);\n",
              "      filter: drop-shadow(0px 1px 2px rgba(0, 0, 0, 0.3));\n",
              "      fill: #FFFFFF;\n",
              "    }\n",
              "  </style>\n",
              "\n",
              "      <script>\n",
              "        const buttonEl =\n",
              "          document.querySelector('#df-4bcfaaa6-ad74-450d-bbe0-c1db87012972 button.colab-df-convert');\n",
              "        buttonEl.style.display =\n",
              "          google.colab.kernel.accessAllowed ? 'block' : 'none';\n",
              "\n",
              "        async function convertToInteractive(key) {\n",
              "          const element = document.querySelector('#df-4bcfaaa6-ad74-450d-bbe0-c1db87012972');\n",
              "          const dataTable =\n",
              "            await google.colab.kernel.invokeFunction('convertToInteractive',\n",
              "                                                     [key], {});\n",
              "          if (!dataTable) return;\n",
              "\n",
              "          const docLinkHtml = 'Like what you see? Visit the ' +\n",
              "            '<a target=\"_blank\" href=https://colab.research.google.com/notebooks/data_table.ipynb>data table notebook</a>'\n",
              "            + ' to learn more about interactive tables.';\n",
              "          element.innerHTML = '';\n",
              "          dataTable['output_type'] = 'display_data';\n",
              "          await google.colab.output.renderOutput(dataTable, element);\n",
              "          const docLink = document.createElement('div');\n",
              "          docLink.innerHTML = docLinkHtml;\n",
              "          element.appendChild(docLink);\n",
              "        }\n",
              "      </script>\n",
              "    </div>\n",
              "  </div>\n",
              "  "
            ]
          },
          "metadata": {},
          "execution_count": 137
        }
      ]
    },
    {
      "cell_type": "code",
      "source": [
        "X_train_val = df_trainval.values[:, :-1]\n",
        "Y_train_val = df_trainval.values[:, -1]"
      ],
      "metadata": {
        "id": "J8FBYt0tQJFw"
      },
      "execution_count": 138,
      "outputs": []
    },
    {
      "cell_type": "code",
      "source": [
        "X_test_sample = df_test_sample.values[:, :-1]  # test subsample from training data\n",
        "Y_test_sample = df_test_sample.values[:, -1]"
      ],
      "metadata": {
        "id": "QLMmkUbIQzJN"
      },
      "execution_count": 139,
      "outputs": []
    },
    {
      "cell_type": "markdown",
      "source": [
        "# Select and train models (+ ensemble methods)"
      ],
      "metadata": {
        "id": "yfVYCyTcNIzh"
      }
    },
    {
      "cell_type": "markdown",
      "source": [
        "## Define models"
      ],
      "metadata": {
        "id": "3yuwyXBG3EXo"
      }
    },
    {
      "cell_type": "code",
      "source": [
        "RFModel = Model(\n",
        "    RandomForestRegressor(),\n",
        "    'RF',\n",
        "    [\n",
        "        {\n",
        "            'n_estimators': [200, 500, 700],\n",
        "            'max_depth': [5, 10, 15],\n",
        "            'random_state': [42]\n",
        "        }\n",
        "    ],\n",
        "\n",
        "    [\n",
        "        {\n",
        "            'n_estimators': [i * 100 for i in range(1, 11)],\n",
        "            'max_depth': [i for i in range(1, 20)],\n",
        "            'bootstrap': [True, False],\n",
        "            'random_state': [42]\n",
        "        }\n",
        "    ]\n",
        ")\n",
        "\n",
        "ElasticNetModel = Model(\n",
        "    ElasticNet(),\n",
        "    'ElasticNet',\n",
        "    [\n",
        "        {\n",
        "            'alpha': [0.1, 0.3, 0.5],\n",
        "            'l1_ratio': [0.2, 0.5],\n",
        "            'random_state': [42]\n",
        "        }, \n",
        "    ],\n",
        "    [\n",
        "        {\n",
        "            'alpha': [i * 0.1 for i in range(1, 10)],\n",
        "            'l1_ratio': [i * 0.1 for i in range(1, 10)],\n",
        "            'random_state': [42]\n",
        "        }\n",
        "    ]\n",
        ")\n",
        "\n",
        "SVRModel = Model(\n",
        "    SVR(),\n",
        "    'SVM reg',\n",
        "    [\n",
        "        {\n",
        "            'kernel': ['linear'],\n",
        "            'C': [0.2, 0.5, 1.0]\n",
        "        },\n",
        "     \n",
        "        {\n",
        "            'kernel': ['rbf', 'sigmoid', 'poly'],\n",
        "            'gamma': ['scale', 'auto'],\n",
        "            'C': [0.2, 0.5, 1.0]\n",
        "        }\n",
        "    ],\n",
        "    [\n",
        "        {\n",
        "            'kernel': ['linear'],\n",
        "            'C': [0.1 * i for i in range(1, 11)]\n",
        "        },\n",
        "        {\n",
        "            'kernel': ['rbf', 'sigmoid', 'poly'],\n",
        "            'gamma': ['scale', 'auto'],\n",
        "            'C': [0.1 * i for i in range(1, 11)]\n",
        "        }\n",
        "    ]\n",
        ")"
      ],
      "metadata": {
        "id": "wN5j5kkNyU7M"
      },
      "execution_count": null,
      "outputs": []
    },
    {
      "cell_type": "code",
      "source": [
        "XGBModel = Model(\n",
        "    GradientBoostingRegressor(n_estimators=5),\n",
        "    'XGB',\n",
        "    [\n",
        "        {\n",
        "            'n_estimators': [3, 5, 7],\n",
        "            'max_depth': [2, 4, 6, 8],\n",
        "            'max_features': ['auto', 'sqrt', 'log2'],\n",
        "            'random_state': [42]\n",
        "        }\n",
        "    ],\n",
        "    [\n",
        "        {\n",
        "            'n_estimators': [i for i in range(1, 9)],\n",
        "            'max_depth': [i for i in range(1, 10)],\n",
        "            'max_features': ['auto', 'sqrt', 'log2'],\n",
        "            'random_state': [42]\n",
        "        }\n",
        "    ]\n",
        ")\n",
        "\n",
        "pep8(_ih)"
      ],
      "metadata": {
        "colab": {
          "base_uri": "https://localhost:8080/"
        },
        "id": "Y9reAf8sTlEg",
        "outputId": "f9d93498-28c0-4313-e59e-f3e02a3ae9a2"
      },
      "execution_count": null,
      "outputs": [
        {
          "output_type": "stream",
          "name": "stdout",
          "text": [
            "\n"
          ]
        }
      ]
    },
    {
      "cell_type": "code",
      "source": [
        "all_models = {\n",
        "    model.name: model for model in [\n",
        "        # RFModel, \n",
        "        # SVRModel,\n",
        "        ElasticNetModel,\n",
        "        XGBModel\n",
        "    ]\n",
        "}"
      ],
      "metadata": {
        "id": "HJJeGdrmz2Sh"
      },
      "execution_count": null,
      "outputs": []
    },
    {
      "cell_type": "markdown",
      "source": [
        "## Neural networks (if necessary)"
      ],
      "metadata": {
        "id": "2BOC_BQcYVpw"
      }
    },
    {
      "cell_type": "code",
      "source": [
        "from sklearn.model_selection import train_test_split\n",
        "from sklearn.preprocessing import StandardScaler\n",
        "\n",
        "scaler = StandardScaler()\n",
        "X_train_val_ffnn = scaler.fit_transform(X_train_val)\n",
        "X_test_ffnn = scaler.transform(X_test_sample)\n",
        "\n",
        "X_train_ffnn, X_val_ffnn, Y_train_ffnn, Y_val_ffnn = train_test_split(\n",
        "    X_train_val_ffnn,\n",
        "    Y_train_val,\n",
        "    train_size=0.8\n",
        ")\n",
        "\n",
        "X_train_ffnn.shape, X_val_ffnn.shape, Y_train_ffnn.shape, Y_val_ffnn.shape"
      ],
      "metadata": {
        "colab": {
          "base_uri": "https://localhost:8080/"
        },
        "id": "37SzvlYIYll5",
        "outputId": "86f310a8-69d1-4c0b-bf5e-ba9946ffe066"
      },
      "execution_count": 181,
      "outputs": [
        {
          "output_type": "execute_result",
          "data": {
            "text/plain": [
              "((92, 43), (24, 43), (92,), (24,))"
            ]
          },
          "metadata": {},
          "execution_count": 181
        }
      ]
    },
    {
      "cell_type": "code",
      "source": [
        "from tensorflow.keras import layers\n",
        "from tensorflow.keras.models import Sequential\n",
        "\n",
        "\n",
        "ffnn = Sequential(\n",
        "    [\n",
        "        layers.Input(X_train_val.shape[1]),\n",
        "        # layers.Dense(15, activation='relu'),\n",
        "        layers.Dense(15, activation='relu'),\n",
        "        layers.Dense(1, activation='linear')\n",
        "    ]\n",
        ")\n",
        "\n",
        "ffnn.compile(\n",
        "    loss='mean_squared_error',\n",
        "    optimizer='sgd'\n",
        ")"
      ],
      "metadata": {
        "id": "PuqIo-PfYY5q"
      },
      "execution_count": 193,
      "outputs": []
    },
    {
      "cell_type": "code",
      "source": [
        "from tensorflow.keras.callbacks import EarlyStopping \n",
        "\n",
        "stopper = EarlyStopping(\n",
        "    mode='min',\n",
        "    patience=3,\n",
        "    monitor='val_loss'\n",
        ")\n",
        "\n",
        "\n",
        "history = ffnn.fit(\n",
        "    X_train_ffnn,\n",
        "    Y_train_ffnn,\n",
        "    validation_data=(X_val_ffnn, Y_val_ffnn),\n",
        "    batch_size = 16,\n",
        "    epochs = 100,\n",
        "    callbacks=[stopper]\n",
        ")"
      ],
      "metadata": {
        "colab": {
          "base_uri": "https://localhost:8080/"
        },
        "id": "pU5ayeQMY_NJ",
        "outputId": "09337588-986b-4ff8-b8fa-8e470bfd03f9"
      },
      "execution_count": 194,
      "outputs": [
        {
          "output_type": "stream",
          "name": "stdout",
          "text": [
            "Epoch 1/100\n",
            "6/6 [==============================] - 0s 20ms/step - loss: 130.1700 - val_loss: 37.7027\n",
            "Epoch 2/100\n",
            "6/6 [==============================] - 0s 5ms/step - loss: 12.4455 - val_loss: 5.4101\n",
            "Epoch 3/100\n",
            "6/6 [==============================] - 0s 6ms/step - loss: 4.8618 - val_loss: 3.6342\n",
            "Epoch 4/100\n",
            "6/6 [==============================] - 0s 5ms/step - loss: 4.5520 - val_loss: 3.5582\n",
            "Epoch 5/100\n",
            "6/6 [==============================] - 0s 5ms/step - loss: 3.9126 - val_loss: 2.9212\n",
            "Epoch 6/100\n",
            "6/6 [==============================] - 0s 5ms/step - loss: 3.0606 - val_loss: 3.3749\n",
            "Epoch 7/100\n",
            "6/6 [==============================] - 0s 5ms/step - loss: 2.6086 - val_loss: 2.5327\n",
            "Epoch 8/100\n",
            "6/6 [==============================] - 0s 6ms/step - loss: 2.3305 - val_loss: 2.5240\n",
            "Epoch 9/100\n",
            "6/6 [==============================] - 0s 5ms/step - loss: 1.9757 - val_loss: 2.0187\n",
            "Epoch 10/100\n",
            "6/6 [==============================] - 0s 5ms/step - loss: 1.7538 - val_loss: 2.2693\n",
            "Epoch 11/100\n",
            "6/6 [==============================] - 0s 11ms/step - loss: 1.6580 - val_loss: 2.5399\n",
            "Epoch 12/100\n",
            "6/6 [==============================] - 0s 5ms/step - loss: 1.6970 - val_loss: 1.9733\n",
            "Epoch 13/100\n",
            "6/6 [==============================] - 0s 5ms/step - loss: 1.5664 - val_loss: 1.9476\n",
            "Epoch 14/100\n",
            "6/6 [==============================] - 0s 5ms/step - loss: 1.4584 - val_loss: 1.8784\n",
            "Epoch 15/100\n",
            "6/6 [==============================] - 0s 5ms/step - loss: 1.2998 - val_loss: 1.7082\n",
            "Epoch 16/100\n",
            "6/6 [==============================] - 0s 5ms/step - loss: 1.1666 - val_loss: 2.0334\n",
            "Epoch 17/100\n",
            "6/6 [==============================] - 0s 5ms/step - loss: 1.0502 - val_loss: 1.7742\n",
            "Epoch 18/100\n",
            "6/6 [==============================] - 0s 5ms/step - loss: 1.0552 - val_loss: 2.0596\n"
          ]
        }
      ]
    },
    {
      "cell_type": "code",
      "source": [
        "history.history.keys()\n",
        "plt.plot(history.history['loss'])\n",
        "plt.plot(history.history['val_loss'])"
      ],
      "metadata": {
        "id": "u94kzqWjdkjs",
        "outputId": "1785a48b-4140-4815-9175-74f72d5efe59",
        "colab": {
          "base_uri": "https://localhost:8080/",
          "height": 282
        }
      },
      "execution_count": 195,
      "outputs": [
        {
          "output_type": "execute_result",
          "data": {
            "text/plain": [
              "[<matplotlib.lines.Line2D at 0x7f67aeace210>]"
            ]
          },
          "metadata": {},
          "execution_count": 195
        },
        {
          "output_type": "display_data",
          "data": {
            "text/plain": [
              "<Figure size 432x288 with 1 Axes>"
            ],
            "image/png": "[encoded data removed]"
          },
          "metadata": {
            "needs_background": "light"
          }
        }
      ]
    },
    {
      "cell_type": "markdown",
      "source": [
        "## Preliminary look. Shortlisting 2-5 models, based on CV results, overfitting tendency"
      ],
      "metadata": {
        "id": "JJ9oO_0QYFMR"
      }
    },
    {
      "cell_type": "code",
      "source": [
        "# %%pycodestyle\n",
        "np.random.seed(RANDOM_SEED)\n",
        "\n",
        "res = plot_cv_results(\n",
        "    sklearn_models_dict_={\n",
        "        model_name: model.model for model_name, model in all_models.items()\n",
        "    },\n",
        "    X_=X_train_val,\n",
        "    Y_=Y_train_val,\n",
        "    cv_=7,\n",
        "    scoring_='neg_mean_squared_error',\n",
        "    to_put_minus_=True\n",
        ")"
      ],
      "metadata": {
        "colab": {
          "base_uri": "https://localhost:8080/",
          "height": 642
        },
        "id": "fGRthSlu0eDX",
        "outputId": "ee6efe12-3817-46f8-8d94-ad6c835d37d1"
      },
      "execution_count": null,
      "outputs": [
        {
          "output_type": "stream",
          "name": "stdout",
          "text": [
            "Model         Seen folds avg score    Seen folds std    Unseen folds avg score    Unseen folds std\n",
            "----------  ----------------------  ----------------  ------------------------  ------------------\n",
            "ElasticNet               -0.231301         0.0163317                 -0.238785           0.102111\n",
            "XGB                      -0.155301         0.0129419                 -0.209725           0.0918624\n"
          ]
        },
        {
          "output_type": "display_data",
          "data": {
            "text/plain": [
              "<Figure size 432x288 with 1 Axes>"
            ],
            "image/png": "[encoded data removed]"
          },
          "metadata": {
            "needs_background": "light"
          }
        },
        {
          "output_type": "display_data",
          "data": {
            "text/plain": [
              "<Figure size 432x288 with 1 Axes>"
            ],
            "image/png": "[encoded data removed]"
          },
          "metadata": {
            "needs_background": "light"
          }
        }
      ]
    },
    {
      "cell_type": "code",
      "source": [
        "shortlisted_models = {\n",
        "    model.name: model for model in [\n",
        "        # RFModel, \n",
        "        ElasticNetModel, \n",
        "        # SVRModel,\n",
        "        XGBModel\n",
        "    ]\n",
        "}"
      ],
      "metadata": {
        "id": "HYaX2Q0I28W7"
      },
      "execution_count": null,
      "outputs": []
    },
    {
      "cell_type": "markdown",
      "source": [
        "# Fine tuning"
      ],
      "metadata": {
        "id": "TfIM9kLeZw63"
      }
    },
    {
      "cell_type": "markdown",
      "source": [
        "## Grid search"
      ],
      "metadata": {
        "id": "B98xuMDok8Ea"
      }
    },
    {
      "cell_type": "code",
      "source": [
        "from sklearn_utils import dict_subset\n",
        "\n",
        "rf_grid_search_results = fit_grid_search(\n",
        "    dict_subset(shortlisted_models, ['RF']),\n",
        "    X_=X_train_val,\n",
        "    Y_=Y_train_val,\n",
        "    cv_=4,\n",
        "    scoring_='neg_mean_squared_error'\n",
        ")"
      ],
      "metadata": {
        "colab": {
          "base_uri": "https://localhost:8080/"
        },
        "id": "NWH0uQ-kROM7",
        "outputId": "cb3beb85-5a09-4868-e87a-29b717b31173"
      },
      "execution_count": null,
      "outputs": [
        {
          "output_type": "stream",
          "name": "stdout",
          "text": [
            "Fitting RF\n"
          ]
        }
      ]
    },
    {
      "cell_type": "code",
      "source": [
        "shortlisted_models.keys()"
      ],
      "metadata": {
        "colab": {
          "base_uri": "https://localhost:8080/"
        },
        "id": "8O4S20x8Rycx",
        "outputId": "f5a2878e-6c8f-4186-be09-bb3bd8d8ded5"
      },
      "execution_count": null,
      "outputs": [
        {
          "output_type": "execute_result",
          "data": {
            "text/plain": [
              "dict_keys(['RF', 'ElasticNet', 'SVM reg'])"
            ]
          },
          "metadata": {},
          "execution_count": 86
        }
      ]
    },
    {
      "cell_type": "code",
      "source": [
        "svm_grid_search_results = fit_grid_search(\n",
        "    dict_subset(shortlisted_models, ['SVM reg']),\n",
        "    X_=X_train_val,\n",
        "    Y_=Y_train_val,\n",
        "    cv_=4,\n",
        "    scoring_='neg_mean_squared_error'\n",
        ")"
      ],
      "metadata": {
        "colab": {
          "base_uri": "https://localhost:8080/"
        },
        "id": "D-wQDAj5Rr7T",
        "outputId": "d9de51e4-1398-4535-9642-4fa3a49a4f89"
      },
      "execution_count": null,
      "outputs": [
        {
          "output_type": "stream",
          "name": "stdout",
          "text": [
            "Fitting SVM reg\n"
          ]
        }
      ]
    },
    {
      "cell_type": "code",
      "source": [
        "elastic_grid_search_results = fit_grid_search(\n",
        "    dict_subset(shortlisted_models, ['ElasticNet']),\n",
        "    X_=X_train_val,\n",
        "    Y_=Y_train_val,\n",
        "    cv_=4,\n",
        "    scoring_='neg_mean_squared_error'\n",
        ")"
      ],
      "metadata": {
        "colab": {
          "base_uri": "https://localhost:8080/"
        },
        "id": "PqORkBxzR24M",
        "outputId": "e3bcfcb3-532e-4618-b962-de77302c2ffc"
      },
      "execution_count": null,
      "outputs": [
        {
          "output_type": "stream",
          "name": "stdout",
          "text": [
            "Fitting ElasticNet\n"
          ]
        }
      ]
    },
    {
      "cell_type": "code",
      "source": [
        "grid_search_results = fit_grid_search(\n",
        "    shortlisted_models,\n",
        "    X_=X_train_val,\n",
        "    Y_=Y_train_val,\n",
        "    cv_=4,\n",
        "    scoring_='neg_mean_squared_error'\n",
        ")\n",
        "\n",
        "# grid_search_results = {\n",
        "#     'RF': rf_grid_search_results['RF'],\n",
        "#     'ElasticNet': elastic_grid_search_results['ElasticNet'],\n",
        "#     'SVM reg': svm_grid_search_results['SVM reg']\n",
        "# }\n",
        "\n",
        "pep8(_ih)"
      ],
      "metadata": {
        "colab": {
          "base_uri": "https://localhost:8080/"
        },
        "id": "3kvpjPXfeQW4",
        "outputId": "37056cd4-c250-4ce6-ea0b-9679ae54d579"
      },
      "execution_count": null,
      "outputs": [
        {
          "output_type": "stream",
          "name": "stdout",
          "text": [
            "Fitting ElasticNet\n",
            "Fitting XGB\n",
            "\n"
          ]
        }
      ]
    },
    {
      "cell_type": "code",
      "source": [
        "grid_search_results['XGB'].best_estimator_"
      ],
      "metadata": {
        "colab": {
          "base_uri": "https://localhost:8080/"
        },
        "id": "y21wr9NTSEFy",
        "outputId": "86dc7816-62f5-47fa-c277-04df4c3cc284"
      },
      "execution_count": null,
      "outputs": [
        {
          "output_type": "execute_result",
          "data": {
            "text/plain": [
              "GradientBoostingRegressor(max_depth=4, max_features='auto', n_estimators=7,\n",
              "                          random_state=42)"
            ]
          },
          "metadata": {},
          "execution_count": 118
        }
      ]
    },
    {
      "cell_type": "markdown",
      "source": [
        "## Randomized search"
      ],
      "metadata": {
        "id": "2GXVk_QFlFOw"
      }
    },
    {
      "cell_type": "code",
      "source": [
        "rand_search_results = fit_randomized_search(\n",
        "    shortlisted_models,\n",
        "    X_=X_train_val,\n",
        "    Y_=Y_train_val,\n",
        "    cv_=10,\n",
        "    n_iter_=10,\n",
        "    scoring_='neg_mean_squared_error'\n",
        ")"
      ],
      "metadata": {
        "colab": {
          "base_uri": "https://localhost:8080/"
        },
        "id": "ZyZzrhcKinx-",
        "outputId": "bca47fcf-ef40-4cc1-abab-330c49d2025a"
      },
      "execution_count": null,
      "outputs": [
        {
          "output_type": "stream",
          "name": "stdout",
          "text": [
            "Fitting ElasticNet\n",
            "Fitting XGB\n"
          ]
        }
      ]
    },
    {
      "cell_type": "code",
      "source": [
        "# print(rand_search_results.get('RF').best_estimator_)\n",
        "# print(rand_search_results['SVM reg'].best_estimator_)\n",
        "rand_search_results['XGB'].best_estimator_"
      ],
      "metadata": {
        "colab": {
          "base_uri": "https://localhost:8080/"
        },
        "id": "jczgbC14jhQS",
        "outputId": "10284e0d-7298-4f72-c221-bc5dabdedfd4"
      },
      "execution_count": null,
      "outputs": [
        {
          "output_type": "execute_result",
          "data": {
            "text/plain": [
              "GradientBoostingRegressor(max_depth=5, max_features='sqrt', n_estimators=8,\n",
              "                          random_state=42)"
            ]
          },
          "metadata": {},
          "execution_count": 122
        }
      ]
    },
    {
      "cell_type": "markdown",
      "source": [
        "# Check final models for overfit"
      ],
      "metadata": {
        "id": "lc5ejrvB-94I"
      }
    },
    {
      "cell_type": "code",
      "source": [
        "_ = plot_cv_results(\n",
        "    sklearn_models_dict_ = {\n",
        "        model_name: result.best_estimator_\n",
        "        for model_name, result in rand_search_results.items()\n",
        "    },\n",
        "    X_=X_train_val,\n",
        "    Y_=Y_train_val,\n",
        "    cv_=10,\n",
        "    scoring_='neg_mean_squared_error',\n",
        "    to_put_minus_=True\n",
        ")"
      ],
      "metadata": {
        "colab": {
          "base_uri": "https://localhost:8080/",
          "height": 642
        },
        "id": "PUVMThyR_Anj",
        "outputId": "fd12f9a5-53ae-4ec0-85ec-189732c1231a"
      },
      "execution_count": null,
      "outputs": [
        {
          "output_type": "stream",
          "name": "stdout",
          "text": [
            "Model         Seen folds avg score    Seen folds std    Unseen folds avg score    Unseen folds std\n",
            "----------  ----------------------  ----------------  ------------------------  ------------------\n",
            "ElasticNet               -0.198087        0.0117426                  -0.219998            0.121079\n",
            "XGB                      -0.107611        0.00942798                 -0.197792            0.104977\n"
          ]
        },
        {
          "output_type": "display_data",
          "data": {
            "text/plain": [
              "<Figure size 432x288 with 1 Axes>"
            ],
            "image/png": "[encoded data removed]"
          },
          "metadata": {
            "needs_background": "light"
          }
        },
        {
          "output_type": "display_data",
          "data": {
            "text/plain": [
              "<Figure size 432x288 with 1 Axes>"
            ],
            "image/png": "[encoded data removed]"
          },
          "metadata": {
            "needs_background": "light"
          }
        }
      ]
    },
    {
      "cell_type": "code",
      "source": [
        "_ = plot_cv_results(\n",
        "    sklearn_models_dict_ = {\n",
        "        model_name: result.best_estimator_\n",
        "        for model_name, result in grid_search_results.items()\n",
        "    },\n",
        "    X_=X_train_val,\n",
        "    Y_=Y_train_val,\n",
        "    cv_=10,\n",
        "    scoring_='neg_mean_squared_error',\n",
        "    to_put_minus_=True\n",
        ")"
      ],
      "metadata": {
        "colab": {
          "base_uri": "https://localhost:8080/",
          "height": 642
        },
        "id": "WDANq3bODGXl",
        "outputId": "ec6f6762-4b8d-428a-d5b4-584d9c638dd9"
      },
      "execution_count": null,
      "outputs": [
        {
          "output_type": "stream",
          "name": "stdout",
          "text": [
            "Model         Seen folds avg score    Seen folds std    Unseen folds avg score    Unseen folds std\n",
            "----------  ----------------------  ----------------  ------------------------  ------------------\n",
            "ElasticNet               -0.181866        0.0119854                  -0.215257            0.12174\n",
            "XGB                      -0.112857        0.00899608                 -0.208708            0.103906\n"
          ]
        },
        {
          "output_type": "display_data",
          "data": {
            "text/plain": [
              "<Figure size 432x288 with 1 Axes>"
            ],
            "image/png": "[encoded data removed]"
          },
          "metadata": {
            "needs_background": "light"
          }
        },
        {
          "output_type": "display_data",
          "data": {
            "text/plain": [
              "<Figure size 432x288 with 1 Axes>"
            ],
            "image/png": "[encoded data removed]"
          },
          "metadata": {
            "needs_background": "light"
          }
        }
      ]
    },
    {
      "cell_type": "markdown",
      "source": [
        "# Saving fine tuned candidates (retrained on train+val subset)"
      ],
      "metadata": {
        "id": "LEUN072Sc8AC"
      }
    },
    {
      "cell_type": "code",
      "source": [
        "manager.save_models(\n",
        "    {\n",
        "        f'{model_name}_rand': result.best_estimator_\n",
        "        for model_name, result in rand_search_results.items()\n",
        "    }\n",
        ")\n",
        "\n",
        "manager.save_models(\n",
        "    {\n",
        "        f'{model_name}_grid_search': result.best_estimator_\n",
        "        for model_name, result in grid_search_results.items()\n",
        "    }\n",
        ")"
      ],
      "metadata": {
        "id": "Pr9TePwAc-S7",
        "colab": {
          "base_uri": "https://localhost:8080/"
        },
        "outputId": "4f539bf8-597b-4cb7-df31-565224584e87"
      },
      "execution_count": null,
      "outputs": [
        {
          "output_type": "stream",
          "name": "stdout",
          "text": [
            "/content/gdrive/MyDrive/ML/Competitions/5.RestaurantRevenue/Models/trial_2/ElasticNet_rand already exists\n",
            "/content/gdrive/MyDrive/ML/Competitions/5.RestaurantRevenue/Models/trial_2/ElasticNet_grid_search already exists\n"
          ]
        }
      ]
    }
  ]
}