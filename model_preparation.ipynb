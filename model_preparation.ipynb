{
  "nbformat": 4,
  "nbformat_minor": 0,
  "metadata": {
    "colab": {
      "name": "model_preparation.ipynb",
      "provenance": [],
      "collapsed_sections": [
        "uMLe8EvZM6Zu",
        "S3n0_Ht7NUdv",
        "B98xuMDok8Ea",
        "2GXVk_QFlFOw"
      ],
      "toc_visible": true,
      "authorship_tag": "ABX9TyODOUvFmT81qcM3hcuHmbmd",
      "include_colab_link": true
    },
    "kernelspec": {
      "name": "python3",
      "display_name": "Python 3"
    },
    "language_info": {
      "name": "python"
    }
  },
  "cells": [
    {
      "cell_type": "markdown",
      "metadata": {
        "id": "view-in-github",
        "colab_type": "text"
      },
      "source": [
        "<a href=\"https://colab.research.google.com/github/PashaIanko/Kaggle.Restaurant-Revenue-Prediction/blob/main/model_preparation.ipynb\" target=\"_parent\"><img src=\"https://colab.research.google.com/assets/colab-badge.svg\" alt=\"Open In Colab\"/></a>"
      ]
    },
    {
      "cell_type": "markdown",
      "source": [
        "- Stretch tasks:\n",
        "    - CV\n",
        "    - best_params_\n",
        "    - Short list of models\n",
        "    - sklearn.metrics module"
      ],
      "metadata": {
        "id": "A-3O4yB_Q8dL"
      }
    },
    {
      "cell_type": "markdown",
      "source": [
        "# Imports"
      ],
      "metadata": {
        "id": "U2bYgdttM4jD"
      }
    },
    {
      "cell_type": "code",
      "execution_count": 1,
      "metadata": {
        "id": "mtTZUMDJLvw2"
      },
      "outputs": [],
      "source": [
        "from google.colab import drive\n",
        "import pandas as pd\n",
        "import numpy as np\n",
        "import matplotlib.pyplot as plt"
      ]
    },
    {
      "cell_type": "code",
      "source": [
        "# Models\n",
        "from sklearn.linear_model import LinearRegression\n",
        "from sklearn.tree import DecisionTreeRegressor\n",
        "from sklearn.ensemble import RandomForestRegressor\n",
        "from sklearn.linear_model import Lasso\n",
        "from sklearn.linear_model import ElasticNet\n",
        "from sklearn.svm import SVR\n",
        "\n",
        "# Grid search\n",
        "from sklearn.model_selection import GridSearchCV\n",
        "\n",
        "# Metrics\n",
        "from sklearn.metrics import mean_squared_error\n",
        "from sklearn.model_selection import cross_val_score"
      ],
      "metadata": {
        "id": "1JlpfMx9Ri3A"
      },
      "execution_count": 2,
      "outputs": []
    },
    {
      "cell_type": "code",
      "source": [
        "# PEP 8\n",
        "%%capture\n",
        "!pip install pycodestyle pycodestyle_magic\n",
        "!pip install flake8\n",
        "%load_ext pycodestyle_magic"
      ],
      "metadata": {
        "id": "n4xmQqzXsleN"
      },
      "execution_count": 3,
      "outputs": []
    },
    {
      "cell_type": "markdown",
      "source": [
        "# Setup paths"
      ],
      "metadata": {
        "id": "uMLe8EvZM6Zu"
      }
    },
    {
      "cell_type": "code",
      "source": [
        "drive.mount('/content/gdrive')\n",
        "gdrive_path = '/content/gdrive/MyDrive/'\n",
        "df_path = 'ML/Datasets/5.RestaurantRevenue/'\n",
        "\n",
        "train_path = gdrive_path + df_path + \"train.csv\"\n",
        "train_processed_path = gdrive_path + df_path + \"trainval_processed.csv\"\n",
        "test_processed_path = gdrive_path + df_path + \"test_processed.csv\"\n",
        "test_path =  gdrive_path + df_path + \"test.csv\"\n",
        "submission_path = gdrive_path + df_path + \"submission.csv\"\n",
        "sample_submission_path = gdrive_path + df_path + \"sampleSubmission.csv\""
      ],
      "metadata": {
        "colab": {
          "base_uri": "https://localhost:8080/"
        },
        "id": "Uwo_EnSDM32m",
        "outputId": "6c8a4873-104a-400f-c9a8-6e1362e2674d"
      },
      "execution_count": 4,
      "outputs": [
        {
          "output_type": "stream",
          "name": "stdout",
          "text": [
            "Drive already mounted at /content/gdrive; to attempt to forcibly remount, call drive.mount(\"/content/gdrive\", force_remount=True).\n"
          ]
        }
      ]
    },
    {
      "cell_type": "markdown",
      "source": [
        "# Download the data"
      ],
      "metadata": {
        "id": "S3n0_Ht7NUdv"
      }
    },
    {
      "cell_type": "code",
      "source": [
        "df_test = pd.read_csv(test_processed_path, index_col=[0])\n",
        "df_test.head(2)"
      ],
      "metadata": {
        "colab": {
          "base_uri": "https://localhost:8080/",
          "height": 0
        },
        "id": "PrVuj3eINjtg",
        "outputId": "2b1d78d4-bd2f-4398-8966-8b438b7270c6"
      },
      "execution_count": 5,
      "outputs": [
        {
          "output_type": "execute_result",
          "data": {
            "text/plain": [
              "          0         1         2         3         4         5         6  \\\n",
              "0 -1.032819 -1.653875  0.688913 -1.382555 -0.807152 -0.633614 -2.019553   \n",
              "1  0.015056  0.397991 -0.268140 -1.382555 -0.807152 -0.159426 -0.182156   \n",
              "\n",
              "          7         8         9  ...        34        35        36      37  \\\n",
              "0 -0.062452 -0.217343 -0.244523  ... -0.606797 -0.556056 -0.652386  2008.0   \n",
              "1 -0.062452 -0.217343 -0.244523  ...  0.655776  0.253599  0.511872  2007.0   \n",
              "\n",
              "    38   39   40   41        42         43  \n",
              "0  0.0  0.0  1.0  0.0  1.134031  14.842280  \n",
              "1  0.0  0.0  0.0  1.0  1.769000  15.312391  \n",
              "\n",
              "[2 rows x 44 columns]"
            ],
            "text/html": [
              "\n",
              "  <div id=\"df-d6025a8b-a9f2-4bae-8cf9-481356b06bf9\">\n",
              "    <div class=\"colab-df-container\">\n",
              "      <div>\n",
              "<style scoped>\n",
              "    .dataframe tbody tr th:only-of-type {\n",
              "        vertical-align: middle;\n",
              "    }\n",
              "\n",
              "    .dataframe tbody tr th {\n",
              "        vertical-align: top;\n",
              "    }\n",
              "\n",
              "    .dataframe thead th {\n",
              "        text-align: right;\n",
              "    }\n",
              "</style>\n",
              "<table border=\"1\" class=\"dataframe\">\n",
              "  <thead>\n",
              "    <tr style=\"text-align: right;\">\n",
              "      <th></th>\n",
              "      <th>0</th>\n",
              "      <th>1</th>\n",
              "      <th>2</th>\n",
              "      <th>3</th>\n",
              "      <th>4</th>\n",
              "      <th>5</th>\n",
              "      <th>6</th>\n",
              "      <th>7</th>\n",
              "      <th>8</th>\n",
              "      <th>9</th>\n",
              "      <th>...</th>\n",
              "      <th>34</th>\n",
              "      <th>35</th>\n",
              "      <th>36</th>\n",
              "      <th>37</th>\n",
              "      <th>38</th>\n",
              "      <th>39</th>\n",
              "      <th>40</th>\n",
              "      <th>41</th>\n",
              "      <th>42</th>\n",
              "      <th>43</th>\n",
              "    </tr>\n",
              "  </thead>\n",
              "  <tbody>\n",
              "    <tr>\n",
              "      <th>0</th>\n",
              "      <td>-1.032819</td>\n",
              "      <td>-1.653875</td>\n",
              "      <td>0.688913</td>\n",
              "      <td>-1.382555</td>\n",
              "      <td>-0.807152</td>\n",
              "      <td>-0.633614</td>\n",
              "      <td>-2.019553</td>\n",
              "      <td>-0.062452</td>\n",
              "      <td>-0.217343</td>\n",
              "      <td>-0.244523</td>\n",
              "      <td>...</td>\n",
              "      <td>-0.606797</td>\n",
              "      <td>-0.556056</td>\n",
              "      <td>-0.652386</td>\n",
              "      <td>2008.0</td>\n",
              "      <td>0.0</td>\n",
              "      <td>0.0</td>\n",
              "      <td>1.0</td>\n",
              "      <td>0.0</td>\n",
              "      <td>1.134031</td>\n",
              "      <td>14.842280</td>\n",
              "    </tr>\n",
              "    <tr>\n",
              "      <th>1</th>\n",
              "      <td>0.015056</td>\n",
              "      <td>0.397991</td>\n",
              "      <td>-0.268140</td>\n",
              "      <td>-1.382555</td>\n",
              "      <td>-0.807152</td>\n",
              "      <td>-0.159426</td>\n",
              "      <td>-0.182156</td>\n",
              "      <td>-0.062452</td>\n",
              "      <td>-0.217343</td>\n",
              "      <td>-0.244523</td>\n",
              "      <td>...</td>\n",
              "      <td>0.655776</td>\n",
              "      <td>0.253599</td>\n",
              "      <td>0.511872</td>\n",
              "      <td>2007.0</td>\n",
              "      <td>0.0</td>\n",
              "      <td>0.0</td>\n",
              "      <td>0.0</td>\n",
              "      <td>1.0</td>\n",
              "      <td>1.769000</td>\n",
              "      <td>15.312391</td>\n",
              "    </tr>\n",
              "  </tbody>\n",
              "</table>\n",
              "<p>2 rows × 44 columns</p>\n",
              "</div>\n",
              "      <button class=\"colab-df-convert\" onclick=\"convertToInteractive('df-d6025a8b-a9f2-4bae-8cf9-481356b06bf9')\"\n",
              "              title=\"Convert this dataframe to an interactive table.\"\n",
              "              style=\"display:none;\">\n",
              "        \n",
              "  <svg xmlns=\"http://www.w3.org/2000/svg\" height=\"24px\"viewBox=\"0 0 24 24\"\n",
              "       width=\"24px\">\n",
              "    <path d=\"M0 0h24v24H0V0z\" fill=\"none\"/>\n",
              "    <path d=\"M18.56 5.44l.94 2.06.94-2.06 2.06-.94-2.06-.94-.94-2.06-.94 2.06-2.06.94zm-11 1L8.5 8.5l.94-2.06 2.06-.94-2.06-.94L8.5 2.5l-.94 2.06-2.06.94zm10 10l.94 2.06.94-2.06 2.06-.94-2.06-.94-.94-2.06-.94 2.06-2.06.94z\"/><path d=\"M17.41 7.96l-1.37-1.37c-.4-.4-.92-.59-1.43-.59-.52 0-1.04.2-1.43.59L10.3 9.45l-7.72 7.72c-.78.78-.78 2.05 0 2.83L4 21.41c.39.39.9.59 1.41.59.51 0 1.02-.2 1.41-.59l7.78-7.78 2.81-2.81c.8-.78.8-2.07 0-2.86zM5.41 20L4 18.59l7.72-7.72 1.47 1.35L5.41 20z\"/>\n",
              "  </svg>\n",
              "      </button>\n",
              "      \n",
              "  <style>\n",
              "    .colab-df-container {\n",
              "      display:flex;\n",
              "      flex-wrap:wrap;\n",
              "      gap: 12px;\n",
              "    }\n",
              "\n",
              "    .colab-df-convert {\n",
              "      background-color: #E8F0FE;\n",
              "      border: none;\n",
              "      border-radius: 50%;\n",
              "      cursor: pointer;\n",
              "      display: none;\n",
              "      fill: #1967D2;\n",
              "      height: 32px;\n",
              "      padding: 0 0 0 0;\n",
              "      width: 32px;\n",
              "    }\n",
              "\n",
              "    .colab-df-convert:hover {\n",
              "      background-color: #E2EBFA;\n",
              "      box-shadow: 0px 1px 2px rgba(60, 64, 67, 0.3), 0px 1px 3px 1px rgba(60, 64, 67, 0.15);\n",
              "      fill: #174EA6;\n",
              "    }\n",
              "\n",
              "    [theme=dark] .colab-df-convert {\n",
              "      background-color: #3B4455;\n",
              "      fill: #D2E3FC;\n",
              "    }\n",
              "\n",
              "    [theme=dark] .colab-df-convert:hover {\n",
              "      background-color: #434B5C;\n",
              "      box-shadow: 0px 1px 3px 1px rgba(0, 0, 0, 0.15);\n",
              "      filter: drop-shadow(0px 1px 2px rgba(0, 0, 0, 0.3));\n",
              "      fill: #FFFFFF;\n",
              "    }\n",
              "  </style>\n",
              "\n",
              "      <script>\n",
              "        const buttonEl =\n",
              "          document.querySelector('#df-d6025a8b-a9f2-4bae-8cf9-481356b06bf9 button.colab-df-convert');\n",
              "        buttonEl.style.display =\n",
              "          google.colab.kernel.accessAllowed ? 'block' : 'none';\n",
              "\n",
              "        async function convertToInteractive(key) {\n",
              "          const element = document.querySelector('#df-d6025a8b-a9f2-4bae-8cf9-481356b06bf9');\n",
              "          const dataTable =\n",
              "            await google.colab.kernel.invokeFunction('convertToInteractive',\n",
              "                                                     [key], {});\n",
              "          if (!dataTable) return;\n",
              "\n",
              "          const docLinkHtml = 'Like what you see? Visit the ' +\n",
              "            '<a target=\"_blank\" href=https://colab.research.google.com/notebooks/data_table.ipynb>data table notebook</a>'\n",
              "            + ' to learn more about interactive tables.';\n",
              "          element.innerHTML = '';\n",
              "          dataTable['output_type'] = 'display_data';\n",
              "          await google.colab.output.renderOutput(dataTable, element);\n",
              "          const docLink = document.createElement('div');\n",
              "          docLink.innerHTML = docLinkHtml;\n",
              "          element.appendChild(docLink);\n",
              "        }\n",
              "      </script>\n",
              "    </div>\n",
              "  </div>\n",
              "  "
            ]
          },
          "metadata": {},
          "execution_count": 5
        }
      ]
    },
    {
      "cell_type": "code",
      "source": [
        "df_trainval = pd.read_csv(train_processed_path, index_col=[0])\n",
        "df_trainval.head(2)"
      ],
      "metadata": {
        "colab": {
          "base_uri": "https://localhost:8080/",
          "height": 0
        },
        "id": "-ZeWM9PpNWGK",
        "outputId": "2ea7b7ab-d819-461d-c47f-c892bd0c87b1"
      },
      "execution_count": 6,
      "outputs": [
        {
          "output_type": "execute_result",
          "data": {
            "text/plain": [
              "          0         1         2         3         4         5         6  \\\n",
              "0 -0.334236 -0.285964 -1.225193 -0.383325  0.014161 -0.633614 -0.182156   \n",
              "1 -0.683527 -0.285964 -1.225193  0.615905  1.656785  0.788952 -0.182156   \n",
              "\n",
              "          7         8         9  ...        34        35        36      37  \\\n",
              "0 -0.062452 -0.217343 -0.244523  ...  0.655776  0.253599  1.094000  2009.0   \n",
              "1 -0.619713 -0.790338 -0.811816  ... -0.606797 -0.556056 -0.652386  2007.0   \n",
              "\n",
              "    38   39   40   41     42         43  \n",
              "0  0.0  0.0  0.0  1.0  2.069  15.278005  \n",
              "1  1.0  0.0  1.0  0.0  5.663  15.255171  \n",
              "\n",
              "[2 rows x 44 columns]"
            ],
            "text/html": [
              "\n",
              "  <div id=\"df-28c2abcf-e13b-415e-ad6d-c437a9d9b89d\">\n",
              "    <div class=\"colab-df-container\">\n",
              "      <div>\n",
              "<style scoped>\n",
              "    .dataframe tbody tr th:only-of-type {\n",
              "        vertical-align: middle;\n",
              "    }\n",
              "\n",
              "    .dataframe tbody tr th {\n",
              "        vertical-align: top;\n",
              "    }\n",
              "\n",
              "    .dataframe thead th {\n",
              "        text-align: right;\n",
              "    }\n",
              "</style>\n",
              "<table border=\"1\" class=\"dataframe\">\n",
              "  <thead>\n",
              "    <tr style=\"text-align: right;\">\n",
              "      <th></th>\n",
              "      <th>0</th>\n",
              "      <th>1</th>\n",
              "      <th>2</th>\n",
              "      <th>3</th>\n",
              "      <th>4</th>\n",
              "      <th>5</th>\n",
              "      <th>6</th>\n",
              "      <th>7</th>\n",
              "      <th>8</th>\n",
              "      <th>9</th>\n",
              "      <th>...</th>\n",
              "      <th>34</th>\n",
              "      <th>35</th>\n",
              "      <th>36</th>\n",
              "      <th>37</th>\n",
              "      <th>38</th>\n",
              "      <th>39</th>\n",
              "      <th>40</th>\n",
              "      <th>41</th>\n",
              "      <th>42</th>\n",
              "      <th>43</th>\n",
              "    </tr>\n",
              "  </thead>\n",
              "  <tbody>\n",
              "    <tr>\n",
              "      <th>0</th>\n",
              "      <td>-0.334236</td>\n",
              "      <td>-0.285964</td>\n",
              "      <td>-1.225193</td>\n",
              "      <td>-0.383325</td>\n",
              "      <td>0.014161</td>\n",
              "      <td>-0.633614</td>\n",
              "      <td>-0.182156</td>\n",
              "      <td>-0.062452</td>\n",
              "      <td>-0.217343</td>\n",
              "      <td>-0.244523</td>\n",
              "      <td>...</td>\n",
              "      <td>0.655776</td>\n",
              "      <td>0.253599</td>\n",
              "      <td>1.094000</td>\n",
              "      <td>2009.0</td>\n",
              "      <td>0.0</td>\n",
              "      <td>0.0</td>\n",
              "      <td>0.0</td>\n",
              "      <td>1.0</td>\n",
              "      <td>2.069</td>\n",
              "      <td>15.278005</td>\n",
              "    </tr>\n",
              "    <tr>\n",
              "      <th>1</th>\n",
              "      <td>-0.683527</td>\n",
              "      <td>-0.285964</td>\n",
              "      <td>-1.225193</td>\n",
              "      <td>0.615905</td>\n",
              "      <td>1.656785</td>\n",
              "      <td>0.788952</td>\n",
              "      <td>-0.182156</td>\n",
              "      <td>-0.619713</td>\n",
              "      <td>-0.790338</td>\n",
              "      <td>-0.811816</td>\n",
              "      <td>...</td>\n",
              "      <td>-0.606797</td>\n",
              "      <td>-0.556056</td>\n",
              "      <td>-0.652386</td>\n",
              "      <td>2007.0</td>\n",
              "      <td>1.0</td>\n",
              "      <td>0.0</td>\n",
              "      <td>1.0</td>\n",
              "      <td>0.0</td>\n",
              "      <td>5.663</td>\n",
              "      <td>15.255171</td>\n",
              "    </tr>\n",
              "  </tbody>\n",
              "</table>\n",
              "<p>2 rows × 44 columns</p>\n",
              "</div>\n",
              "      <button class=\"colab-df-convert\" onclick=\"convertToInteractive('df-28c2abcf-e13b-415e-ad6d-c437a9d9b89d')\"\n",
              "              title=\"Convert this dataframe to an interactive table.\"\n",
              "              style=\"display:none;\">\n",
              "        \n",
              "  <svg xmlns=\"http://www.w3.org/2000/svg\" height=\"24px\"viewBox=\"0 0 24 24\"\n",
              "       width=\"24px\">\n",
              "    <path d=\"M0 0h24v24H0V0z\" fill=\"none\"/>\n",
              "    <path d=\"M18.56 5.44l.94 2.06.94-2.06 2.06-.94-2.06-.94-.94-2.06-.94 2.06-2.06.94zm-11 1L8.5 8.5l.94-2.06 2.06-.94-2.06-.94L8.5 2.5l-.94 2.06-2.06.94zm10 10l.94 2.06.94-2.06 2.06-.94-2.06-.94-.94-2.06-.94 2.06-2.06.94z\"/><path d=\"M17.41 7.96l-1.37-1.37c-.4-.4-.92-.59-1.43-.59-.52 0-1.04.2-1.43.59L10.3 9.45l-7.72 7.72c-.78.78-.78 2.05 0 2.83L4 21.41c.39.39.9.59 1.41.59.51 0 1.02-.2 1.41-.59l7.78-7.78 2.81-2.81c.8-.78.8-2.07 0-2.86zM5.41 20L4 18.59l7.72-7.72 1.47 1.35L5.41 20z\"/>\n",
              "  </svg>\n",
              "      </button>\n",
              "      \n",
              "  <style>\n",
              "    .colab-df-container {\n",
              "      display:flex;\n",
              "      flex-wrap:wrap;\n",
              "      gap: 12px;\n",
              "    }\n",
              "\n",
              "    .colab-df-convert {\n",
              "      background-color: #E8F0FE;\n",
              "      border: none;\n",
              "      border-radius: 50%;\n",
              "      cursor: pointer;\n",
              "      display: none;\n",
              "      fill: #1967D2;\n",
              "      height: 32px;\n",
              "      padding: 0 0 0 0;\n",
              "      width: 32px;\n",
              "    }\n",
              "\n",
              "    .colab-df-convert:hover {\n",
              "      background-color: #E2EBFA;\n",
              "      box-shadow: 0px 1px 2px rgba(60, 64, 67, 0.3), 0px 1px 3px 1px rgba(60, 64, 67, 0.15);\n",
              "      fill: #174EA6;\n",
              "    }\n",
              "\n",
              "    [theme=dark] .colab-df-convert {\n",
              "      background-color: #3B4455;\n",
              "      fill: #D2E3FC;\n",
              "    }\n",
              "\n",
              "    [theme=dark] .colab-df-convert:hover {\n",
              "      background-color: #434B5C;\n",
              "      box-shadow: 0px 1px 3px 1px rgba(0, 0, 0, 0.15);\n",
              "      filter: drop-shadow(0px 1px 2px rgba(0, 0, 0, 0.3));\n",
              "      fill: #FFFFFF;\n",
              "    }\n",
              "  </style>\n",
              "\n",
              "      <script>\n",
              "        const buttonEl =\n",
              "          document.querySelector('#df-28c2abcf-e13b-415e-ad6d-c437a9d9b89d button.colab-df-convert');\n",
              "        buttonEl.style.display =\n",
              "          google.colab.kernel.accessAllowed ? 'block' : 'none';\n",
              "\n",
              "        async function convertToInteractive(key) {\n",
              "          const element = document.querySelector('#df-28c2abcf-e13b-415e-ad6d-c437a9d9b89d');\n",
              "          const dataTable =\n",
              "            await google.colab.kernel.invokeFunction('convertToInteractive',\n",
              "                                                     [key], {});\n",
              "          if (!dataTable) return;\n",
              "\n",
              "          const docLinkHtml = 'Like what you see? Visit the ' +\n",
              "            '<a target=\"_blank\" href=https://colab.research.google.com/notebooks/data_table.ipynb>data table notebook</a>'\n",
              "            + ' to learn more about interactive tables.';\n",
              "          element.innerHTML = '';\n",
              "          dataTable['output_type'] = 'display_data';\n",
              "          await google.colab.output.renderOutput(dataTable, element);\n",
              "          const docLink = document.createElement('div');\n",
              "          docLink.innerHTML = docLinkHtml;\n",
              "          element.appendChild(docLink);\n",
              "        }\n",
              "      </script>\n",
              "    </div>\n",
              "  </div>\n",
              "  "
            ]
          },
          "metadata": {},
          "execution_count": 6
        }
      ]
    },
    {
      "cell_type": "code",
      "source": [
        "X_train_val = df_trainval.values[:, :-1]\n",
        "Y_train_val = df_trainval.values[:, -1]"
      ],
      "metadata": {
        "id": "J8FBYt0tQJFw"
      },
      "execution_count": 7,
      "outputs": []
    },
    {
      "cell_type": "code",
      "source": [
        "X_test = df_test.values[:, :-1]\n",
        "Y_test = df_test.values[:, -1]"
      ],
      "metadata": {
        "id": "QLMmkUbIQzJN"
      },
      "execution_count": 8,
      "outputs": []
    },
    {
      "cell_type": "markdown",
      "source": [
        "# Select and train models (+ ensemble methods)"
      ],
      "metadata": {
        "id": "yfVYCyTcNIzh"
      }
    },
    {
      "cell_type": "markdown",
      "source": [
        "## Define models"
      ],
      "metadata": {
        "id": "3yuwyXBG3EXo"
      }
    },
    {
      "cell_type": "code",
      "source": [
        "from dataclasses import dataclass, field\n",
        "\n",
        "@dataclass\n",
        "class Model:\n",
        "    model: None\n",
        "    name: str\n",
        "    grid_search_param_grid: list \n",
        "    random_search_param_grid: list"
      ],
      "metadata": {
        "id": "eZX5SMJ7yeXf"
      },
      "execution_count": 9,
      "outputs": []
    },
    {
      "cell_type": "code",
      "source": [
        "RFModel = Model(\n",
        "    RandomForestRegressor(),\n",
        "    'RF',\n",
        "    [\n",
        "        {'n_estimators': [100, 200, 500]}\n",
        "    ],\n",
        "\n",
        "    [\n",
        "        {\n",
        "            'n_estimators': [100, 200, 300, 400, 500, 600, 700, 800],\n",
        "            'max_depth': [i for i in range(1, 20)]\n",
        "        }\n",
        "    ]\n",
        ")\n",
        "\n",
        "ElasticNetModel = Model(\n",
        "    ElasticNet(),\n",
        "    'Elastic',\n",
        "    [\n",
        "        {\n",
        "            'alpha': [0.1, 0.3, 0.5],\n",
        "            'l1_ratio': [0.2, 0.4]\n",
        "        }, \n",
        "    ],\n",
        "    [\n",
        "        {}\n",
        "    ]\n",
        ")\n",
        "\n",
        "SVRModel = Model(\n",
        "    SVR(),\n",
        "    'SVM reg',\n",
        "    [\n",
        "        {}\n",
        "    ],\n",
        "    [\n",
        "        {}\n",
        "    ]\n",
        ")"
      ],
      "metadata": {
        "id": "wN5j5kkNyU7M"
      },
      "execution_count": 10,
      "outputs": []
    },
    {
      "cell_type": "code",
      "source": [
        "all_models = {\n",
        "    model.name: model for model in [RFModel, SVRModel, ElasticNetModel]\n",
        "}"
      ],
      "metadata": {
        "id": "HJJeGdrmz2Sh"
      },
      "execution_count": 11,
      "outputs": []
    },
    {
      "cell_type": "markdown",
      "source": [
        "## Preliminary look (shortlisting 2-5 models)"
      ],
      "metadata": {
        "id": "JJ9oO_0QYFMR"
      }
    },
    {
      "cell_type": "markdown",
      "source": [
        "## Cross validation result"
      ],
      "metadata": {
        "id": "7NK6uu9E3Lf5"
      }
    },
    {
      "cell_type": "code",
      "source": [
        "def plot_model_cv_scores(models_dict_, X_, Y_, cv_, scoring_):\n",
        "    res = {}\n",
        "    for name, model in models_dict_.items():\n",
        "        scores = cross_val_score(\n",
        "            model,\n",
        "            X_,\n",
        "            Y_,\n",
        "            cv=cv_,\n",
        "            scoring=scoring_\n",
        "        )\n",
        "        res[name] = scores\n",
        "    \n",
        "    # Sort the dict\n",
        "    sorted_res = {\n",
        "        k:v for \\\n",
        "        k, v in sorted(res.items(), key = lambda item: np.mean(item[1]))\n",
        "    }\n",
        "    for model_name, scores in sorted_res.items():\n",
        "        print(f'Model: {model_name}, mean: {np.mean(scores)}, std: {np.std(scores)}')\n",
        "\n",
        "    return sorted_res"
      ],
      "metadata": {
        "id": "_cZ6A4Z8YGv4"
      },
      "execution_count": 105,
      "outputs": []
    },
    {
      "cell_type": "code",
      "source": [
        "_ = plot_model_cv_scores(\n",
        "    {\n",
        "        model_name: model.model for model_name, model in all_models.items()\n",
        "    },\n",
        "    X_=X_train_val,\n",
        "    Y_=Y_train_val,\n",
        "    cv_=7,\n",
        "    scoring_='neg_mean_squared_error'\n",
        ")"
      ],
      "metadata": {
        "id": "xfmBuh3RYJu4"
      },
      "execution_count": 106,
      "outputs": []
    },
    {
      "cell_type": "markdown",
      "source": [
        "## Overfitting behavior"
      ],
      "metadata": {
        "id": "GyRFNZNh3O2-"
      }
    },
    {
      "cell_type": "code",
      "source": [
        "# %%pycodestyle\n",
        "from sklearn.model_selection import cross_validate\n",
        "\n",
        "\n",
        "def plot_cv_results(models_dict_, X_, Y_, cv_, scoring_, to_put_minus_=False):\n",
        "\n",
        "    for model_name, model in models_dict_.items():\n",
        "        cv_res = cross_validate(\n",
        "            model,\n",
        "            X_,\n",
        "            Y_,\n",
        "            cv=cv_,\n",
        "            scoring=scoring_,\n",
        "            return_train_score=True\n",
        "        )\n",
        "        _, ax = plt.subplots()\n",
        "        x = np.arange(len(cv_res['test_score']))\n",
        "        width = 0.5\n",
        "        if to_put_minus_:\n",
        "            train_score = -cv_res['train_score']\n",
        "            test_score = -cv_res['test_score']\n",
        "        else:\n",
        "            train_score = cv_res['train_score']\n",
        "            test_score = cv_res['test_score']\n",
        "\n",
        "        ax.bar(x - width / 2, test_score, width, label='validation')\n",
        "        ax.bar(x + width / 2, train_score, width, label='train')\n",
        "\n",
        "        ax.set_title(f'Results for {model_name}')\n",
        "        ax.set_xlabel(f'CV fold number')\n",
        "        ax.set_ylabel(f'Metrics: {scoring_}')\n",
        "\n",
        "        ax.legend()\n",
        "        ax.grid()\n"
      ],
      "metadata": {
        "id": "DHSFBbUbx9U3"
      },
      "execution_count": 86,
      "outputs": []
    },
    {
      "cell_type": "code",
      "source": [
        "# %%pycodestyle\n",
        "plot_cv_results(\n",
        "    models_dict_={\n",
        "        model_name: model.model for model_name, model in all_models.items()\n",
        "    },\n",
        "    X_=X_train_val,\n",
        "    Y_=Y_train_val,\n",
        "    cv_=5,\n",
        "    scoring_='neg_mean_squared_error',\n",
        "    to_put_minus_=True\n",
        ")"
      ],
      "metadata": {
        "colab": {
          "base_uri": "https://localhost:8080/",
          "height": 851
        },
        "id": "fGRthSlu0eDX",
        "outputId": "851defe6-da84-4eb5-9e15-30802e7c3aa1"
      },
      "execution_count": 88,
      "outputs": [
        {
          "output_type": "display_data",
          "data": {
            "text/plain": [
              "<Figure size 432x288 with 1 Axes>"
            ],
            "image/png": "[encoded data removed]"
          },
          "metadata": {
            "needs_background": "light"
          }
        },
        {
          "output_type": "display_data",
          "data": {
            "text/plain": [
              "<Figure size 432x288 with 1 Axes>"
            ],
            "image/png": "[encoded data removed]"
          },
          "metadata": {
            "needs_background": "light"
          }
        },
        {
          "output_type": "display_data",
          "data": {
            "text/plain": [
              "<Figure size 432x288 with 1 Axes>"
            ],
            "image/png": "[encoded data removed]"
          },
          "metadata": {
            "needs_background": "light"
          }
        }
      ]
    },
    {
      "cell_type": "code",
      "source": [
        "shortlisted_models = {\n",
        "    model.name: model for model in [RFModel, ElasticNetModel, SVRModel]\n",
        "}"
      ],
      "metadata": {
        "id": "HYaX2Q0I28W7"
      },
      "execution_count": 89,
      "outputs": []
    },
    {
      "cell_type": "markdown",
      "source": [
        "# Fine tuning"
      ],
      "metadata": {
        "id": "TfIM9kLeZw63"
      }
    },
    {
      "cell_type": "markdown",
      "source": [
        "## Grid search"
      ],
      "metadata": {
        "id": "B98xuMDok8Ea"
      }
    },
    {
      "cell_type": "code",
      "source": [
        "def fit_grid_search(models_dict_, X_, Y_, cv_, scoring_):\n",
        "    res = {\n",
        "        name: None for name in list(models_dict_.keys())\n",
        "    }\n",
        "    print(models_dict_.items())\n",
        "    for name, model in models_dict_.items():\n",
        "        print(f'Fitting {name}')\n",
        "        \n",
        "        grid_search_estimator = GridSearchCV(\n",
        "            model.model,\n",
        "            param_grid=model.grid_search_param_grid,\n",
        "            cv=cv_,\n",
        "            scoring=scoring_,\n",
        "            return_train_score=True,\n",
        "            refit=True\n",
        "        )\n",
        "\n",
        "        grid_search_result = grid_search_estimator.fit(X_, Y_)\n",
        "        res[name] = grid_search_result\n",
        "    return res"
      ],
      "metadata": {
        "id": "dMtT-iDy309B"
      },
      "execution_count": 17,
      "outputs": []
    },
    {
      "cell_type": "code",
      "source": [
        "shortlisted_models"
      ],
      "metadata": {
        "colab": {
          "base_uri": "https://localhost:8080/"
        },
        "id": "mup91bOJ3-QX",
        "outputId": "87f7ecab-7a05-4615-d50f-e5625dda5794"
      },
      "execution_count": 18,
      "outputs": [
        {
          "output_type": "execute_result",
          "data": {
            "text/plain": [
              "{'RF': Model(model=RandomForestRegressor(), name='RF', grid_search_param_grid=[{'n_estimators': [100, 200, 500]}], random_search_param_grid=[{'n_estimators': [100, 200, 300, 400, 500, 600, 700, 800], 'max_depth': [1, 2, 3, 4, 5, 6, 7, 8, 9, 10, 11, 12, 13, 14, 15, 16, 17, 18, 19]}]),\n",
              " 'Elastic': Model(model=ElasticNet(), name='Elastic', grid_search_param_grid=[{'alpha': [0.1, 0.3, 0.5], 'l1_ratio': [0.2, 0.4]}], random_search_param_grid=[{}]),\n",
              " 'SVM reg': Model(model=SVR(), name='SVM reg', grid_search_param_grid=[{}], random_search_param_grid=[{}])}"
            ]
          },
          "metadata": {},
          "execution_count": 18
        }
      ]
    },
    {
      "cell_type": "code",
      "source": [
        "grid_search_results = fit_grid_search(\n",
        "    shortlisted_models,\n",
        "    X_=X_train_val,\n",
        "    Y_=Y_train_val,\n",
        "    cv_ = 5,\n",
        "    scoring_ = 'neg_mean_squared_error'\n",
        ")"
      ],
      "metadata": {
        "colab": {
          "base_uri": "https://localhost:8080/"
        },
        "id": "3kvpjPXfeQW4",
        "outputId": "bb59cf43-06eb-4449-c2f5-026339e7d22b"
      },
      "execution_count": 19,
      "outputs": [
        {
          "output_type": "stream",
          "name": "stdout",
          "text": [
            "AAA\n",
            "{'RF': Model(model=RandomForestRegressor(), name='RF', grid_search_param_grid=[{'n_estimators': [100, 200, 500]}], random_search_param_grid=[{'n_estimators': [100, 200, 300, 400, 500, 600, 700, 800], 'max_depth': [1, 2, 3, 4, 5, 6, 7, 8, 9, 10, 11, 12, 13, 14, 15, 16, 17, 18, 19]}]), 'Elastic': Model(model=ElasticNet(), name='Elastic', grid_search_param_grid=[{'alpha': [0.1, 0.3, 0.5], 'l1_ratio': [0.2, 0.4]}], random_search_param_grid=[{}]), 'SVM reg': Model(model=SVR(), name='SVM reg', grid_search_param_grid=[{}], random_search_param_grid=[{}])}\n",
            "dict_items([('RF', Model(model=RandomForestRegressor(), name='RF', grid_search_param_grid=[{'n_estimators': [100, 200, 500]}], random_search_param_grid=[{'n_estimators': [100, 200, 300, 400, 500, 600, 700, 800], 'max_depth': [1, 2, 3, 4, 5, 6, 7, 8, 9, 10, 11, 12, 13, 14, 15, 16, 17, 18, 19]}])), ('Elastic', Model(model=ElasticNet(), name='Elastic', grid_search_param_grid=[{'alpha': [0.1, 0.3, 0.5], 'l1_ratio': [0.2, 0.4]}], random_search_param_grid=[{}])), ('SVM reg', Model(model=SVR(), name='SVM reg', grid_search_param_grid=[{}], random_search_param_grid=[{}]))])\n",
            "Fitting RF\n",
            "Fitting Elastic\n",
            "Fitting SVM reg\n"
          ]
        }
      ]
    },
    {
      "cell_type": "code",
      "source": [
        "print(grid_search_results['RF'].best_params_)\n",
        "print(grid_search_results['Elastic'].best_estimator_)"
      ],
      "metadata": {
        "colab": {
          "base_uri": "https://localhost:8080/"
        },
        "id": "s4pvWNeeeZqE",
        "outputId": "0d42b3d2-5f1e-444e-a1a7-5eb725d68a0c"
      },
      "execution_count": 20,
      "outputs": [
        {
          "output_type": "stream",
          "name": "stdout",
          "text": [
            "{'n_estimators': 500}\n",
            "ElasticNet(alpha=0.5, l1_ratio=0.2)\n"
          ]
        }
      ]
    },
    {
      "cell_type": "markdown",
      "source": [
        "## Randomized search"
      ],
      "metadata": {
        "id": "2GXVk_QFlFOw"
      }
    },
    {
      "cell_type": "code",
      "source": [
        "%%pycodestyle\n",
        "from sklearn.model_selection import RandomizedSearchCV\n",
        "\n",
        "\n",
        "def fit_randomized_search(models_dict_, X_, Y_, cv_, n_iter_, scoring_):\n",
        "    RANDOM_STATE = 42\n",
        "    res = {}\n",
        "    for name, model in models_dict_.items():\n",
        "        print(f'Fitting {name}')\n",
        "\n",
        "        estimator = RandomizedSearchCV(\n",
        "            model.model,\n",
        "            param_distributions=model.random_search_param_grid,\n",
        "            cv=cv_,\n",
        "            n_iter=n_iter_,\n",
        "            scoring=scoring_,\n",
        "            return_train_score=True,\n",
        "            refit=True,\n",
        "            random_state=RANDOM_STATE\n",
        "        )\n",
        "\n",
        "        rand_search_res = estimator.fit(X_, Y_)\n",
        "        res[name] = rand_search_res\n",
        "    return res"
      ],
      "metadata": {
        "id": "tYhkvnmzh06M",
        "colab": {
          "base_uri": "https://localhost:8080/"
        },
        "outputId": "b2edcd71-dbf0-4f86-bfe9-5c7b4f1d2d64"
      },
      "execution_count": 40,
      "outputs": [
        {
          "output_type": "stream",
          "name": "stderr",
          "text": [
            "INFO:pycodestyle:25:1: W391 blank line at end of file\n"
          ]
        }
      ]
    },
    {
      "cell_type": "code",
      "source": [
        "rand_search_results = fit_randomized_search(\n",
        "    shortlisted_models,\n",
        "    X_=X_train_val,\n",
        "    Y_=Y_train_val,\n",
        "    cv_=5,\n",
        "    n_iter_=10,\n",
        "    scoring_='neg_mean_squared_error'\n",
        ")"
      ],
      "metadata": {
        "colab": {
          "base_uri": "https://localhost:8080/"
        },
        "id": "ZyZzrhcKinx-",
        "outputId": "8544292b-19f0-4aa5-9801-26caf8f2299f"
      },
      "execution_count": 41,
      "outputs": [
        {
          "output_type": "stream",
          "name": "stdout",
          "text": [
            "Fitting RF\n",
            "Fitting Elastic\n",
            "Fitting SVM reg\n"
          ]
        },
        {
          "output_type": "stream",
          "name": "stderr",
          "text": [
            "/usr/local/lib/python3.7/dist-packages/sklearn/model_selection/_search.py:296: UserWarning: The total space of parameters 1 is smaller than n_iter=10. Running 1 iterations. For exhaustive searches, use GridSearchCV.\n",
            "  UserWarning,\n",
            "/usr/local/lib/python3.7/dist-packages/sklearn/model_selection/_search.py:296: UserWarning: The total space of parameters 1 is smaller than n_iter=10. Running 1 iterations. For exhaustive searches, use GridSearchCV.\n",
            "  UserWarning,\n"
          ]
        }
      ]
    },
    {
      "cell_type": "code",
      "source": [
        "print(rand_search_results['RF'].best_estimator_)\n",
        "print(rand_search_results['SVM reg'].best_estimator_)"
      ],
      "metadata": {
        "colab": {
          "base_uri": "https://localhost:8080/"
        },
        "id": "jczgbC14jhQS",
        "outputId": "047ed0c0-fbe2-4e18-d6fb-93f21dd97dd0"
      },
      "execution_count": 27,
      "outputs": [
        {
          "output_type": "stream",
          "name": "stdout",
          "text": [
            "RandomForestRegressor(max_depth=9, n_estimators=500)\n",
            "SVR()\n"
          ]
        }
      ]
    },
    {
      "cell_type": "markdown",
      "source": [
        "# Check final models for overfit"
      ],
      "metadata": {
        "id": "lc5ejrvB-94I"
      }
    },
    {
      "cell_type": "code",
      "source": [
        "plot_cv_results(\n",
        "    models_dict_ = {\n",
        "        name: rand_search_results[name].best_estimator_ \\\n",
        "        for name in rand_search_results.keys()\n",
        "    },\n",
        "    X_=X_train_val,\n",
        "    Y_=Y_train_val,\n",
        "    cv_=5,\n",
        "    scoring_='neg_mean_squared_error',\n",
        "    to_put_minus_=True\n",
        ")"
      ],
      "metadata": {
        "id": "PUVMThyR_Anj",
        "outputId": "c77c05db-d53b-4728-aaf1-9345cb6025f0",
        "colab": {
          "base_uri": "https://localhost:8080/",
          "height": 851
        }
      },
      "execution_count": 92,
      "outputs": [
        {
          "output_type": "display_data",
          "data": {
            "text/plain": [
              "<Figure size 432x288 with 1 Axes>"
            ],
            "image/png": "[encoded data removed]"
          },
          "metadata": {
            "needs_background": "light"
          }
        },
        {
          "output_type": "display_data",
          "data": {
            "text/plain": [
              "<Figure size 432x288 with 1 Axes>"
            ],
            "image/png": "[encoded data removed]"
          },
          "metadata": {
            "needs_background": "light"
          }
        },
        {
          "output_type": "display_data",
          "data": {
            "text/plain": [
              "<Figure size 432x288 with 1 Axes>"
            ],
            "image/png": "[encoded data removed]"
          },
          "metadata": {
            "needs_background": "light"
          }
        }
      ]
    },
    {
      "cell_type": "code",
      "source": [
        "plot_cv_results(\n",
        "    models_dict_ = {\n",
        "        name: grid_search_results[name].best_estimator_ \\\n",
        "        for name in grid_search_results.keys()\n",
        "    },\n",
        "    X_=X_train_val,\n",
        "    Y_=Y_train_val,\n",
        "    cv_=5,\n",
        "    scoring_='neg_mean_squared_error',\n",
        "    to_put_minus_=True\n",
        ")"
      ],
      "metadata": {
        "id": "WDANq3bODGXl",
        "outputId": "4c556471-e6bd-48d9-9068-6f4ce7b6a39b",
        "colab": {
          "base_uri": "https://localhost:8080/",
          "height": 851
        }
      },
      "execution_count": 96,
      "outputs": [
        {
          "output_type": "display_data",
          "data": {
            "text/plain": [
              "<Figure size 432x288 with 1 Axes>"
            ],
            "image/png": "[encoded data removed]"
          },
          "metadata": {
            "needs_background": "light"
          }
        },
        {
          "output_type": "display_data",
          "data": {
            "text/plain": [
              "<Figure size 432x288 with 1 Axes>"
            ],
            "image/png": "[encoded data removed]"
          },
          "metadata": {
            "needs_background": "light"
          }
        },
        {
          "output_type": "display_data",
          "data": {
            "text/plain": [
              "<Figure size 432x288 with 1 Axes>"
            ],
            "image/png": "[encoded data removed]"
          },
          "metadata": {
            "needs_background": "light"
          }
        }
      ]
    },
    {
      "cell_type": "markdown",
      "source": [
        "# Model mistake analysis"
      ],
      "metadata": {
        "id": "2t7oXoeJlQdC"
      }
    },
    {
      "cell_type": "markdown",
      "source": [
        "- From feature importance analysis, we see that the most important features are **opening year** and **city population**"
      ],
      "metadata": {
        "id": "nq0KaI-WrHjv"
      }
    },
    {
      "cell_type": "markdown",
      "source": [
        "## Feature importances"
      ],
      "metadata": {
        "id": "nBfuos4ksMfF"
      }
    },
    {
      "cell_type": "markdown",
      "source": [
        "- Here, we definitely see how engineered features (**population** and **year of opening**) are more important to the decision tree algorithm"
      ],
      "metadata": {
        "id": "5Q3QNkLU5CXF"
      }
    },
    {
      "cell_type": "code",
      "source": [
        "plt.bar(\n",
        "    np.arange(len(grid_search_results['RF'].best_estimator_.feature_importances_)),\n",
        "    grid_search_results['RF'].best_estimator_.feature_importances_\n",
        ")\n",
        "plt.grid()"
      ],
      "metadata": {
        "colab": {
          "base_uri": "https://localhost:8080/",
          "height": 265
        },
        "id": "d13y0SQdlSVc",
        "outputId": "54e3afb8-9fa2-41dd-cf08-a8e6aa5b43aa"
      },
      "execution_count": 29,
      "outputs": [
        {
          "output_type": "display_data",
          "data": {
            "text/plain": [
              "<Figure size 432x288 with 1 Axes>"
            ],
            "image/png": "[encoded data removed]"
          },
          "metadata": {
            "needs_background": "light"
          }
        }
      ]
    },
    {
      "cell_type": "markdown",
      "source": [
        "## Visualize predictions"
      ],
      "metadata": {
        "id": "gmHHDH2MsV4M"
      }
    },
    {
      "cell_type": "code",
      "source": [
        "# %%pycodestyle\n",
        "def visualize_regression_predictions(\n",
        "    sklearn_models_dict_, X_, Y_, dataset_type_):\n",
        "\n",
        "    _, ax = plt.subplots()\n",
        "    ax.plot(\n",
        "            Y_,\n",
        "            label=f'{dataset_type_} target'\n",
        "    )\n",
        "\n",
        "    for model_name, model in sklearn_models_dict_.items():\n",
        "        predictions = model.predict(X_)\n",
        "        ax.scatter(\n",
        "            x=np.arange(len(predictions)),\n",
        "            y=predictions,\n",
        "            label=f'{model_name} predictions'\n",
        "        )\n",
        "        \n",
        "    ax.set_xlabel('Dataset instance')\n",
        "    ax.set_ylabel('Prediction')\n",
        "    ax.set_title(f'Visualized predictons on {dataset_type_}')\n",
        "\n",
        "    ax.legend()\n",
        "    ax.grid()"
      ],
      "metadata": {
        "id": "Z3hrf9_j7cQQ"
      },
      "execution_count": 99,
      "outputs": []
    },
    {
      "cell_type": "code",
      "source": [
        "visualize_regression_predictions(\n",
        "    sklearn_models_dict_={\n",
        "        model_name: rand_search_results[model_name].best_estimator_\n",
        "        for model_name in rand_search_results.keys()\n",
        "    },\n",
        "    X_=X_train_val,\n",
        "    Y_=Y_train_val,\n",
        "    dataset_type_='train set'\n",
        ")"
      ],
      "metadata": {
        "colab": {
          "base_uri": "https://localhost:8080/",
          "height": 295
        },
        "id": "wbVR6_tV8Pc1",
        "outputId": "91f242e6-7e84-4d42-ff2f-159b5869384d"
      },
      "execution_count": 100,
      "outputs": [
        {
          "output_type": "display_data",
          "data": {
            "text/plain": [
              "<Figure size 432x288 with 1 Axes>"
            ],
            "image/png": "[encoded data removed]"
          },
          "metadata": {
            "needs_background": "light"
          }
        }
      ]
    },
    {
      "cell_type": "code",
      "source": [
        "# %%pycodestyle\n",
        "visualize_regression_predictions(\n",
        "    sklearn_models_dict_={\n",
        "        model_name: rand_search_results[model_name].best_estimator_ \\\n",
        "        for model_name in rand_search_results.keys()\n",
        "    },\n",
        "    X_=X_test,\n",
        "    Y_=Y_test,\n",
        "    dataset_type_='test set'\n",
        ")"
      ],
      "metadata": {
        "colab": {
          "base_uri": "https://localhost:8080/",
          "height": 295
        },
        "id": "PrrzygEM-BgI",
        "outputId": "9becd84c-27b0-47a7-8383-7e8a7ececa27"
      },
      "execution_count": 101,
      "outputs": [
        {
          "output_type": "display_data",
          "data": {
            "text/plain": [
              "<Figure size 432x288 with 1 Axes>"
            ],
            "image/png": "[encoded data removed]"
          },
          "metadata": {
            "needs_background": "light"
          }
        }
      ]
    },
    {
      "cell_type": "markdown",
      "source": [
        "# Select final model"
      ],
      "metadata": {
        "id": "GsjsRXN3BB2w"
      }
    },
    {
      "cell_type": "markdown",
      "source": [
        "- I select the best model, based on average cross validation score among fine-tuned models"
      ],
      "metadata": {
        "id": "kftMdMnADTbE"
      }
    },
    {
      "cell_type": "code",
      "source": [
        "_ = plot_model_cv_scores(\n",
        "    {\n",
        "        model_name: grid_search_results[model_name].best_estimator_ \n",
        "        for model_name in grid_search_results.keys()\n",
        "    },\n",
        "    X_=X_train_val,\n",
        "    Y_=Y_train_val,\n",
        "    cv_=7,\n",
        "    scoring_='neg_mean_squared_error'\n",
        ")"
      ],
      "metadata": {
        "id": "8N4ZnVxWBQD9"
      },
      "execution_count": 104,
      "outputs": []
    },
    {
      "cell_type": "code",
      "source": [
        "_ = plot_model_cv_scores(\n",
        "    {\n",
        "        model_name: rand_search_results[model_name].best_estimator_ \n",
        "        for model_name in rand_search_results.keys()\n",
        "    },\n",
        "    X_=X_train_val,\n",
        "    Y_=Y_train_val,\n",
        "    cv_=7,\n",
        "    scoring_='neg_mean_squared_error'\n",
        ")"
      ],
      "metadata": {
        "id": "KlviMCXWFDw5"
      },
      "execution_count": null,
      "outputs": []
    },
    {
      "cell_type": "markdown",
      "source": [
        "# Evaluate on test set"
      ],
      "metadata": {
        "id": "ESBCwqHtBEQ5"
      }
    },
    {
      "cell_type": "markdown",
      "source": [
        "# Retrain on all available data"
      ],
      "metadata": {
        "id": "ugcChNQFBGDp"
      }
    },
    {
      "cell_type": "markdown",
      "source": [
        "# Saving best models (pickle)"
      ],
      "metadata": {
        "id": "A-cfIxHuYzLu"
      }
    },
    {
      "cell_type": "code",
      "source": [
        ""
      ],
      "metadata": {
        "id": "gKviA9tNY2EZ"
      },
      "execution_count": null,
      "outputs": []
    },
    {
      "cell_type": "markdown",
      "source": [
        "# Submit"
      ],
      "metadata": {
        "id": "9gVwt0ErBJGS"
      }
    },
    {
      "cell_type": "code",
      "source": [
        ""
      ],
      "metadata": {
        "id": "j7VvKjxdBJnv"
      },
      "execution_count": null,
      "outputs": []
    }
  ]
}