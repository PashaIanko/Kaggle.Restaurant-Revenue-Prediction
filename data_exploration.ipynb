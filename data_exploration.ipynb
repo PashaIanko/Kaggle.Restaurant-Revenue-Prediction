{
  "nbformat": 4,
  "nbformat_minor": 0,
  "metadata": {
    "colab": {
      "name": "data_exploration.ipynb",
      "provenance": [],
      "collapsed_sections": [
        "yQ06sKKh2Q8Q",
        "yhYrGrNQ5obt",
        "RLvlBkLw56B-",
        "I9J8gJrg53QO",
        "t8bUXVBt8DSZ",
        "c01s4YqMBUT-",
        "s7_IMfFmBrm5",
        "4ldj8ambaPz5",
        "8e-ML5kGaTx3",
        "cT8Ba7MZaYCw",
        "yitPxMFraf1t",
        "pzWI5kmNG_aC",
        "vxeveWlRO8rg",
        "NL9JjwbIUDd7",
        "g1eubvdJbee5",
        "R7fLx1WzkfCJ",
        "__8aUBKNmLdV",
        "OP8Res1znaHU"
      ],
      "toc_visible": true,
      "authorship_tag": "ABX9TyPB5ttEOfOYFNL3Da2o2ARq",
      "include_colab_link": true
    },
    "kernelspec": {
      "name": "python3",
      "display_name": "Python 3"
    },
    "language_info": {
      "name": "python"
    },
    "gpuClass": "standard"
  },
  "cells": [
    {
      "cell_type": "markdown",
      "metadata": {
        "id": "view-in-github",
        "colab_type": "text"
      },
      "source": [
        "<a href=\"https://colab.research.google.com/github/PashaIanko/Kaggle.Restaurant-Revenue-Prediction/blob/main/data_exploration.ipynb\" target=\"_parent\"><img src=\"https://colab.research.google.com/assets/colab-badge.svg\" alt=\"Open In Colab\"/></a>"
      ]
    },
    {
      "cell_type": "markdown",
      "source": [
        "# Imports"
      ],
      "metadata": {
        "id": "MYgZADZ-1zra"
      }
    },
    {
      "cell_type": "code",
      "execution_count": 97,
      "metadata": {
        "id": "EPnpChRpzMSr"
      },
      "outputs": [],
      "source": [
        "from google.colab import drive\n",
        "import os\n",
        "import pandas as pd\n",
        "import numpy as np\n",
        "import matplotlib.pyplot as plt\n",
        "from pandas.plotting import scatter_matrix\n",
        "import seaborn as sns\n",
        "\n",
        "from sklearn.model_selection import train_test_split\n",
        "from sklearn.pipeline import Pipeline\n",
        "from sklearn.compose import ColumnTransformer\n",
        "from sklearn.impute import SimpleImputer\n",
        "from sklearn.preprocessing import StandardScaler"
      ]
    },
    {
      "cell_type": "markdown",
      "source": [
        "# Set up paths"
      ],
      "metadata": {
        "id": "wCo_4oPc15ul"
      }
    },
    {
      "cell_type": "code",
      "source": [
        "drive.mount('/content/gdrive')\n",
        "gdrive_path = '/content/gdrive/MyDrive/'\n",
        "df_path = 'ML/Competitions/5.RestaurantRevenue/'\n",
        "\n",
        "train_df_path = gdrive_path + df_path + \"train.csv\"\n",
        "\n",
        "# subsamples from train.csv\n",
        "trainval_sample_processed_path = gdrive_path + df_path + \"trainval_sample_processed.csv\"\n",
        "test_sample_processed_path = gdrive_path + df_path + \"test_sample_processed.csv\" \n",
        "\n",
        "test_df_path =  gdrive_path + df_path + \"test.csv\"\n",
        "test_processed_path = gdrive_path + df_path + \"test_processed.csv\"\n",
        "\n",
        "submission_path = gdrive_path + df_path + \"submission.csv\"\n",
        "sample_submission_path = gdrive_path + df_path + \"sampleSubmission.csv\""
      ],
      "metadata": {
        "colab": {
          "base_uri": "https://localhost:8080/"
        },
        "id": "DOBAAFGy1NlB",
        "outputId": "4fb54c84-bc46-4eac-eeda-c6d2ca70d084"
      },
      "execution_count": 142,
      "outputs": [
        {
          "output_type": "stream",
          "name": "stdout",
          "text": [
            "Drive already mounted at /content/gdrive; to attempt to forcibly remount, call drive.mount(\"/content/gdrive\", force_remount=True).\n"
          ]
        }
      ]
    },
    {
      "cell_type": "markdown",
      "source": [
        "# 1. Frame the problem"
      ],
      "metadata": {
        "id": "yQ06sKKh2Q8Q"
      }
    },
    {
      "cell_type": "markdown",
      "source": [
        "- **Type of task?**\n",
        "    - Supervised / Unsupervised / Reinforcement?\n",
        "        - Supervised\n",
        "    - Classification / Regression / Clustering / Novelty search?\n",
        "        - Regression (univariate, multiple regression)\n",
        "    - Batch learning / Online learning?\n",
        "        - Batch learning\n",
        "\n",
        "- **How company will benefit from task?**\n",
        "    - **Predicting revenue (money) of a restaurang, to justify investment in building a new one in a given area**\n",
        "\n",
        "- **Algorithms?**\n",
        "    - SGD regressor, SVM, Random forest, FFNN, KNN regressor\n",
        "\n",
        "- **Performance measure?**\n",
        "    - RMSE\n",
        "    - MAE if many outliers\n",
        "\n",
        "- **What the current solution looks like?**\n",
        "    - Human analysis\n",
        "\n"
      ],
      "metadata": {
        "id": "nm6CpsaE2SlA"
      }
    },
    {
      "cell_type": "markdown",
      "source": [
        "# 2. Check assumptions"
      ],
      "metadata": {
        "id": "yhYrGrNQ5obt"
      }
    },
    {
      "cell_type": "markdown",
      "source": [
        "- No serious assumptions. This competition needs indeed a regression output (values), but not categories or classes."
      ],
      "metadata": {
        "id": "nHDf5kod5qle"
      }
    },
    {
      "cell_type": "markdown",
      "source": [
        "# 3. Download the data"
      ],
      "metadata": {
        "id": "RLvlBkLw56B-"
      }
    },
    {
      "cell_type": "code",
      "source": [
        "train_df = pd.read_csv(train_df_path, index_col='Id')\n",
        "test_df = pd.read_csv(test_df_path, index_col='Id')"
      ],
      "metadata": {
        "id": "2IWuavvB578T"
      },
      "execution_count": 101,
      "outputs": []
    },
    {
      "cell_type": "markdown",
      "source": [
        "# 4. Quick look at data structure"
      ],
      "metadata": {
        "id": "I9J8gJrg53QO"
      }
    },
    {
      "cell_type": "markdown",
      "source": [
        "- Outliers and skew in the target variable (revenue)\n",
        "- Approximately same range of numerical features\n",
        "- No missing values"
      ],
      "metadata": {
        "id": "Tih0jg6y7lFv"
      }
    },
    {
      "cell_type": "code",
      "source": [
        "train_df.info()"
      ],
      "metadata": {
        "colab": {
          "base_uri": "https://localhost:8080/"
        },
        "id": "70kp1hFo6B2-",
        "outputId": "87edf49b-bfb1-4486-885d-27a5eaec25f3"
      },
      "execution_count": null,
      "outputs": [
        {
          "output_type": "stream",
          "name": "stdout",
          "text": [
            "<class 'pandas.core.frame.DataFrame'>\n",
            "Int64Index: 137 entries, 0 to 136\n",
            "Data columns (total 42 columns):\n",
            " #   Column      Non-Null Count  Dtype  \n",
            "---  ------      --------------  -----  \n",
            " 0   Open Date   137 non-null    object \n",
            " 1   City        137 non-null    object \n",
            " 2   City Group  137 non-null    object \n",
            " 3   Type        137 non-null    object \n",
            " 4   P1          137 non-null    int64  \n",
            " 5   P2          137 non-null    float64\n",
            " 6   P3          137 non-null    float64\n",
            " 7   P4          137 non-null    float64\n",
            " 8   P5          137 non-null    int64  \n",
            " 9   P6          137 non-null    int64  \n",
            " 10  P7          137 non-null    int64  \n",
            " 11  P8          137 non-null    int64  \n",
            " 12  P9          137 non-null    int64  \n",
            " 13  P10         137 non-null    int64  \n",
            " 14  P11         137 non-null    int64  \n",
            " 15  P12         137 non-null    int64  \n",
            " 16  P13         137 non-null    float64\n",
            " 17  P14         137 non-null    int64  \n",
            " 18  P15         137 non-null    int64  \n",
            " 19  P16         137 non-null    int64  \n",
            " 20  P17         137 non-null    int64  \n",
            " 21  P18         137 non-null    int64  \n",
            " 22  P19         137 non-null    int64  \n",
            " 23  P20         137 non-null    int64  \n",
            " 24  P21         137 non-null    int64  \n",
            " 25  P22         137 non-null    int64  \n",
            " 26  P23         137 non-null    int64  \n",
            " 27  P24         137 non-null    int64  \n",
            " 28  P25         137 non-null    int64  \n",
            " 29  P26         137 non-null    float64\n",
            " 30  P27         137 non-null    float64\n",
            " 31  P28         137 non-null    float64\n",
            " 32  P29         137 non-null    float64\n",
            " 33  P30         137 non-null    int64  \n",
            " 34  P31         137 non-null    int64  \n",
            " 35  P32         137 non-null    int64  \n",
            " 36  P33         137 non-null    int64  \n",
            " 37  P34         137 non-null    int64  \n",
            " 38  P35         137 non-null    int64  \n",
            " 39  P36         137 non-null    int64  \n",
            " 40  P37         137 non-null    int64  \n",
            " 41  revenue     137 non-null    float64\n",
            "dtypes: float64(9), int64(29), object(4)\n",
            "memory usage: 46.0+ KB\n"
          ]
        }
      ]
    },
    {
      "cell_type": "code",
      "source": [
        "train_df.describe()"
      ],
      "metadata": {
        "colab": {
          "base_uri": "https://localhost:8080/",
          "height": 393
        },
        "id": "Id7WSFM36Icp",
        "outputId": "3920dd5e-5200-4208-87ee-a557d167ea79"
      },
      "execution_count": null,
      "outputs": [
        {
          "output_type": "execute_result",
          "data": {
            "text/plain": [
              "               P1          P2          P3          P4          P5          P6  \\\n",
              "count  137.000000  137.000000  137.000000  137.000000  137.000000  137.000000   \n",
              "mean     4.014599    4.408759    4.317518    4.372263    2.007299    3.357664   \n",
              "std      2.910391    1.514900    1.032337    1.016462    1.209620    2.134235   \n",
              "min      1.000000    1.000000    0.000000    3.000000    1.000000    1.000000   \n",
              "25%      2.000000    4.000000    4.000000    4.000000    1.000000    2.000000   \n",
              "50%      3.000000    5.000000    4.000000    4.000000    2.000000    3.000000   \n",
              "75%      4.000000    5.000000    5.000000    5.000000    2.000000    4.000000   \n",
              "max     12.000000    7.500000    7.500000    7.500000    8.000000   10.000000   \n",
              "\n",
              "               P7          P8          P9         P10  ...         P29  \\\n",
              "count  137.000000  137.000000  137.000000  137.000000  ...  137.000000   \n",
              "mean     5.423358    5.153285    5.445255    5.489051  ...    3.135036   \n",
              "std      2.296809    1.858567    1.834793    1.847561  ...    1.680887   \n",
              "min      1.000000    1.000000    4.000000    4.000000  ...    0.000000   \n",
              "25%      5.000000    4.000000    4.000000    5.000000  ...    2.500000   \n",
              "50%      5.000000    5.000000    5.000000    5.000000  ...    3.000000   \n",
              "75%      5.000000    5.000000    5.000000    5.000000  ...    3.000000   \n",
              "max     10.000000   10.000000   10.000000   10.000000  ...    7.500000   \n",
              "\n",
              "              P30         P31         P32         P33         P34         P35  \\\n",
              "count  137.000000  137.000000  137.000000  137.000000  137.000000  137.000000   \n",
              "mean     2.729927    1.941606    2.525547    1.138686    2.489051    2.029197   \n",
              "std      5.536647    3.512093    5.230117    1.698540    5.165093    3.436272   \n",
              "min      0.000000    0.000000    0.000000    0.000000    0.000000    0.000000   \n",
              "25%      0.000000    0.000000    0.000000    0.000000    0.000000    0.000000   \n",
              "50%      0.000000    0.000000    0.000000    0.000000    0.000000    0.000000   \n",
              "75%      4.000000    3.000000    3.000000    2.000000    3.000000    4.000000   \n",
              "max     25.000000   15.000000   25.000000    6.000000   24.000000   15.000000   \n",
              "\n",
              "              P36         P37       revenue  \n",
              "count  137.000000  137.000000  1.370000e+02  \n",
              "mean     2.211679    1.116788  4.453533e+06  \n",
              "std      4.168211    1.790768  2.576072e+06  \n",
              "min      0.000000    0.000000  1.149870e+06  \n",
              "25%      0.000000    0.000000  2.999068e+06  \n",
              "50%      0.000000    0.000000  3.939804e+06  \n",
              "75%      3.000000    2.000000  5.166635e+06  \n",
              "max     20.000000    8.000000  1.969694e+07  \n",
              "\n",
              "[8 rows x 38 columns]"
            ],
            "text/html": [
              "\n",
              "  <div id=\"df-9f86c0fc-859d-4332-adf9-7d66a5adfefb\">\n",
              "    <div class=\"colab-df-container\">\n",
              "      <div>\n",
              "<style scoped>\n",
              "    .dataframe tbody tr th:only-of-type {\n",
              "        vertical-align: middle;\n",
              "    }\n",
              "\n",
              "    .dataframe tbody tr th {\n",
              "        vertical-align: top;\n",
              "    }\n",
              "\n",
              "    .dataframe thead th {\n",
              "        text-align: right;\n",
              "    }\n",
              "</style>\n",
              "<table border=\"1\" class=\"dataframe\">\n",
              "  <thead>\n",
              "    <tr style=\"text-align: right;\">\n",
              "      <th></th>\n",
              "      <th>P1</th>\n",
              "      <th>P2</th>\n",
              "      <th>P3</th>\n",
              "      <th>P4</th>\n",
              "      <th>P5</th>\n",
              "      <th>P6</th>\n",
              "      <th>P7</th>\n",
              "      <th>P8</th>\n",
              "      <th>P9</th>\n",
              "      <th>P10</th>\n",
              "      <th>...</th>\n",
              "      <th>P29</th>\n",
              "      <th>P30</th>\n",
              "      <th>P31</th>\n",
              "      <th>P32</th>\n",
              "      <th>P33</th>\n",
              "      <th>P34</th>\n",
              "      <th>P35</th>\n",
              "      <th>P36</th>\n",
              "      <th>P37</th>\n",
              "      <th>revenue</th>\n",
              "    </tr>\n",
              "  </thead>\n",
              "  <tbody>\n",
              "    <tr>\n",
              "      <th>count</th>\n",
              "      <td>137.000000</td>\n",
              "      <td>137.000000</td>\n",
              "      <td>137.000000</td>\n",
              "      <td>137.000000</td>\n",
              "      <td>137.000000</td>\n",
              "      <td>137.000000</td>\n",
              "      <td>137.000000</td>\n",
              "      <td>137.000000</td>\n",
              "      <td>137.000000</td>\n",
              "      <td>137.000000</td>\n",
              "      <td>...</td>\n",
              "      <td>137.000000</td>\n",
              "      <td>137.000000</td>\n",
              "      <td>137.000000</td>\n",
              "      <td>137.000000</td>\n",
              "      <td>137.000000</td>\n",
              "      <td>137.000000</td>\n",
              "      <td>137.000000</td>\n",
              "      <td>137.000000</td>\n",
              "      <td>137.000000</td>\n",
              "      <td>1.370000e+02</td>\n",
              "    </tr>\n",
              "    <tr>\n",
              "      <th>mean</th>\n",
              "      <td>4.014599</td>\n",
              "      <td>4.408759</td>\n",
              "      <td>4.317518</td>\n",
              "      <td>4.372263</td>\n",
              "      <td>2.007299</td>\n",
              "      <td>3.357664</td>\n",
              "      <td>5.423358</td>\n",
              "      <td>5.153285</td>\n",
              "      <td>5.445255</td>\n",
              "      <td>5.489051</td>\n",
              "      <td>...</td>\n",
              "      <td>3.135036</td>\n",
              "      <td>2.729927</td>\n",
              "      <td>1.941606</td>\n",
              "      <td>2.525547</td>\n",
              "      <td>1.138686</td>\n",
              "      <td>2.489051</td>\n",
              "      <td>2.029197</td>\n",
              "      <td>2.211679</td>\n",
              "      <td>1.116788</td>\n",
              "      <td>4.453533e+06</td>\n",
              "    </tr>\n",
              "    <tr>\n",
              "      <th>std</th>\n",
              "      <td>2.910391</td>\n",
              "      <td>1.514900</td>\n",
              "      <td>1.032337</td>\n",
              "      <td>1.016462</td>\n",
              "      <td>1.209620</td>\n",
              "      <td>2.134235</td>\n",
              "      <td>2.296809</td>\n",
              "      <td>1.858567</td>\n",
              "      <td>1.834793</td>\n",
              "      <td>1.847561</td>\n",
              "      <td>...</td>\n",
              "      <td>1.680887</td>\n",
              "      <td>5.536647</td>\n",
              "      <td>3.512093</td>\n",
              "      <td>5.230117</td>\n",
              "      <td>1.698540</td>\n",
              "      <td>5.165093</td>\n",
              "      <td>3.436272</td>\n",
              "      <td>4.168211</td>\n",
              "      <td>1.790768</td>\n",
              "      <td>2.576072e+06</td>\n",
              "    </tr>\n",
              "    <tr>\n",
              "      <th>min</th>\n",
              "      <td>1.000000</td>\n",
              "      <td>1.000000</td>\n",
              "      <td>0.000000</td>\n",
              "      <td>3.000000</td>\n",
              "      <td>1.000000</td>\n",
              "      <td>1.000000</td>\n",
              "      <td>1.000000</td>\n",
              "      <td>1.000000</td>\n",
              "      <td>4.000000</td>\n",
              "      <td>4.000000</td>\n",
              "      <td>...</td>\n",
              "      <td>0.000000</td>\n",
              "      <td>0.000000</td>\n",
              "      <td>0.000000</td>\n",
              "      <td>0.000000</td>\n",
              "      <td>0.000000</td>\n",
              "      <td>0.000000</td>\n",
              "      <td>0.000000</td>\n",
              "      <td>0.000000</td>\n",
              "      <td>0.000000</td>\n",
              "      <td>1.149870e+06</td>\n",
              "    </tr>\n",
              "    <tr>\n",
              "      <th>25%</th>\n",
              "      <td>2.000000</td>\n",
              "      <td>4.000000</td>\n",
              "      <td>4.000000</td>\n",
              "      <td>4.000000</td>\n",
              "      <td>1.000000</td>\n",
              "      <td>2.000000</td>\n",
              "      <td>5.000000</td>\n",
              "      <td>4.000000</td>\n",
              "      <td>4.000000</td>\n",
              "      <td>5.000000</td>\n",
              "      <td>...</td>\n",
              "      <td>2.500000</td>\n",
              "      <td>0.000000</td>\n",
              "      <td>0.000000</td>\n",
              "      <td>0.000000</td>\n",
              "      <td>0.000000</td>\n",
              "      <td>0.000000</td>\n",
              "      <td>0.000000</td>\n",
              "      <td>0.000000</td>\n",
              "      <td>0.000000</td>\n",
              "      <td>2.999068e+06</td>\n",
              "    </tr>\n",
              "    <tr>\n",
              "      <th>50%</th>\n",
              "      <td>3.000000</td>\n",
              "      <td>5.000000</td>\n",
              "      <td>4.000000</td>\n",
              "      <td>4.000000</td>\n",
              "      <td>2.000000</td>\n",
              "      <td>3.000000</td>\n",
              "      <td>5.000000</td>\n",
              "      <td>5.000000</td>\n",
              "      <td>5.000000</td>\n",
              "      <td>5.000000</td>\n",
              "      <td>...</td>\n",
              "      <td>3.000000</td>\n",
              "      <td>0.000000</td>\n",
              "      <td>0.000000</td>\n",
              "      <td>0.000000</td>\n",
              "      <td>0.000000</td>\n",
              "      <td>0.000000</td>\n",
              "      <td>0.000000</td>\n",
              "      <td>0.000000</td>\n",
              "      <td>0.000000</td>\n",
              "      <td>3.939804e+06</td>\n",
              "    </tr>\n",
              "    <tr>\n",
              "      <th>75%</th>\n",
              "      <td>4.000000</td>\n",
              "      <td>5.000000</td>\n",
              "      <td>5.000000</td>\n",
              "      <td>5.000000</td>\n",
              "      <td>2.000000</td>\n",
              "      <td>4.000000</td>\n",
              "      <td>5.000000</td>\n",
              "      <td>5.000000</td>\n",
              "      <td>5.000000</td>\n",
              "      <td>5.000000</td>\n",
              "      <td>...</td>\n",
              "      <td>3.000000</td>\n",
              "      <td>4.000000</td>\n",
              "      <td>3.000000</td>\n",
              "      <td>3.000000</td>\n",
              "      <td>2.000000</td>\n",
              "      <td>3.000000</td>\n",
              "      <td>4.000000</td>\n",
              "      <td>3.000000</td>\n",
              "      <td>2.000000</td>\n",
              "      <td>5.166635e+06</td>\n",
              "    </tr>\n",
              "    <tr>\n",
              "      <th>max</th>\n",
              "      <td>12.000000</td>\n",
              "      <td>7.500000</td>\n",
              "      <td>7.500000</td>\n",
              "      <td>7.500000</td>\n",
              "      <td>8.000000</td>\n",
              "      <td>10.000000</td>\n",
              "      <td>10.000000</td>\n",
              "      <td>10.000000</td>\n",
              "      <td>10.000000</td>\n",
              "      <td>10.000000</td>\n",
              "      <td>...</td>\n",
              "      <td>7.500000</td>\n",
              "      <td>25.000000</td>\n",
              "      <td>15.000000</td>\n",
              "      <td>25.000000</td>\n",
              "      <td>6.000000</td>\n",
              "      <td>24.000000</td>\n",
              "      <td>15.000000</td>\n",
              "      <td>20.000000</td>\n",
              "      <td>8.000000</td>\n",
              "      <td>1.969694e+07</td>\n",
              "    </tr>\n",
              "  </tbody>\n",
              "</table>\n",
              "<p>8 rows × 38 columns</p>\n",
              "</div>\n",
              "      <button class=\"colab-df-convert\" onclick=\"convertToInteractive('df-9f86c0fc-859d-4332-adf9-7d66a5adfefb')\"\n",
              "              title=\"Convert this dataframe to an interactive table.\"\n",
              "              style=\"display:none;\">\n",
              "        \n",
              "  <svg xmlns=\"http://www.w3.org/2000/svg\" height=\"24px\"viewBox=\"0 0 24 24\"\n",
              "       width=\"24px\">\n",
              "    <path d=\"M0 0h24v24H0V0z\" fill=\"none\"/>\n",
              "    <path d=\"M18.56 5.44l.94 2.06.94-2.06 2.06-.94-2.06-.94-.94-2.06-.94 2.06-2.06.94zm-11 1L8.5 8.5l.94-2.06 2.06-.94-2.06-.94L8.5 2.5l-.94 2.06-2.06.94zm10 10l.94 2.06.94-2.06 2.06-.94-2.06-.94-.94-2.06-.94 2.06-2.06.94z\"/><path d=\"M17.41 7.96l-1.37-1.37c-.4-.4-.92-.59-1.43-.59-.52 0-1.04.2-1.43.59L10.3 9.45l-7.72 7.72c-.78.78-.78 2.05 0 2.83L4 21.41c.39.39.9.59 1.41.59.51 0 1.02-.2 1.41-.59l7.78-7.78 2.81-2.81c.8-.78.8-2.07 0-2.86zM5.41 20L4 18.59l7.72-7.72 1.47 1.35L5.41 20z\"/>\n",
              "  </svg>\n",
              "      </button>\n",
              "      \n",
              "  <style>\n",
              "    .colab-df-container {\n",
              "      display:flex;\n",
              "      flex-wrap:wrap;\n",
              "      gap: 12px;\n",
              "    }\n",
              "\n",
              "    .colab-df-convert {\n",
              "      background-color: #E8F0FE;\n",
              "      border: none;\n",
              "      border-radius: 50%;\n",
              "      cursor: pointer;\n",
              "      display: none;\n",
              "      fill: #1967D2;\n",
              "      height: 32px;\n",
              "      padding: 0 0 0 0;\n",
              "      width: 32px;\n",
              "    }\n",
              "\n",
              "    .colab-df-convert:hover {\n",
              "      background-color: #E2EBFA;\n",
              "      box-shadow: 0px 1px 2px rgba(60, 64, 67, 0.3), 0px 1px 3px 1px rgba(60, 64, 67, 0.15);\n",
              "      fill: #174EA6;\n",
              "    }\n",
              "\n",
              "    [theme=dark] .colab-df-convert {\n",
              "      background-color: #3B4455;\n",
              "      fill: #D2E3FC;\n",
              "    }\n",
              "\n",
              "    [theme=dark] .colab-df-convert:hover {\n",
              "      background-color: #434B5C;\n",
              "      box-shadow: 0px 1px 3px 1px rgba(0, 0, 0, 0.15);\n",
              "      filter: drop-shadow(0px 1px 2px rgba(0, 0, 0, 0.3));\n",
              "      fill: #FFFFFF;\n",
              "    }\n",
              "  </style>\n",
              "\n",
              "      <script>\n",
              "        const buttonEl =\n",
              "          document.querySelector('#df-9f86c0fc-859d-4332-adf9-7d66a5adfefb button.colab-df-convert');\n",
              "        buttonEl.style.display =\n",
              "          google.colab.kernel.accessAllowed ? 'block' : 'none';\n",
              "\n",
              "        async function convertToInteractive(key) {\n",
              "          const element = document.querySelector('#df-9f86c0fc-859d-4332-adf9-7d66a5adfefb');\n",
              "          const dataTable =\n",
              "            await google.colab.kernel.invokeFunction('convertToInteractive',\n",
              "                                                     [key], {});\n",
              "          if (!dataTable) return;\n",
              "\n",
              "          const docLinkHtml = 'Like what you see? Visit the ' +\n",
              "            '<a target=\"_blank\" href=https://colab.research.google.com/notebooks/data_table.ipynb>data table notebook</a>'\n",
              "            + ' to learn more about interactive tables.';\n",
              "          element.innerHTML = '';\n",
              "          dataTable['output_type'] = 'display_data';\n",
              "          await google.colab.output.renderOutput(dataTable, element);\n",
              "          const docLink = document.createElement('div');\n",
              "          docLink.innerHTML = docLinkHtml;\n",
              "          element.appendChild(docLink);\n",
              "        }\n",
              "      </script>\n",
              "    </div>\n",
              "  </div>\n",
              "  "
            ]
          },
          "metadata": {},
          "execution_count": 6
        }
      ]
    },
    {
      "cell_type": "code",
      "source": [
        "_ = train_df.hist(bins=50, figsize = (20, 20))"
      ],
      "metadata": {
        "colab": {
          "base_uri": "https://localhost:8080/",
          "height": 1000
        },
        "id": "QBIVscvN6s9h",
        "outputId": "9861151b-1935-49a6-cc27-9b270d5fdc17"
      },
      "execution_count": null,
      "outputs": [
        {
          "output_type": "display_data",
          "data": {
            "text/plain": [
              "<Figure size 1440x1440 with 42 Axes>"
            ],
            "image/png": "[encoded data removed]"
          },
          "metadata": {
            "needs_background": "light"
          }
        }
      ]
    },
    {
      "cell_type": "markdown",
      "source": [
        "# 5. Create test + trainval sets (remember stratified sampling)"
      ],
      "metadata": {
        "id": "t8bUXVBt8DSZ"
      }
    },
    {
      "cell_type": "code",
      "source": [
        "TEST_PERCENTAGE = 0.15\n",
        "RANDOM_STATE = 42\n",
        "\n",
        "train_val_sample, test_sample = train_test_split(\n",
        "    train_df,\n",
        "    test_size = TEST_PERCENTAGE,\n",
        "    random_state = RANDOM_STATE,\n",
        "    # stratify = train_df['revenue'].values\n",
        ")"
      ],
      "metadata": {
        "id": "QZ9jDoaR8Hw8"
      },
      "execution_count": 102,
      "outputs": []
    },
    {
      "cell_type": "code",
      "source": [
        "fig, ax = plt.subplots()\n",
        "\n",
        "ax.hist(train_val_sample['revenue'], density=True, alpha=0.5)\n",
        "ax.hist(test_sample['revenue'], density=True, alpha=0.5)\n",
        "\n",
        "ax.legend(['train + validation', 'test'])\n",
        "ax.grid()\n",
        "ax.set_title('Target distribution')\n",
        "ax.set_xlabel('Revenue')\n",
        "ax.set_ylabel('Percentage')"
      ],
      "metadata": {
        "colab": {
          "base_uri": "https://localhost:8080/",
          "height": 312
        },
        "id": "SvfLdjag946F",
        "outputId": "abafac80-8b08-4111-e04c-6c49eee3fa9f"
      },
      "execution_count": 103,
      "outputs": [
        {
          "output_type": "execute_result",
          "data": {
            "text/plain": [
              "Text(0, 0.5, 'Percentage')"
            ]
          },
          "metadata": {},
          "execution_count": 103
        },
        {
          "output_type": "display_data",
          "data": {
            "text/plain": [
              "<Figure size 432x288 with 1 Axes>"
            ],
            "image/png": "[encoded data removed]"
          },
          "metadata": {
            "needs_background": "light"
          }
        }
      ]
    },
    {
      "cell_type": "markdown",
      "source": [
        "# 6. Data exploration (from now on: work with trainval set)"
      ],
      "metadata": {
        "id": "SWMTw0Hq19mR"
      }
    },
    {
      "cell_type": "markdown",
      "source": [
        "- Heavy tail - might log-transform the data. Because many algorithms fail to detect patterns for data with heavy tails\n",
        "- P28, P6, P17 - log transform\n",
        "- Big cities contribute to larger revenue (City Group feature). Apply cat encoding, to enforce order\n",
        "- One hot encoding for the restaurant type. We will not inflate the the dataset, as there are only 4 types of categories\n",
        "- The majority of restaurants opened after 2007 (skewed). There is an upward trend - the later a restaurant is opened, the more revenue it gives. Replace text feature \"Opening date\" with numeric feature - year of opening\n",
        "- Strong correlation with a new feature - population of the city"
      ],
      "metadata": {
        "id": "LkyNEOAdX_LC"
      }
    },
    {
      "cell_type": "markdown",
      "source": [
        "## 6.1. Sample an exploration set"
      ],
      "metadata": {
        "id": "c01s4YqMBUT-"
      }
    },
    {
      "cell_type": "markdown",
      "source": [
        "- Not necessary, dataset is of low size\n",
        "- **At this step - make a copy of dataset for experiments (for safety)**"
      ],
      "metadata": {
        "id": "Q_WRLhY6BZ_B"
      }
    },
    {
      "cell_type": "code",
      "source": [
        "exploration_df = train_val_sample.copy()"
      ],
      "metadata": {
        "id": "8dOTeYr9BlP7"
      },
      "execution_count": 104,
      "outputs": []
    },
    {
      "cell_type": "markdown",
      "source": [
        "## 6.2. Visualizations"
      ],
      "metadata": {
        "id": "s7_IMfFmBrm5"
      }
    },
    {
      "cell_type": "markdown",
      "source": [
        "### 6.2.1. Target variable"
      ],
      "metadata": {
        "id": "4ldj8ambaPz5"
      }
    },
    {
      "cell_type": "code",
      "source": [
        "fig, ax = plt.subplots(1, 2, figsize = (10, 5))\n",
        "\n",
        "ax[0].hist(exploration_df['revenue'])\n",
        "ax[0].set_title('Before log transform')\n",
        "ax[0].set_ylabel('Revenue')\n",
        "\n",
        "ax[1].hist(np.log(exploration_df['revenue']))\n",
        "ax[1].set_title('After log transform')\n",
        "ax[1].set_ylabel('Revenue')\n",
        "\n",
        "ax[0].grid(), ax[1].grid()"
      ],
      "metadata": {
        "colab": {
          "base_uri": "https://localhost:8080/",
          "height": 366
        },
        "id": "vwbHcjHdBuBC",
        "outputId": "9fc1d571-10d2-4420-873a-13b5ce12d3de"
      },
      "execution_count": 105,
      "outputs": [
        {
          "output_type": "execute_result",
          "data": {
            "text/plain": [
              "(None, None)"
            ]
          },
          "metadata": {},
          "execution_count": 105
        },
        {
          "output_type": "display_data",
          "data": {
            "text/plain": [
              "<Figure size 720x360 with 2 Axes>"
            ],
            "image/png": "[encoded data removed]"
          },
          "metadata": {
            "needs_background": "light"
          }
        }
      ]
    },
    {
      "cell_type": "markdown",
      "source": [
        "### 6.2.3. Revenue by city"
      ],
      "metadata": {
        "id": "8e-ML5kGaTx3"
      }
    },
    {
      "cell_type": "code",
      "source": [
        "def boxplot_regression(df_, cat_feature_, target_feature_):\n",
        "    subset = df_[[cat_feature_, target_feature_]]\n",
        "    s = subset.groupby([cat_feature_]).median().sort_values(by=target_feature_)\n",
        "    \n",
        "    fig = plt.figure(figsize=(15, 5))\n",
        "    plt.subplot(1, 2, 1)\n",
        "    sns.histplot(x=cat_feature_, data=df_, stat='percent')\n",
        "    plt.subplot(1, 2, 2)\n",
        "    sns.boxplot(x=cat_feature_, y=target_feature_, data=df_, order=s.index)"
      ],
      "metadata": {
        "id": "qDW1QZKHFM8A"
      },
      "execution_count": 106,
      "outputs": []
    },
    {
      "cell_type": "code",
      "source": [
        "counter = 0\n",
        "available_cities = np.unique(exploration_df['City'])\n",
        "\n",
        "boxplot_regression(\n",
        "    df_=exploration_df.loc[np.isin(exploration_df['City'], available_cities[0:5]), :],\n",
        "    cat_feature_='City',\n",
        "    target_feature_='revenue'\n",
        ")\n",
        "\n",
        "boxplot_regression(\n",
        "    df_=exploration_df.loc[np.isin(exploration_df['City'], available_cities[5:10]), :],\n",
        "    cat_feature_='City',\n",
        "    target_feature_='revenue'\n",
        ")"
      ],
      "metadata": {
        "colab": {
          "base_uri": "https://localhost:8080/",
          "height": 0
        },
        "id": "UVN0tOilCYSC",
        "outputId": "039c2cc5-56d5-432f-a0ea-300d37da6e9e"
      },
      "execution_count": 107,
      "outputs": [
        {
          "output_type": "display_data",
          "data": {
            "text/plain": [
              "<Figure size 1080x360 with 2 Axes>"
            ],
            "image/png": "[encoded data removed]"
          },
          "metadata": {
            "needs_background": "light"
          }
        },
        {
          "output_type": "display_data",
          "data": {
            "text/plain": [
              "<Figure size 1080x360 with 2 Axes>"
            ],
            "image/png": "[encoded data removed]"
          },
          "metadata": {
            "needs_background": "light"
          }
        }
      ]
    },
    {
      "cell_type": "markdown",
      "source": [
        "### 6.2.3. Restaurant type"
      ],
      "metadata": {
        "id": "cT8Ba7MZaYCw"
      }
    },
    {
      "cell_type": "code",
      "source": [
        "exploration_df['Type'].value_counts()\n",
        "boxplot_regression(\n",
        "    df_=exploration_df, \n",
        "    cat_feature_='Type', \n",
        "    target_feature_='revenue'\n",
        ")"
      ],
      "metadata": {
        "colab": {
          "base_uri": "https://localhost:8080/",
          "height": 0
        },
        "id": "JVrIojJbDH75",
        "outputId": "1e47a966-9d54-4fff-bec5-1d23807290ad"
      },
      "execution_count": 108,
      "outputs": [
        {
          "output_type": "display_data",
          "data": {
            "text/plain": [
              "<Figure size 1080x360 with 2 Axes>"
            ],
            "image/png": "[encoded data removed]"
          },
          "metadata": {
            "needs_background": "light"
          }
        }
      ]
    },
    {
      "cell_type": "markdown",
      "source": [
        "### 6.2.3. City type"
      ],
      "metadata": {
        "id": "yitPxMFraf1t"
      }
    },
    {
      "cell_type": "code",
      "source": [
        "boxplot_regression(exploration_df, 'City Group', 'revenue')"
      ],
      "metadata": {
        "colab": {
          "base_uri": "https://localhost:8080/",
          "height": 0
        },
        "id": "TEYhsf9ZSBMa",
        "outputId": "bcf41c79-0a1c-4518-90aa-2cc4ee1a274d"
      },
      "execution_count": 109,
      "outputs": [
        {
          "output_type": "display_data",
          "data": {
            "text/plain": [
              "<Figure size 1080x360 with 2 Axes>"
            ],
            "image/png": "[encoded data removed]"
          },
          "metadata": {
            "needs_background": "light"
          }
        }
      ]
    },
    {
      "cell_type": "markdown",
      "source": [
        "## 6.3. Correlations & scatter matrix"
      ],
      "metadata": {
        "id": "pzWI5kmNG_aC"
      }
    },
    {
      "cell_type": "code",
      "source": [
        "def get_correlations(df_, target_feature_, ascending_=False):\n",
        "    cm = df_.corr()\n",
        "    return cm[target_feature_].sort_values(ascending=ascending_)\n",
        "\n",
        "def get_correlated_attributes(df_, target_feature_, corr_threshold_):\n",
        "    '''\n",
        "    Selects features, that have correlated coeff \"C\", such that\n",
        "    |C| > |corr_threshold_|\n",
        "    '''\n",
        "    corrs = get_correlations(df_, target_feature_)\n",
        "    return corrs.loc[\n",
        "        (corrs >= abs(corr_threshold_)) |\n",
        "        (corrs <= -abs(corr_threshold_))\n",
        "    ]\n"
      ],
      "metadata": {
        "id": "mEjS3y9VHgbL"
      },
      "execution_count": null,
      "outputs": []
    },
    {
      "cell_type": "code",
      "source": [
        "attributes = get_correlated_attributes(exploration_df, 'revenue', 0.12).index\n",
        "_ = scatter_matrix(exploration_df[attributes], figsize=(10, 10))"
      ],
      "metadata": {
        "colab": {
          "base_uri": "https://localhost:8080/"
        },
        "id": "N5WIDuaOLRGJ",
        "outputId": "a9beb8c3-6243-4aae-ba14-d92acd87b26f"
      },
      "execution_count": null,
      "outputs": [
        {
          "output_type": "display_data",
          "data": {
            "text/plain": [
              "<Figure size 720x720 with 49 Axes>"
            ],
            "image/png": "[encoded data removed]"
          },
          "metadata": {
            "needs_background": "light"
          }
        }
      ]
    },
    {
      "cell_type": "markdown",
      "source": [
        "## 6.4. Experiment with attribute combinations"
      ],
      "metadata": {
        "id": "vxeveWlRO8rg"
      }
    },
    {
      "cell_type": "markdown",
      "source": [
        "- Not a lot of attributes to combine (unline Housing prices tasks, here we cannot combint P-features). I focus on feature engineering component"
      ],
      "metadata": {
        "id": "q0YbJfOATDVS"
      }
    },
    {
      "cell_type": "markdown",
      "source": [
        "## 6.5. Feature engineering"
      ],
      "metadata": {
        "id": "mxOauCYOTNMk"
      }
    },
    {
      "cell_type": "markdown",
      "source": [
        "### 6.5.1. Year of opening"
      ],
      "metadata": {
        "id": "NL9JjwbIUDd7"
      }
    },
    {
      "cell_type": "code",
      "source": [
        "dates = exploration_df['Open Date'].values\n",
        "years = [int(date.split('/')[-1]) for date in dates]\n",
        "years[:5]"
      ],
      "metadata": {
        "colab": {
          "base_uri": "https://localhost:8080/"
        },
        "id": "Wo1btPF4S22u",
        "outputId": "a9beac16-3fec-43ec-ca96-9029e320a6bf"
      },
      "execution_count": null,
      "outputs": [
        {
          "output_type": "execute_result",
          "data": {
            "text/plain": [
              "[2009, 2007, 2008, 2009, 2007]"
            ]
          },
          "metadata": {},
          "execution_count": 18
        }
      ]
    },
    {
      "cell_type": "code",
      "source": [
        "exploration_df['open_year'] = years"
      ],
      "metadata": {
        "id": "wJIMwbhQTdeN"
      },
      "execution_count": null,
      "outputs": []
    },
    {
      "cell_type": "code",
      "source": [
        "boxplot_regression(exploration_df, 'open_year', 'revenue')"
      ],
      "metadata": {
        "colab": {
          "base_uri": "https://localhost:8080/"
        },
        "id": "VrKGHWaYTlJK",
        "outputId": "8718f330-3d26-40ff-93cf-57a5cadf01ed"
      },
      "execution_count": null,
      "outputs": [
        {
          "output_type": "display_data",
          "data": {
            "text/plain": [
              "<Figure size 1080x360 with 2 Axes>"
            ],
            "image/png": "[encoded data removed]"
          },
          "metadata": {
            "needs_background": "light"
          }
        }
      ]
    },
    {
      "cell_type": "markdown",
      "source": [
        "### 6.5.2. Population"
      ],
      "metadata": {
        "id": "iE2P82IzUJGk"
      }
    },
    {
      "cell_type": "code",
      "source": [
        "def write_population(city):\n",
        "    populations = {\n",
        "        'Gaziantep' : 2069000,\n",
        "        'Ankara'    : 5663000,\n",
        "        'İstanbul'  : 15460000,\n",
        "        'İzmir'  : 4367000,\n",
        "        'Kocaeli'  : 2033441,\n",
        "        'Osmaniye'  : 219339,\n",
        "        'Kastamonu'  : 128537,\n",
        "        'Eskişehir'  : 887475,\n",
        "        'Denizli'  : 1028000,\n",
        "        'Balıkesir'  : 1229000,\n",
        "        'Sakarya'  : 567000,\n",
        "        'Tekirdağ'  : 204001,\n",
        "        'Bursa'  : 2055000,\n",
        "        'Kayseri'  : 1062000,\n",
        "        'Muğla'  : 1000773,\n",
        "        'Edirne'  : 165979,\n",
        "        'Samsun'  : 605319,\n",
        "        'Karabük'  : 248014,\n",
        "        'Adana'  : 1769000,\n",
        "        'Afyonkarahisar'  : 744179,\n",
        "        'Tokat'  : 612646,\n",
        "        'Amasya'  : 91874,\n",
        "        'Diyarbakır'   : 1783000,\n",
        "        'Kütahya'  : 248054,\n",
        "        'Antalya'   : 1319000,\n",
        "        'Aydın'   : 1134031,\n",
        "        'Şanlıurfa'  : 2031000,\n",
        "        'Kırklareli'  : 88956,\n",
        "        'Isparta'   : 198385,\n",
        "        'Uşak'  :  500000,\n",
        "        'Elazığ'  : 541258\n",
        "    }\n",
        "    \n",
        "    \n",
        "    assert city in populations.keys()\n",
        "    return populations[city]\n",
        "\n",
        "exploration_df['population'] = exploration_df['City'].apply(lambda row: write_population(row))"
      ],
      "metadata": {
        "id": "wBQFEyUMWByD"
      },
      "execution_count": null,
      "outputs": []
    },
    {
      "cell_type": "code",
      "source": [
        "get_correlated_attributes(exploration_df, 'revenue', 0.12)"
      ],
      "metadata": {
        "colab": {
          "base_uri": "https://localhost:8080/"
        },
        "id": "L52GpPADPSvA",
        "outputId": "e87379f6-6199-4123-898d-468f95342650"
      },
      "execution_count": null,
      "outputs": [
        {
          "output_type": "execute_result",
          "data": {
            "text/plain": [
              "revenue       1.000000\n",
              "population    0.363098\n",
              "P2            0.191189\n",
              "P28           0.150818\n",
              "P6            0.136381\n",
              "P17           0.133384\n",
              "P13          -0.126957\n",
              "P29          -0.127254\n",
              "open_year    -0.318152\n",
              "Name: revenue, dtype: float64"
            ]
          },
          "metadata": {},
          "execution_count": 22
        }
      ]
    },
    {
      "cell_type": "code",
      "source": [
        "_, ax = plt.subplots()\n",
        "ax.scatter(\n",
        "    x=exploration_df['population'],\n",
        "    y=exploration_df['revenue'], \n",
        "    alpha = 0.4\n",
        ")"
      ],
      "metadata": {
        "colab": {
          "base_uri": "https://localhost:8080/",
          "height": 306
        },
        "id": "yjiCJvNVXRbh",
        "outputId": "f99e88bf-b256-4830-8cf4-e57ab1df0d5e"
      },
      "execution_count": null,
      "outputs": [
        {
          "output_type": "execute_result",
          "data": {
            "text/plain": [
              "<matplotlib.collections.PathCollection at 0x7f1360ef5310>"
            ]
          },
          "metadata": {},
          "execution_count": 23
        },
        {
          "output_type": "display_data",
          "data": {
            "text/plain": [
              "<Figure size 432x288 with 1 Axes>"
            ],
            "image/png": "[encoded data removed]"
          },
          "metadata": {
            "needs_background": "light"
          }
        }
      ]
    },
    {
      "cell_type": "markdown",
      "source": [
        "# 7. Data preparation"
      ],
      "metadata": {
        "id": "ErodorX2bCKf"
      }
    },
    {
      "cell_type": "markdown",
      "source": [
        "## Check missing and infinite values"
      ],
      "metadata": {
        "id": "g1eubvdJbee5"
      }
    },
    {
      "cell_type": "code",
      "source": [
        "def nan_percentage(df, colname):\n",
        "    return (df[colname].isnull().sum() / df.shape[0]) * 100\n",
        "\n",
        "def nan_statistics(df, nan_thresh=0.0):\n",
        "    res = {}\n",
        "    nan_cols = df.loc[:, df.isna().any()].columns\n",
        "    for col in nan_cols:\n",
        "        res[col] = nan_percentage(df, col)\n",
        "    print(f'Col -- Nan percentage')\n",
        "    for key, val in sorted(res.items(), key=lambda item: item[1], reverse=True):\n",
        "        if val >= nan_thresh * 100:\n",
        "            print(key, val)\n",
        "        else:\n",
        "            del res[key]\n",
        "    return res"
      ],
      "metadata": {
        "id": "djTKNcQncVN2"
      },
      "execution_count": 110,
      "outputs": []
    },
    {
      "cell_type": "code",
      "source": [
        "nan_statistics(train_val_sample), nan_statistics(test_sample)"
      ],
      "metadata": {
        "colab": {
          "base_uri": "https://localhost:8080/"
        },
        "id": "HC6ezs-ucWkC",
        "outputId": "816641d6-63d3-44af-b86d-806b5c5f3fcb"
      },
      "execution_count": 111,
      "outputs": [
        {
          "output_type": "stream",
          "name": "stdout",
          "text": [
            "Col -- Nan percentage\n",
            "Col -- Nan percentage\n"
          ]
        },
        {
          "output_type": "execute_result",
          "data": {
            "text/plain": [
              "({}, {})"
            ]
          },
          "metadata": {},
          "execution_count": 111
        }
      ]
    },
    {
      "cell_type": "markdown",
      "source": [
        "## Text and categorical attributes"
      ],
      "metadata": {
        "id": "lXvjISfxc0_5"
      }
    },
    {
      "cell_type": "code",
      "source": [
        "def get_categorical_columns(df_):\n",
        "    return df_.dtypes[df_.dtypes == 'object']\n",
        "\n",
        "cat_columns = get_categorical_columns(train_val_sample)\n",
        "cat_columns"
      ],
      "metadata": {
        "colab": {
          "base_uri": "https://localhost:8080/"
        },
        "id": "Qt2KDyq8ctLZ",
        "outputId": "42782578-7403-4c09-ffd0-ab2b0e46d2a7"
      },
      "execution_count": 113,
      "outputs": [
        {
          "output_type": "execute_result",
          "data": {
            "text/plain": [
              "Open Date     object\n",
              "City          object\n",
              "City Group    object\n",
              "Type          object\n",
              "dtype: object"
            ]
          },
          "metadata": {},
          "execution_count": 113
        }
      ]
    },
    {
      "cell_type": "code",
      "source": [
        "train_val_sample['City Group'].value_counts()"
      ],
      "metadata": {
        "colab": {
          "base_uri": "https://localhost:8080/"
        },
        "id": "soxX-iMikkAJ",
        "outputId": "141d78d8-0468-4447-b1e6-33babb993477"
      },
      "execution_count": 114,
      "outputs": [
        {
          "output_type": "execute_result",
          "data": {
            "text/plain": [
              "Big Cities    67\n",
              "Other         49\n",
              "Name: City Group, dtype: int64"
            ]
          },
          "metadata": {},
          "execution_count": 114
        }
      ]
    },
    {
      "cell_type": "markdown",
      "source": [
        "### City Group\n"
      ],
      "metadata": {
        "id": "R7fLx1WzkfCJ"
      }
    },
    {
      "cell_type": "code",
      "source": [
        "# Apply ordinal encoding. \n",
        "# Such that big cities were ranked higher, than other\n",
        "# areas.\n",
        "\n",
        "from sklearn.preprocessing import OrdinalEncoder\n",
        "\n",
        "enc = OrdinalEncoder(categories = [['Other', 'Big Cities']])\n",
        "enc.fit(train_val_sample[['City Group']])"
      ],
      "metadata": {
        "colab": {
          "base_uri": "https://localhost:8080/"
        },
        "id": "nYv7lXQOkpXG",
        "outputId": "54d19d6d-fe9b-4d08-c02a-a185cbd4caa0"
      },
      "execution_count": 115,
      "outputs": [
        {
          "output_type": "execute_result",
          "data": {
            "text/plain": [
              "OrdinalEncoder(categories=[['Other', 'Big Cities']])"
            ]
          },
          "metadata": {},
          "execution_count": 115
        }
      ]
    },
    {
      "cell_type": "markdown",
      "source": [
        "### Type (of restaurant)"
      ],
      "metadata": {
        "id": "__8aUBKNmLdV"
      }
    },
    {
      "cell_type": "code",
      "source": [
        "from sklearn.preprocessing import OneHotEncoder"
      ],
      "metadata": {
        "id": "lUWYQ0z7mXce"
      },
      "execution_count": 116,
      "outputs": []
    },
    {
      "cell_type": "code",
      "source": [
        "one_hot_enc = OneHotEncoder()\n",
        "one_hot_enc.fit(train_val_sample[['Type']])"
      ],
      "metadata": {
        "colab": {
          "base_uri": "https://localhost:8080/"
        },
        "id": "OfHviIRomaJf",
        "outputId": "86bda5ff-55ec-4d7b-f0e9-b790ba90ad58"
      },
      "execution_count": 117,
      "outputs": [
        {
          "output_type": "execute_result",
          "data": {
            "text/plain": [
              "OneHotEncoder()"
            ]
          },
          "metadata": {},
          "execution_count": 117
        }
      ]
    },
    {
      "cell_type": "code",
      "source": [
        "res = one_hot_enc.transform(train_val[['Type']])\n",
        "res"
      ],
      "metadata": {
        "colab": {
          "base_uri": "https://localhost:8080/"
        },
        "id": "_c6oOh5imPxL",
        "outputId": "d7846e16-1367-4ec1-cdcc-ba6776e03a05"
      },
      "execution_count": 118,
      "outputs": [
        {
          "output_type": "execute_result",
          "data": {
            "text/plain": [
              "<116x3 sparse matrix of type '<class 'numpy.float64'>'\n",
              "\twith 116 stored elements in Compressed Sparse Row format>"
            ]
          },
          "metadata": {},
          "execution_count": 118
        }
      ]
    },
    {
      "cell_type": "markdown",
      "source": [
        "### City "
      ],
      "metadata": {
        "id": "EGIqyswQnWLf"
      }
    },
    {
      "cell_type": "markdown",
      "source": [
        "- Dropping that column"
      ],
      "metadata": {
        "id": "T3h0JeuKnXXM"
      }
    },
    {
      "cell_type": "code",
      "source": [
        "from sklearn.base import BaseEstimator, TransformerMixin\n",
        "\n",
        "class ColumnDropper(BaseEstimator, TransformerMixin):\n",
        "    def __init__(self, columns_to_drop):\n",
        "        super().__init__()\n",
        "        self.columns_to_drop = columns_to_drop\n",
        "    \n",
        "    def fit(self, X, y=None):\n",
        "        return self\n",
        "    \n",
        "    def transform(self, X, y=None):\n",
        "        for c in self.columns_to_drop:\n",
        "            assert c in X.columns\n",
        "        transformed_df = X.drop(labels=self.columns_to_drop, axis='columns', inplace=False)\n",
        "        return transformed_df"
      ],
      "metadata": {
        "id": "ROc2AJCm2i4K"
      },
      "execution_count": 137,
      "outputs": []
    },
    {
      "cell_type": "code",
      "source": [
        "dropper = ColumnDropper(\n",
        "    columns_to_drop = ['City']\n",
        ")\n",
        "\n",
        "res = dropper.fit_transform(train_val_sample)\n",
        "assert not 'City' in res.columns\n",
        "assert 'City' in train_val_sample.columns"
      ],
      "metadata": {
        "colab": {
          "base_uri": "https://localhost:8080/"
        },
        "id": "pALCgGBK3aYI",
        "outputId": "ee5d82c5-1900-4a05-baa6-d945858be23f"
      },
      "execution_count": 120,
      "outputs": [
        {
          "output_type": "stream",
          "name": "stdout",
          "text": [
            "Dropping\n",
            "(116, 42)\n",
            "(116, 41)\n"
          ]
        }
      ]
    },
    {
      "cell_type": "markdown",
      "source": [
        "### Open date"
      ],
      "metadata": {
        "id": "OP8Res1znaHU"
      }
    },
    {
      "cell_type": "markdown",
      "source": [
        "- Transform into numerical feature (year of opening)"
      ],
      "metadata": {
        "id": "l5WAfrymnbyh"
      }
    },
    {
      "cell_type": "code",
      "source": [
        "from sklearn.base import BaseEstimator, TransformerMixin\n",
        "\n",
        "class DateTransformer(BaseEstimator, TransformerMixin):\n",
        "    def __init__(self):\n",
        "        super().__init__()\n",
        "        self._column_index = 0 # column_index\n",
        "    \n",
        "    def fit(self, X, y=None):\n",
        "        return self\n",
        "    \n",
        "    def get_year(self, date_):\n",
        "        return int(date_.split('/')[-1])\n",
        "    \n",
        "    def transform(self, X, y=None):\n",
        "        dates = X.loc[:, 'Open Date'].values\n",
        "        numeric_years = list(map(self.get_year, dates))\n",
        "        \n",
        "        res_df = X.copy()\n",
        "        res_df['Open Date'] = numeric_years\n",
        "        # X[:, self._column_index] = res\n",
        "        return res_df"
      ],
      "metadata": {
        "id": "oJ2O5Bu82JYi"
      },
      "execution_count": 124,
      "outputs": []
    },
    {
      "cell_type": "code",
      "source": [
        "date_transformer = DateTransformer()"
      ],
      "metadata": {
        "id": "dBlG1vXOoTUK"
      },
      "execution_count": 125,
      "outputs": []
    },
    {
      "cell_type": "code",
      "source": [
        "res = date_transformer.fit_transform(train_val_sample)"
      ],
      "metadata": {
        "id": "nGonoNVdoV3w"
      },
      "execution_count": 126,
      "outputs": []
    },
    {
      "cell_type": "code",
      "source": [
        "res.head()"
      ],
      "metadata": {
        "id": "5vBgEhU0lyga",
        "outputId": "42fae3b7-c474-40ec-88ff-5f6100709fad",
        "colab": {
          "base_uri": "https://localhost:8080/",
          "height": 417
        }
      },
      "execution_count": 128,
      "outputs": [
        {
          "output_type": "execute_result",
          "data": {
            "text/plain": [
              "     Open Date       City  City Group Type  P1   P2   P3   P4  P5  P6  ...  \\\n",
              "Id                                                                     ...   \n",
              "4         2009  Gaziantep       Other   IL   3  4.0  3.0  4.0   2   2  ...   \n",
              "109       2007     Ankara  Big Cities   FC   2  4.0  3.0  5.0   4   5  ...   \n",
              "36        2008     Ankara  Big Cities   FC   3  5.0  5.0  3.0   1   5  ...   \n",
              "89        2009   İstanbul  Big Cities   IL   1  1.0  4.0  3.0   1   2  ...   \n",
              "100       2007   İstanbul  Big Cities   FC   3  5.0  4.0  4.0   2   5  ...   \n",
              "\n",
              "     P29  P30  P31  P32  P33  P34  P35  P36  P37    revenue  \n",
              "Id                                                           \n",
              "4    3.0    5    1    3    2    3    4    3    3  4316715.0  \n",
              "109  2.0    0    0    0    0    0    0    0    0  4219263.0  \n",
              "36   3.0    0    0    0    0    0    0    0    0  3028267.0  \n",
              "89   3.0    5    4    4    3    3    4    2    3  2364478.0  \n",
              "100  3.0    0    0    0    0    0    0    0    0  9652350.0  \n",
              "\n",
              "[5 rows x 42 columns]"
            ],
            "text/html": [
              "\n",
              "  <div id=\"df-dfbf61cf-8f2a-4fa0-8c06-a257162e6928\">\n",
              "    <div class=\"colab-df-container\">\n",
              "      <div>\n",
              "<style scoped>\n",
              "    .dataframe tbody tr th:only-of-type {\n",
              "        vertical-align: middle;\n",
              "    }\n",
              "\n",
              "    .dataframe tbody tr th {\n",
              "        vertical-align: top;\n",
              "    }\n",
              "\n",
              "    .dataframe thead th {\n",
              "        text-align: right;\n",
              "    }\n",
              "</style>\n",
              "<table border=\"1\" class=\"dataframe\">\n",
              "  <thead>\n",
              "    <tr style=\"text-align: right;\">\n",
              "      <th></th>\n",
              "      <th>Open Date</th>\n",
              "      <th>City</th>\n",
              "      <th>City Group</th>\n",
              "      <th>Type</th>\n",
              "      <th>P1</th>\n",
              "      <th>P2</th>\n",
              "      <th>P3</th>\n",
              "      <th>P4</th>\n",
              "      <th>P5</th>\n",
              "      <th>P6</th>\n",
              "      <th>...</th>\n",
              "      <th>P29</th>\n",
              "      <th>P30</th>\n",
              "      <th>P31</th>\n",
              "      <th>P32</th>\n",
              "      <th>P33</th>\n",
              "      <th>P34</th>\n",
              "      <th>P35</th>\n",
              "      <th>P36</th>\n",
              "      <th>P37</th>\n",
              "      <th>revenue</th>\n",
              "    </tr>\n",
              "    <tr>\n",
              "      <th>Id</th>\n",
              "      <th></th>\n",
              "      <th></th>\n",
              "      <th></th>\n",
              "      <th></th>\n",
              "      <th></th>\n",
              "      <th></th>\n",
              "      <th></th>\n",
              "      <th></th>\n",
              "      <th></th>\n",
              "      <th></th>\n",
              "      <th></th>\n",
              "      <th></th>\n",
              "      <th></th>\n",
              "      <th></th>\n",
              "      <th></th>\n",
              "      <th></th>\n",
              "      <th></th>\n",
              "      <th></th>\n",
              "      <th></th>\n",
              "      <th></th>\n",
              "      <th></th>\n",
              "    </tr>\n",
              "  </thead>\n",
              "  <tbody>\n",
              "    <tr>\n",
              "      <th>4</th>\n",
              "      <td>2009</td>\n",
              "      <td>Gaziantep</td>\n",
              "      <td>Other</td>\n",
              "      <td>IL</td>\n",
              "      <td>3</td>\n",
              "      <td>4.0</td>\n",
              "      <td>3.0</td>\n",
              "      <td>4.0</td>\n",
              "      <td>2</td>\n",
              "      <td>2</td>\n",
              "      <td>...</td>\n",
              "      <td>3.0</td>\n",
              "      <td>5</td>\n",
              "      <td>1</td>\n",
              "      <td>3</td>\n",
              "      <td>2</td>\n",
              "      <td>3</td>\n",
              "      <td>4</td>\n",
              "      <td>3</td>\n",
              "      <td>3</td>\n",
              "      <td>4316715.0</td>\n",
              "    </tr>\n",
              "    <tr>\n",
              "      <th>109</th>\n",
              "      <td>2007</td>\n",
              "      <td>Ankara</td>\n",
              "      <td>Big Cities</td>\n",
              "      <td>FC</td>\n",
              "      <td>2</td>\n",
              "      <td>4.0</td>\n",
              "      <td>3.0</td>\n",
              "      <td>5.0</td>\n",
              "      <td>4</td>\n",
              "      <td>5</td>\n",
              "      <td>...</td>\n",
              "      <td>2.0</td>\n",
              "      <td>0</td>\n",
              "      <td>0</td>\n",
              "      <td>0</td>\n",
              "      <td>0</td>\n",
              "      <td>0</td>\n",
              "      <td>0</td>\n",
              "      <td>0</td>\n",
              "      <td>0</td>\n",
              "      <td>4219263.0</td>\n",
              "    </tr>\n",
              "    <tr>\n",
              "      <th>36</th>\n",
              "      <td>2008</td>\n",
              "      <td>Ankara</td>\n",
              "      <td>Big Cities</td>\n",
              "      <td>FC</td>\n",
              "      <td>3</td>\n",
              "      <td>5.0</td>\n",
              "      <td>5.0</td>\n",
              "      <td>3.0</td>\n",
              "      <td>1</td>\n",
              "      <td>5</td>\n",
              "      <td>...</td>\n",
              "      <td>3.0</td>\n",
              "      <td>0</td>\n",
              "      <td>0</td>\n",
              "      <td>0</td>\n",
              "      <td>0</td>\n",
              "      <td>0</td>\n",
              "      <td>0</td>\n",
              "      <td>0</td>\n",
              "      <td>0</td>\n",
              "      <td>3028267.0</td>\n",
              "    </tr>\n",
              "    <tr>\n",
              "      <th>89</th>\n",
              "      <td>2009</td>\n",
              "      <td>İstanbul</td>\n",
              "      <td>Big Cities</td>\n",
              "      <td>IL</td>\n",
              "      <td>1</td>\n",
              "      <td>1.0</td>\n",
              "      <td>4.0</td>\n",
              "      <td>3.0</td>\n",
              "      <td>1</td>\n",
              "      <td>2</td>\n",
              "      <td>...</td>\n",
              "      <td>3.0</td>\n",
              "      <td>5</td>\n",
              "      <td>4</td>\n",
              "      <td>4</td>\n",
              "      <td>3</td>\n",
              "      <td>3</td>\n",
              "      <td>4</td>\n",
              "      <td>2</td>\n",
              "      <td>3</td>\n",
              "      <td>2364478.0</td>\n",
              "    </tr>\n",
              "    <tr>\n",
              "      <th>100</th>\n",
              "      <td>2007</td>\n",
              "      <td>İstanbul</td>\n",
              "      <td>Big Cities</td>\n",
              "      <td>FC</td>\n",
              "      <td>3</td>\n",
              "      <td>5.0</td>\n",
              "      <td>4.0</td>\n",
              "      <td>4.0</td>\n",
              "      <td>2</td>\n",
              "      <td>5</td>\n",
              "      <td>...</td>\n",
              "      <td>3.0</td>\n",
              "      <td>0</td>\n",
              "      <td>0</td>\n",
              "      <td>0</td>\n",
              "      <td>0</td>\n",
              "      <td>0</td>\n",
              "      <td>0</td>\n",
              "      <td>0</td>\n",
              "      <td>0</td>\n",
              "      <td>9652350.0</td>\n",
              "    </tr>\n",
              "  </tbody>\n",
              "</table>\n",
              "<p>5 rows × 42 columns</p>\n",
              "</div>\n",
              "      <button class=\"colab-df-convert\" onclick=\"convertToInteractive('df-dfbf61cf-8f2a-4fa0-8c06-a257162e6928')\"\n",
              "              title=\"Convert this dataframe to an interactive table.\"\n",
              "              style=\"display:none;\">\n",
              "        \n",
              "  <svg xmlns=\"http://www.w3.org/2000/svg\" height=\"24px\"viewBox=\"0 0 24 24\"\n",
              "       width=\"24px\">\n",
              "    <path d=\"M0 0h24v24H0V0z\" fill=\"none\"/>\n",
              "    <path d=\"M18.56 5.44l.94 2.06.94-2.06 2.06-.94-2.06-.94-.94-2.06-.94 2.06-2.06.94zm-11 1L8.5 8.5l.94-2.06 2.06-.94-2.06-.94L8.5 2.5l-.94 2.06-2.06.94zm10 10l.94 2.06.94-2.06 2.06-.94-2.06-.94-.94-2.06-.94 2.06-2.06.94z\"/><path d=\"M17.41 7.96l-1.37-1.37c-.4-.4-.92-.59-1.43-.59-.52 0-1.04.2-1.43.59L10.3 9.45l-7.72 7.72c-.78.78-.78 2.05 0 2.83L4 21.41c.39.39.9.59 1.41.59.51 0 1.02-.2 1.41-.59l7.78-7.78 2.81-2.81c.8-.78.8-2.07 0-2.86zM5.41 20L4 18.59l7.72-7.72 1.47 1.35L5.41 20z\"/>\n",
              "  </svg>\n",
              "      </button>\n",
              "      \n",
              "  <style>\n",
              "    .colab-df-container {\n",
              "      display:flex;\n",
              "      flex-wrap:wrap;\n",
              "      gap: 12px;\n",
              "    }\n",
              "\n",
              "    .colab-df-convert {\n",
              "      background-color: #E8F0FE;\n",
              "      border: none;\n",
              "      border-radius: 50%;\n",
              "      cursor: pointer;\n",
              "      display: none;\n",
              "      fill: #1967D2;\n",
              "      height: 32px;\n",
              "      padding: 0 0 0 0;\n",
              "      width: 32px;\n",
              "    }\n",
              "\n",
              "    .colab-df-convert:hover {\n",
              "      background-color: #E2EBFA;\n",
              "      box-shadow: 0px 1px 2px rgba(60, 64, 67, 0.3), 0px 1px 3px 1px rgba(60, 64, 67, 0.15);\n",
              "      fill: #174EA6;\n",
              "    }\n",
              "\n",
              "    [theme=dark] .colab-df-convert {\n",
              "      background-color: #3B4455;\n",
              "      fill: #D2E3FC;\n",
              "    }\n",
              "\n",
              "    [theme=dark] .colab-df-convert:hover {\n",
              "      background-color: #434B5C;\n",
              "      box-shadow: 0px 1px 3px 1px rgba(0, 0, 0, 0.15);\n",
              "      filter: drop-shadow(0px 1px 2px rgba(0, 0, 0, 0.3));\n",
              "      fill: #FFFFFF;\n",
              "    }\n",
              "  </style>\n",
              "\n",
              "      <script>\n",
              "        const buttonEl =\n",
              "          document.querySelector('#df-dfbf61cf-8f2a-4fa0-8c06-a257162e6928 button.colab-df-convert');\n",
              "        buttonEl.style.display =\n",
              "          google.colab.kernel.accessAllowed ? 'block' : 'none';\n",
              "\n",
              "        async function convertToInteractive(key) {\n",
              "          const element = document.querySelector('#df-dfbf61cf-8f2a-4fa0-8c06-a257162e6928');\n",
              "          const dataTable =\n",
              "            await google.colab.kernel.invokeFunction('convertToInteractive',\n",
              "                                                     [key], {});\n",
              "          if (!dataTable) return;\n",
              "\n",
              "          const docLinkHtml = 'Like what you see? Visit the ' +\n",
              "            '<a target=\"_blank\" href=https://colab.research.google.com/notebooks/data_table.ipynb>data table notebook</a>'\n",
              "            + ' to learn more about interactive tables.';\n",
              "          element.innerHTML = '';\n",
              "          dataTable['output_type'] = 'display_data';\n",
              "          await google.colab.output.renderOutput(dataTable, element);\n",
              "          const docLink = document.createElement('div');\n",
              "          docLink.innerHTML = docLinkHtml;\n",
              "          element.appendChild(docLink);\n",
              "        }\n",
              "      </script>\n",
              "    </div>\n",
              "  </div>\n",
              "  "
            ]
          },
          "metadata": {},
          "execution_count": 128
        }
      ]
    },
    {
      "cell_type": "markdown",
      "source": [
        "## Creating pipeline"
      ],
      "metadata": {
        "id": "kB1fNYINuFx3"
      }
    },
    {
      "cell_type": "code",
      "source": [
        "# target\n",
        "target_feature = ['revenue']\n",
        "\n",
        "# numerical\n",
        "num_features = train_val_sample.dtypes[\n",
        "    train_val_sample.dtypes != 'object'\n",
        "]\n",
        "num_features.drop('revenue', inplace=True)\n",
        "num_features = list(num_features.index)\n",
        "\n",
        "# categorical\n",
        "cat_features = list(\n",
        "    train_val_sample.dtypes[\n",
        "        train_val_sample.dtypes == 'object'\n",
        "    ].index\n",
        ")"
      ],
      "metadata": {
        "id": "0G5jLlsguHSb"
      },
      "execution_count": 129,
      "outputs": []
    },
    {
      "cell_type": "code",
      "source": [
        "print(num_features)\n",
        "print(cat_features)\n",
        "print(target_feature)"
      ],
      "metadata": {
        "colab": {
          "base_uri": "https://localhost:8080/"
        },
        "id": "RVK8VXNLugXW",
        "outputId": "2f6760cb-24e4-4e88-806f-3962ff42c5da"
      },
      "execution_count": 130,
      "outputs": [
        {
          "output_type": "stream",
          "name": "stdout",
          "text": [
            "['P1', 'P2', 'P3', 'P4', 'P5', 'P6', 'P7', 'P8', 'P9', 'P10', 'P11', 'P12', 'P13', 'P14', 'P15', 'P16', 'P17', 'P18', 'P19', 'P20', 'P21', 'P22', 'P23', 'P24', 'P25', 'P26', 'P27', 'P28', 'P29', 'P30', 'P31', 'P32', 'P33', 'P34', 'P35', 'P36', 'P37']\n",
            "['Open Date', 'City', 'City Group', 'Type']\n",
            "['revenue']\n"
          ]
        }
      ]
    },
    {
      "cell_type": "code",
      "source": [
        "from sklearn.base import BaseEstimator, TransformerMixin\n",
        "\n",
        "class LogTransformer(BaseEstimator, TransformerMixin):\n",
        "    def __init__(self, columns):\n",
        "        super().__init__()\n",
        "        self.columns = columns\n",
        "        self.offset = 1.0\n",
        "    \n",
        "    def fit(self, X, y=None):\n",
        "        return self\n",
        "    \n",
        "    def transform(self, X, y=None):\n",
        "        transformed = X.copy()\n",
        "        for c in self.columns:\n",
        "            assert c in transformed.columns\n",
        "            transformed[c] = np.log(transformed[c] + self.offset)\n",
        "        return transformed"
      ],
      "metadata": {
        "id": "Mfx2GUUx-ILz"
      },
      "execution_count": 131,
      "outputs": []
    },
    {
      "cell_type": "code",
      "source": [
        "from sklearn.base import TransformerMixin, BaseEstimator\n",
        "\n",
        "class PopulationAdder(BaseEstimator, TransformerMixin):\n",
        "    def __init__(self):\n",
        "        super().__init__()\n",
        "\n",
        "    def fit(self, X, y=None):\n",
        "        return self\n",
        "\n",
        "    def write_population(self, city):\n",
        "        populations = {\n",
        "            'Gaziantep' : 2069000,\n",
        "            'Ankara'    : 5663000,\n",
        "            'İstanbul'  : 15460000,\n",
        "            'İzmir'  : 4367000,\n",
        "            'Kocaeli'  : 2033441,\n",
        "            'Osmaniye'  : 219339,\n",
        "            'Kastamonu'  : 128537,\n",
        "            'Eskişehir'  : 887475,\n",
        "            'Denizli'  : 1028000,\n",
        "            'Balıkesir'  : 1229000,\n",
        "            'Sakarya'  : 567000,\n",
        "            'Tekirdağ'  : 204001,\n",
        "            'Bursa'  : 2055000,\n",
        "            'Kayseri'  : 1062000,\n",
        "            'Muğla'  : 1000773,\n",
        "            'Edirne'  : 165979,\n",
        "            'Samsun'  : 605319,\n",
        "            'Karabük'  : 248014,\n",
        "            'Adana'  : 1769000,\n",
        "            'Afyonkarahisar'  : 744179,\n",
        "            'Tokat'  : 612646,\n",
        "            'Amasya'  : 91874,\n",
        "            'Diyarbakır'   : 1783000,\n",
        "            'Kütahya'  : 248054,\n",
        "            'Antalya'   : 1319000,\n",
        "            'Aydın'   : 1134031,\n",
        "            'Şanlıurfa'  : 2031000,\n",
        "            'Kırklareli'  : 88956,\n",
        "            'Isparta'   : 198385,\n",
        "            'Uşak'  :  500000,\n",
        "            'Elazığ'  : 541258,\n",
        "            'Bolu': 131264,\n",
        "            'Konya': 2161000,\n",
        "            'Trabzon': 312060,\n",
        "            'Niğde': 341412,\n",
        "            'Aksaray': 416317,\n",
        "            'Artvin': 25771,\n",
        "            'Batman': 348963,\n",
        "            'Bilecik': 64531,\n",
        "            'Düzce': 135557,\n",
        "            'Erzincan': 236034,\n",
        "            'Erzurum': 767848,\n",
        "            'Giresun': 100712,\n",
        "            'Hatay': 1670712,\n",
        "            'Kahramanmaraş': 547000,\n",
        "            'Kars': 78100,\n",
        "            'Kırıkkale': 192473,\n",
        "            'Kırşehir': 114244,\n",
        "            'Malatya': 512000,\n",
        "            'Manisa': 356702,\n",
        "            'Mardin': 809719,\n",
        "            'Mersin': 955106,\n",
        "            'Nevşehir': 303010,\n",
        "            'Ordu': 229214,\n",
        "            'Rize': 344359,\n",
        "            'Siirt': 135350,\n",
        "            'Sivas': 359219,\n",
        "            'Tanımsız': 500000, # ??? not in google\n",
        "            'Yalova': 121479,\n",
        "            'Zonguldak': 213544,\n",
        "            'Çanakkale': 328736,\n",
        "            'Çankırı': 216362,\n",
        "            'Çorum': 237000\n",
        "        }\n",
        "            \n",
        "            \n",
        "        assert city in populations.keys(), print(city)\n",
        "        return populations[city] / 1000000\n",
        "\n",
        "    def transform(self, X, y=None):\n",
        "        transformed_df = X.copy()\n",
        "        transformed_df['population_million'] = X['City'].apply(\n",
        "            lambda row: self.write_population(row)\n",
        "        )\n",
        "        return transformed_df"
      ],
      "metadata": {
        "id": "nG2oCFj6Ckmc"
      },
      "execution_count": 132,
      "outputs": []
    },
    {
      "cell_type": "code",
      "source": [
        "num_pipeline = Pipeline([\n",
        "    ('impute', SimpleImputer(strategy='median')),\n",
        "    ('scaler', StandardScaler())\n",
        "])\n",
        "\n",
        "open_date_pipeline = Pipeline([\n",
        "    ('dates', DateTransformer())  # to numeric years\n",
        "])\n",
        "\n",
        "restaurant_type_pipeline = Pipeline([\n",
        "    ('one-hot', OneHotEncoder(handle_unknown='ignore'))\n",
        "])\n",
        "\n",
        "city_group_pipeline = Pipeline([\n",
        "    ('ordinal', OrdinalEncoder(categories = [['Other', 'Big Cities']]))\n",
        "])\n",
        "\n",
        "city_pipeline = Pipeline([\n",
        "    ('add-population', PopulationAdder()),\n",
        "    ('delete', ColumnDropper(columns_to_drop = ['City']))\n",
        "])\n",
        "\n",
        "target_pipeline = Pipeline([\n",
        "    ('log', LogTransformer(columns = target_feature))\n",
        "])"
      ],
      "metadata": {
        "id": "_1m4d0nbvToD"
      },
      "execution_count": 133,
      "outputs": []
    },
    {
      "cell_type": "code",
      "source": [
        "preprocessor = ColumnTransformer(\n",
        "    [\n",
        "        ('num', num_pipeline, num_features),\n",
        "        ('open-date', open_date_pipeline, ['Open Date']),\n",
        "        ('city-group', city_group_pipeline, ['City Group']),\n",
        "        ('restaurant-type', restaurant_type_pipeline, ['Type']),\n",
        "        ('delete-columns', city_pipeline, ['City']),\n",
        "        ('target-log', target_pipeline, target_feature)\n",
        "    ], \n",
        "    remainder='drop'\n",
        ")"
      ],
      "metadata": {
        "id": "Y64lQ5WwxFxa"
      },
      "execution_count": 138,
      "outputs": []
    },
    {
      "cell_type": "code",
      "source": [
        "# These are the subsets of the training set\n",
        "trainval_sample_processed = preprocessor.fit_transform(\n",
        "    train_val_sample\n",
        ")\n",
        "test_sample_processed = preprocessor.transform(test_sample)"
      ],
      "metadata": {
        "colab": {
          "base_uri": "https://localhost:8080/"
        },
        "id": "lu558gzQyMsR",
        "outputId": "5887782d-7db3-48f3-bd1a-0793452fe491"
      },
      "execution_count": 139,
      "outputs": [
        {
          "output_type": "stream",
          "name": "stdout",
          "text": [
            "Dropping\n",
            "(116, 2)\n",
            "(116, 1)\n",
            "Dropping\n",
            "(21, 2)\n",
            "(21, 1)\n"
          ]
        }
      ]
    },
    {
      "cell_type": "code",
      "source": [
        "# This is the kaggle test set\n",
        "test_df['revenue'] = np.ones(test_df.shape[0]) # to avoid bug. because no such column\n",
        "test_processed = preprocessor.transform(\n",
        "    test_df\n",
        ")"
      ],
      "metadata": {
        "id": "j-U_wCZZOgz6",
        "outputId": "85263344-bea6-4440-beb1-103f491cb499",
        "colab": {
          "base_uri": "https://localhost:8080/"
        }
      },
      "execution_count": 140,
      "outputs": [
        {
          "output_type": "stream",
          "name": "stdout",
          "text": [
            "Dropping\n",
            "(100000, 2)\n",
            "(100000, 1)\n"
          ]
        }
      ]
    },
    {
      "cell_type": "markdown",
      "source": [
        "# Saving data"
      ],
      "metadata": {
        "id": "0PzoggoiBTUW"
      }
    },
    {
      "cell_type": "code",
      "source": [
        "def save_data(array_, path_):\n",
        "    df = pd.DataFrame(array_)\n",
        "    df.to_csv(path_)"
      ],
      "metadata": {
        "id": "jRBoNWavTMCr"
      },
      "execution_count": 141,
      "outputs": []
    },
    {
      "cell_type": "code",
      "source": [
        "save_data(\n",
        "    trainval_sample_processed, trainval_sample_processed_path)\n",
        "save_data(\n",
        "    test_sample_processed, test_sample_processed_path)\n",
        "save_data(\n",
        "    test_processed, test_processed_path)"
      ],
      "metadata": {
        "id": "vM_MXrS4Ujdw"
      },
      "execution_count": 143,
      "outputs": []
    },
    {
      "cell_type": "code",
      "source": [
        "def visualize_datasets_distributions(\n",
        "    dataframes_dict_, column_numbers_, grid_width_=3):\n",
        "    \n",
        "    n_plots = len(column_numbers_)\n",
        "    if n_plots % grid_width_ == 0:\n",
        "        grid_height = int(n_plots / grid_width_)\n",
        "    else:\n",
        "        grid_height = int(n_plots / grid_width_) + 1\n",
        "        \n",
        "    _, ax = plt.subplots(grid_height, grid_width_, figsize=(10, 10))\n",
        "\n",
        "    for i in range(grid_height):\n",
        "        for j in range(grid_width_):\n",
        "            cur_column_number = i * (grid_width_) + j\n",
        "            \n",
        "            if cur_column_number > n_plots:\n",
        "                return\n",
        "\n",
        "            columns_data = {}\n",
        "            for dataset_name, df in dataframes_dict_.items():\n",
        "                columns_data[dataset_name] = df.values[:, cur_column_number]\n",
        "            \n",
        "            \n",
        "            for dataset_name, data in columns_data.items():\n",
        "                ax[i, j].hist(data, density=True, alpha=0.3, label=dataset_name)\n",
        "\n",
        "            ax[i, j].set_title(f'Column {cur_column_number}')\n",
        "            ax[i, j].legend()"
      ],
      "metadata": {
        "id": "9TqFnQPqu0eZ"
      },
      "execution_count": 198,
      "outputs": []
    },
    {
      "cell_type": "code",
      "source": [
        "visualize_datasets_distributions(\n",
        "    {\n",
        "        'trainval': pd.DataFrame(trainval_sample_processed),\n",
        "        'test sample': pd.DataFrame(test_sample_processed),\n",
        "        'test': pd.DataFrame(test_processed)\n",
        "    },\n",
        "    column_numbers_ = range(20),\n",
        "    grid_width_=2\n",
        ")"
      ],
      "metadata": {
        "id": "vRUsAJq-nKrh",
        "outputId": "725998dd-736a-4bde-96c0-cad47a146de2",
        "colab": {
          "base_uri": "https://localhost:8080/",
          "height": 607
        }
      },
      "execution_count": 201,
      "outputs": [
        {
          "output_type": "display_data",
          "data": {
            "text/plain": [
              "<Figure size 720x720 with 20 Axes>"
            ],
            "image/png": "[encoded data removed]"
          },
          "metadata": {
            "needs_background": "light"
          }
        }
      ]
    }
  ]
}