{
  "nbformat": 4,
  "nbformat_minor": 0,
  "metadata": {
    "colab": {
      "name": "model_submission.ipynb",
      "provenance": [],
      "collapsed_sections": [],
      "authorship_tag": "ABX9TyPKJi7tVqcJe5w7e2ryunKh",
      "include_colab_link": true
    },
    "kernelspec": {
      "name": "python3",
      "display_name": "Python 3"
    },
    "language_info": {
      "name": "python"
    }
  },
  "cells": [
    {
      "cell_type": "markdown",
      "metadata": {
        "id": "view-in-github",
        "colab_type": "text"
      },
      "source": [
        "<a href=\"https://colab.research.google.com/github/PashaIanko/Kaggle.Restaurant-Revenue-Prediction/blob/main/4.model_submission.ipynb\" target=\"_parent\"><img src=\"https://colab.research.google.com/assets/colab-badge.svg\" alt=\"Open In Colab\"/></a>"
      ]
    },
    {
      "cell_type": "markdown",
      "source": [
        "# Imports"
      ],
      "metadata": {
        "id": "pF-3d_q4otIg"
      }
    },
    {
      "cell_type": "code",
      "source": [
        "from google.colab import drive\n",
        "import pickle\n",
        "import pandas as pd"
      ],
      "metadata": {
        "id": "PGzvBon9os0h"
      },
      "execution_count": null,
      "outputs": []
    },
    {
      "cell_type": "code",
      "execution_count": null,
      "metadata": {
        "id": "XG9olQh3ofPy"
      },
      "outputs": [],
      "source": [
        "# PEP 8\n",
        "%%capture\n",
        "!pip install pycodestyle\n",
        "!pip install --index-url https://test.pypi.org/simple/ nbpep8\n",
        "\n",
        "from nbpep8.nbpep8 import pep8"
      ]
    },
    {
      "cell_type": "code",
      "source": [
        "# %%pycodestyle\n",
        "from dataclasses import dataclass\n",
        "from dataclasses import field\n",
        "import os\n",
        "import pickle\n",
        "\n",
        "\n",
        "@dataclass\n",
        "class PathManager:\n",
        "    competition_path: str\n",
        "    preprocessing_trial: int\n",
        "    models_trial: int\n",
        "\n",
        "    def __post_init__(self):\n",
        "        self.data_root_path = os.path.join(self.competition_path, 'Data')\n",
        "        self.models_root_path = os.path.join(self.competition_path, 'Models')\n",
        "\n",
        "        self.data_trial_path = os.path.join(\n",
        "            self.data_root_path,\n",
        "            f'preproc_trial_{self.preprocessing_trial}'\n",
        "        )\n",
        "        self.models_trial_path = os.path.join(\n",
        "            self.models_root_path,\n",
        "            f'trial_{self.models_trial}'\n",
        "        )\n",
        "\n",
        "    @property\n",
        "    def train_path(self):\n",
        "        return os.path.join(self.data_root_path, 'train.csv')\n",
        "\n",
        "    @property\n",
        "    def test_path(self):\n",
        "        return os.path.join(self.data_root_path, 'test.csv')\n",
        "\n",
        "    def _create_path(self, path):\n",
        "        if not os.path.isdir(path):\n",
        "            os.mkdir(path)\n",
        "        else:\n",
        "            print(f'{path} already exists')\n",
        "\n",
        "    def save_to_csv(self, array_, path_, file_name_):\n",
        "        df = pd.DataFrame(array_)\n",
        "        df.to_csv(os.path.join(path_, file_name_))\n",
        "\n",
        "    def setup_paths(self):\n",
        "        # precondition\n",
        "        assert os.path.isdir(self.data_root_path), print(self.data_root_path)\n",
        "        assert os.path.isdir(self.models_root_path), \\\n",
        "            print(self.models_root_path)\n",
        "\n",
        "        self._create_path(self.data_trial_path)\n",
        "        self._create_path(self.models_trial_path)\n",
        "\n",
        "    def save_models(self, sklearn_models_dict_):\n",
        "        '''\n",
        "        For each model in the dictionary, create a folder.\n",
        "        Save pickle file there. If model (or folder) already exists -\n",
        "        overrides all files\n",
        "        '''\n",
        "        for model_name, sklearn_model in sklearn_models_dict_.items():\n",
        "            folder_path = os.path.join(\n",
        "                self.models_trial_path, model_name\n",
        "            )\n",
        "            self._create_path(folder_path)\n",
        "            model_filename = model_name + '.sav'\n",
        "            pickle.dump(\n",
        "                sklearn_model,\n",
        "                open(\n",
        "                    os.path.join(folder_path, model_filename),\n",
        "                    'w+b'\n",
        "                ),\n",
        "            )\n",
        "\n",
        "    def load_models(self, models_subfolders_=[]):\n",
        "        '''\n",
        "        1. Goes to self.models_trial_path\n",
        "        2. If models_names=[] - downloads all\n",
        "           models from their subfolders.\n",
        "        3. models_names must contain names of subfolders on\n",
        "           google drive!\n",
        "        '''\n",
        "\n",
        "        # precondition\n",
        "        assert os.path.isdir(self.models_trial_path), \\\n",
        "            print(self.models_trial_path)\n",
        "\n",
        "        available_models_subfolders = os.listdir(self.models_trial_path)\n",
        "        if models_subfolders_:\n",
        "            models_to_download = models_subfolders_\n",
        "        else:\n",
        "            # Download everything\n",
        "            models_to_download = available_models_subfolders\n",
        "\n",
        "        res = {}\n",
        "        for model_subfolder in models_to_download:\n",
        "            # file name coincides with folder name\n",
        "            file_name = f'{model_subfolder}.sav'\n",
        "            full_path = os.path.join(\n",
        "                self.models_trial_path,\n",
        "                model_subfolder,\n",
        "                file_name\n",
        "            )\n",
        "\n",
        "            loaded_model = pickle.load(\n",
        "                open(full_path, 'rb')\n",
        "            )\n",
        "            res[model_subfolder] = loaded_model\n",
        "        return res\n",
        "\n",
        "\n",
        "pep8(_ih)"
      ],
      "metadata": {
        "colab": {
          "base_uri": "https://localhost:8080/"
        },
        "id": "4TZn5VPjojS5",
        "outputId": "4436131d-fdcd-49d2-8ffe-600e239e7759"
      },
      "execution_count": null,
      "outputs": [
        {
          "output_type": "stream",
          "name": "stdout",
          "text": [
            "\n"
          ]
        }
      ]
    },
    {
      "cell_type": "markdown",
      "source": [
        "# Setup paths"
      ],
      "metadata": {
        "id": "uI6ah9iUpLPo"
      }
    },
    {
      "cell_type": "code",
      "source": [
        "drive.mount('/content/gdrive')\n",
        "gdrive_path = '/content/gdrive/MyDrive/'\n",
        "\n",
        "COMPETITION_PATH = gdrive_path + 'ML/Competitions/5.RestaurantRevenue/'\n",
        "PREPROC_TRIAL = 1\n",
        "MODELS_TRIAL = 1\n",
        "\n",
        "pep8(_ih)"
      ],
      "metadata": {
        "colab": {
          "base_uri": "https://localhost:8080/"
        },
        "id": "n29pquuIooQb",
        "outputId": "bc744646-0284-4308-fb3d-4ccac6634067"
      },
      "execution_count": null,
      "outputs": [
        {
          "output_type": "stream",
          "name": "stdout",
          "text": [
            "Drive already mounted at /content/gdrive; to attempt to forcibly remount, call drive.mount(\"/content/gdrive\", force_remount=True).\n",
            "\n"
          ]
        }
      ]
    },
    {
      "cell_type": "code",
      "source": [
        "path_manager = PathManager(\n",
        "    competition_path=COMPETITION_PATH,\n",
        "    preprocessing_trial=PREPROC_TRIAL,\n",
        "    models_trial=MODELS_TRIAL\n",
        ")\n",
        "\n",
        "pep8(_ih)"
      ],
      "metadata": {
        "colab": {
          "base_uri": "https://localhost:8080/"
        },
        "id": "VB89hxb5pM7l",
        "outputId": "9ded13a0-e33e-4e77-9229-4842a8157fbb"
      },
      "execution_count": null,
      "outputs": [
        {
          "output_type": "stream",
          "name": "stdout",
          "text": [
            "\n"
          ]
        }
      ]
    },
    {
      "cell_type": "markdown",
      "source": [
        "# Download models"
      ],
      "metadata": {
        "id": "N4js9YV4o4Dh"
      }
    },
    {
      "cell_type": "code",
      "source": [
        "models = path_manager.load_models(\n",
        "    [\n",
        "        'random_forest',\n",
        "        'elastic_net_final'\n",
        "    ]\n",
        ")"
      ],
      "metadata": {
        "id": "9QlY_MsUoqe7"
      },
      "execution_count": null,
      "outputs": []
    },
    {
      "cell_type": "code",
      "source": [
        "models"
      ],
      "metadata": {
        "colab": {
          "base_uri": "https://localhost:8080/"
        },
        "id": "22p5tg29pFIj",
        "outputId": "1ccd0975-cf4e-4379-d41b-c658c469c498"
      },
      "execution_count": null,
      "outputs": [
        {
          "output_type": "execute_result",
          "data": {
            "text/plain": [
              "{'random_forest': RandomForestRegressor(n_estimators=500),\n",
              " 'elastic_net_final': ElasticNet(alpha=0.5, l1_ratio=0.2)}"
            ]
          },
          "metadata": {},
          "execution_count": 14
        }
      ]
    },
    {
      "cell_type": "markdown",
      "source": [
        "# Download data"
      ],
      "metadata": {
        "id": "3hYK3_1_pnYZ"
      }
    },
    {
      "cell_type": "code",
      "source": [
        "df_test = pd.read_csv(\n",
        "    os.path.join(\n",
        "        path_manager.data_trial_path,\n",
        "        'test_processed.csv'\n",
        "    ),\n",
        "    index_col=[0]\n",
        ")\n",
        "\n",
        "# subsample from train.csv for testing\n",
        "df_test_sample = pd.read_csv(\n",
        "    os.path.join(\n",
        "        path_manager.data_trial_path,\n",
        "        'test_sample_processed.csv'\n",
        "    ),\n",
        "    index_col=[0]\n",
        ")\n",
        "\n",
        "df_trainval = pd.read_csv(\n",
        "    os.path.join(\n",
        "        path_manager.data_trial_path,\n",
        "        'trainval_sample_processed.csv'\n",
        "    ),\n",
        "    index_col=[0]\n",
        ")\n",
        "\n",
        "X_train_val = df_trainval.values[:, :-1]\n",
        "Y_train_val = df_trainval.values[:, -1]\n",
        "\n",
        "X_test_sample = df_test_sample.values[:, :-1]\n",
        "Y_test_sample = df_test_sample.values[:, -1]"
      ],
      "metadata": {
        "id": "7rAWRlnbpogj"
      },
      "execution_count": null,
      "outputs": []
    },
    {
      "cell_type": "markdown",
      "source": [
        "# Cross validation performance for final models"
      ],
      "metadata": {
        "id": "yxeXglegpZHt"
      }
    },
    {
      "cell_type": "code",
      "source": [
        "from sklearn.model_selection import cross_val_score\n",
        "import numpy as np\n",
        "\n",
        "def print_model_cv_scores(sklearn_models_dict_, X_, Y_, cv_, scoring_):\n",
        "    res = {}\n",
        "    for name, model in sklearn_models_dict_.items():\n",
        "        scores = cross_val_score(\n",
        "            model,\n",
        "            X_,\n",
        "            Y_,\n",
        "            cv=cv_,\n",
        "            scoring=scoring_\n",
        "        )\n",
        "        res[name] = scores\n",
        "    \n",
        "    # Sort the dict\n",
        "    sorted_res = {\n",
        "        k:v for \\\n",
        "        k, v in sorted(res.items(), key = lambda item: np.mean(item[1]))\n",
        "    }\n",
        "    for model_name, scores in sorted_res.items():\n",
        "        print(f'Model: {model_name}, mean: {np.mean(scores)}, std: {np.std(scores)}')\n",
        "\n",
        "    return sorted_res"
      ],
      "metadata": {
        "id": "d7CJNGVhpa9i"
      },
      "execution_count": null,
      "outputs": []
    },
    {
      "cell_type": "code",
      "source": [
        "_ = print_model_cv_scores(\n",
        "    models,\n",
        "    X_=X_train_val,\n",
        "    Y_=Y_train_val,\n",
        "    cv_=7,\n",
        "    scoring_='neg_mean_squared_error'\n",
        ")"
      ],
      "metadata": {
        "colab": {
          "base_uri": "https://localhost:8080/"
        },
        "id": "6zyW2GSuphCx",
        "outputId": "c30820bd-9ac2-4fa3-e6e4-59d1300f4aba"
      },
      "execution_count": null,
      "outputs": [
        {
          "output_type": "stream",
          "name": "stdout",
          "text": [
            "Model: elastic_net_final, mean: -0.20073170318480518, std: 0.08848660198096124\n",
            "Model: random_forest, mean: -0.1853705381862795, std: 0.06706198983224765\n"
          ]
        }
      ]
    },
    {
      "cell_type": "markdown",
      "source": [
        "# Cross validation metrics (check possible overfit)"
      ],
      "metadata": {
        "id": "Pvw2PfJ5p_1o"
      }
    },
    {
      "cell_type": "code",
      "source": [
        "from sklearn.model_selection import cross_validate\n",
        "import matplotlib.pyplot as plt\n",
        "\n",
        "\n",
        "def plot_cv_results(\n",
        "    sklearn_models_dict_,\n",
        "    X_,\n",
        "    Y_,\n",
        "    cv_,\n",
        "    scoring_,\n",
        "    to_put_minus_=False\n",
        "):\n",
        "\n",
        "    for model_name, model in sklearn_models_dict_.items():\n",
        "        cv_res = cross_validate(\n",
        "            model,\n",
        "            X_,\n",
        "            Y_,\n",
        "            cv=cv_,\n",
        "            scoring=scoring_,\n",
        "            return_train_score=True\n",
        "        )\n",
        "        _, ax = plt.subplots()\n",
        "        x = np.arange(len(cv_res['test_score']))\n",
        "        width = 0.5\n",
        "        if to_put_minus_:\n",
        "            train_score = -cv_res['train_score']\n",
        "            test_score = -cv_res['test_score']\n",
        "        else:\n",
        "            train_score = cv_res['train_score']\n",
        "            test_score = cv_res['test_score']\n",
        "\n",
        "        ax.bar(x - width / 2, test_score, width, label='validation')\n",
        "        ax.bar(x + width / 2, train_score, width, label='train')\n",
        "\n",
        "        ax.set_title(f'Results for {model_name}')\n",
        "        ax.set_xlabel(f'CV fold number')\n",
        "        ax.set_ylabel(f'Metrics: {scoring_}')\n",
        "\n",
        "        ax.legend()\n",
        "        ax.grid()\n",
        "\n",
        "\n",
        "pep8(_ih)"
      ],
      "metadata": {
        "colab": {
          "base_uri": "https://localhost:8080/"
        },
        "id": "j0kNi1-wqECu",
        "outputId": "d4d90572-fddb-4b31-b9f7-20e1ee0914dd"
      },
      "execution_count": null,
      "outputs": [
        {
          "output_type": "stream",
          "name": "stdout",
          "text": [
            "\n"
          ]
        }
      ]
    },
    {
      "cell_type": "code",
      "source": [
        "_ = plot_cv_results(\n",
        "    models,\n",
        "    X_=X_train_val,\n",
        "    Y_=Y_train_val,\n",
        "    cv_=7,\n",
        "    scoring_='neg_mean_squared_error',\n",
        "    to_put_minus_=True\n",
        ")"
      ],
      "metadata": {
        "colab": {
          "base_uri": "https://localhost:8080/",
          "height": 573
        },
        "id": "tabs6N2qqEwy",
        "outputId": "2bc50108-13a0-45a8-ef27-ea8744051a17"
      },
      "execution_count": null,
      "outputs": [
        {
          "output_type": "display_data",
          "data": {
            "text/plain": [
              "<Figure size 432x288 with 1 Axes>"
            ],
            "image/png": "[encoded data removed]"
          },
          "metadata": {
            "needs_background": "light"
          }
        },
        {
          "output_type": "display_data",
          "data": {
            "text/plain": [
              "<Figure size 432x288 with 1 Axes>"
            ],
            "image/png": "[encoded data removed]"
          },
          "metadata": {
            "needs_background": "light"
          }
        }
      ]
    },
    {
      "cell_type": "markdown",
      "source": [
        "# Report test sample performance"
      ],
      "metadata": {
        "id": "7KxQqQvkqdHL"
      }
    },
    {
      "cell_type": "code",
      "source": [
        "final_model = models['elastic_net_final']\n",
        "\n",
        "final_model.fit(\n",
        "    X_train_val,\n",
        "    Y_train_val\n",
        ")"
      ],
      "metadata": {
        "colab": {
          "base_uri": "https://localhost:8080/"
        },
        "id": "oZmW371pqgt_",
        "outputId": "c2579820-fa2f-4709-d0cd-0b9bd968b375"
      },
      "execution_count": null,
      "outputs": [
        {
          "output_type": "execute_result",
          "data": {
            "text/plain": [
              "ElasticNet(alpha=0.5, l1_ratio=0.2)"
            ]
          },
          "metadata": {},
          "execution_count": 30
        }
      ]
    },
    {
      "cell_type": "code",
      "source": [
        "from sklearn.metrics import mean_squared_error\n",
        "\n",
        "\n",
        "test_sample_predictions = final_model.predict(X_test_sample)\n",
        "test_result = mean_squared_error(\n",
        "    test_sample_predictions,\n",
        "    Y_test_sample\n",
        ")\n",
        "print(test_result)\n",
        "\n",
        "pep8(_ih)"
      ],
      "metadata": {
        "colab": {
          "base_uri": "https://localhost:8080/"
        },
        "id": "3wNE3cJeqsuf",
        "outputId": "ad6c0e54-2c20-4c5c-f2c5-c85c040c0c7e"
      },
      "execution_count": null,
      "outputs": [
        {
          "output_type": "stream",
          "name": "stdout",
          "text": [
            "0.21245325524449132\n",
            "\n"
          ]
        }
      ]
    },
    {
      "cell_type": "markdown",
      "source": [
        "# Retraining on all available data"
      ],
      "metadata": {
        "id": "Exk2t9atrQJb"
      }
    },
    {
      "cell_type": "code",
      "source": [
        "final_arr = np.vstack([X_train_val, X_test_sample])\n",
        "final_target = np.hstack([Y_train_val, Y_test_sample])\n",
        "final_arr.shape,  final_target.shape"
      ],
      "metadata": {
        "colab": {
          "base_uri": "https://localhost:8080/"
        },
        "id": "_gLEMYENrGQA",
        "outputId": "7c92eef0-dbbb-4d08-edad-2a7fbeb5de04"
      },
      "execution_count": null,
      "outputs": [
        {
          "output_type": "execute_result",
          "data": {
            "text/plain": [
              "((137, 43), (137,))"
            ]
          },
          "metadata": {},
          "execution_count": 37
        }
      ]
    },
    {
      "cell_type": "code",
      "source": [
        "final_model.fit(\n",
        "    final_arr,\n",
        "    final_target\n",
        ")"
      ],
      "metadata": {
        "colab": {
          "base_uri": "https://localhost:8080/"
        },
        "id": "YZpJmfFSrTOw",
        "outputId": "fbabe940-8652-4b3d-b238-185a035ac658"
      },
      "execution_count": null,
      "outputs": [
        {
          "output_type": "execute_result",
          "data": {
            "text/plain": [
              "ElasticNet(alpha=0.5, l1_ratio=0.2)"
            ]
          },
          "metadata": {},
          "execution_count": 38
        }
      ]
    },
    {
      "cell_type": "markdown",
      "source": [
        "# Submission and saving final model"
      ],
      "metadata": {
        "id": "-DMNWcCNrYKP"
      }
    },
    {
      "cell_type": "code",
      "source": [
        "df_test.head(2)"
      ],
      "metadata": {
        "colab": {
          "base_uri": "https://localhost:8080/",
          "height": 205
        },
        "id": "rZJEW2ZJrUlE",
        "outputId": "ed81fdee-60cd-4dd5-ffb6-b49f5d384a61"
      },
      "execution_count": null,
      "outputs": [
        {
          "output_type": "execute_result",
          "data": {
            "text/plain": [
              "          0         1        2         3         4         5         6  \\\n",
              "0 -1.032819 -0.285964 -0.26814 -0.383325 -0.807152 -0.633614 -0.182156   \n",
              "1 -0.334236 -0.285964 -0.26814 -0.383325  0.014161 -0.633614 -0.182156   \n",
              "\n",
              "          7         8         9  ...        34        35        36      37  \\\n",
              "0 -0.619713 -0.217343 -0.244523  ... -0.606797 -0.556056 -0.652386  2011.0   \n",
              "1 -1.176974 -0.790338 -0.811816  ... -0.606797 -0.556056 -0.652386  2011.0   \n",
              "\n",
              "    38   39   40   41        42        43  \n",
              "0  0.0  0.0  1.0  0.0  0.341412  0.693147  \n",
              "1  0.0  0.0  0.0  1.0  2.161000  0.693147  \n",
              "\n",
              "[2 rows x 44 columns]"
            ],
            "text/html": [
              "\n",
              "  <div id=\"df-69313707-e155-419a-96c9-485909281ae2\">\n",
              "    <div class=\"colab-df-container\">\n",
              "      <div>\n",
              "<style scoped>\n",
              "    .dataframe tbody tr th:only-of-type {\n",
              "        vertical-align: middle;\n",
              "    }\n",
              "\n",
              "    .dataframe tbody tr th {\n",
              "        vertical-align: top;\n",
              "    }\n",
              "\n",
              "    .dataframe thead th {\n",
              "        text-align: right;\n",
              "    }\n",
              "</style>\n",
              "<table border=\"1\" class=\"dataframe\">\n",
              "  <thead>\n",
              "    <tr style=\"text-align: right;\">\n",
              "      <th></th>\n",
              "      <th>0</th>\n",
              "      <th>1</th>\n",
              "      <th>2</th>\n",
              "      <th>3</th>\n",
              "      <th>4</th>\n",
              "      <th>5</th>\n",
              "      <th>6</th>\n",
              "      <th>7</th>\n",
              "      <th>8</th>\n",
              "      <th>9</th>\n",
              "      <th>...</th>\n",
              "      <th>34</th>\n",
              "      <th>35</th>\n",
              "      <th>36</th>\n",
              "      <th>37</th>\n",
              "      <th>38</th>\n",
              "      <th>39</th>\n",
              "      <th>40</th>\n",
              "      <th>41</th>\n",
              "      <th>42</th>\n",
              "      <th>43</th>\n",
              "    </tr>\n",
              "  </thead>\n",
              "  <tbody>\n",
              "    <tr>\n",
              "      <th>0</th>\n",
              "      <td>-1.032819</td>\n",
              "      <td>-0.285964</td>\n",
              "      <td>-0.26814</td>\n",
              "      <td>-0.383325</td>\n",
              "      <td>-0.807152</td>\n",
              "      <td>-0.633614</td>\n",
              "      <td>-0.182156</td>\n",
              "      <td>-0.619713</td>\n",
              "      <td>-0.217343</td>\n",
              "      <td>-0.244523</td>\n",
              "      <td>...</td>\n",
              "      <td>-0.606797</td>\n",
              "      <td>-0.556056</td>\n",
              "      <td>-0.652386</td>\n",
              "      <td>2011.0</td>\n",
              "      <td>0.0</td>\n",
              "      <td>0.0</td>\n",
              "      <td>1.0</td>\n",
              "      <td>0.0</td>\n",
              "      <td>0.341412</td>\n",
              "      <td>0.693147</td>\n",
              "    </tr>\n",
              "    <tr>\n",
              "      <th>1</th>\n",
              "      <td>-0.334236</td>\n",
              "      <td>-0.285964</td>\n",
              "      <td>-0.26814</td>\n",
              "      <td>-0.383325</td>\n",
              "      <td>0.014161</td>\n",
              "      <td>-0.633614</td>\n",
              "      <td>-0.182156</td>\n",
              "      <td>-1.176974</td>\n",
              "      <td>-0.790338</td>\n",
              "      <td>-0.811816</td>\n",
              "      <td>...</td>\n",
              "      <td>-0.606797</td>\n",
              "      <td>-0.556056</td>\n",
              "      <td>-0.652386</td>\n",
              "      <td>2011.0</td>\n",
              "      <td>0.0</td>\n",
              "      <td>0.0</td>\n",
              "      <td>0.0</td>\n",
              "      <td>1.0</td>\n",
              "      <td>2.161000</td>\n",
              "      <td>0.693147</td>\n",
              "    </tr>\n",
              "  </tbody>\n",
              "</table>\n",
              "<p>2 rows × 44 columns</p>\n",
              "</div>\n",
              "      <button class=\"colab-df-convert\" onclick=\"convertToInteractive('df-69313707-e155-419a-96c9-485909281ae2')\"\n",
              "              title=\"Convert this dataframe to an interactive table.\"\n",
              "              style=\"display:none;\">\n",
              "        \n",
              "  <svg xmlns=\"http://www.w3.org/2000/svg\" height=\"24px\"viewBox=\"0 0 24 24\"\n",
              "       width=\"24px\">\n",
              "    <path d=\"M0 0h24v24H0V0z\" fill=\"none\"/>\n",
              "    <path d=\"M18.56 5.44l.94 2.06.94-2.06 2.06-.94-2.06-.94-.94-2.06-.94 2.06-2.06.94zm-11 1L8.5 8.5l.94-2.06 2.06-.94-2.06-.94L8.5 2.5l-.94 2.06-2.06.94zm10 10l.94 2.06.94-2.06 2.06-.94-2.06-.94-.94-2.06-.94 2.06-2.06.94z\"/><path d=\"M17.41 7.96l-1.37-1.37c-.4-.4-.92-.59-1.43-.59-.52 0-1.04.2-1.43.59L10.3 9.45l-7.72 7.72c-.78.78-.78 2.05 0 2.83L4 21.41c.39.39.9.59 1.41.59.51 0 1.02-.2 1.41-.59l7.78-7.78 2.81-2.81c.8-.78.8-2.07 0-2.86zM5.41 20L4 18.59l7.72-7.72 1.47 1.35L5.41 20z\"/>\n",
              "  </svg>\n",
              "      </button>\n",
              "      \n",
              "  <style>\n",
              "    .colab-df-container {\n",
              "      display:flex;\n",
              "      flex-wrap:wrap;\n",
              "      gap: 12px;\n",
              "    }\n",
              "\n",
              "    .colab-df-convert {\n",
              "      background-color: #E8F0FE;\n",
              "      border: none;\n",
              "      border-radius: 50%;\n",
              "      cursor: pointer;\n",
              "      display: none;\n",
              "      fill: #1967D2;\n",
              "      height: 32px;\n",
              "      padding: 0 0 0 0;\n",
              "      width: 32px;\n",
              "    }\n",
              "\n",
              "    .colab-df-convert:hover {\n",
              "      background-color: #E2EBFA;\n",
              "      box-shadow: 0px 1px 2px rgba(60, 64, 67, 0.3), 0px 1px 3px 1px rgba(60, 64, 67, 0.15);\n",
              "      fill: #174EA6;\n",
              "    }\n",
              "\n",
              "    [theme=dark] .colab-df-convert {\n",
              "      background-color: #3B4455;\n",
              "      fill: #D2E3FC;\n",
              "    }\n",
              "\n",
              "    [theme=dark] .colab-df-convert:hover {\n",
              "      background-color: #434B5C;\n",
              "      box-shadow: 0px 1px 3px 1px rgba(0, 0, 0, 0.15);\n",
              "      filter: drop-shadow(0px 1px 2px rgba(0, 0, 0, 0.3));\n",
              "      fill: #FFFFFF;\n",
              "    }\n",
              "  </style>\n",
              "\n",
              "      <script>\n",
              "        const buttonEl =\n",
              "          document.querySelector('#df-69313707-e155-419a-96c9-485909281ae2 button.colab-df-convert');\n",
              "        buttonEl.style.display =\n",
              "          google.colab.kernel.accessAllowed ? 'block' : 'none';\n",
              "\n",
              "        async function convertToInteractive(key) {\n",
              "          const element = document.querySelector('#df-69313707-e155-419a-96c9-485909281ae2');\n",
              "          const dataTable =\n",
              "            await google.colab.kernel.invokeFunction('convertToInteractive',\n",
              "                                                     [key], {});\n",
              "          if (!dataTable) return;\n",
              "\n",
              "          const docLinkHtml = 'Like what you see? Visit the ' +\n",
              "            '<a target=\"_blank\" href=https://colab.research.google.com/notebooks/data_table.ipynb>data table notebook</a>'\n",
              "            + ' to learn more about interactive tables.';\n",
              "          element.innerHTML = '';\n",
              "          dataTable['output_type'] = 'display_data';\n",
              "          await google.colab.output.renderOutput(dataTable, element);\n",
              "          const docLink = document.createElement('div');\n",
              "          docLink.innerHTML = docLinkHtml;\n",
              "          element.appendChild(docLink);\n",
              "        }\n",
              "      </script>\n",
              "    </div>\n",
              "  </div>\n",
              "  "
            ]
          },
          "metadata": {},
          "execution_count": 39
        }
      ]
    },
    {
      "cell_type": "code",
      "source": [
        "# Remove target (that was artificially created during data processing pipeline)\n",
        "submission_data = df_test.values[:, :-1]\n",
        "submission_data.shape"
      ],
      "metadata": {
        "colab": {
          "base_uri": "https://localhost:8080/"
        },
        "id": "Ftc-nkYVtB2Y",
        "outputId": "1f5834ae-eb20-42fc-b56c-3d0541a7d868"
      },
      "execution_count": null,
      "outputs": [
        {
          "output_type": "execute_result",
          "data": {
            "text/plain": [
              "(100000, 43)"
            ]
          },
          "metadata": {},
          "execution_count": 40
        }
      ]
    },
    {
      "cell_type": "code",
      "source": [
        "final_predictions = np.exp(\n",
        "    final_model.predict(submission_data)\n",
        ")"
      ],
      "metadata": {
        "id": "MCbpcAiztHFE"
      },
      "execution_count": null,
      "outputs": []
    },
    {
      "cell_type": "code",
      "source": [
        "df_submission = pd.DataFrame(final_predictions, columns=['Prediction'])\n",
        "df_submission.index.rename('Id', inplace=True)\n",
        "df_submission.head()"
      ],
      "metadata": {
        "colab": {
          "base_uri": "https://localhost:8080/",
          "height": 237
        },
        "id": "twOwFsnBtM2V",
        "outputId": "e426c49f-f79c-4a80-95d9-fbbe32d92a02"
      },
      "execution_count": null,
      "outputs": [
        {
          "output_type": "execute_result",
          "data": {
            "text/plain": [
              "      Prediction\n",
              "Id              \n",
              "0   3.307691e+06\n",
              "1   3.410696e+06\n",
              "2   3.433673e+06\n",
              "3   3.229931e+06\n",
              "4   3.160507e+06"
            ],
            "text/html": [
              "\n",
              "  <div id=\"df-5b1a0be7-9bd3-407b-853e-750f19e4a76b\">\n",
              "    <div class=\"colab-df-container\">\n",
              "      <div>\n",
              "<style scoped>\n",
              "    .dataframe tbody tr th:only-of-type {\n",
              "        vertical-align: middle;\n",
              "    }\n",
              "\n",
              "    .dataframe tbody tr th {\n",
              "        vertical-align: top;\n",
              "    }\n",
              "\n",
              "    .dataframe thead th {\n",
              "        text-align: right;\n",
              "    }\n",
              "</style>\n",
              "<table border=\"1\" class=\"dataframe\">\n",
              "  <thead>\n",
              "    <tr style=\"text-align: right;\">\n",
              "      <th></th>\n",
              "      <th>Prediction</th>\n",
              "    </tr>\n",
              "    <tr>\n",
              "      <th>Id</th>\n",
              "      <th></th>\n",
              "    </tr>\n",
              "  </thead>\n",
              "  <tbody>\n",
              "    <tr>\n",
              "      <th>0</th>\n",
              "      <td>3.307691e+06</td>\n",
              "    </tr>\n",
              "    <tr>\n",
              "      <th>1</th>\n",
              "      <td>3.410696e+06</td>\n",
              "    </tr>\n",
              "    <tr>\n",
              "      <th>2</th>\n",
              "      <td>3.433673e+06</td>\n",
              "    </tr>\n",
              "    <tr>\n",
              "      <th>3</th>\n",
              "      <td>3.229931e+06</td>\n",
              "    </tr>\n",
              "    <tr>\n",
              "      <th>4</th>\n",
              "      <td>3.160507e+06</td>\n",
              "    </tr>\n",
              "  </tbody>\n",
              "</table>\n",
              "</div>\n",
              "      <button class=\"colab-df-convert\" onclick=\"convertToInteractive('df-5b1a0be7-9bd3-407b-853e-750f19e4a76b')\"\n",
              "              title=\"Convert this dataframe to an interactive table.\"\n",
              "              style=\"display:none;\">\n",
              "        \n",
              "  <svg xmlns=\"http://www.w3.org/2000/svg\" height=\"24px\"viewBox=\"0 0 24 24\"\n",
              "       width=\"24px\">\n",
              "    <path d=\"M0 0h24v24H0V0z\" fill=\"none\"/>\n",
              "    <path d=\"M18.56 5.44l.94 2.06.94-2.06 2.06-.94-2.06-.94-.94-2.06-.94 2.06-2.06.94zm-11 1L8.5 8.5l.94-2.06 2.06-.94-2.06-.94L8.5 2.5l-.94 2.06-2.06.94zm10 10l.94 2.06.94-2.06 2.06-.94-2.06-.94-.94-2.06-.94 2.06-2.06.94z\"/><path d=\"M17.41 7.96l-1.37-1.37c-.4-.4-.92-.59-1.43-.59-.52 0-1.04.2-1.43.59L10.3 9.45l-7.72 7.72c-.78.78-.78 2.05 0 2.83L4 21.41c.39.39.9.59 1.41.59.51 0 1.02-.2 1.41-.59l7.78-7.78 2.81-2.81c.8-.78.8-2.07 0-2.86zM5.41 20L4 18.59l7.72-7.72 1.47 1.35L5.41 20z\"/>\n",
              "  </svg>\n",
              "      </button>\n",
              "      \n",
              "  <style>\n",
              "    .colab-df-container {\n",
              "      display:flex;\n",
              "      flex-wrap:wrap;\n",
              "      gap: 12px;\n",
              "    }\n",
              "\n",
              "    .colab-df-convert {\n",
              "      background-color: #E8F0FE;\n",
              "      border: none;\n",
              "      border-radius: 50%;\n",
              "      cursor: pointer;\n",
              "      display: none;\n",
              "      fill: #1967D2;\n",
              "      height: 32px;\n",
              "      padding: 0 0 0 0;\n",
              "      width: 32px;\n",
              "    }\n",
              "\n",
              "    .colab-df-convert:hover {\n",
              "      background-color: #E2EBFA;\n",
              "      box-shadow: 0px 1px 2px rgba(60, 64, 67, 0.3), 0px 1px 3px 1px rgba(60, 64, 67, 0.15);\n",
              "      fill: #174EA6;\n",
              "    }\n",
              "\n",
              "    [theme=dark] .colab-df-convert {\n",
              "      background-color: #3B4455;\n",
              "      fill: #D2E3FC;\n",
              "    }\n",
              "\n",
              "    [theme=dark] .colab-df-convert:hover {\n",
              "      background-color: #434B5C;\n",
              "      box-shadow: 0px 1px 3px 1px rgba(0, 0, 0, 0.15);\n",
              "      filter: drop-shadow(0px 1px 2px rgba(0, 0, 0, 0.3));\n",
              "      fill: #FFFFFF;\n",
              "    }\n",
              "  </style>\n",
              "\n",
              "      <script>\n",
              "        const buttonEl =\n",
              "          document.querySelector('#df-5b1a0be7-9bd3-407b-853e-750f19e4a76b button.colab-df-convert');\n",
              "        buttonEl.style.display =\n",
              "          google.colab.kernel.accessAllowed ? 'block' : 'none';\n",
              "\n",
              "        async function convertToInteractive(key) {\n",
              "          const element = document.querySelector('#df-5b1a0be7-9bd3-407b-853e-750f19e4a76b');\n",
              "          const dataTable =\n",
              "            await google.colab.kernel.invokeFunction('convertToInteractive',\n",
              "                                                     [key], {});\n",
              "          if (!dataTable) return;\n",
              "\n",
              "          const docLinkHtml = 'Like what you see? Visit the ' +\n",
              "            '<a target=\"_blank\" href=https://colab.research.google.com/notebooks/data_table.ipynb>data table notebook</a>'\n",
              "            + ' to learn more about interactive tables.';\n",
              "          element.innerHTML = '';\n",
              "          dataTable['output_type'] = 'display_data';\n",
              "          await google.colab.output.renderOutput(dataTable, element);\n",
              "          const docLink = document.createElement('div');\n",
              "          docLink.innerHTML = docLinkHtml;\n",
              "          element.appendChild(docLink);\n",
              "        }\n",
              "      </script>\n",
              "    </div>\n",
              "  </div>\n",
              "  "
            ]
          },
          "metadata": {},
          "execution_count": 42
        }
      ]
    },
    {
      "cell_type": "code",
      "source": [
        "final_model_name = 'ElasticSubmission'\n",
        "\n",
        "submission_path = os.path.join(\n",
        "    path_manager.models_trial_path,\n",
        "    final_model_name,\n",
        "    'submission.csv'\n",
        ")\n",
        "\n",
        "path_manager.save_models(\n",
        "    {\n",
        "        'ElasticSubmission': final_model\n",
        "    }\n",
        ")\n",
        "df_submission.to_csv(submission_path)"
      ],
      "metadata": {
        "colab": {
          "base_uri": "https://localhost:8080/"
        },
        "id": "sTkxA3r6tgLZ",
        "outputId": "e8b682e6-0f5e-45c0-b4d6-e790af016f91"
      },
      "execution_count": null,
      "outputs": [
        {
          "output_type": "stream",
          "name": "stdout",
          "text": [
            "/content/gdrive/MyDrive/ML/Competitions/5.RestaurantRevenue/Models/trial_1/ElasticSubmission already exists\n"
          ]
        }
      ]
    }
  ]
}