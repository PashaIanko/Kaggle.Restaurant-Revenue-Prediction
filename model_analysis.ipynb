{
  "nbformat": 4,
  "nbformat_minor": 0,
  "metadata": {
    "colab": {
      "name": "model_analysis.ipynb",
      "provenance": [],
      "authorship_tag": "ABX9TyPlrGhOGbdXx3yTTcJivvf5",
      "include_colab_link": true
    },
    "kernelspec": {
      "name": "python3",
      "display_name": "Python 3"
    },
    "language_info": {
      "name": "python"
    }
  },
  "cells": [
    {
      "cell_type": "markdown",
      "metadata": {
        "id": "view-in-github",
        "colab_type": "text"
      },
      "source": [
        "<a href=\"https://colab.research.google.com/github/PashaIanko/Kaggle.Restaurant-Revenue-Prediction/blob/path_manager/model_analysis.ipynb\" target=\"_parent\"><img src=\"https://colab.research.google.com/assets/colab-badge.svg\" alt=\"Open In Colab\"/></a>"
      ]
    },
    {
      "cell_type": "code",
      "execution_count": 14,
      "metadata": {
        "id": "JIqOP8jVB8Rb"
      },
      "outputs": [],
      "source": [
        "import pandas as pd\n",
        "from google.colab import drive\n",
        "import pickle"
      ]
    },
    {
      "cell_type": "code",
      "source": [
        "# PEP 8\n",
        "%%capture\n",
        "!pip install pycodestyle\n",
        "!pip install --index-url https://test.pypi.org/simple/ nbpep8\n",
        "\n",
        "from nbpep8.nbpep8 import pep8"
      ],
      "metadata": {
        "id": "SLVmRN_qMypb"
      },
      "execution_count": 20,
      "outputs": []
    },
    {
      "cell_type": "markdown",
      "source": [
        "# Setup paths"
      ],
      "metadata": {
        "id": "BAuPr-fcCYYz"
      }
    },
    {
      "cell_type": "code",
      "source": [
        "# %%pycodestyle\n",
        "from dataclasses import dataclass\n",
        "from dataclasses import field\n",
        "import os\n",
        "\n",
        "\n",
        "@dataclass\n",
        "class PathManager:\n",
        "    competition_path: str\n",
        "    preprocessing_trial: int\n",
        "    models_trial: int\n",
        "\n",
        "    def __post_init__(self):\n",
        "        self.data_root_path = os.path.join(self.competition_path, 'Data')\n",
        "        self.models_root_path = os.path.join(self.competition_path, 'Models')\n",
        "\n",
        "        self.data_trial_path = os.path.join(\n",
        "            self.data_root_path,\n",
        "            f'preproc_trial_{self.preprocessing_trial}'\n",
        "        )\n",
        "        self.models_trial_path = os.path.join(\n",
        "            self.models_root_path,\n",
        "            f'trial_{self.models_trial}'\n",
        "        )\n",
        "\n",
        "    @property\n",
        "    def train_path(self):\n",
        "        return os.path.join(self.data_root_path, 'train.csv')\n",
        "\n",
        "    @property\n",
        "    def test_path(self):\n",
        "        return os.path.join(self.data_root_path, 'test.csv')\n",
        "\n",
        "    def _create_path(self, path):\n",
        "        if not os.path.isdir(path):\n",
        "            os.mkdir(path)\n",
        "        else:\n",
        "            print(f'{path} already exists')\n",
        "\n",
        "    def save_to_csv(self, array_, path_, file_name_):\n",
        "        df = pd.DataFrame(array_)\n",
        "        df.to_csv(os.path.join(path_, file_name_))\n",
        "\n",
        "    def setup_paths(self):\n",
        "        # precondition\n",
        "        assert os.path.isdir(self.data_root_path), print(self.data_root_path)\n",
        "        assert os.path.isdir(self.models_root_path), \\\n",
        "            print(self.models_root_path)\n",
        "\n",
        "        self._create_path(self.data_trial_path)\n",
        "        self._create_path(self.models_trial_path)\n",
        "\n",
        "    def save_models(self, sklearn_models_dict_):\n",
        "        '''\n",
        "        For each model in the dictionary, create a folder.\n",
        "        Save pickle file there. If model (or folder) already exists -\n",
        "        overrides all files\n",
        "        '''\n",
        "        for model_name, sklearn_model in sklearn_models_dict_.items():\n",
        "            folder_path = os.path.join(\n",
        "                self.models_trial_path, model_name\n",
        "            )\n",
        "            self._create_path(folder_path)\n",
        "            model_filename = model_name + '.sav'\n",
        "            pickle.dump(\n",
        "                sklearn_model,\n",
        "                open(\n",
        "                    os.path.join(folder_path, model_filename),\n",
        "                    'w+b'\n",
        "                ),\n",
        "            )\n",
        "\n",
        "    def load_models(self, models_subfolders_=[]):\n",
        "        '''\n",
        "        1. Goes to self.models_trial_path\n",
        "        2. If models_names=[] - downloads all\n",
        "           models from their subfolders.\n",
        "        3. models_names must contain names of subfolders on\n",
        "           google drive!\n",
        "        '''\n",
        "\n",
        "        # precondition\n",
        "        assert os.path.isdir(self.models_trial_path), \\\n",
        "            print(self.models_trial_path)\n",
        "\n",
        "        available_models_subfolders = os.listdir(self.models_trial_path)\n",
        "        if models_subfolders_:\n",
        "            models_to_download = models_subfolders_\n",
        "        else:\n",
        "            # Download everything\n",
        "            models_to_download = available_models_subfolders\n",
        "\n",
        "        res = {}\n",
        "        for model_subfolder in models_to_download:\n",
        "            # file name coincides with folder name\n",
        "            file_name = f'{model_subfolder}.sav'\n",
        "            full_path = os.path.join(\n",
        "                self.models_trial_path,\n",
        "                model_subfolder,\n",
        "                file_name\n",
        "            )\n",
        "\n",
        "            loaded_model = pickle.load(\n",
        "                open(full_path, 'rb')\n",
        "            )\n",
        "            res[model_subfolder] = loaded_model\n",
        "        return res\n",
        "\n",
        "\n",
        "pep8(_ih)"
      ],
      "metadata": {
        "colab": {
          "base_uri": "https://localhost:8080/"
        },
        "id": "56Dx9BPJM9e1",
        "outputId": "8a1d47d7-f3a7-434f-b3d7-e554c96e1bc7"
      },
      "execution_count": 65,
      "outputs": [
        {
          "output_type": "stream",
          "name": "stdout",
          "text": [
            "\n"
          ]
        }
      ]
    },
    {
      "cell_type": "code",
      "source": [
        "drive.mount('/content/gdrive')\n",
        "gdrive_path = '/content/gdrive/MyDrive/'\n",
        "\n",
        "COMPETITION_PATH = gdrive_path + 'ML/Competitions/5.RestaurantRevenue/'\n",
        "PREPROC_TRIAL = 1\n",
        "MODELS_TRIAL = 1\n",
        "\n",
        "pep8(_ih)"
      ],
      "metadata": {
        "colab": {
          "base_uri": "https://localhost:8080/"
        },
        "id": "iV6EYaA7NWnC",
        "outputId": "58c42c61-24c7-49a8-c1bc-55d1411b6afc"
      },
      "execution_count": 66,
      "outputs": [
        {
          "output_type": "stream",
          "name": "stdout",
          "text": [
            "Drive already mounted at /content/gdrive; to attempt to forcibly remount, call drive.mount(\"/content/gdrive\", force_remount=True).\n",
            "\n"
          ]
        }
      ]
    },
    {
      "cell_type": "code",
      "source": [
        "path_manager = PathManager(\n",
        "    competition_path=COMPETITION_PATH,\n",
        "    preprocessing_trial=PREPROC_TRIAL,\n",
        "    models_trial=MODELS_TRIAL\n",
        ")\n",
        "\n",
        "pep8(_ih)"
      ],
      "metadata": {
        "colab": {
          "base_uri": "https://localhost:8080/"
        },
        "id": "ZgiQ6X-VNhZU",
        "outputId": "278acf22-2143-4ff9-a03f-2c611eb308aa"
      },
      "execution_count": 67,
      "outputs": [
        {
          "output_type": "stream",
          "name": "stdout",
          "text": [
            "\n"
          ]
        }
      ]
    },
    {
      "cell_type": "markdown",
      "source": [
        "# Download models"
      ],
      "metadata": {
        "id": "Qa9bk_xAVGde"
      }
    },
    {
      "cell_type": "code",
      "source": [
        "models = path_manager.load_models()"
      ],
      "metadata": {
        "id": "6S7nfENvOFiM"
      },
      "execution_count": 68,
      "outputs": []
    },
    {
      "cell_type": "code",
      "source": [
        "models"
      ],
      "metadata": {
        "colab": {
          "base_uri": "https://localhost:8080/"
        },
        "id": "F9Bi30ZMSp59",
        "outputId": "adedd4a1-f217-49b4-bd37-76f88579d025"
      },
      "execution_count": 69,
      "outputs": [
        {
          "output_type": "execute_result",
          "data": {
            "text/plain": [
              "{'elastic_net_final': ElasticNet(alpha=0.5, l1_ratio=0.2),\n",
              " 'random_forest': RandomForestRegressor(n_estimators=500)}"
            ]
          },
          "metadata": {},
          "execution_count": 69
        }
      ]
    },
    {
      "cell_type": "markdown",
      "source": [
        "# Download the data"
      ],
      "metadata": {
        "id": "EOxVowXTCUVA"
      }
    },
    {
      "cell_type": "code",
      "source": [
        "df_test = pd.read_csv(\n",
        "    os.path.join(\n",
        "        path_manager.data_trial_path,\n",
        "        'test_processed.csv'\n",
        "    ),\n",
        "    index_col=[0]\n",
        ")\n",
        "\n",
        "pep8(_ih)"
      ],
      "metadata": {
        "id": "oX9PlV8MVSF8",
        "outputId": "2b46afb5-7e79-46a6-cddb-78527028fd78",
        "colab": {
          "base_uri": "https://localhost:8080/"
        }
      },
      "execution_count": 70,
      "outputs": [
        {
          "output_type": "stream",
          "name": "stdout",
          "text": [
            "\n"
          ]
        }
      ]
    },
    {
      "cell_type": "code",
      "source": [
        "# subsample from train.csv for testing\n",
        "df_test_sample = pd.read_csv(\n",
        "    os.path.join(\n",
        "        path_manager.data_trial_path,\n",
        "        'test_sample_processed.csv'\n",
        "    ),\n",
        "    index_col=[0]\n",
        ")\n",
        "\n",
        "pep8(_ih)"
      ],
      "metadata": {
        "id": "keqRbBQFVg5Z",
        "outputId": "55b3fa34-894b-447e-b3c8-cc833dd5db8e",
        "colab": {
          "base_uri": "https://localhost:8080/"
        }
      },
      "execution_count": 71,
      "outputs": [
        {
          "output_type": "stream",
          "name": "stdout",
          "text": [
            "\n"
          ]
        }
      ]
    },
    {
      "cell_type": "code",
      "source": [
        "df_trainval = pd.read_csv(\n",
        "    os.path.join(\n",
        "        path_manager.data_trial_path,\n",
        "        'trainval_sample_processed.csv'\n",
        "    ),\n",
        "    index_col=[0]\n",
        ")"
      ],
      "metadata": {
        "id": "0do9EQVQV0O2"
      },
      "execution_count": 72,
      "outputs": []
    },
    {
      "cell_type": "code",
      "source": [
        "X_train_val = df_trainval.values[:, :-1]\n",
        "Y_train_val = df_trainval.values[:, -1]\n",
        "\n",
        "X_test_sample = df_test_sample.values[:, :-1]\n",
        "Y_test_sample = df_test_sample.values[:, -1]"
      ],
      "metadata": {
        "id": "rs4RIktUWsAb"
      },
      "execution_count": 73,
      "outputs": []
    }
  ]
}