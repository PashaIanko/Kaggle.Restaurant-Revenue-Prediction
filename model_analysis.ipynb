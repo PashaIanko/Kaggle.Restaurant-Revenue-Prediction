{
  "nbformat": 4,
  "nbformat_minor": 0,
  "metadata": {
    "colab": {
      "name": "model_analysis.ipynb",
      "provenance": [],
      "authorship_tag": "ABX9TyPeDH4Ato+ddUAh0AjZVbEn",
      "include_colab_link": true
    },
    "kernelspec": {
      "name": "python3",
      "display_name": "Python 3"
    },
    "language_info": {
      "name": "python"
    }
  },
  "cells": [
    {
      "cell_type": "markdown",
      "metadata": {
        "id": "view-in-github",
        "colab_type": "text"
      },
      "source": [
        "<a href=\"https://colab.research.google.com/github/PashaIanko/Kaggle.Restaurant-Revenue-Prediction/blob/main/model_analysis.ipynb\" target=\"_parent\"><img src=\"https://colab.research.google.com/assets/colab-badge.svg\" alt=\"Open In Colab\"/></a>"
      ]
    },
    {
      "cell_type": "code",
      "execution_count": 5,
      "metadata": {
        "id": "JIqOP8jVB8Rb"
      },
      "outputs": [],
      "source": [
        "import pickle\n",
        "import pandas as pd\n",
        "from google.colab import drive"
      ]
    },
    {
      "cell_type": "markdown",
      "source": [
        "# Setup paths"
      ],
      "metadata": {
        "id": "BAuPr-fcCYYz"
      }
    },
    {
      "cell_type": "code",
      "source": [
        "drive.mount('/content/gdrive')\n",
        "gdrive_path = '/content/gdrive/MyDrive/'\n",
        "df_path = 'ML/Competitions/5.RestaurantRevenue/'\n",
        "models_path = gdrive_path + df_path + 'models/'\n",
        "\n",
        "train_df_path = gdrive_path + df_path + \"train.csv\"\n",
        "\n",
        "# subsamples from train.csv\n",
        "trainval_sample_processed_path = \\\n",
        "    gdrive_path \\\n",
        "    + df_path + \"trainval_sample_processed.csv\"\n",
        "test_sample_processed_path = gdrive_path + df_path + \"test_sample_processed.csv\" \n",
        "\n",
        "test_df_path =  gdrive_path + df_path + \"test.csv\"\n",
        "test_processed_path = gdrive_path + df_path + \"test_processed.csv\"\n",
        "\n",
        "submission_path = gdrive_path + df_path + \"submission.csv\"\n",
        "sample_submission_path = gdrive_path + df_path + \"sampleSubmission.csv\""
      ],
      "metadata": {
        "colab": {
          "base_uri": "https://localhost:8080/"
        },
        "id": "xoZCUXR4CAPN",
        "outputId": "ea79ca0d-10a8-436c-f5b2-936421adf642"
      },
      "execution_count": 4,
      "outputs": [
        {
          "output_type": "stream",
          "name": "stdout",
          "text": [
            "Mounted at /content/gdrive\n"
          ]
        }
      ]
    },
    {
      "cell_type": "markdown",
      "source": [
        "# Download the data"
      ],
      "metadata": {
        "id": "EOxVowXTCUVA"
      }
    },
    {
      "cell_type": "code",
      "source": [
        "df_test = pd.read_csv(test_processed_path, index_col=[0])\n",
        "df_test_sample = pd.read_csv(test_sample_processed_path, index_col=[0])\n",
        "df_trainval = pd.read_csv(trainval_sample_processed_path, index_col=[0])"
      ],
      "metadata": {
        "id": "EVm8_EAuCEOp"
      },
      "execution_count": 6,
      "outputs": []
    },
    {
      "cell_type": "code",
      "source": [
        "models_path"
      ],
      "metadata": {
        "colab": {
          "base_uri": "https://localhost:8080/",
          "height": 37
        },
        "id": "hk_IZY1FC60a",
        "outputId": "9ec95088-15ba-4733-f478-33a0aaf3946c"
      },
      "execution_count": 8,
      "outputs": [
        {
          "output_type": "execute_result",
          "data": {
            "text/plain": [
              "'/content/gdrive/MyDrive/ML/Competitions/5.RestaurantRevenue/models/'"
            ],
            "application/vnd.google.colaboratory.intrinsic+json": {
              "type": "string"
            }
          },
          "metadata": {},
          "execution_count": 8
        }
      ]
    },
    {
      "cell_type": "code",
      "source": [
        "loaded_model = pickle.load(\n",
        "    open(models_path + 'final.sav', 'rb')\n",
        ")"
      ],
      "metadata": {
        "id": "Z6fBNdMRCgSj"
      },
      "execution_count": 10,
      "outputs": []
    },
    {
      "cell_type": "code",
      "source": [
        "loaded_model.predict(df_test.values[:, :-1])"
      ],
      "metadata": {
        "colab": {
          "base_uri": "https://localhost:8080/"
        },
        "id": "bXhnkddoDK4s",
        "outputId": "08de9be7-90d0-4fca-d20f-816a7477b504"
      },
      "execution_count": 12,
      "outputs": [
        {
          "output_type": "execute_result",
          "data": {
            "text/plain": [
              "array([15.01176096, 15.04242691, 15.04914116, ..., 15.24040522,\n",
              "       15.21425233, 15.29271101])"
            ]
          },
          "metadata": {},
          "execution_count": 12
        }
      ]
    }
  ]
}