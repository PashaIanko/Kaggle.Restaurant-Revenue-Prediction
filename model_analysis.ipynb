{
  "nbformat": 4,
  "nbformat_minor": 0,
  "metadata": {
    "colab": {
      "name": "model_analysis.ipynb",
      "provenance": [],
      "authorship_tag": "ABX9TyPg0n+EJkoYb69rt6XEFnDe",
      "include_colab_link": true
    },
    "kernelspec": {
      "name": "python3",
      "display_name": "Python 3"
    },
    "language_info": {
      "name": "python"
    }
  },
  "cells": [
    {
      "cell_type": "markdown",
      "metadata": {
        "id": "view-in-github",
        "colab_type": "text"
      },
      "source": [
        "<a href=\"https://colab.research.google.com/github/PashaIanko/Kaggle.Restaurant-Revenue-Prediction/blob/path_manager/model_analysis.ipynb\" target=\"_parent\"><img src=\"https://colab.research.google.com/assets/colab-badge.svg\" alt=\"Open In Colab\"/></a>"
      ]
    },
    {
      "cell_type": "code",
      "execution_count": 14,
      "metadata": {
        "id": "JIqOP8jVB8Rb"
      },
      "outputs": [],
      "source": [
        "import pandas as pd\n",
        "from google.colab import drive\n",
        "import pickle"
      ]
    },
    {
      "cell_type": "code",
      "source": [
        "# PEP 8\n",
        "%%capture\n",
        "!pip install pycodestyle\n",
        "!pip install --index-url https://test.pypi.org/simple/ nbpep8\n",
        "\n",
        "from nbpep8.nbpep8 import pep8"
      ],
      "metadata": {
        "id": "SLVmRN_qMypb"
      },
      "execution_count": 20,
      "outputs": []
    },
    {
      "cell_type": "markdown",
      "source": [
        "# Setup paths"
      ],
      "metadata": {
        "id": "BAuPr-fcCYYz"
      }
    },
    {
      "cell_type": "code",
      "source": [
        "# %%pycodestyle\n",
        "from dataclasses import dataclass\n",
        "from dataclasses import field\n",
        "import os\n",
        "\n",
        "\n",
        "@dataclass\n",
        "class PathManager:\n",
        "    competition_path: str\n",
        "    preprocessing_trial: int\n",
        "    models_trial: int\n",
        "\n",
        "    def __post_init__(self):\n",
        "        self.data_root_path = os.path.join(self.competition_path, 'Data')\n",
        "        self.models_root_path = os.path.join(self.competition_path, 'Models')\n",
        "\n",
        "        self.data_trial_path = os.path.join(\n",
        "            self.data_root_path,\n",
        "            f'preproc_trial_{self.preprocessing_trial}'\n",
        "        )\n",
        "        self.models_trial_path = os.path.join(\n",
        "            self.models_root_path,\n",
        "            f'trial_{self.models_trial}'\n",
        "        )\n",
        "\n",
        "    @property\n",
        "    def train_path(self):\n",
        "        return os.path.join(self.data_root_path, 'train.csv')\n",
        "\n",
        "    @property\n",
        "    def test_path(self):\n",
        "        return os.path.join(self.data_root_path, 'test.csv')\n",
        "\n",
        "    def _create_path(self, path):\n",
        "        if not os.path.isdir(path):\n",
        "            os.mkdir(path)\n",
        "        else:\n",
        "            print(f'{path} already exists')\n",
        "\n",
        "    def save_to_csv(self, array_, path_, file_name_):\n",
        "        df = pd.DataFrame(array_)\n",
        "        df.to_csv(os.path.join(path_, file_name_))\n",
        "\n",
        "    def setup_paths(self):\n",
        "        # precondition\n",
        "        assert os.path.isdir(self.data_root_path), print(self.data_root_path)\n",
        "        assert os.path.isdir(self.models_root_path), \\\n",
        "            print(self.models_root_path)\n",
        "\n",
        "        self._create_path(self.data_trial_path)\n",
        "        self._create_path(self.models_trial_path)\n",
        "\n",
        "    def save_models(self, sklearn_models_dict_):\n",
        "        '''\n",
        "        For each model in the dictionary, create a folder.\n",
        "        Save pickle file there. If model (or folder) already exists -\n",
        "        overrides all files\n",
        "        '''\n",
        "        for model_name, sklearn_model in sklearn_models_dict_.items():\n",
        "            folder_path = os.path.join(\n",
        "                self.models_trial_path, model_name\n",
        "            )\n",
        "            self._create_path(folder_path)\n",
        "            model_filename = model_name + '.sav'\n",
        "            pickle.dump(\n",
        "                sklearn_model,\n",
        "                open(\n",
        "                    os.path.join(folder_path, model_filename),\n",
        "                    'w+b'\n",
        "                ),\n",
        "            )\n",
        "\n",
        "    def load_models(self, models_subfolders_=[]):\n",
        "        '''\n",
        "        1. Goes to self.models_trial_path\n",
        "        2. If models_names=[] - downloads all\n",
        "           models from their subfolders.\n",
        "        3. models_names must contain names of subfolders on\n",
        "           google drive!\n",
        "        '''\n",
        "\n",
        "        # precondition\n",
        "        assert os.path.isdir(self.models_trial_path), \\\n",
        "            print(self.models_trial_path)\n",
        "\n",
        "        available_models_subfolders = os.listdir(self.models_trial_path)\n",
        "        if models_subfolders_:\n",
        "            models_to_download = models_subfolders_\n",
        "        else:\n",
        "            # Download everything\n",
        "            models_to_download = available_models_subfolders\n",
        "\n",
        "        res = {}\n",
        "        for model_subfolder in models_to_download:\n",
        "            # file name coincides with folder name\n",
        "            file_name = f'{model_subfolder}.sav'\n",
        "            full_path = os.path.join(\n",
        "                self.models_trial_path,\n",
        "                model_subfolder,\n",
        "                file_name\n",
        "            )\n",
        "\n",
        "            loaded_model = pickle.load(\n",
        "                open(full_path, 'rb')\n",
        "            )\n",
        "            res[model_subfolder] = loaded_model\n",
        "        return res\n",
        "\n",
        "\n",
        "pep8(_ih)"
      ],
      "metadata": {
        "id": "56Dx9BPJM9e1",
        "outputId": "690596aa-23e2-43d0-f959-73d58f26436a",
        "colab": {
          "base_uri": "https://localhost:8080/"
        }
      },
      "execution_count": 42,
      "outputs": [
        {
          "output_type": "stream",
          "name": "stdout",
          "text": [
            "\n"
          ]
        }
      ]
    },
    {
      "cell_type": "code",
      "source": [
        "drive.mount('/content/gdrive')\n",
        "gdrive_path = '/content/gdrive/MyDrive/'\n",
        "\n",
        "COMPETITION_PATH = gdrive_path + 'ML/Competitions/5.RestaurantRevenue/'\n",
        "PREPROC_TRIAL = 1\n",
        "MODELS_TRIAL = 1\n",
        "\n",
        "pep8(_ih)"
      ],
      "metadata": {
        "id": "iV6EYaA7NWnC",
        "outputId": "17fa635e-bb2e-427a-e1c4-5667dc855373",
        "colab": {
          "base_uri": "https://localhost:8080/"
        }
      },
      "execution_count": 45,
      "outputs": [
        {
          "output_type": "stream",
          "name": "stdout",
          "text": [
            "Drive already mounted at /content/gdrive; to attempt to forcibly remount, call drive.mount(\"/content/gdrive\", force_remount=True).\n",
            "\n"
          ]
        }
      ]
    },
    {
      "cell_type": "code",
      "source": [
        "path_manager = PathManager(\n",
        "    competition_path=COMPETITION_PATH,\n",
        "    preprocessing_trial=PREPROC_TRIAL,\n",
        "    models_trial=MODELS_TRIAL\n",
        ")\n",
        "\n",
        "pep8(_ih)"
      ],
      "metadata": {
        "id": "ZgiQ6X-VNhZU",
        "outputId": "e17bd625-1525-46f1-f5bd-c58fbf70ccdd",
        "colab": {
          "base_uri": "https://localhost:8080/"
        }
      },
      "execution_count": 46,
      "outputs": [
        {
          "output_type": "stream",
          "name": "stdout",
          "text": [
            "\n"
          ]
        }
      ]
    },
    {
      "cell_type": "code",
      "source": [
        "models = path_manager.load_models()"
      ],
      "metadata": {
        "id": "6S7nfENvOFiM"
      },
      "execution_count": 48,
      "outputs": []
    },
    {
      "cell_type": "code",
      "source": [
        "models"
      ],
      "metadata": {
        "id": "F9Bi30ZMSp59",
        "outputId": "74c156e9-8544-4f62-8341-1fb1ad17aa99",
        "colab": {
          "base_uri": "https://localhost:8080/"
        }
      },
      "execution_count": 49,
      "outputs": [
        {
          "output_type": "execute_result",
          "data": {
            "text/plain": [
              "{'elastic_net_final': ElasticNet(alpha=0.5, l1_ratio=0.2),\n",
              " 'random_forest': RandomForestRegressor(n_estimators=500)}"
            ]
          },
          "metadata": {},
          "execution_count": 49
        }
      ]
    },
    {
      "cell_type": "markdown",
      "source": [
        "# Download the data"
      ],
      "metadata": {
        "id": "EOxVowXTCUVA"
      }
    },
    {
      "cell_type": "code",
      "source": [
        "df_test = pd.read_csv(test_processed_path, index_col=[0])\n",
        "df_test_sample = pd.read_csv(test_sample_processed_path, index_col=[0])\n",
        "df_trainval = pd.read_csv(trainval_sample_processed_path, index_col=[0])"
      ],
      "metadata": {
        "id": "EVm8_EAuCEOp"
      },
      "execution_count": null,
      "outputs": []
    },
    {
      "cell_type": "code",
      "source": [
        "models_path"
      ],
      "metadata": {
        "colab": {
          "base_uri": "https://localhost:8080/",
          "height": 37
        },
        "id": "hk_IZY1FC60a",
        "outputId": "9ec95088-15ba-4733-f478-33a0aaf3946c"
      },
      "execution_count": null,
      "outputs": [
        {
          "output_type": "execute_result",
          "data": {
            "text/plain": [
              "'/content/gdrive/MyDrive/ML/Competitions/5.RestaurantRevenue/models/'"
            ],
            "application/vnd.google.colaboratory.intrinsic+json": {
              "type": "string"
            }
          },
          "metadata": {},
          "execution_count": 8
        }
      ]
    },
    {
      "cell_type": "code",
      "source": [
        "loaded_model = pickle.load(\n",
        "    open(models_path + 'final.sav', 'rb')\n",
        ")"
      ],
      "metadata": {
        "id": "Z6fBNdMRCgSj"
      },
      "execution_count": null,
      "outputs": []
    },
    {
      "cell_type": "code",
      "source": [
        "loaded_model.predict(df_test.values[:, :-1])"
      ],
      "metadata": {
        "colab": {
          "base_uri": "https://localhost:8080/"
        },
        "id": "bXhnkddoDK4s",
        "outputId": "08de9be7-90d0-4fca-d20f-816a7477b504"
      },
      "execution_count": null,
      "outputs": [
        {
          "output_type": "execute_result",
          "data": {
            "text/plain": [
              "array([15.01176096, 15.04242691, 15.04914116, ..., 15.24040522,\n",
              "       15.21425233, 15.29271101])"
            ]
          },
          "metadata": {},
          "execution_count": 12
        }
      ]
    }
  ]
}